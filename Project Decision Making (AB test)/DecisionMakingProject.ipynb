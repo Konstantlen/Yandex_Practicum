{
 "cells": [
  {
   "cell_type": "markdown",
   "metadata": {},
   "source": [
    "# Проект: А/В тест\n",
    "\n",
    "Цель проекта:  \n",
    "Необходимо проанализировать список гипотез от отдела маркетинга для увеличения выручки компании.  \n",
    "Задачи:  \n",
    "* Определить наиболее важные гипотезы методами ICE и RICE\n",
    "* Запустить A/B-тест\n",
    "* Проанализируйте результаты \n",
    "   \n",
    "Описание данных:  \n",
    "* Файл /datasets/hypothesis.csv содержит информацию о 9 гипотезах  \n",
    "* Файлы /datasets/orders.csv и /datasets/visitors.csv содержат результаты А/Б тестирования </div>"
   ]
  },
  {
   "cell_type": "markdown",
   "metadata": {},
   "source": [
    "## Часть. Приоритизация гипотез"
   ]
  },
  {
   "cell_type": "markdown",
   "metadata": {},
   "source": [
    "### Проверка данных"
   ]
  },
  {
   "cell_type": "code",
   "execution_count": 1,
   "metadata": {},
   "outputs": [],
   "source": [
    "import pandas as pd\n",
    "import datetime as dt\n",
    "import numpy as np\n",
    "import matplotlib.pyplot as plt\n",
    "import scipy.stats as stats"
   ]
  },
  {
   "cell_type": "code",
   "execution_count": 2,
   "metadata": {},
   "outputs": [],
   "source": [
    "data = pd.read_csv(r'D:\\Main\\Yandex Practicum\\Y.Anal\\Project AB test\\hypothesis.csv')"
   ]
  },
  {
   "cell_type": "code",
   "execution_count": 3,
   "metadata": {},
   "outputs": [
    {
     "data": {
      "text/html": [
       "<style type=\"text/css\">\n",
       "#T_635bf_row0_col0, #T_635bf_row0_col1, #T_635bf_row0_col2, #T_635bf_row0_col3, #T_635bf_row0_col4, #T_635bf_row1_col0, #T_635bf_row1_col1, #T_635bf_row1_col2, #T_635bf_row1_col3, #T_635bf_row1_col4, #T_635bf_row2_col0, #T_635bf_row2_col1, #T_635bf_row2_col2, #T_635bf_row2_col3, #T_635bf_row2_col4, #T_635bf_row3_col0, #T_635bf_row3_col1, #T_635bf_row3_col2, #T_635bf_row3_col3, #T_635bf_row3_col4, #T_635bf_row4_col0, #T_635bf_row4_col1, #T_635bf_row4_col2, #T_635bf_row4_col3, #T_635bf_row4_col4, #T_635bf_row5_col0, #T_635bf_row5_col1, #T_635bf_row5_col2, #T_635bf_row5_col3, #T_635bf_row5_col4, #T_635bf_row6_col0, #T_635bf_row6_col1, #T_635bf_row6_col2, #T_635bf_row6_col3, #T_635bf_row6_col4, #T_635bf_row7_col0, #T_635bf_row7_col1, #T_635bf_row7_col2, #T_635bf_row7_col3, #T_635bf_row7_col4, #T_635bf_row8_col0, #T_635bf_row8_col1, #T_635bf_row8_col2, #T_635bf_row8_col3, #T_635bf_row8_col4 {\n",
       "  text-align: left;\n",
       "}\n",
       "</style>\n",
       "<table id=\"T_635bf\">\n",
       "  <thead>\n",
       "    <tr>\n",
       "      <th class=\"blank level0\" >&nbsp;</th>\n",
       "      <th id=\"T_635bf_level0_col0\" class=\"col_heading level0 col0\" >hypothesis</th>\n",
       "      <th id=\"T_635bf_level0_col1\" class=\"col_heading level0 col1\" >reach</th>\n",
       "      <th id=\"T_635bf_level0_col2\" class=\"col_heading level0 col2\" >impact</th>\n",
       "      <th id=\"T_635bf_level0_col3\" class=\"col_heading level0 col3\" >confidence</th>\n",
       "      <th id=\"T_635bf_level0_col4\" class=\"col_heading level0 col4\" >efforts</th>\n",
       "    </tr>\n",
       "  </thead>\n",
       "  <tbody>\n",
       "    <tr>\n",
       "      <th id=\"T_635bf_level0_row0\" class=\"row_heading level0 row0\" >0</th>\n",
       "      <td id=\"T_635bf_row0_col0\" class=\"data row0 col0\" >Добавить два новых канала привлечения трафика, что позволит привлекать на 30% больше пользователей</td>\n",
       "      <td id=\"T_635bf_row0_col1\" class=\"data row0 col1\" >3</td>\n",
       "      <td id=\"T_635bf_row0_col2\" class=\"data row0 col2\" >10</td>\n",
       "      <td id=\"T_635bf_row0_col3\" class=\"data row0 col3\" >8</td>\n",
       "      <td id=\"T_635bf_row0_col4\" class=\"data row0 col4\" >6</td>\n",
       "    </tr>\n",
       "    <tr>\n",
       "      <th id=\"T_635bf_level0_row1\" class=\"row_heading level0 row1\" >1</th>\n",
       "      <td id=\"T_635bf_row1_col0\" class=\"data row1 col0\" >Запустить собственную службу доставки, что сократит срок доставки заказов</td>\n",
       "      <td id=\"T_635bf_row1_col1\" class=\"data row1 col1\" >2</td>\n",
       "      <td id=\"T_635bf_row1_col2\" class=\"data row1 col2\" >5</td>\n",
       "      <td id=\"T_635bf_row1_col3\" class=\"data row1 col3\" >4</td>\n",
       "      <td id=\"T_635bf_row1_col4\" class=\"data row1 col4\" >10</td>\n",
       "    </tr>\n",
       "    <tr>\n",
       "      <th id=\"T_635bf_level0_row2\" class=\"row_heading level0 row2\" >2</th>\n",
       "      <td id=\"T_635bf_row2_col0\" class=\"data row2 col0\" >Добавить блоки рекомендаций товаров на сайт интернет магазина, чтобы повысить конверсию и средний чек заказа</td>\n",
       "      <td id=\"T_635bf_row2_col1\" class=\"data row2 col1\" >8</td>\n",
       "      <td id=\"T_635bf_row2_col2\" class=\"data row2 col2\" >3</td>\n",
       "      <td id=\"T_635bf_row2_col3\" class=\"data row2 col3\" >7</td>\n",
       "      <td id=\"T_635bf_row2_col4\" class=\"data row2 col4\" >3</td>\n",
       "    </tr>\n",
       "    <tr>\n",
       "      <th id=\"T_635bf_level0_row3\" class=\"row_heading level0 row3\" >3</th>\n",
       "      <td id=\"T_635bf_row3_col0\" class=\"data row3 col0\" >Изменить структура категорий, что увеличит конверсию, т.к. пользователи быстрее найдут нужный товар</td>\n",
       "      <td id=\"T_635bf_row3_col1\" class=\"data row3 col1\" >8</td>\n",
       "      <td id=\"T_635bf_row3_col2\" class=\"data row3 col2\" >3</td>\n",
       "      <td id=\"T_635bf_row3_col3\" class=\"data row3 col3\" >3</td>\n",
       "      <td id=\"T_635bf_row3_col4\" class=\"data row3 col4\" >8</td>\n",
       "    </tr>\n",
       "    <tr>\n",
       "      <th id=\"T_635bf_level0_row4\" class=\"row_heading level0 row4\" >4</th>\n",
       "      <td id=\"T_635bf_row4_col0\" class=\"data row4 col0\" >Изменить цвет фона главной страницы, чтобы увеличить вовлеченность пользователей</td>\n",
       "      <td id=\"T_635bf_row4_col1\" class=\"data row4 col1\" >3</td>\n",
       "      <td id=\"T_635bf_row4_col2\" class=\"data row4 col2\" >1</td>\n",
       "      <td id=\"T_635bf_row4_col3\" class=\"data row4 col3\" >1</td>\n",
       "      <td id=\"T_635bf_row4_col4\" class=\"data row4 col4\" >1</td>\n",
       "    </tr>\n",
       "    <tr>\n",
       "      <th id=\"T_635bf_level0_row5\" class=\"row_heading level0 row5\" >5</th>\n",
       "      <td id=\"T_635bf_row5_col0\" class=\"data row5 col0\" >Добавить страницу отзывов клиентов о магазине, что позволит увеличить количество заказов</td>\n",
       "      <td id=\"T_635bf_row5_col1\" class=\"data row5 col1\" >3</td>\n",
       "      <td id=\"T_635bf_row5_col2\" class=\"data row5 col2\" >2</td>\n",
       "      <td id=\"T_635bf_row5_col3\" class=\"data row5 col3\" >2</td>\n",
       "      <td id=\"T_635bf_row5_col4\" class=\"data row5 col4\" >3</td>\n",
       "    </tr>\n",
       "    <tr>\n",
       "      <th id=\"T_635bf_level0_row6\" class=\"row_heading level0 row6\" >6</th>\n",
       "      <td id=\"T_635bf_row6_col0\" class=\"data row6 col0\" >Показать на главной странице баннеры с актуальными акциями и распродажами, чтобы увеличить конверсию</td>\n",
       "      <td id=\"T_635bf_row6_col1\" class=\"data row6 col1\" >5</td>\n",
       "      <td id=\"T_635bf_row6_col2\" class=\"data row6 col2\" >3</td>\n",
       "      <td id=\"T_635bf_row6_col3\" class=\"data row6 col3\" >8</td>\n",
       "      <td id=\"T_635bf_row6_col4\" class=\"data row6 col4\" >3</td>\n",
       "    </tr>\n",
       "    <tr>\n",
       "      <th id=\"T_635bf_level0_row7\" class=\"row_heading level0 row7\" >7</th>\n",
       "      <td id=\"T_635bf_row7_col0\" class=\"data row7 col0\" >Добавить форму подписки на все основные страницы, чтобы собрать базу клиентов для email-рассылок</td>\n",
       "      <td id=\"T_635bf_row7_col1\" class=\"data row7 col1\" >10</td>\n",
       "      <td id=\"T_635bf_row7_col2\" class=\"data row7 col2\" >7</td>\n",
       "      <td id=\"T_635bf_row7_col3\" class=\"data row7 col3\" >8</td>\n",
       "      <td id=\"T_635bf_row7_col4\" class=\"data row7 col4\" >5</td>\n",
       "    </tr>\n",
       "    <tr>\n",
       "      <th id=\"T_635bf_level0_row8\" class=\"row_heading level0 row8\" >8</th>\n",
       "      <td id=\"T_635bf_row8_col0\" class=\"data row8 col0\" >Запустить акцию, дающую скидку на товар в день рождения</td>\n",
       "      <td id=\"T_635bf_row8_col1\" class=\"data row8 col1\" >1</td>\n",
       "      <td id=\"T_635bf_row8_col2\" class=\"data row8 col2\" >9</td>\n",
       "      <td id=\"T_635bf_row8_col3\" class=\"data row8 col3\" >9</td>\n",
       "      <td id=\"T_635bf_row8_col4\" class=\"data row8 col4\" >5</td>\n",
       "    </tr>\n",
       "  </tbody>\n",
       "</table>\n"
      ],
      "text/plain": [
       "<pandas.io.formats.style.Styler at 0x1a3cfbf57c0>"
      ]
     },
     "execution_count": 3,
     "metadata": {},
     "output_type": "execute_result"
    }
   ],
   "source": [
    "data.columns= data.columns.str.lower()\n",
    "data.style.set_properties(**{'text-align': 'left'})"
   ]
  },
  {
   "cell_type": "markdown",
   "metadata": {},
   "source": [
    "### Примените фреймворк ICE для приоритизации гипотез. Отсортируйте их по убыванию приоритета."
   ]
  },
  {
   "cell_type": "markdown",
   "metadata": {},
   "source": [
    "Расчет ICE"
   ]
  },
  {
   "cell_type": "code",
   "execution_count": 4,
   "metadata": {},
   "outputs": [
    {
     "name": "stdout",
     "output_type": "stream",
     "text": [
      "                                          Hypothesis    ICE\n",
      "8  Запустить акцию, дающую скидку на товар в день...  16.20\n",
      "0  Добавить два новых канала привлечения трафика,...  13.33\n",
      "7  Добавить форму подписки на все основные страни...  11.20\n",
      "6  Показать на главной странице баннеры с актуаль...   8.00\n",
      "2  Добавить блоки рекомендаций товаров на сайт ин...   7.00\n",
      "1  Запустить собственную службу доставки, что сок...   2.00\n",
      "5  Добавить страницу отзывов клиентов о магазине,...   1.33\n",
      "3  Изменить структура категорий, что увеличит кон...   1.12\n",
      "4  Изменить цвет фона главной страницы, чтобы уве...   1.00\n"
     ]
    }
   ],
   "source": [
    "data = pd.read_csv(r'D:\\Main\\Yandex Practicum\\Y.Anal\\Project AB test\\hypothesis.csv')\n",
    "\n",
    "data['ICE'] = round((data['Impact'] * data['Confidence'])/data['Efforts'], 2)\n",
    "\n",
    "print(data[['Hypothesis', 'ICE']].sort_values(by='ICE', ascending=False))"
   ]
  },
  {
   "cell_type": "markdown",
   "metadata": {},
   "source": [
    "### Примените фреймворк RICE для приоритизации гипотез. Отсортируйте их по убыванию приоритета."
   ]
  },
  {
   "cell_type": "markdown",
   "metadata": {},
   "source": [
    "Расчет RICE"
   ]
  },
  {
   "cell_type": "code",
   "execution_count": 5,
   "metadata": {},
   "outputs": [
    {
     "name": "stdout",
     "output_type": "stream",
     "text": [
      "                                          Hypothesis   RICE\n",
      "7  Добавить форму подписки на все основные страни...  112.0\n",
      "2  Добавить блоки рекомендаций товаров на сайт ин...   56.0\n",
      "0  Добавить два новых канала привлечения трафика,...   40.0\n",
      "6  Показать на главной странице баннеры с актуаль...   40.0\n",
      "8  Запустить акцию, дающую скидку на товар в день...   16.2\n",
      "3  Изменить структура категорий, что увеличит кон...    9.0\n",
      "1  Запустить собственную службу доставки, что сок...    4.0\n",
      "5  Добавить страницу отзывов клиентов о магазине,...    4.0\n",
      "4  Изменить цвет фона главной страницы, чтобы уве...    3.0\n"
     ]
    }
   ],
   "source": [
    "data['RICE'] = (data['Impact'] * data['Confidence'] * data['Reach'])/data['Efforts']\n",
    "\n",
    "print(data[['Hypothesis', 'RICE']].sort_values(by='RICE', ascending=False))"
   ]
  },
  {
   "cell_type": "markdown",
   "metadata": {},
   "source": [
    "### Укажите, как изменилась приоритизация гипотез при применении RICE вместо ICE. Объясните, почему так произошло."
   ]
  },
  {
   "cell_type": "markdown",
   "metadata": {},
   "source": [
    "Вывод: Приоритет проверки гипотез различается в методах ICE и RICE, потому что в последнем дополнительно учитывается влияние фактора reach, оценивающего скольких пользователей затронет вносимое изменение. Наиболее приоритетные гипотезы по методу ICE: 8, 0, 7, 6, 2. По методу RICE: 7, 2, 0, 6, 8."
   ]
  },
  {
   "cell_type": "markdown",
   "metadata": {},
   "source": [
    "Наиболее приоритетной для проверки является гипотеза номер 7.  \n",
    "\n",
    "* Проверяемое в ней событие окажет влияние на бОльшее число пользователей, чем события в других гипотезах поскольку гипотеза имеет наибольшее значение RICE.  \n",
    "* Гипотеза 7 находится в топ 3 гипотез по методам ICE и RICE, что говорит о том, что она окажет большое влияние, которое вполне точно определено, и будет простой во внедрении</div>"
   ]
  },
  {
   "cell_type": "markdown",
   "metadata": {},
   "source": [
    "## Часть. Анализ A/B-теста"
   ]
  },
  {
   "cell_type": "markdown",
   "metadata": {},
   "source": [
    "### Постройте график кумулятивной выручки по группам. Сделайте выводы и предположения."
   ]
  },
  {
   "cell_type": "markdown",
   "metadata": {},
   "source": [
    "#### Прочтём данные из файлов с результатами A/B-тестирования:"
   ]
  },
  {
   "cell_type": "code",
   "execution_count": 6,
   "metadata": {},
   "outputs": [
    {
     "data": {
      "text/html": [
       "<div>\n",
       "<style scoped>\n",
       "    .dataframe tbody tr th:only-of-type {\n",
       "        vertical-align: middle;\n",
       "    }\n",
       "\n",
       "    .dataframe tbody tr th {\n",
       "        vertical-align: top;\n",
       "    }\n",
       "\n",
       "    .dataframe thead th {\n",
       "        text-align: right;\n",
       "    }\n",
       "</style>\n",
       "<table border=\"1\" class=\"dataframe\">\n",
       "  <thead>\n",
       "    <tr style=\"text-align: right;\">\n",
       "      <th></th>\n",
       "      <th>transactionId</th>\n",
       "      <th>visitorId</th>\n",
       "      <th>date</th>\n",
       "      <th>revenue</th>\n",
       "      <th>group</th>\n",
       "    </tr>\n",
       "  </thead>\n",
       "  <tbody>\n",
       "    <tr>\n",
       "      <th>0</th>\n",
       "      <td>3667963787</td>\n",
       "      <td>3312258926</td>\n",
       "      <td>2019-08-15</td>\n",
       "      <td>1650</td>\n",
       "      <td>B</td>\n",
       "    </tr>\n",
       "    <tr>\n",
       "      <th>1</th>\n",
       "      <td>2804400009</td>\n",
       "      <td>3642806036</td>\n",
       "      <td>2019-08-15</td>\n",
       "      <td>730</td>\n",
       "      <td>B</td>\n",
       "    </tr>\n",
       "    <tr>\n",
       "      <th>2</th>\n",
       "      <td>2961555356</td>\n",
       "      <td>4069496402</td>\n",
       "      <td>2019-08-15</td>\n",
       "      <td>400</td>\n",
       "      <td>A</td>\n",
       "    </tr>\n",
       "    <tr>\n",
       "      <th>3</th>\n",
       "      <td>3797467345</td>\n",
       "      <td>1196621759</td>\n",
       "      <td>2019-08-15</td>\n",
       "      <td>9759</td>\n",
       "      <td>B</td>\n",
       "    </tr>\n",
       "    <tr>\n",
       "      <th>4</th>\n",
       "      <td>2282983706</td>\n",
       "      <td>2322279887</td>\n",
       "      <td>2019-08-15</td>\n",
       "      <td>2308</td>\n",
       "      <td>B</td>\n",
       "    </tr>\n",
       "    <tr>\n",
       "      <th>...</th>\n",
       "      <td>...</td>\n",
       "      <td>...</td>\n",
       "      <td>...</td>\n",
       "      <td>...</td>\n",
       "      <td>...</td>\n",
       "    </tr>\n",
       "    <tr>\n",
       "      <th>1192</th>\n",
       "      <td>2662137336</td>\n",
       "      <td>3733762160</td>\n",
       "      <td>2019-08-14</td>\n",
       "      <td>6490</td>\n",
       "      <td>B</td>\n",
       "    </tr>\n",
       "    <tr>\n",
       "      <th>1193</th>\n",
       "      <td>2203539145</td>\n",
       "      <td>370388673</td>\n",
       "      <td>2019-08-14</td>\n",
       "      <td>3190</td>\n",
       "      <td>A</td>\n",
       "    </tr>\n",
       "    <tr>\n",
       "      <th>1194</th>\n",
       "      <td>1807773912</td>\n",
       "      <td>573423106</td>\n",
       "      <td>2019-08-14</td>\n",
       "      <td>10550</td>\n",
       "      <td>A</td>\n",
       "    </tr>\n",
       "    <tr>\n",
       "      <th>1195</th>\n",
       "      <td>1947021204</td>\n",
       "      <td>1614305549</td>\n",
       "      <td>2019-08-14</td>\n",
       "      <td>100</td>\n",
       "      <td>A</td>\n",
       "    </tr>\n",
       "    <tr>\n",
       "      <th>1196</th>\n",
       "      <td>3936777065</td>\n",
       "      <td>2108080724</td>\n",
       "      <td>2019-08-15</td>\n",
       "      <td>202740</td>\n",
       "      <td>B</td>\n",
       "    </tr>\n",
       "  </tbody>\n",
       "</table>\n",
       "<p>1197 rows × 5 columns</p>\n",
       "</div>"
      ],
      "text/plain": [
       "      transactionId   visitorId        date  revenue group\n",
       "0        3667963787  3312258926  2019-08-15     1650     B\n",
       "1        2804400009  3642806036  2019-08-15      730     B\n",
       "2        2961555356  4069496402  2019-08-15      400     A\n",
       "3        3797467345  1196621759  2019-08-15     9759     B\n",
       "4        2282983706  2322279887  2019-08-15     2308     B\n",
       "...             ...         ...         ...      ...   ...\n",
       "1192     2662137336  3733762160  2019-08-14     6490     B\n",
       "1193     2203539145   370388673  2019-08-14     3190     A\n",
       "1194     1807773912   573423106  2019-08-14    10550     A\n",
       "1195     1947021204  1614305549  2019-08-14      100     A\n",
       "1196     3936777065  2108080724  2019-08-15   202740     B\n",
       "\n",
       "[1197 rows x 5 columns]"
      ]
     },
     "execution_count": 6,
     "metadata": {},
     "output_type": "execute_result"
    }
   ],
   "source": [
    "orders = pd.read_csv(r'D:\\Main\\Yandex Practicum\\Y.Anal\\Project AB test\\orders.csv')\n",
    "orders"
   ]
  },
  {
   "cell_type": "code",
   "execution_count": 7,
   "metadata": {},
   "outputs": [
    {
     "data": {
      "text/plain": [
       "0"
      ]
     },
     "execution_count": 7,
     "metadata": {},
     "output_type": "execute_result"
    }
   ],
   "source": [
    "orders.duplicated().sum()"
   ]
  },
  {
   "cell_type": "code",
   "execution_count": 8,
   "metadata": {},
   "outputs": [
    {
     "data": {
      "text/plain": [
       "transactionId    0\n",
       "visitorId        0\n",
       "date             0\n",
       "revenue          0\n",
       "group            0\n",
       "dtype: int64"
      ]
     },
     "execution_count": 8,
     "metadata": {},
     "output_type": "execute_result"
    }
   ],
   "source": [
    "orders.isna().sum()"
   ]
  },
  {
   "cell_type": "code",
   "execution_count": 9,
   "metadata": {},
   "outputs": [
    {
     "name": "stdout",
     "output_type": "stream",
     "text": [
      "<class 'pandas.core.frame.DataFrame'>\n",
      "RangeIndex: 1197 entries, 0 to 1196\n",
      "Data columns (total 5 columns):\n",
      " #   Column         Non-Null Count  Dtype \n",
      "---  ------         --------------  ----- \n",
      " 0   transactionId  1197 non-null   int64 \n",
      " 1   visitorId      1197 non-null   int64 \n",
      " 2   date           1197 non-null   object\n",
      " 3   revenue        1197 non-null   int64 \n",
      " 4   group          1197 non-null   object\n",
      "dtypes: int64(3), object(2)\n",
      "memory usage: 46.9+ KB\n"
     ]
    }
   ],
   "source": [
    "orders.info()"
   ]
  },
  {
   "cell_type": "code",
   "execution_count": 10,
   "metadata": {},
   "outputs": [],
   "source": [
    "orders['date'] = pd.to_datetime(orders['date'], format='%Y-%m-%d')"
   ]
  },
  {
   "cell_type": "code",
   "execution_count": 11,
   "metadata": {},
   "outputs": [
    {
     "data": {
      "text/html": [
       "<div>\n",
       "<style scoped>\n",
       "    .dataframe tbody tr th:only-of-type {\n",
       "        vertical-align: middle;\n",
       "    }\n",
       "\n",
       "    .dataframe tbody tr th {\n",
       "        vertical-align: top;\n",
       "    }\n",
       "\n",
       "    .dataframe thead th {\n",
       "        text-align: right;\n",
       "    }\n",
       "</style>\n",
       "<table border=\"1\" class=\"dataframe\">\n",
       "  <thead>\n",
       "    <tr style=\"text-align: right;\">\n",
       "      <th></th>\n",
       "      <th>date</th>\n",
       "      <th>group</th>\n",
       "      <th>visitors</th>\n",
       "    </tr>\n",
       "  </thead>\n",
       "  <tbody>\n",
       "    <tr>\n",
       "      <th>0</th>\n",
       "      <td>2019-08-01</td>\n",
       "      <td>A</td>\n",
       "      <td>719</td>\n",
       "    </tr>\n",
       "    <tr>\n",
       "      <th>1</th>\n",
       "      <td>2019-08-02</td>\n",
       "      <td>A</td>\n",
       "      <td>619</td>\n",
       "    </tr>\n",
       "    <tr>\n",
       "      <th>2</th>\n",
       "      <td>2019-08-03</td>\n",
       "      <td>A</td>\n",
       "      <td>507</td>\n",
       "    </tr>\n",
       "    <tr>\n",
       "      <th>3</th>\n",
       "      <td>2019-08-04</td>\n",
       "      <td>A</td>\n",
       "      <td>717</td>\n",
       "    </tr>\n",
       "    <tr>\n",
       "      <th>4</th>\n",
       "      <td>2019-08-05</td>\n",
       "      <td>A</td>\n",
       "      <td>756</td>\n",
       "    </tr>\n",
       "    <tr>\n",
       "      <th>...</th>\n",
       "      <td>...</td>\n",
       "      <td>...</td>\n",
       "      <td>...</td>\n",
       "    </tr>\n",
       "    <tr>\n",
       "      <th>57</th>\n",
       "      <td>2019-08-27</td>\n",
       "      <td>B</td>\n",
       "      <td>720</td>\n",
       "    </tr>\n",
       "    <tr>\n",
       "      <th>58</th>\n",
       "      <td>2019-08-28</td>\n",
       "      <td>B</td>\n",
       "      <td>654</td>\n",
       "    </tr>\n",
       "    <tr>\n",
       "      <th>59</th>\n",
       "      <td>2019-08-29</td>\n",
       "      <td>B</td>\n",
       "      <td>531</td>\n",
       "    </tr>\n",
       "    <tr>\n",
       "      <th>60</th>\n",
       "      <td>2019-08-30</td>\n",
       "      <td>B</td>\n",
       "      <td>490</td>\n",
       "    </tr>\n",
       "    <tr>\n",
       "      <th>61</th>\n",
       "      <td>2019-08-31</td>\n",
       "      <td>B</td>\n",
       "      <td>718</td>\n",
       "    </tr>\n",
       "  </tbody>\n",
       "</table>\n",
       "<p>62 rows × 3 columns</p>\n",
       "</div>"
      ],
      "text/plain": [
       "          date group  visitors\n",
       "0   2019-08-01     A       719\n",
       "1   2019-08-02     A       619\n",
       "2   2019-08-03     A       507\n",
       "3   2019-08-04     A       717\n",
       "4   2019-08-05     A       756\n",
       "..         ...   ...       ...\n",
       "57  2019-08-27     B       720\n",
       "58  2019-08-28     B       654\n",
       "59  2019-08-29     B       531\n",
       "60  2019-08-30     B       490\n",
       "61  2019-08-31     B       718\n",
       "\n",
       "[62 rows x 3 columns]"
      ]
     },
     "execution_count": 11,
     "metadata": {},
     "output_type": "execute_result"
    }
   ],
   "source": [
    "visitors = pd.read_csv(\n",
    "    r'D:\\Main\\Yandex Practicum\\Y.Anal\\Project AB test\\visitors.csv'\n",
    ")\n",
    "visitors"
   ]
  },
  {
   "cell_type": "code",
   "execution_count": 12,
   "metadata": {},
   "outputs": [
    {
     "data": {
      "text/plain": [
       "0"
      ]
     },
     "execution_count": 12,
     "metadata": {},
     "output_type": "execute_result"
    }
   ],
   "source": [
    "visitors.duplicated().sum()"
   ]
  },
  {
   "cell_type": "code",
   "execution_count": 13,
   "metadata": {},
   "outputs": [
    {
     "data": {
      "text/plain": [
       "date        0\n",
       "group       0\n",
       "visitors    0\n",
       "dtype: int64"
      ]
     },
     "execution_count": 13,
     "metadata": {},
     "output_type": "execute_result"
    }
   ],
   "source": [
    "visitors.isna().sum()"
   ]
  },
  {
   "cell_type": "code",
   "execution_count": 14,
   "metadata": {},
   "outputs": [
    {
     "name": "stdout",
     "output_type": "stream",
     "text": [
      "<class 'pandas.core.frame.DataFrame'>\n",
      "RangeIndex: 62 entries, 0 to 61\n",
      "Data columns (total 3 columns):\n",
      " #   Column    Non-Null Count  Dtype \n",
      "---  ------    --------------  ----- \n",
      " 0   date      62 non-null     object\n",
      " 1   group     62 non-null     object\n",
      " 2   visitors  62 non-null     int64 \n",
      "dtypes: int64(1), object(2)\n",
      "memory usage: 1.6+ KB\n"
     ]
    }
   ],
   "source": [
    "visitors.info()"
   ]
  },
  {
   "cell_type": "code",
   "execution_count": 15,
   "metadata": {},
   "outputs": [],
   "source": [
    "visitors['date'] = pd.to_datetime(visitors['date'], format='%Y-%m-%d')"
   ]
  },
  {
   "cell_type": "code",
   "execution_count": 16,
   "metadata": {},
   "outputs": [
    {
     "name": "stdout",
     "output_type": "stream",
     "text": [
      "<class 'pandas.core.frame.DataFrame'>\n",
      "RangeIndex: 62 entries, 0 to 61\n",
      "Data columns (total 3 columns):\n",
      " #   Column    Non-Null Count  Dtype         \n",
      "---  ------    --------------  -----         \n",
      " 0   date      62 non-null     datetime64[ns]\n",
      " 1   group     62 non-null     object        \n",
      " 2   visitors  62 non-null     int64         \n",
      "dtypes: datetime64[ns](1), int64(1), object(1)\n",
      "memory usage: 1.6+ KB\n"
     ]
    }
   ],
   "source": [
    "visitors.info()"
   ]
  },
  {
   "cell_type": "markdown",
   "metadata": {},
   "source": [
    "#### Объединим таблицы"
   ]
  },
  {
   "cell_type": "code",
   "execution_count": 17,
   "metadata": {},
   "outputs": [
    {
     "name": "stdout",
     "output_type": "stream",
     "text": [
      "        date group  orders  buyers  revenue  visitors\n",
      "0 2019-08-01     A      24      20   148579       719\n",
      "1 2019-08-01     B      21      20   101217       713\n",
      "2 2019-08-02     A      44      38   242401      1338\n",
      "3 2019-08-02     B      45      43   266748      1294\n",
      "4 2019-08-03     A      68      62   354874      1845\n"
     ]
    }
   ],
   "source": [
    "# создаем массив уникальных пар значений дат и групп теста\n",
    "datesGroups = orders[['date','group']].drop_duplicates()\n",
    "\n",
    "# получаем агрегированные кумулятивные по дням данные о заказах \n",
    "ordersAggregated = datesGroups.apply(lambda x: orders[np.logical_and(orders['date'] <= x['date'], orders['group'] == x['group'])].agg({'date' : 'max', 'group' : 'max', 'transactionId' : 'nunique', 'visitorId' : 'nunique', 'revenue' : 'sum'}), axis=1).sort_values(by=['date','group'])\n",
    "\n",
    "# получаем агрегированные кумулятивные по дням данные о посетителях интернет-магазина \n",
    "visitorsAggregated = datesGroups.apply(lambda x: visitors[np.logical_and(visitors['date'] <= x['date'], visitors['group'] == x['group'])].agg({'date' : 'max', 'group' : 'max', 'visitors' : 'sum'}), axis=1).sort_values(by=['date','group'])\n",
    "\n",
    "# объединяем кумулятивные данные в одной таблице и присваиваем ее столбцам понятные названия\n",
    "cumulativeData = ordersAggregated.merge(visitorsAggregated, left_on=['date', 'group'], right_on=['date', 'group'])\n",
    "cumulativeData.columns = ['date', 'group', 'orders', 'buyers', 'revenue', 'visitors']\n",
    "\n",
    "print(cumulativeData.head(5))"
   ]
  },
  {
   "cell_type": "markdown",
   "metadata": {},
   "source": [
    "#### Построим графики кумулятивной выручки по дням и группам A/B-тестирования:"
   ]
  },
  {
   "cell_type": "code",
   "execution_count": 18,
   "metadata": {},
   "outputs": [
    {
     "data": {
      "image/png": "[encoded data removed]",
      "text/plain": [
       "<Figure size 1200x600 with 1 Axes>"
      ]
     },
     "metadata": {},
     "output_type": "display_data"
    }
   ],
   "source": [
    "# датафрейм с кумулятивным количеством заказов и кумулятивной выручкой по дням в группе А\n",
    "cumulativeRevenueA = cumulativeData[cumulativeData['group']=='A'][['date','revenue', 'orders']]\n",
    "\n",
    "# датафрейм с кумулятивным количеством заказов и кумулятивной выручкой по дням в группе B\n",
    "cumulativeRevenueB = cumulativeData[cumulativeData['group']=='B'][['date','revenue', 'orders']]\n",
    "\n",
    "# Строим график выручки группы А\n",
    "plt.figure(figsize=(12, 6))\n",
    "plt.plot(cumulativeRevenueA['date'], cumulativeRevenueA['revenue'], label='A')\n",
    "\n",
    "# Строим график выручки группы B\n",
    "plt.plot(cumulativeRevenueB['date'], cumulativeRevenueB['revenue'], label='B')\n",
    "plt.legend()\n",
    "plt.xticks(rotation=45)\n",
    "plt.title('Кумулятивная выручка по дням и группам')\n",
    "plt.ylabel('Объем выручки, млн.');"
   ]
  },
  {
   "cell_type": "markdown",
   "metadata": {},
   "source": [
    "Вывод: Выручка равномерно увеличивается в течение всего теста для группы B, в то время как выручка группы A резко увеличилась примерно в середине эксперимента. Это может сигнализировать о резком увеличении числа заказов, либо о появлении очень дорогих заказов в выборке в наблюдаемый период. "
   ]
  },
  {
   "cell_type": "markdown",
   "metadata": {},
   "source": [
    "### Постройте график кумулятивного среднего чека по группам. Сделайте выводы и предположения."
   ]
  },
  {
   "cell_type": "code",
   "execution_count": 19,
   "metadata": {},
   "outputs": [
    {
     "data": {
      "image/png": "[encoded data removed]",
      "text/plain": [
       "<Figure size 1200x600 with 1 Axes>"
      ]
     },
     "metadata": {},
     "output_type": "display_data"
    }
   ],
   "source": [
    "plt.figure(figsize=(12, 6))\n",
    "plt.plot(cumulativeRevenueA['date'], cumulativeRevenueA['revenue']/cumulativeRevenueA['orders'], label='A')\n",
    "plt.plot(cumulativeRevenueB['date'], cumulativeRevenueB['revenue']/cumulativeRevenueB['orders'], label='B')\n",
    "plt.legend()\n",
    "plt.xticks(rotation=45)\n",
    "plt.title('Кумулятивный средний чек по дням и группам')\n",
    "plt.ylabel('Средний чек, р.');"
   ]
  },
  {
   "cell_type": "markdown",
   "metadata": {},
   "source": [
    "Вывод: В группе А средний чек пришел к зоне 7-8k, но продолжает расти. В группе B средний чек подвержен волатильности: он одномоментно сильно вырос, после чего начал стабильно падать. Это может быть связано с большими заказами, после которых средний чек старается \"выровняться\""
   ]
  },
  {
   "cell_type": "markdown",
   "metadata": {},
   "source": [
    "### Постройте график относительного изменения кумулятивного среднего чека группы B к группе A. Сделайте выводы и предположения."
   ]
  },
  {
   "cell_type": "code",
   "execution_count": 20,
   "metadata": {},
   "outputs": [
    {
     "data": {
      "image/png": "[encoded data removed]",
      "text/plain": [
       "<Figure size 1200x600 with 1 Axes>"
      ]
     },
     "metadata": {},
     "output_type": "display_data"
    }
   ],
   "source": [
    "# собираем данные в одном датафрейме\n",
    "mergedCumulativeRevenue = cumulativeRevenueA.merge(cumulativeRevenueB, left_on='date', right_on='date', how='left', suffixes=['A', 'B'])\n",
    "\n",
    "# cтроим отношение средних чеков\n",
    "plt.figure(figsize=(12, 6))\n",
    "plt.plot(mergedCumulativeRevenue['date'], (mergedCumulativeRevenue['revenueB']/mergedCumulativeRevenue['ordersB'])/(mergedCumulativeRevenue['revenueA']/mergedCumulativeRevenue['ordersA'])-1)\n",
    "\n",
    "# добавляем ось X\n",
    "plt.axhline(y=0, color='black', linestyle='--')\n",
    "plt.xticks(rotation=45)\n",
    "plt.title('Относительное изменение среднего чека по дням и группам')\n",
    "plt.ylabel('Доли');"
   ]
  },
  {
   "cell_type": "markdown",
   "metadata": {},
   "source": [
    "Вывод: Кумулятивный средний чек сильно отличается в двух группах. По резким скачкам графика можно догадаться о наличии больших заказов и (или) выбросов."
   ]
  },
  {
   "cell_type": "markdown",
   "metadata": {},
   "source": [
    "### Постройте график кумулятивного среднего количества заказов на посетителя по группам. Сделайте выводы и предположения."
   ]
  },
  {
   "cell_type": "code",
   "execution_count": 21,
   "metadata": {},
   "outputs": [
    {
     "data": {
      "image/png": "[encoded data removed]",
      "text/plain": [
       "<Figure size 1200x600 with 1 Axes>"
      ]
     },
     "metadata": {},
     "output_type": "display_data"
    }
   ],
   "source": [
    "# считаем кумулятивное среднее число заказов\n",
    "cumulativeData['conversion'] = cumulativeData['orders']/cumulativeData['visitors']*100\n",
    "\n",
    "# отделяем данные по группе A\n",
    "cumulativeDataA = cumulativeData[cumulativeData['group']=='A']\n",
    "\n",
    "# отделяем данные по группе B\n",
    "cumulativeDataB = cumulativeData[cumulativeData['group']=='B']\n",
    "\n",
    "# строим графики\n",
    "plt.figure(figsize=(12, 6))\n",
    "plt.plot(cumulativeDataA['date'], cumulativeDataA['conversion'], label='A')\n",
    "plt.plot(cumulativeDataB['date'], cumulativeDataB['conversion'], label='B')\n",
    "plt.legend()\n",
    "plt.xticks(rotation=45)\n",
    "plt.title('Кумулятивное среднее число заказов по дням и группам')\n",
    "plt.ylabel('Процент');"
   ]
  },
  {
   "cell_type": "markdown",
   "metadata": {},
   "source": [
    "Вывод: Кумулятивное среднее число заказов в обеих группах зафиксировалось в узких диапазонах. Группа А около отметки в 3%, Группа B около 3.4%"
   ]
  },
  {
   "cell_type": "markdown",
   "metadata": {},
   "source": [
    "### Постройте график относительного изменения кумулятивного среднего количества заказов на посетителя группы B к группе A. Сделайте выводы и предположения."
   ]
  },
  {
   "cell_type": "code",
   "execution_count": 22,
   "metadata": {},
   "outputs": [
    {
     "data": {
      "image/png": "[encoded data removed]",
      "text/plain": [
       "<Figure size 1200x600 with 1 Axes>"
      ]
     },
     "metadata": {},
     "output_type": "display_data"
    }
   ],
   "source": [
    "mergedCumulativeConversions = cumulativeDataA[['date','conversion']].merge(cumulativeDataB[['date','conversion']], left_on='date', right_on='date', how='left', suffixes=['A', 'B'])\n",
    "plt.figure(figsize=(12, 6))\n",
    "plt.plot(mergedCumulativeConversions['date'], (mergedCumulativeConversions['conversionB']/mergedCumulativeConversions['conversionA']-1)*100, label=\"Относительный прирост конверсии группы B относительно группы A\")\n",
    "plt.legend()\n",
    "\n",
    "plt.axhline(y=0, color='black', linestyle='--')\n",
    "plt.axhline(y=14, color='grey', linestyle='--')\n",
    "plt.xticks(rotation=45)\n",
    "plt.title('Относительного изменения кумулятивной конверсии по дням и группам')\n",
    "plt.ylabel('Процент');"
   ]
  },
  {
   "cell_type": "markdown",
   "metadata": {},
   "source": [
    "Вывод: кумулятивная конверсия группы B на данный момент на 14% выше чем у группы А. В группе B посетители чаще делают заказы (конвертируются в покупателей)"
   ]
  },
  {
   "cell_type": "markdown",
   "metadata": {},
   "source": [
    "### Постройте точечный график количества заказов по пользователям. Сделайте выводы и предположения."
   ]
  },
  {
   "cell_type": "code",
   "execution_count": 23,
   "metadata": {},
   "outputs": [
    {
     "name": "stdout",
     "output_type": "stream",
     "text": [
      "              Id  orders\n",
      "1023  4256040402      11\n",
      "591   2458001652      11\n",
      "569   2378935119       9\n",
      "487   2038680547       8\n",
      "44     199603092       5\n",
      "744   3062433592       5\n",
      "55     237748145       5\n",
      "917   3803269165       5\n",
      "299   1230306981       5\n",
      "897   3717692402       5\n"
     ]
    }
   ],
   "source": [
    "data = pd.read_csv(r'D:\\Main\\Yandex Practicum\\Y.Anal\\Project AB test\\orders.csv')\n",
    "\n",
    "ordersByUsers = (\n",
    "    data.groupby('visitorId', as_index=False)\n",
    "    .agg({'transactionId': 'nunique'})\n",
    ")\n",
    "\n",
    "ordersByUsers.columns = ['Id', 'orders']\n",
    "\n",
    "print(ordersByUsers.sort_values(by='orders', ascending=False).head(10))"
   ]
  },
  {
   "cell_type": "code",
   "execution_count": 24,
   "metadata": {},
   "outputs": [
    {
     "data": {
      "text/plain": [
       "Text(0, 0.5, 'Заказы, шт.')"
      ]
     },
     "execution_count": 24,
     "metadata": {},
     "output_type": "execute_result"
    },
    {
     "data": {
      "image/png": "[encoded data removed]",
      "text/plain": [
       "<Figure size 1200x600 with 1 Axes>"
      ]
     },
     "metadata": {},
     "output_type": "display_data"
    }
   ],
   "source": [
    "x_values = pd.Series(range(0,len(ordersByUsers)))\n",
    "plt.figure(figsize=(12, 6))\n",
    "plt.scatter(x_values, ordersByUsers['orders'])\n",
    "plt.title('Количество заказов на пользователя')\n",
    "plt.ylabel('Заказы, шт.')\n"
   ]
  },
  {
   "cell_type": "markdown",
   "metadata": {},
   "source": [
    "Вывод: большинство покупателей делают от 2 до 3 заказов. Есть несколько покупателей с 4-5 заказами."
   ]
  },
  {
   "cell_type": "markdown",
   "metadata": {},
   "source": [
    "### Посчитайте 95-й и 99-й перцентили количества заказов на пользователя. Выберите границу для определения аномальных пользователей."
   ]
  },
  {
   "cell_type": "code",
   "execution_count": 25,
   "metadata": {},
   "outputs": [
    {
     "data": {
      "text/plain": [
       "2.0"
      ]
     },
     "execution_count": 25,
     "metadata": {},
     "output_type": "execute_result"
    }
   ],
   "source": [
    "ord_95 = np.percentile(ordersByUsers['orders'], 95)\n",
    "ord_95"
   ]
  },
  {
   "cell_type": "code",
   "execution_count": 26,
   "metadata": {},
   "outputs": [
    {
     "data": {
      "text/plain": [
       "4.0"
      ]
     },
     "execution_count": 26,
     "metadata": {},
     "output_type": "execute_result"
    }
   ],
   "source": [
    "ord_99 = np.percentile(ordersByUsers['orders'], 99)\n",
    "ord_99"
   ]
  },
  {
   "cell_type": "markdown",
   "metadata": {},
   "source": [
    "Вывод: 5% покупателей совершают более 2 заказов и только 1% покупателей - более 4 заказов. Можно установить границу отсечения аномалий на уровне 4 заказа"
   ]
  },
  {
   "cell_type": "markdown",
   "metadata": {},
   "source": [
    "### Постройте точечный график стоимостей заказов. Сделайте выводы и предположения."
   ]
  },
  {
   "cell_type": "code",
   "execution_count": 27,
   "metadata": {},
   "outputs": [
    {
     "data": {
      "text/html": [
       "<div>\n",
       "<style scoped>\n",
       "    .dataframe tbody tr th:only-of-type {\n",
       "        vertical-align: middle;\n",
       "    }\n",
       "\n",
       "    .dataframe tbody tr th {\n",
       "        vertical-align: top;\n",
       "    }\n",
       "\n",
       "    .dataframe thead th {\n",
       "        text-align: right;\n",
       "    }\n",
       "</style>\n",
       "<table border=\"1\" class=\"dataframe\">\n",
       "  <thead>\n",
       "    <tr style=\"text-align: right;\">\n",
       "      <th></th>\n",
       "      <th>transactionId</th>\n",
       "      <th>visitorId</th>\n",
       "      <th>date</th>\n",
       "      <th>revenue</th>\n",
       "      <th>group</th>\n",
       "    </tr>\n",
       "  </thead>\n",
       "  <tbody>\n",
       "    <tr>\n",
       "      <th>0</th>\n",
       "      <td>3667963787</td>\n",
       "      <td>3312258926</td>\n",
       "      <td>2019-08-15</td>\n",
       "      <td>1650</td>\n",
       "      <td>B</td>\n",
       "    </tr>\n",
       "    <tr>\n",
       "      <th>1</th>\n",
       "      <td>2804400009</td>\n",
       "      <td>3642806036</td>\n",
       "      <td>2019-08-15</td>\n",
       "      <td>730</td>\n",
       "      <td>B</td>\n",
       "    </tr>\n",
       "    <tr>\n",
       "      <th>2</th>\n",
       "      <td>2961555356</td>\n",
       "      <td>4069496402</td>\n",
       "      <td>2019-08-15</td>\n",
       "      <td>400</td>\n",
       "      <td>A</td>\n",
       "    </tr>\n",
       "    <tr>\n",
       "      <th>3</th>\n",
       "      <td>3797467345</td>\n",
       "      <td>1196621759</td>\n",
       "      <td>2019-08-15</td>\n",
       "      <td>9759</td>\n",
       "      <td>B</td>\n",
       "    </tr>\n",
       "    <tr>\n",
       "      <th>4</th>\n",
       "      <td>2282983706</td>\n",
       "      <td>2322279887</td>\n",
       "      <td>2019-08-15</td>\n",
       "      <td>2308</td>\n",
       "      <td>B</td>\n",
       "    </tr>\n",
       "    <tr>\n",
       "      <th>...</th>\n",
       "      <td>...</td>\n",
       "      <td>...</td>\n",
       "      <td>...</td>\n",
       "      <td>...</td>\n",
       "      <td>...</td>\n",
       "    </tr>\n",
       "    <tr>\n",
       "      <th>1192</th>\n",
       "      <td>2662137336</td>\n",
       "      <td>3733762160</td>\n",
       "      <td>2019-08-14</td>\n",
       "      <td>6490</td>\n",
       "      <td>B</td>\n",
       "    </tr>\n",
       "    <tr>\n",
       "      <th>1193</th>\n",
       "      <td>2203539145</td>\n",
       "      <td>370388673</td>\n",
       "      <td>2019-08-14</td>\n",
       "      <td>3190</td>\n",
       "      <td>A</td>\n",
       "    </tr>\n",
       "    <tr>\n",
       "      <th>1194</th>\n",
       "      <td>1807773912</td>\n",
       "      <td>573423106</td>\n",
       "      <td>2019-08-14</td>\n",
       "      <td>10550</td>\n",
       "      <td>A</td>\n",
       "    </tr>\n",
       "    <tr>\n",
       "      <th>1195</th>\n",
       "      <td>1947021204</td>\n",
       "      <td>1614305549</td>\n",
       "      <td>2019-08-14</td>\n",
       "      <td>100</td>\n",
       "      <td>A</td>\n",
       "    </tr>\n",
       "    <tr>\n",
       "      <th>1196</th>\n",
       "      <td>3936777065</td>\n",
       "      <td>2108080724</td>\n",
       "      <td>2019-08-15</td>\n",
       "      <td>202740</td>\n",
       "      <td>B</td>\n",
       "    </tr>\n",
       "  </tbody>\n",
       "</table>\n",
       "<p>1197 rows × 5 columns</p>\n",
       "</div>"
      ],
      "text/plain": [
       "      transactionId   visitorId        date  revenue group\n",
       "0        3667963787  3312258926  2019-08-15     1650     B\n",
       "1        2804400009  3642806036  2019-08-15      730     B\n",
       "2        2961555356  4069496402  2019-08-15      400     A\n",
       "3        3797467345  1196621759  2019-08-15     9759     B\n",
       "4        2282983706  2322279887  2019-08-15     2308     B\n",
       "...             ...         ...         ...      ...   ...\n",
       "1192     2662137336  3733762160  2019-08-14     6490     B\n",
       "1193     2203539145   370388673  2019-08-14     3190     A\n",
       "1194     1807773912   573423106  2019-08-14    10550     A\n",
       "1195     1947021204  1614305549  2019-08-14      100     A\n",
       "1196     3936777065  2108080724  2019-08-15   202740     B\n",
       "\n",
       "[1197 rows x 5 columns]"
      ]
     },
     "execution_count": 27,
     "metadata": {},
     "output_type": "execute_result"
    }
   ],
   "source": [
    "data"
   ]
  },
  {
   "cell_type": "code",
   "execution_count": 28,
   "metadata": {},
   "outputs": [
    {
     "data": {
      "text/plain": [
       "1294500"
      ]
     },
     "execution_count": 28,
     "metadata": {},
     "output_type": "execute_result"
    }
   ],
   "source": [
    "data['revenue'].max()"
   ]
  },
  {
   "cell_type": "code",
   "execution_count": 29,
   "metadata": {},
   "outputs": [
    {
     "data": {
      "text/plain": [
       "Text(0, 0.5, 'Стоимость, млн.')"
      ]
     },
     "execution_count": 29,
     "metadata": {},
     "output_type": "execute_result"
    },
    {
     "data": {
      "image/png": "[encoded data removed]",
      "text/plain": [
       "<Figure size 1200x600 with 1 Axes>"
      ]
     },
     "metadata": {},
     "output_type": "display_data"
    }
   ],
   "source": [
    "x_values = pd.Series(range(0,len(data['revenue'])))\n",
    "plt.figure(figsize=(12, 6))\n",
    "plt.scatter(x_values, data['revenue'])\n",
    "plt.title('Стоимость заказа')\n",
    "plt.ylabel('Стоимость, млн.')"
   ]
  },
  {
   "cell_type": "code",
   "execution_count": 30,
   "metadata": {},
   "outputs": [
    {
     "data": {
      "image/png": "[encoded data removed]",
      "text/plain": [
       "<Figure size 1200x600 with 1 Axes>"
      ]
     },
     "metadata": {},
     "output_type": "display_data"
    }
   ],
   "source": [
    "x_values = pd.Series(range(0,len(data['revenue'])))\n",
    "plt.figure(figsize=(12, 6))\n",
    "plt.ylim(ymax = 120000, ymin = 0)\n",
    "plt.scatter(x_values, data['revenue'])\n",
    "plt.title('Стоимость заказа')\n",
    "plt.ylabel('Стоимость, р.');"
   ]
  },
  {
   "cell_type": "markdown",
   "metadata": {},
   "source": [
    "Вывод: основную массу заказов составляют покупки до 100 000. Похоже была всего одна покупка на 200 к и одна на 1.29 млн."
   ]
  },
  {
   "cell_type": "markdown",
   "metadata": {},
   "source": [
    "### Посчитайте 95-й и 99-й перцентили стоимости заказов. Выберите границу для определения аномальных заказов."
   ]
  },
  {
   "cell_type": "code",
   "execution_count": 31,
   "metadata": {},
   "outputs": [
    {
     "data": {
      "text/plain": [
       "28000.000000000004"
      ]
     },
     "execution_count": 31,
     "metadata": {},
     "output_type": "execute_result"
    }
   ],
   "source": [
    "rev_95 = np.percentile(data['revenue'], 95)\n",
    "rev_95"
   ]
  },
  {
   "cell_type": "code",
   "execution_count": 32,
   "metadata": {},
   "outputs": [
    {
     "data": {
      "text/plain": [
       "58233.19999999999"
      ]
     },
     "execution_count": 32,
     "metadata": {},
     "output_type": "execute_result"
    }
   ],
   "source": [
    "rev_99 = np.percentile(data['revenue'], 99)\n",
    "rev_99"
   ]
  },
  {
   "cell_type": "markdown",
   "metadata": {},
   "source": [
    "Вывод: 5% заказов стоит дороже 28 000, 1% заказов стоит дороже 58 233. Выберем границу аномальных значений в 1%"
   ]
  },
  {
   "cell_type": "markdown",
   "metadata": {},
   "source": [
    "### Посчитайте статистическую значимость различий в среднем количестве заказов на посетителя между группами по «сырым» данным. Сделайте выводы и предположения."
   ]
  },
  {
   "cell_type": "code",
   "execution_count": 33,
   "metadata": {},
   "outputs": [
    {
     "data": {
      "text/html": [
       "<div>\n",
       "<style scoped>\n",
       "    .dataframe tbody tr th:only-of-type {\n",
       "        vertical-align: middle;\n",
       "    }\n",
       "\n",
       "    .dataframe tbody tr th {\n",
       "        vertical-align: top;\n",
       "    }\n",
       "\n",
       "    .dataframe thead th {\n",
       "        text-align: right;\n",
       "    }\n",
       "</style>\n",
       "<table border=\"1\" class=\"dataframe\">\n",
       "  <thead>\n",
       "    <tr style=\"text-align: right;\">\n",
       "      <th></th>\n",
       "      <th>transactionId</th>\n",
       "      <th>visitorId</th>\n",
       "      <th>date</th>\n",
       "      <th>revenue</th>\n",
       "      <th>group</th>\n",
       "    </tr>\n",
       "  </thead>\n",
       "  <tbody>\n",
       "    <tr>\n",
       "      <th>0</th>\n",
       "      <td>3667963787</td>\n",
       "      <td>3312258926</td>\n",
       "      <td>2019-08-15</td>\n",
       "      <td>1650</td>\n",
       "      <td>B</td>\n",
       "    </tr>\n",
       "  </tbody>\n",
       "</table>\n",
       "</div>"
      ],
      "text/plain": [
       "   transactionId   visitorId       date  revenue group\n",
       "0     3667963787  3312258926 2019-08-15     1650     B"
      ]
     },
     "execution_count": 33,
     "metadata": {},
     "output_type": "execute_result"
    }
   ],
   "source": [
    "orders.head(1)"
   ]
  },
  {
   "cell_type": "code",
   "execution_count": 34,
   "metadata": {},
   "outputs": [
    {
     "data": {
      "text/html": [
       "<div>\n",
       "<style scoped>\n",
       "    .dataframe tbody tr th:only-of-type {\n",
       "        vertical-align: middle;\n",
       "    }\n",
       "\n",
       "    .dataframe tbody tr th {\n",
       "        vertical-align: top;\n",
       "    }\n",
       "\n",
       "    .dataframe thead th {\n",
       "        text-align: right;\n",
       "    }\n",
       "</style>\n",
       "<table border=\"1\" class=\"dataframe\">\n",
       "  <thead>\n",
       "    <tr style=\"text-align: right;\">\n",
       "      <th></th>\n",
       "      <th>date</th>\n",
       "      <th>group</th>\n",
       "      <th>visitors</th>\n",
       "    </tr>\n",
       "  </thead>\n",
       "  <tbody>\n",
       "    <tr>\n",
       "      <th>0</th>\n",
       "      <td>2019-08-01</td>\n",
       "      <td>A</td>\n",
       "      <td>719</td>\n",
       "    </tr>\n",
       "  </tbody>\n",
       "</table>\n",
       "</div>"
      ],
      "text/plain": [
       "        date group  visitors\n",
       "0 2019-08-01     A       719"
      ]
     },
     "execution_count": 34,
     "metadata": {},
     "output_type": "execute_result"
    }
   ],
   "source": [
    "visitors.head(1)"
   ]
  },
  {
   "cell_type": "code",
   "execution_count": 35,
   "metadata": {},
   "outputs": [
    {
     "name": "stdout",
     "output_type": "stream",
     "text": [
      "        date  ordersPerDateA  revenuePerDateA  ordersPerDateB  \\\n",
      "0 2019-08-01              24           148579              21   \n",
      "1 2019-08-02              20            93822              24   \n",
      "2 2019-08-03              24           112473              16   \n",
      "3 2019-08-04              16            70825              17   \n",
      "4 2019-08-05              25           124218              23   \n",
      "\n",
      "   revenuePerDateB  ordersCummulativeA  revenueCummulativeA  \\\n",
      "0           101217                  24               148579   \n",
      "1           165531                  44               242401   \n",
      "2           114248                  68               354874   \n",
      "3           108571                  84               425699   \n",
      "4            92428                 109               549917   \n",
      "\n",
      "   ordersCummulativeB  revenueCummulativeB  visitorsPerDateA  \\\n",
      "0                  21               101217               719   \n",
      "1                  45               266748               619   \n",
      "2                  61               380996               507   \n",
      "3                  78               489567               717   \n",
      "4                 101               581995               756   \n",
      "\n",
      "   visitorsPerDateB  visitorsCummulativeA  visitorsCummulativeB  \n",
      "0               713                   719                   713  \n",
      "1               581                  1338                  1294  \n",
      "2               509                  1845                  1803  \n",
      "3               770                  2562                  2573  \n",
      "4               707                  3318                  3280  \n"
     ]
    }
   ],
   "source": [
    "visitorsADaily = visitors[visitors['group'] == 'A'][['date', 'visitors']]\n",
    "visitorsADaily.columns = ['date', 'visitorsPerDateA']\n",
    "\n",
    "visitorsACummulative = visitorsADaily.apply(\n",
    "    lambda x: visitorsADaily[visitorsADaily['date'] <= x['date']].agg(\n",
    "        {'date': 'max', 'visitorsPerDateA': 'sum'}\n",
    "    ),\n",
    "    axis=1,\n",
    ")\n",
    "visitorsACummulative.columns = ['date', 'visitorsCummulativeA']\n",
    "\n",
    "visitorsBDaily = visitors[visitors['group'] == 'B'][['date', 'visitors']]\n",
    "visitorsBDaily.columns = ['date', 'visitorsPerDateB']\n",
    "\n",
    "visitorsBCummulative = visitorsBDaily.apply(\n",
    "    lambda x: visitorsBDaily[visitorsBDaily['date'] <= x['date']].agg(\n",
    "        {'date': 'max', 'visitorsPerDateB': 'sum'}\n",
    "    ),\n",
    "    axis=1,\n",
    ")\n",
    "visitorsBCummulative.columns = ['date', 'visitorsCummulativeB']\n",
    "\n",
    "ordersADaily = (\n",
    "    orders[orders['group'] == 'A'][['date', 'transactionId', 'visitorId', 'revenue']]\n",
    "    .groupby('date', as_index=False)\n",
    "    .agg({'transactionId': pd.Series.nunique, 'revenue': 'sum'})\n",
    ")\n",
    "ordersADaily.columns = ['date', 'ordersPerDateA', 'revenuePerDateA']\n",
    "\n",
    "ordersACummulative = ordersADaily.apply(\n",
    "    lambda x: ordersADaily[ordersADaily['date'] <= x['date']].agg(\n",
    "        {'date': 'max', 'ordersPerDateA': 'sum', 'revenuePerDateA': 'sum'}\n",
    "    ),\n",
    "    axis=1,\n",
    ").sort_values(by=['date'])\n",
    "ordersACummulative.columns = [\n",
    "    'date',\n",
    "    'ordersCummulativeA',\n",
    "    'revenueCummulativeA',\n",
    "]\n",
    "\n",
    "ordersBDaily = (\n",
    "    orders[orders['group'] == 'B'][['date', 'transactionId', 'visitorId', 'revenue']]\n",
    "    .groupby('date', as_index=False)\n",
    "    .agg({'transactionId': pd.Series.nunique, 'revenue': 'sum'})\n",
    ")\n",
    "ordersBDaily.columns = ['date', 'ordersPerDateB', 'revenuePerDateB']\n",
    "\n",
    "ordersBCummulative = ordersBDaily.apply(\n",
    "    lambda x: ordersBDaily[ordersBDaily['date'] <= x['date']].agg(\n",
    "        {'date': 'max', 'ordersPerDateB': 'sum', 'revenuePerDateB': 'sum'}\n",
    "    ),\n",
    "    axis=1,\n",
    ").sort_values(by=['date'])\n",
    "ordersBCummulative.columns = [\n",
    "    'date',\n",
    "    'ordersCummulativeB',\n",
    "    'revenueCummulativeB',\n",
    "]\n",
    "\n",
    "data = (\n",
    "    ordersADaily.merge(\n",
    "        ordersBDaily, left_on='date', right_on='date', how='left'\n",
    "    )\n",
    "    .merge(ordersACummulative, left_on='date', right_on='date', how='left')\n",
    "    .merge(ordersBCummulative, left_on='date', right_on='date', how='left')\n",
    "    .merge(visitorsADaily, left_on='date', right_on='date', how='left')\n",
    "    .merge(visitorsBDaily, left_on='date', right_on='date', how='left')\n",
    "    .merge(visitorsACummulative, left_on='date', right_on='date', how='left')\n",
    "    .merge(visitorsBCummulative, left_on='date', right_on='date', how='left')\n",
    ")\n",
    "\n",
    "print(data.head(5))"
   ]
  },
  {
   "cell_type": "markdown",
   "metadata": {},
   "source": [
    "Для установления статистической значимости различий в среднем количестве заказов на посетителя между группами по «сырым» данным выдвинем гипотезы:  \n",
    "Н0: статистически значимых различий в количестве заказов нет  \n",
    "Н1: статистически значимые различия в количесте заказов есть  \n",
    "\n",
    "Проверим гипотезу с помощью Непараметрического теста Уилкоксона-Манна-Уитни с уровнем значимости 95% (a=0.05).  \n",
    "Использование данного теста обусловлено наличием больших выбросов </div>"
   ]
  },
  {
   "cell_type": "code",
   "execution_count": 36,
   "metadata": {},
   "outputs": [
    {
     "name": "stdout",
     "output_type": "stream",
     "text": [
      " p-value: 0.016792355056752608\n",
      "Отношение среднего числа заказов группы B к среднему чеку группы A: 0.13807884655320146\n"
     ]
    }
   ],
   "source": [
    "ordersByUsersA = (\n",
    "    orders[orders['group'] == 'A']\n",
    "    .groupby('visitorId', as_index=False)\n",
    "    .agg({'transactionId': pd.Series.nunique})\n",
    ")\n",
    "ordersByUsersA.columns = ['visitorId', 'orders']\n",
    "\n",
    "ordersByUsersB = (\n",
    "    orders[orders['group'] == 'B']\n",
    "    .groupby('visitorId', as_index=False)\n",
    "    .agg({'transactionId': pd.Series.nunique})\n",
    ")\n",
    "ordersByUsersB.columns = ['visitorId', 'orders']\n",
    "\n",
    "\n",
    "sampleA = pd.concat(\n",
    "    [\n",
    "        ordersByUsersA['orders'],\n",
    "        pd.Series(\n",
    "            0,\n",
    "            index=np.arange(\n",
    "                data['visitorsPerDateA'].sum() - len(ordersByUsersA['orders'])\n",
    "            ),\n",
    "            name='orders',\n",
    "        ),\n",
    "    ],\n",
    "    axis=0,\n",
    ")\n",
    "\n",
    "sampleB = pd.concat(\n",
    "    [\n",
    "        ordersByUsersB['orders'],\n",
    "        pd.Series(\n",
    "            0,\n",
    "            index=np.arange(\n",
    "                data['visitorsPerDateB'].sum() - len(ordersByUsersB['orders'])\n",
    "            ),\n",
    "            name='orders',\n",
    "        ),\n",
    "    ],\n",
    "    axis=0,\n",
    ")\n",
    "\n",
    "print(f' p-value: {stats.mannwhitneyu(sampleA, sampleB)[1]}')\n",
    "\n",
    "print(f'Отношение среднего числа заказов группы B к среднему чеку группы A: {sampleB.mean() / sampleA.mean() - 1}')"
   ]
  },
  {
   "cell_type": "markdown",
   "metadata": {},
   "source": [
    "Вывод: p-vale меньше 0.05 - Отвергаем нулевую гипотезу. Значит есть статистически значемые различия в среднем числе заказов по группам. В группе B среднее число заказов на покупателя почти на 14% больше. "
   ]
  },
  {
   "cell_type": "markdown",
   "metadata": {},
   "source": [
    "### Посчитайте статистическую значимость различий в среднем чеке заказа между группами по «сырым» данным. Сделайте выводы и предположения."
   ]
  },
  {
   "cell_type": "markdown",
   "metadata": {},
   "source": [
    "Для установления статистической значимости различий в среднем чеке заказа между группами по «сырым» данным выдвинем гипотезы:  \n",
    "Н0: статистически значимых различий в среднем чеке заказа нет  \n",
    "Н1: статистически значимые различия в среднем чеке заказа есть  \n",
    "\n",
    "Проверим гипотезу с помощью Непараметрического теста Уилкоксона-Манна-Уитни с уровнем значимости 95% (a=0.05).  \n",
    "Использование данного теста обусловлено наличием больших выбросов </div>"
   ]
  },
  {
   "cell_type": "code",
   "execution_count": 37,
   "metadata": {},
   "outputs": [
    {
     "name": "stdout",
     "output_type": "stream",
     "text": [
      "p-value\n",
      "0.7292909855432458\n",
      "Отношение среднего чека группы B к среднему чеку группы A\n",
      "0.2587136699126005\n"
     ]
    }
   ],
   "source": [
    "print('p-value')\n",
    "print(stats.mannwhitneyu(orders[orders['group']=='A']['revenue'], orders[orders['group']=='B']['revenue'])[1])\n",
    "print('Отношение среднего чека группы B к среднему чеку группы A')\n",
    "print(orders[orders['group']=='B']['revenue'].mean()/orders[orders['group']=='A']['revenue'].mean()-1)"
   ]
  },
  {
   "cell_type": "markdown",
   "metadata": {},
   "source": [
    "Вывод: p-value больше 0.05, поэтому мы не отвергаем нулевую гипотезу об отсутсвии статистически значимых отличий в среднем чеке между группами. Впрочем, средний чек группы B значительно выше среднего чека группы A, что можно объяснить случайностью."
   ]
  },
  {
   "cell_type": "markdown",
   "metadata": {},
   "source": [
    "### Посчитайте статистическую значимость различий в среднем количестве заказов на посетителя между группами по «очищенным» данным. Сделайте выводы и предположения."
   ]
  },
  {
   "cell_type": "code",
   "execution_count": 38,
   "metadata": {},
   "outputs": [
    {
     "name": "stdout",
     "output_type": "stream",
     "text": [
      "1099     148427295\n",
      "949      887908475\n",
      "744      888512513\n",
      "1103    1164614297\n",
      "1136    1307669133\n",
      "Name: visitorId, dtype: int64\n",
      "15\n"
     ]
    }
   ],
   "source": [
    "usersWithManyOrders = pd.concat(\n",
    "    [\n",
    "        ordersByUsersA[ordersByUsersA['orders'] > ord_99]['visitorId'],\n",
    "        ordersByUsersB[ordersByUsersB['orders'] > ord_99]['visitorId'],\n",
    "    ],\n",
    "    axis=0,\n",
    ")\n",
    "usersWithExpensiveOrders = orders[orders['revenue'] > rev_99]['visitorId']\n",
    "abnormalUsers = (\n",
    "    pd.concat([usersWithManyOrders, usersWithExpensiveOrders], axis=0)\n",
    "    .drop_duplicates()\n",
    "    .sort_values()\n",
    ")\n",
    "print(abnormalUsers.head(5))\n",
    "print(abnormalUsers.shape[0])"
   ]
  },
  {
   "cell_type": "markdown",
   "metadata": {},
   "source": [
    "Оценим влияние этих 15 пользователей на результаты теста о среднем количестве заказов."
   ]
  },
  {
   "cell_type": "markdown",
   "metadata": {},
   "source": [
    "Для установления статистической значимости различий в среднем количестве заказов на посетителя по очищенным данным выдвинем гипотезы:  \n",
    "Н0: статистически значимых различий в среднем количестве заказов нет  \n",
    "Н1: статистически значимые различия в среднем количестве заказов есть  \n",
    "\n",
    "Проверим гипотезу с помощью Непараметрического теста Уилкоксона-Манна-Уитни с уровнем значимости 95% (a=0.05).  \n",
    "Использование данного теста обусловлено наличием больших выбросов </div>"
   ]
  },
  {
   "cell_type": "code",
   "execution_count": 39,
   "metadata": {},
   "outputs": [],
   "source": [
    "sampleAFiltered = pd.concat(\n",
    "    [\n",
    "        ordersByUsersA[\n",
    "            np.logical_not(ordersByUsersA['visitorId'].isin(abnormalUsers))\n",
    "        ]['orders'],\n",
    "        pd.Series(\n",
    "            0,\n",
    "            index=np.arange(\n",
    "                data['visitorsPerDateA'].sum() - len(ordersByUsersA['orders'])\n",
    "            ),\n",
    "            name='orders',\n",
    "        ),\n",
    "    ],\n",
    "    axis=0,\n",
    ")\n",
    "\n",
    "sampleBFiltered = pd.concat(\n",
    "    [\n",
    "        ordersByUsersB[\n",
    "            np.logical_not(ordersByUsersB['visitorId'].isin(abnormalUsers))\n",
    "        ]['orders'],\n",
    "        pd.Series(\n",
    "            0,\n",
    "            index=np.arange(\n",
    "                data['visitorsPerDateB'].sum() - len(ordersByUsersB['orders'])\n",
    "            ),\n",
    "            name='orders',\n",
    "        ),\n",
    "    ],\n",
    "    axis=0,\n",
    ")"
   ]
  },
  {
   "cell_type": "code",
   "execution_count": 40,
   "metadata": {},
   "outputs": [
    {
     "name": "stdout",
     "output_type": "stream",
     "text": [
      " p-value: 0.014380135585307981\n",
      " Отношение среднего числа заказов на посетителя в группе B к группе А: 0.15331306791514754\n"
     ]
    }
   ],
   "source": [
    "print(f' p-value: {stats.mannwhitneyu(sampleAFiltered, sampleBFiltered)[1]}')\n",
    "print(f' Отношение среднего числа заказов на посетителя в группе B к группе А: {sampleBFiltered.mean()/sampleAFiltered.mean()-1}')"
   ]
  },
  {
   "cell_type": "markdown",
   "metadata": {},
   "source": [
    "Вывод: p-vale меньше 0.05 - Отвергаем нулевую гипотезу. результаты изменились несильно по сравнению с сырыми данными."
   ]
  },
  {
   "cell_type": "markdown",
   "metadata": {},
   "source": [
    "### Посчитайте статистическую значимость различий в среднем чеке заказа между группами по «очищенным» данным. Сделайте выводы и предположения."
   ]
  },
  {
   "cell_type": "code",
   "execution_count": 43,
   "metadata": {},
   "outputs": [
    {
     "name": "stdout",
     "output_type": "stream",
     "text": [
      "p-value:\n",
      "0.851\n"
     ]
    }
   ],
   "source": [
    "print('p-value:')\n",
    "print(\n",
    "    '{0:.3f}'.format(\n",
    "        stats.mannwhitneyu(\n",
    "            orders[\n",
    "                np.logical_and(\n",
    "                    orders['group'] == 'A',\n",
    "                    np.logical_not(orders['visitorId'].isin(abnormalUsers)),\n",
    "                )\n",
    "            ]['revenue'],\n",
    "            orders[\n",
    "                np.logical_and(\n",
    "                    orders['group'] == 'B',\n",
    "                    np.logical_not(orders['visitorId'].isin(abnormalUsers)),\n",
    "                )\n",
    "            ]['revenue'],\n",
    "        )[1]\n",
    "    )\n",
    ")\n",
    "\n"
   ]
  },
  {
   "cell_type": "code",
   "execution_count": 46,
   "metadata": {},
   "outputs": [
    {
     "name": "stdout",
     "output_type": "stream",
     "text": [
      "Разница в среднем чеке между группами в процентах:\n",
      "-0.006\n"
     ]
    }
   ],
   "source": [
    "print('Разница в среднем чеке между группами в процентах:')\n",
    "print(\n",
    "    \"{0:.3f}\".format(\n",
    "        orders[\n",
    "            np.logical_and(\n",
    "                orders['group'] == 'B',\n",
    "                np.logical_not(orders['visitorId'].isin(abnormalUsers)),\n",
    "            )\n",
    "        ]['revenue'].mean()\n",
    "        / orders[\n",
    "            np.logical_and(\n",
    "                orders['group'] == 'A',\n",
    "                np.logical_not(orders['visitorId'].isin(abnormalUsers)),\n",
    "            )\n",
    "        ]['revenue'].mean()\n",
    "        - 1\n",
    "    )\n",
    ")"
   ]
  },
  {
   "cell_type": "markdown",
   "metadata": {},
   "source": [
    "Вывод: данные поменялись очень сильно. Значит, на результаты теста оказывали очень сильное влияние аномально высокие чеки. \n",
    "Теперь вместо 25% разницы в среднем чеке двух групп мы наблюдаем разницу в 0.6%"
   ]
  },
  {
   "cell_type": "markdown",
   "metadata": {},
   "source": [
    "### Примите решение по результатам теста и объясните его"
   ]
  },
  {
   "cell_type": "markdown",
   "metadata": {},
   "source": [
    "Вывод. При одинаковом среднем чеке, в группе B на 14% больше заказов. Кумулятивная выручка и средний чек на неочищенных данных так же выше в группе B. Мы можем признать, что группа B имеет показатели лучше, чем группа А и остановить тест. "
   ]
  }
 ],
 "metadata": {
  "ExecuteTimeLog": [
   {
    "duration": 4,
    "start_time": "2023-01-28T04:09:16.701Z"
   },
   {
    "duration": 3,
    "start_time": "2023-01-28T04:09:19.094Z"
   },
   {
    "duration": 2,
    "start_time": "2023-01-28T04:18:40.977Z"
   },
   {
    "duration": 388,
    "start_time": "2023-01-28T04:19:41.806Z"
   },
   {
    "duration": 81,
    "start_time": "2023-01-28T04:20:27.535Z"
   },
   {
    "duration": 761,
    "start_time": "2023-01-28T04:20:49.919Z"
   },
   {
    "duration": 714,
    "start_time": "2023-01-28T04:21:00.612Z"
   },
   {
    "duration": 27,
    "start_time": "2023-01-28T04:21:20.507Z"
   },
   {
    "duration": 13,
    "start_time": "2023-01-28T04:21:34.754Z"
   },
   {
    "duration": 3,
    "start_time": "2023-01-28T04:23:17.009Z"
   },
   {
    "duration": 746,
    "start_time": "2023-01-28T04:23:36.539Z"
   },
   {
    "duration": 8,
    "start_time": "2023-01-28T04:23:59.878Z"
   },
   {
    "duration": 345,
    "start_time": "2023-01-28T04:24:47.440Z"
   },
   {
    "duration": 29,
    "start_time": "2023-01-28T04:24:47.787Z"
   },
   {
    "duration": 15,
    "start_time": "2023-01-28T04:24:47.818Z"
   },
   {
    "duration": 16,
    "start_time": "2023-01-28T04:24:47.835Z"
   },
   {
    "duration": 735,
    "start_time": "2023-01-28T04:24:47.853Z"
   },
   {
    "duration": 9,
    "start_time": "2023-01-28T04:25:28.616Z"
   },
   {
    "duration": 8,
    "start_time": "2023-01-28T04:25:36.226Z"
   },
   {
    "duration": 5,
    "start_time": "2023-01-28T04:26:51.737Z"
   },
   {
    "duration": 782,
    "start_time": "2023-01-28T04:29:27.514Z"
   },
   {
    "duration": 7,
    "start_time": "2023-01-28T04:29:33.249Z"
   },
   {
    "duration": 3,
    "start_time": "2023-01-28T04:29:36.945Z"
   },
   {
    "duration": 27,
    "start_time": "2023-01-28T04:29:37.417Z"
   },
   {
    "duration": 10,
    "start_time": "2023-01-28T04:29:37.756Z"
   },
   {
    "duration": 8,
    "start_time": "2023-01-28T04:29:38.331Z"
   },
   {
    "duration": 8,
    "start_time": "2023-01-28T04:29:39.845Z"
   },
   {
    "duration": 6,
    "start_time": "2023-01-28T04:29:41.037Z"
   },
   {
    "duration": 693,
    "start_time": "2023-01-28T04:29:41.972Z"
   },
   {
    "duration": 4,
    "start_time": "2023-01-28T04:31:07.056Z"
   },
   {
    "duration": 8,
    "start_time": "2023-01-28T04:31:28.252Z"
   },
   {
    "duration": 6,
    "start_time": "2023-01-28T04:31:53.566Z"
   },
   {
    "duration": 738,
    "start_time": "2023-01-28T04:32:13.150Z"
   },
   {
    "duration": 671,
    "start_time": "2023-01-28T04:32:14.664Z"
   },
   {
    "duration": 33,
    "start_time": "2023-01-28T04:32:27.144Z"
   },
   {
    "duration": 8,
    "start_time": "2023-01-28T04:32:43.621Z"
   },
   {
    "duration": 6,
    "start_time": "2023-01-28T04:32:44.361Z"
   },
   {
    "duration": 4,
    "start_time": "2023-01-28T04:32:45.052Z"
   },
   {
    "duration": 34,
    "start_time": "2023-01-28T04:32:45.956Z"
   },
   {
    "duration": 709,
    "start_time": "2023-01-28T04:44:36.211Z"
   },
   {
    "duration": 9,
    "start_time": "2023-01-28T04:44:54.417Z"
   },
   {
    "duration": 2,
    "start_time": "2023-01-28T04:48:37.741Z"
   },
   {
    "duration": 386,
    "start_time": "2023-01-28T04:50:27.303Z"
   },
   {
    "duration": 27,
    "start_time": "2023-01-28T04:50:27.692Z"
   },
   {
    "duration": 13,
    "start_time": "2023-01-28T04:50:27.721Z"
   },
   {
    "duration": 5,
    "start_time": "2023-01-28T04:50:27.736Z"
   },
   {
    "duration": 6,
    "start_time": "2023-01-28T04:50:27.743Z"
   },
   {
    "duration": 14,
    "start_time": "2023-01-28T04:50:27.750Z"
   },
   {
    "duration": 8,
    "start_time": "2023-01-28T04:50:27.766Z"
   },
   {
    "duration": 3,
    "start_time": "2023-01-28T04:54:39.601Z"
   },
   {
    "duration": 26,
    "start_time": "2023-01-28T04:54:41.200Z"
   },
   {
    "duration": 8,
    "start_time": "2023-01-28T04:54:41.384Z"
   },
   {
    "duration": 6,
    "start_time": "2023-01-28T04:54:41.609Z"
   },
   {
    "duration": 5,
    "start_time": "2023-01-28T04:54:41.769Z"
   },
   {
    "duration": 31,
    "start_time": "2023-01-28T04:54:42.327Z"
   },
   {
    "duration": 9,
    "start_time": "2023-01-28T04:54:42.760Z"
   },
   {
    "duration": 156,
    "start_time": "2023-01-28T04:54:43.869Z"
   },
   {
    "duration": 52,
    "start_time": "2023-01-28T04:56:40.449Z"
   },
   {
    "duration": 404,
    "start_time": "2023-01-28T04:56:54.994Z"
   },
   {
    "duration": 250,
    "start_time": "2023-01-28T04:57:04.484Z"
   },
   {
    "duration": 56,
    "start_time": "2023-01-28T04:57:28.661Z"
   },
   {
    "duration": 33,
    "start_time": "2023-01-28T04:58:25.664Z"
   },
   {
    "duration": 248,
    "start_time": "2023-01-28T04:58:38.840Z"
   },
   {
    "duration": 258,
    "start_time": "2023-01-28T04:58:50.257Z"
   },
   {
    "duration": 243,
    "start_time": "2023-01-28T04:59:06.511Z"
   },
   {
    "duration": 229,
    "start_time": "2023-01-28T04:59:12.414Z"
   },
   {
    "duration": 33,
    "start_time": "2023-01-28T05:04:03.596Z"
   },
   {
    "duration": 262,
    "start_time": "2023-01-28T05:23:59.071Z"
   },
   {
    "duration": 721,
    "start_time": "2023-01-28T05:24:38.037Z"
   },
   {
    "duration": 261,
    "start_time": "2023-01-28T05:24:45.041Z"
   },
   {
    "duration": 249,
    "start_time": "2023-01-28T05:36:49.232Z"
   },
   {
    "duration": 48,
    "start_time": "2023-01-28T07:12:53.978Z"
   },
   {
    "duration": 573,
    "start_time": "2023-01-28T07:13:53.857Z"
   },
   {
    "duration": 411,
    "start_time": "2023-01-28T07:14:04.389Z"
   },
   {
    "duration": 77,
    "start_time": "2023-01-28T07:14:04.802Z"
   },
   {
    "duration": 16,
    "start_time": "2023-01-28T07:14:04.881Z"
   },
   {
    "duration": 5,
    "start_time": "2023-01-28T07:14:04.899Z"
   },
   {
    "duration": 9,
    "start_time": "2023-01-28T07:14:04.906Z"
   },
   {
    "duration": 22,
    "start_time": "2023-01-28T07:14:04.917Z"
   },
   {
    "duration": 18,
    "start_time": "2023-01-28T07:14:04.941Z"
   },
   {
    "duration": 104,
    "start_time": "2023-01-28T07:14:04.960Z"
   },
   {
    "duration": 71,
    "start_time": "2023-01-28T07:14:05.065Z"
   },
   {
    "duration": 283,
    "start_time": "2023-01-28T07:14:05.138Z"
   },
   {
    "duration": 512,
    "start_time": "2023-01-28T07:14:05.424Z"
   },
   {
    "duration": 327,
    "start_time": "2023-01-28T07:14:05.939Z"
   },
   {
    "duration": 389,
    "start_time": "2023-01-28T07:14:06.268Z"
   },
   {
    "duration": 52,
    "start_time": "2023-01-28T07:16:00.489Z"
   },
   {
    "duration": 194,
    "start_time": "2023-01-28T07:20:35.840Z"
   },
   {
    "duration": 309,
    "start_time": "2023-01-28T07:21:23.594Z"
   },
   {
    "duration": 173,
    "start_time": "2023-01-28T07:22:12.588Z"
   },
   {
    "duration": 169,
    "start_time": "2023-01-28T07:22:52.698Z"
   },
   {
    "duration": 260,
    "start_time": "2023-01-28T07:23:01.432Z"
   },
   {
    "duration": 331,
    "start_time": "2023-01-28T07:23:07.144Z"
   },
   {
    "duration": 64,
    "start_time": "2023-01-28T07:25:20.766Z"
   },
   {
    "duration": 280,
    "start_time": "2023-01-28T07:25:54.583Z"
   },
   {
    "duration": 2539,
    "start_time": "2023-01-28T07:28:28.464Z"
   },
   {
    "duration": 271,
    "start_time": "2023-01-28T07:28:39.102Z"
   },
   {
    "duration": 281,
    "start_time": "2023-01-28T07:28:50.241Z"
   },
   {
    "duration": 289,
    "start_time": "2023-01-28T07:30:29.773Z"
   },
   {
    "duration": 341,
    "start_time": "2023-01-28T07:30:39.627Z"
   },
   {
    "duration": 456,
    "start_time": "2023-01-28T07:31:31.230Z"
   },
   {
    "duration": 338,
    "start_time": "2023-01-28T07:33:41.929Z"
   },
   {
    "duration": 390,
    "start_time": "2023-01-28T07:34:03.657Z"
   },
   {
    "duration": 379,
    "start_time": "2023-01-28T07:34:14.855Z"
   },
   {
    "duration": 374,
    "start_time": "2023-01-28T07:34:57.292Z"
   },
   {
    "duration": 69,
    "start_time": "2023-01-28T07:38:44.038Z"
   },
   {
    "duration": 53,
    "start_time": "2023-01-28T07:43:13.251Z"
   },
   {
    "duration": 127,
    "start_time": "2023-01-28T07:43:16.766Z"
   },
   {
    "duration": 4,
    "start_time": "2023-01-28T07:48:02.600Z"
   },
   {
    "duration": 5,
    "start_time": "2023-01-28T07:48:09.254Z"
   },
   {
    "duration": 123,
    "start_time": "2023-01-28T07:52:02.051Z"
   },
   {
    "duration": 12,
    "start_time": "2023-01-28T07:53:39.937Z"
   },
   {
    "duration": 10,
    "start_time": "2023-01-28T07:55:45.306Z"
   },
   {
    "duration": 5,
    "start_time": "2023-01-28T07:55:59.185Z"
   },
   {
    "duration": 132,
    "start_time": "2023-01-28T07:56:46.433Z"
   },
   {
    "duration": 151,
    "start_time": "2023-01-28T07:57:05.823Z"
   },
   {
    "duration": 130,
    "start_time": "2023-01-28T07:57:19.568Z"
   },
   {
    "duration": 5,
    "start_time": "2023-01-28T08:03:11.091Z"
   },
   {
    "duration": 5,
    "start_time": "2023-01-28T08:05:22.334Z"
   },
   {
    "duration": 1002,
    "start_time": "2023-01-28T08:05:34.490Z"
   },
   {
    "duration": 55,
    "start_time": "2023-01-28T08:05:44.275Z"
   },
   {
    "duration": 4,
    "start_time": "2023-01-28T08:05:47.945Z"
   },
   {
    "duration": 5,
    "start_time": "2023-01-28T08:06:30.830Z"
   },
   {
    "duration": 5,
    "start_time": "2023-01-28T08:06:52.079Z"
   },
   {
    "duration": 794,
    "start_time": "2023-01-28T08:11:48.448Z"
   },
   {
    "duration": 183,
    "start_time": "2023-01-28T08:12:56.138Z"
   },
   {
    "duration": 10,
    "start_time": "2023-01-28T08:15:06.558Z"
   },
   {
    "duration": 8,
    "start_time": "2023-01-28T08:15:18.193Z"
   },
   {
    "duration": 7,
    "start_time": "2023-01-28T08:15:29.563Z"
   },
   {
    "duration": 114,
    "start_time": "2023-01-28T08:17:02.188Z"
   },
   {
    "duration": 205,
    "start_time": "2023-01-28T08:18:20.236Z"
   },
   {
    "duration": 134,
    "start_time": "2023-01-28T08:19:57.437Z"
   },
   {
    "duration": 131,
    "start_time": "2023-01-28T08:20:02.431Z"
   },
   {
    "duration": 149,
    "start_time": "2023-01-28T08:20:19.674Z"
   },
   {
    "duration": 214,
    "start_time": "2023-01-28T08:21:22.386Z"
   },
   {
    "duration": 13,
    "start_time": "2023-01-28T08:31:16.041Z"
   },
   {
    "duration": 10,
    "start_time": "2023-01-28T08:42:48.755Z"
   },
   {
    "duration": 12,
    "start_time": "2023-01-28T08:44:24.363Z"
   },
   {
    "duration": 23,
    "start_time": "2023-01-28T08:44:44.156Z"
   },
   {
    "duration": 733,
    "start_time": "2023-01-28T08:46:20.799Z"
   },
   {
    "duration": 14,
    "start_time": "2023-01-28T08:46:49.492Z"
   },
   {
    "duration": 2,
    "start_time": "2023-01-28T08:59:47.670Z"
   },
   {
    "duration": 3,
    "start_time": "2023-01-28T09:00:56.744Z"
   },
   {
    "duration": 1079,
    "start_time": "2023-01-28T09:01:12.377Z"
   },
   {
    "duration": 26,
    "start_time": "2023-01-28T09:01:13.458Z"
   },
   {
    "duration": 13,
    "start_time": "2023-01-28T09:01:13.487Z"
   },
   {
    "duration": 13,
    "start_time": "2023-01-28T09:01:13.502Z"
   },
   {
    "duration": 8,
    "start_time": "2023-01-28T09:01:13.517Z"
   },
   {
    "duration": 46,
    "start_time": "2023-01-28T09:01:13.527Z"
   },
   {
    "duration": 20,
    "start_time": "2023-01-28T09:01:13.575Z"
   },
   {
    "duration": 265,
    "start_time": "2023-01-28T09:01:13.597Z"
   },
   {
    "duration": 273,
    "start_time": "2023-01-28T09:01:13.864Z"
   },
   {
    "duration": 254,
    "start_time": "2023-01-28T09:01:14.138Z"
   },
   {
    "duration": 372,
    "start_time": "2023-01-28T09:01:14.393Z"
   },
   {
    "duration": 283,
    "start_time": "2023-01-28T09:01:14.767Z"
   },
   {
    "duration": 413,
    "start_time": "2023-01-28T09:01:15.051Z"
   },
   {
    "duration": 52,
    "start_time": "2023-01-28T09:01:15.466Z"
   },
   {
    "duration": 113,
    "start_time": "2023-01-28T09:01:15.520Z"
   },
   {
    "duration": 4,
    "start_time": "2023-01-28T09:01:15.635Z"
   },
   {
    "duration": 14,
    "start_time": "2023-01-28T09:01:15.640Z"
   },
   {
    "duration": 8,
    "start_time": "2023-01-28T09:01:15.655Z"
   },
   {
    "duration": 153,
    "start_time": "2023-01-28T09:01:15.664Z"
   },
   {
    "duration": 4,
    "start_time": "2023-01-28T09:01:15.819Z"
   },
   {
    "duration": 12,
    "start_time": "2023-01-28T09:01:15.824Z"
   },
   {
    "duration": 9,
    "start_time": "2023-01-28T09:01:15.837Z"
   },
   {
    "duration": 251,
    "start_time": "2023-01-28T09:01:15.847Z"
   },
   {
    "duration": 203,
    "start_time": "2023-01-28T09:01:16.100Z"
   },
   {
    "duration": 9,
    "start_time": "2023-01-28T09:01:16.305Z"
   },
   {
    "duration": 8,
    "start_time": "2023-01-28T09:01:16.316Z"
   },
   {
    "duration": 9,
    "start_time": "2023-01-28T09:01:16.326Z"
   },
   {
    "duration": 20,
    "start_time": "2023-01-28T09:01:16.336Z"
   },
   {
    "duration": 44,
    "start_time": "2023-01-28T09:01:16.357Z"
   },
   {
    "duration": 254,
    "start_time": "2023-01-28T12:18:53.920Z"
   },
   {
    "duration": 252,
    "start_time": "2023-01-28T12:20:18.409Z"
   },
   {
    "duration": 148,
    "start_time": "2023-01-28T12:20:32.556Z"
   },
   {
    "duration": 151,
    "start_time": "2023-01-28T12:20:43.030Z"
   },
   {
    "duration": 164,
    "start_time": "2023-01-28T12:20:47.456Z"
   },
   {
    "duration": 165,
    "start_time": "2023-01-28T12:20:53.781Z"
   },
   {
    "duration": 144,
    "start_time": "2023-01-28T12:20:57.850Z"
   },
   {
    "duration": 344,
    "start_time": "2023-01-28T12:21:02.643Z"
   },
   {
    "duration": 173,
    "start_time": "2023-01-28T12:21:16.096Z"
   },
   {
    "duration": 158,
    "start_time": "2023-01-28T12:21:52.836Z"
   },
   {
    "duration": 268,
    "start_time": "2023-01-28T12:22:05.662Z"
   },
   {
    "duration": 154,
    "start_time": "2023-01-28T12:22:28.679Z"
   },
   {
    "duration": 360,
    "start_time": "2023-01-28T12:23:30.858Z"
   },
   {
    "duration": 296,
    "start_time": "2023-01-28T12:24:26.410Z"
   },
   {
    "duration": 280,
    "start_time": "2023-01-28T12:24:36.930Z"
   },
   {
    "duration": 267,
    "start_time": "2023-01-28T12:26:33.807Z"
   },
   {
    "duration": 3,
    "start_time": "2023-01-28T12:29:18.173Z"
   },
   {
    "duration": 4,
    "start_time": "2023-01-28T12:29:23.388Z"
   },
   {
    "duration": 266,
    "start_time": "2023-01-28T12:30:00.411Z"
   },
   {
    "duration": 267,
    "start_time": "2023-01-28T12:30:34.550Z"
   },
   {
    "duration": 271,
    "start_time": "2023-01-28T12:31:19.403Z"
   },
   {
    "duration": 379,
    "start_time": "2023-01-28T12:31:34.286Z"
   },
   {
    "duration": 337,
    "start_time": "2023-01-28T12:33:32.336Z"
   },
   {
    "duration": 389,
    "start_time": "2023-01-28T12:33:39.182Z"
   },
   {
    "duration": 282,
    "start_time": "2023-01-28T12:33:43.856Z"
   },
   {
    "duration": 283,
    "start_time": "2023-01-28T12:34:26.975Z"
   },
   {
    "duration": 516,
    "start_time": "2023-01-28T12:35:23.858Z"
   },
   {
    "duration": 140,
    "start_time": "2023-01-28T12:35:53.896Z"
   },
   {
    "duration": 142,
    "start_time": "2023-01-28T12:36:06.480Z"
   },
   {
    "duration": 117,
    "start_time": "2023-01-28T12:36:44.402Z"
   },
   {
    "duration": 129,
    "start_time": "2023-01-28T12:36:53.593Z"
   },
   {
    "duration": 828,
    "start_time": "2023-01-28T12:37:51.929Z"
   },
   {
    "duration": 1026,
    "start_time": "2023-01-28T12:38:10.430Z"
   },
   {
    "duration": 27,
    "start_time": "2023-01-28T12:38:11.458Z"
   },
   {
    "duration": 13,
    "start_time": "2023-01-28T12:38:11.486Z"
   },
   {
    "duration": 12,
    "start_time": "2023-01-28T12:38:11.502Z"
   },
   {
    "duration": 9,
    "start_time": "2023-01-28T12:38:11.516Z"
   },
   {
    "duration": 62,
    "start_time": "2023-01-28T12:38:11.526Z"
   },
   {
    "duration": 22,
    "start_time": "2023-01-28T12:38:11.590Z"
   },
   {
    "duration": 273,
    "start_time": "2023-01-28T12:38:11.613Z"
   },
   {
    "duration": 291,
    "start_time": "2023-01-28T12:38:11.887Z"
   },
   {
    "duration": 269,
    "start_time": "2023-01-28T12:38:12.181Z"
   },
   {
    "duration": 395,
    "start_time": "2023-01-28T12:38:12.453Z"
   },
   {
    "duration": 283,
    "start_time": "2023-01-28T12:38:12.850Z"
   },
   {
    "duration": 410,
    "start_time": "2023-01-28T12:38:13.135Z"
   },
   {
    "duration": 55,
    "start_time": "2023-01-28T12:38:13.547Z"
   },
   {
    "duration": 134,
    "start_time": "2023-01-28T12:38:13.604Z"
   },
   {
    "duration": 5,
    "start_time": "2023-01-28T12:38:13.739Z"
   },
   {
    "duration": 16,
    "start_time": "2023-01-28T12:38:13.745Z"
   },
   {
    "duration": 7,
    "start_time": "2023-01-28T12:38:13.763Z"
   },
   {
    "duration": 158,
    "start_time": "2023-01-28T12:38:13.772Z"
   },
   {
    "duration": 5,
    "start_time": "2023-01-28T12:38:13.933Z"
   },
   {
    "duration": 28,
    "start_time": "2023-01-28T12:38:13.940Z"
   },
   {
    "duration": 14,
    "start_time": "2023-01-28T12:38:13.969Z"
   },
   {
    "duration": 216,
    "start_time": "2023-01-28T12:38:13.984Z"
   },
   {
    "duration": 177,
    "start_time": "2023-01-28T12:38:14.202Z"
   },
   {
    "duration": 18,
    "start_time": "2023-01-28T12:38:14.381Z"
   },
   {
    "duration": 9,
    "start_time": "2023-01-28T12:38:14.401Z"
   },
   {
    "duration": 24,
    "start_time": "2023-01-28T12:38:14.412Z"
   },
   {
    "duration": 35,
    "start_time": "2023-01-28T12:38:14.439Z"
   },
   {
    "duration": 16,
    "start_time": "2023-01-28T12:38:14.476Z"
   },
   {
    "duration": 491,
    "start_time": "2023-01-28T12:41:07.202Z"
   },
   {
    "duration": 776,
    "start_time": "2023-01-28T12:41:18.757Z"
   },
   {
    "duration": 359,
    "start_time": "2023-01-28T12:41:34.133Z"
   },
   {
    "duration": 371,
    "start_time": "2023-01-28T12:41:45.233Z"
   },
   {
    "duration": 387,
    "start_time": "2023-01-28T12:41:55.397Z"
   },
   {
    "duration": 414,
    "start_time": "2023-01-28T12:42:02.468Z"
   },
   {
    "duration": 415,
    "start_time": "2023-01-28T12:42:08.369Z"
   },
   {
    "duration": 405,
    "start_time": "2023-01-28T12:42:32.787Z"
   },
   {
    "duration": 408,
    "start_time": "2023-01-28T12:44:04.800Z"
   },
   {
    "duration": 516,
    "start_time": "2023-01-28T12:44:55.610Z"
   },
   {
    "duration": 61,
    "start_time": "2023-01-28T12:45:51.555Z"
   },
   {
    "duration": 391,
    "start_time": "2023-01-28T12:46:02.055Z"
   },
   {
    "duration": 285,
    "start_time": "2023-01-28T12:46:06.789Z"
   },
   {
    "duration": 340,
    "start_time": "2023-01-28T12:46:15.625Z"
   },
   {
    "duration": 256,
    "start_time": "2023-01-28T12:46:20.640Z"
   },
   {
    "duration": 287,
    "start_time": "2023-01-28T12:46:32.269Z"
   },
   {
    "duration": 296,
    "start_time": "2023-01-28T12:47:37.375Z"
   },
   {
    "duration": 397,
    "start_time": "2023-01-28T12:47:48.366Z"
   },
   {
    "duration": 389,
    "start_time": "2023-01-28T12:47:55.900Z"
   },
   {
    "duration": 298,
    "start_time": "2023-01-28T12:48:04.189Z"
   },
   {
    "duration": 400,
    "start_time": "2023-01-28T12:48:12.215Z"
   },
   {
    "duration": 134,
    "start_time": "2023-01-28T12:48:27.902Z"
   },
   {
    "duration": 691,
    "start_time": "2023-01-28T12:48:36.431Z"
   },
   {
    "duration": 1147,
    "start_time": "2023-01-28T12:48:56.219Z"
   },
   {
    "duration": 28,
    "start_time": "2023-01-28T12:48:57.368Z"
   },
   {
    "duration": 14,
    "start_time": "2023-01-28T12:48:57.397Z"
   },
   {
    "duration": 12,
    "start_time": "2023-01-28T12:48:57.413Z"
   },
   {
    "duration": 11,
    "start_time": "2023-01-28T12:48:57.427Z"
   },
   {
    "duration": 48,
    "start_time": "2023-01-28T12:48:57.440Z"
   },
   {
    "duration": 21,
    "start_time": "2023-01-28T12:48:57.490Z"
   },
   {
    "duration": 275,
    "start_time": "2023-01-28T12:48:57.513Z"
   },
   {
    "duration": 309,
    "start_time": "2023-01-28T12:48:57.791Z"
   },
   {
    "duration": 310,
    "start_time": "2023-01-28T12:48:58.103Z"
   },
   {
    "duration": 401,
    "start_time": "2023-01-28T12:48:58.415Z"
   },
   {
    "duration": 309,
    "start_time": "2023-01-28T12:48:58.817Z"
   },
   {
    "duration": 385,
    "start_time": "2023-01-28T12:48:59.128Z"
   },
   {
    "duration": 52,
    "start_time": "2023-01-28T12:48:59.515Z"
   },
   {
    "duration": 133,
    "start_time": "2023-01-28T12:48:59.568Z"
   },
   {
    "duration": 5,
    "start_time": "2023-01-28T12:48:59.703Z"
   },
   {
    "duration": 15,
    "start_time": "2023-01-28T12:48:59.709Z"
   },
   {
    "duration": 6,
    "start_time": "2023-01-28T12:48:59.725Z"
   },
   {
    "duration": 183,
    "start_time": "2023-01-28T12:48:59.733Z"
   },
   {
    "duration": 5,
    "start_time": "2023-01-28T12:48:59.918Z"
   },
   {
    "duration": 10,
    "start_time": "2023-01-28T12:48:59.925Z"
   },
   {
    "duration": 8,
    "start_time": "2023-01-28T12:48:59.936Z"
   },
   {
    "duration": 234,
    "start_time": "2023-01-28T12:48:59.945Z"
   },
   {
    "duration": 166,
    "start_time": "2023-01-28T12:49:00.181Z"
   },
   {
    "duration": 10,
    "start_time": "2023-01-28T12:49:00.349Z"
   },
   {
    "duration": 31,
    "start_time": "2023-01-28T12:49:00.361Z"
   },
   {
    "duration": 49,
    "start_time": "2023-01-28T12:49:00.393Z"
   },
   {
    "duration": 43,
    "start_time": "2023-01-28T12:49:00.445Z"
   },
   {
    "duration": 29,
    "start_time": "2023-01-28T12:49:00.490Z"
   },
   {
    "duration": 1291,
    "start_time": "2023-01-28T17:41:28.309Z"
   },
   {
    "duration": 61,
    "start_time": "2023-01-28T17:41:29.602Z"
   },
   {
    "duration": 16,
    "start_time": "2023-01-28T17:41:29.665Z"
   },
   {
    "duration": 13,
    "start_time": "2023-01-28T17:41:29.683Z"
   },
   {
    "duration": 10,
    "start_time": "2023-01-28T17:41:29.697Z"
   },
   {
    "duration": 96,
    "start_time": "2023-01-28T17:41:29.709Z"
   },
   {
    "duration": 66,
    "start_time": "2023-01-28T17:41:29.807Z"
   },
   {
    "duration": 257,
    "start_time": "2023-01-28T17:41:29.875Z"
   },
   {
    "duration": 332,
    "start_time": "2023-01-28T17:41:30.140Z"
   },
   {
    "duration": 303,
    "start_time": "2023-01-28T17:41:30.476Z"
   },
   {
    "duration": 391,
    "start_time": "2023-01-28T17:41:30.781Z"
   },
   {
    "duration": 317,
    "start_time": "2023-01-28T17:41:31.174Z"
   },
   {
    "duration": 478,
    "start_time": "2023-01-28T17:41:31.493Z"
   },
   {
    "duration": 47,
    "start_time": "2023-01-28T17:41:31.974Z"
   },
   {
    "duration": 152,
    "start_time": "2023-01-28T17:41:32.023Z"
   },
   {
    "duration": 5,
    "start_time": "2023-01-28T17:41:32.177Z"
   },
   {
    "duration": 29,
    "start_time": "2023-01-28T17:41:32.184Z"
   },
   {
    "duration": 22,
    "start_time": "2023-01-28T17:41:32.214Z"
   },
   {
    "duration": 165,
    "start_time": "2023-01-28T17:41:32.239Z"
   },
   {
    "duration": 4,
    "start_time": "2023-01-28T17:41:32.406Z"
   },
   {
    "duration": 24,
    "start_time": "2023-01-28T17:41:32.412Z"
   },
   {
    "duration": 36,
    "start_time": "2023-01-28T17:41:32.440Z"
   },
   {
    "duration": 228,
    "start_time": "2023-01-28T17:41:32.478Z"
   },
   {
    "duration": 200,
    "start_time": "2023-01-28T17:41:32.708Z"
   },
   {
    "duration": 12,
    "start_time": "2023-01-28T17:41:32.909Z"
   },
   {
    "duration": 91,
    "start_time": "2023-01-28T17:41:32.922Z"
   },
   {
    "duration": 31,
    "start_time": "2023-01-28T17:41:33.015Z"
   },
   {
    "duration": 40,
    "start_time": "2023-01-28T17:41:33.050Z"
   },
   {
    "duration": 14,
    "start_time": "2023-01-28T17:41:33.092Z"
   },
   {
    "duration": 49,
    "start_time": "2023-02-01T04:11:14.788Z"
   },
   {
    "duration": 1351,
    "start_time": "2023-02-01T04:11:30.594Z"
   },
   {
    "duration": 55,
    "start_time": "2023-02-01T04:11:31.947Z"
   },
   {
    "duration": 50,
    "start_time": "2023-02-01T04:11:32.004Z"
   },
   {
    "duration": 11,
    "start_time": "2023-02-01T04:11:32.056Z"
   },
   {
    "duration": 9,
    "start_time": "2023-02-01T04:11:32.068Z"
   },
   {
    "duration": 74,
    "start_time": "2023-02-01T04:11:32.079Z"
   },
   {
    "duration": 58,
    "start_time": "2023-02-01T04:11:32.155Z"
   },
   {
    "duration": 261,
    "start_time": "2023-02-01T04:11:32.215Z"
   },
   {
    "duration": 286,
    "start_time": "2023-02-01T04:11:32.477Z"
   },
   {
    "duration": 282,
    "start_time": "2023-02-01T04:11:32.765Z"
   },
   {
    "duration": 452,
    "start_time": "2023-02-01T04:11:33.050Z"
   },
   {
    "duration": 283,
    "start_time": "2023-02-01T04:11:33.509Z"
   },
   {
    "duration": 414,
    "start_time": "2023-02-01T04:11:33.793Z"
   },
   {
    "duration": 43,
    "start_time": "2023-02-01T04:11:34.209Z"
   },
   {
    "duration": 127,
    "start_time": "2023-02-01T04:11:34.254Z"
   },
   {
    "duration": 4,
    "start_time": "2023-02-01T04:11:34.382Z"
   },
   {
    "duration": 25,
    "start_time": "2023-02-01T04:11:34.388Z"
   },
   {
    "duration": 23,
    "start_time": "2023-02-01T04:11:34.414Z"
   },
   {
    "duration": 157,
    "start_time": "2023-02-01T04:11:34.439Z"
   },
   {
    "duration": 4,
    "start_time": "2023-02-01T04:11:34.597Z"
   },
   {
    "duration": 45,
    "start_time": "2023-02-01T04:11:34.609Z"
   },
   {
    "duration": 14,
    "start_time": "2023-02-01T04:11:34.655Z"
   },
   {
    "duration": 189,
    "start_time": "2023-02-01T04:11:34.671Z"
   },
   {
    "duration": 173,
    "start_time": "2023-02-01T04:11:34.862Z"
   },
   {
    "duration": 8,
    "start_time": "2023-02-01T04:11:35.037Z"
   },
   {
    "duration": 14,
    "start_time": "2023-02-01T04:11:35.047Z"
   },
   {
    "duration": 12,
    "start_time": "2023-02-01T04:11:35.062Z"
   },
   {
    "duration": 41,
    "start_time": "2023-02-01T04:11:35.078Z"
   },
   {
    "duration": 14,
    "start_time": "2023-02-01T04:11:35.121Z"
   },
   {
    "duration": 75,
    "start_time": "2023-02-01T04:12:16.735Z"
   },
   {
    "duration": 122,
    "start_time": "2023-02-01T04:13:20.394Z"
   },
   {
    "duration": 124,
    "start_time": "2023-02-01T04:13:51.502Z"
   },
   {
    "duration": 26,
    "start_time": "2023-02-01T04:14:51.586Z"
   },
   {
    "duration": 4,
    "start_time": "2023-02-01T04:27:09.969Z"
   },
   {
    "duration": 6,
    "start_time": "2023-02-01T04:27:21.731Z"
   },
   {
    "duration": 6,
    "start_time": "2023-02-01T04:27:41.977Z"
   },
   {
    "duration": 5,
    "start_time": "2023-02-01T04:27:49.552Z"
   },
   {
    "duration": 8,
    "start_time": "2023-02-01T04:28:02.085Z"
   },
   {
    "duration": 7,
    "start_time": "2023-02-01T04:28:08.180Z"
   },
   {
    "duration": 5,
    "start_time": "2023-02-01T04:28:13.573Z"
   },
   {
    "duration": 6,
    "start_time": "2023-02-01T04:28:25.419Z"
   },
   {
    "duration": 10,
    "start_time": "2023-02-01T04:29:09.256Z"
   },
   {
    "duration": 7,
    "start_time": "2023-02-01T04:30:08.383Z"
   },
   {
    "duration": 10,
    "start_time": "2023-02-01T04:30:25.445Z"
   },
   {
    "duration": 7,
    "start_time": "2023-02-01T04:30:40.486Z"
   },
   {
    "duration": 9,
    "start_time": "2023-02-01T04:30:55.708Z"
   },
   {
    "duration": 7,
    "start_time": "2023-02-01T04:31:11.213Z"
   },
   {
    "duration": 9,
    "start_time": "2023-02-01T04:31:24.173Z"
   },
   {
    "duration": 6,
    "start_time": "2023-02-01T04:31:35.039Z"
   },
   {
    "duration": 10,
    "start_time": "2023-02-01T04:31:35.377Z"
   },
   {
    "duration": 88,
    "start_time": "2023-02-01T04:32:05.207Z"
   },
   {
    "duration": 621,
    "start_time": "2023-02-01T04:32:18.713Z"
   },
   {
    "duration": 6,
    "start_time": "2023-02-01T04:32:40.725Z"
   },
   {
    "duration": 11,
    "start_time": "2023-02-01T04:32:44.469Z"
   },
   {
    "duration": 10,
    "start_time": "2023-02-01T04:32:46.418Z"
   },
   {
    "duration": 7,
    "start_time": "2023-02-01T04:33:04.774Z"
   },
   {
    "duration": 10,
    "start_time": "2023-02-01T04:33:10.039Z"
   },
   {
    "duration": 1093,
    "start_time": "2023-02-01T04:33:21.989Z"
   },
   {
    "duration": 21,
    "start_time": "2023-02-01T04:33:23.084Z"
   },
   {
    "duration": 62,
    "start_time": "2023-02-01T04:33:23.107Z"
   },
   {
    "duration": 13,
    "start_time": "2023-02-01T04:33:23.171Z"
   },
   {
    "duration": 42,
    "start_time": "2023-02-01T04:33:23.186Z"
   },
   {
    "duration": 90,
    "start_time": "2023-02-01T04:33:23.230Z"
   },
   {
    "duration": 6,
    "start_time": "2023-02-01T04:33:23.321Z"
   },
   {
    "duration": 8,
    "start_time": "2023-02-01T04:33:23.329Z"
   },
   {
    "duration": 10,
    "start_time": "2023-02-01T04:33:23.339Z"
   },
   {
    "duration": 9,
    "start_time": "2023-02-01T04:33:23.352Z"
   },
   {
    "duration": 21,
    "start_time": "2023-02-01T04:33:23.363Z"
   },
   {
    "duration": 25,
    "start_time": "2023-02-01T04:33:23.385Z"
   },
   {
    "duration": 8,
    "start_time": "2023-02-01T04:33:23.412Z"
   },
   {
    "duration": 9,
    "start_time": "2023-02-01T04:33:23.421Z"
   },
   {
    "duration": 6,
    "start_time": "2023-02-01T04:33:23.432Z"
   },
   {
    "duration": 12,
    "start_time": "2023-02-01T04:33:23.439Z"
   },
   {
    "duration": 313,
    "start_time": "2023-02-01T04:33:23.452Z"
   },
   {
    "duration": 293,
    "start_time": "2023-02-01T04:33:23.767Z"
   },
   {
    "duration": 279,
    "start_time": "2023-02-01T04:33:24.062Z"
   },
   {
    "duration": 360,
    "start_time": "2023-02-01T04:33:24.343Z"
   },
   {
    "duration": 295,
    "start_time": "2023-02-01T04:33:24.705Z"
   },
   {
    "duration": 401,
    "start_time": "2023-02-01T04:33:25.002Z"
   },
   {
    "duration": 44,
    "start_time": "2023-02-01T04:33:25.404Z"
   },
   {
    "duration": 133,
    "start_time": "2023-02-01T04:33:25.450Z"
   },
   {
    "duration": 4,
    "start_time": "2023-02-01T04:33:25.585Z"
   },
   {
    "duration": 28,
    "start_time": "2023-02-01T04:33:25.590Z"
   },
   {
    "duration": 5,
    "start_time": "2023-02-01T04:33:25.619Z"
   },
   {
    "duration": 157,
    "start_time": "2023-02-01T04:33:25.627Z"
   },
   {
    "duration": 4,
    "start_time": "2023-02-01T04:33:25.786Z"
   },
   {
    "duration": 26,
    "start_time": "2023-02-01T04:33:25.791Z"
   },
   {
    "duration": 8,
    "start_time": "2023-02-01T04:33:25.818Z"
   },
   {
    "duration": 203,
    "start_time": "2023-02-01T04:33:25.827Z"
   },
   {
    "duration": 184,
    "start_time": "2023-02-01T04:33:26.032Z"
   },
   {
    "duration": 9,
    "start_time": "2023-02-01T04:33:26.217Z"
   },
   {
    "duration": 10,
    "start_time": "2023-02-01T04:33:26.228Z"
   },
   {
    "duration": 16,
    "start_time": "2023-02-01T04:33:26.239Z"
   },
   {
    "duration": 24,
    "start_time": "2023-02-01T04:33:26.256Z"
   },
   {
    "duration": 41,
    "start_time": "2023-02-01T04:33:26.282Z"
   },
   {
    "duration": 9,
    "start_time": "2023-02-01T04:35:06.411Z"
   },
   {
    "duration": 6,
    "start_time": "2023-02-01T04:35:15.208Z"
   },
   {
    "duration": 10,
    "start_time": "2023-02-01T04:35:22.603Z"
   },
   {
    "duration": 4,
    "start_time": "2023-02-01T04:36:07.177Z"
   },
   {
    "duration": 12,
    "start_time": "2023-02-01T04:36:09.283Z"
   },
   {
    "duration": 5,
    "start_time": "2023-02-01T04:36:28.403Z"
   },
   {
    "duration": 10,
    "start_time": "2023-02-01T04:36:31.621Z"
   },
   {
    "duration": 345,
    "start_time": "2023-02-01T04:38:07.842Z"
   },
   {
    "duration": 1261,
    "start_time": "2023-02-01T04:41:51.994Z"
   },
   {
    "duration": 1103,
    "start_time": "2023-02-01T04:42:07.148Z"
   },
   {
    "duration": 23,
    "start_time": "2023-02-01T04:42:08.252Z"
   },
   {
    "duration": 50,
    "start_time": "2023-02-01T04:42:08.277Z"
   },
   {
    "duration": 13,
    "start_time": "2023-02-01T04:42:08.328Z"
   },
   {
    "duration": 8,
    "start_time": "2023-02-01T04:42:08.344Z"
   },
   {
    "duration": 38,
    "start_time": "2023-02-01T04:42:08.353Z"
   },
   {
    "duration": 5,
    "start_time": "2023-02-01T04:42:08.393Z"
   },
   {
    "duration": 14,
    "start_time": "2023-02-01T04:42:08.399Z"
   },
   {
    "duration": 12,
    "start_time": "2023-02-01T04:42:08.415Z"
   },
   {
    "duration": 7,
    "start_time": "2023-02-01T04:42:08.428Z"
   },
   {
    "duration": 22,
    "start_time": "2023-02-01T04:42:08.436Z"
   },
   {
    "duration": 5,
    "start_time": "2023-02-01T04:42:08.459Z"
   },
   {
    "duration": 11,
    "start_time": "2023-02-01T04:42:08.465Z"
   },
   {
    "duration": 35,
    "start_time": "2023-02-01T04:42:08.479Z"
   },
   {
    "duration": 6,
    "start_time": "2023-02-01T04:42:08.517Z"
   },
   {
    "duration": 12,
    "start_time": "2023-02-01T04:42:08.524Z"
   },
   {
    "duration": 295,
    "start_time": "2023-02-01T04:42:08.537Z"
   },
   {
    "duration": 298,
    "start_time": "2023-02-01T04:42:08.833Z"
   },
   {
    "duration": 209,
    "start_time": "2023-02-01T04:42:09.133Z"
   },
   {
    "duration": 290,
    "start_time": "2023-02-01T04:42:09.344Z"
   },
   {
    "duration": 222,
    "start_time": "2023-02-01T04:42:09.636Z"
   },
   {
    "duration": 313,
    "start_time": "2023-02-01T04:42:09.859Z"
   },
   {
    "duration": 44,
    "start_time": "2023-02-01T04:42:10.174Z"
   },
   {
    "duration": 148,
    "start_time": "2023-02-01T04:42:10.220Z"
   },
   {
    "duration": 3,
    "start_time": "2023-02-01T04:42:10.370Z"
   },
   {
    "duration": 13,
    "start_time": "2023-02-01T04:42:10.375Z"
   },
   {
    "duration": 22,
    "start_time": "2023-02-01T04:42:10.389Z"
   },
   {
    "duration": 156,
    "start_time": "2023-02-01T04:42:10.412Z"
   },
   {
    "duration": 241,
    "start_time": "2023-02-01T04:42:10.569Z"
   },
   {
    "duration": 4,
    "start_time": "2023-02-01T04:42:10.813Z"
   },
   {
    "duration": 9,
    "start_time": "2023-02-01T04:42:10.819Z"
   },
   {
    "duration": 8,
    "start_time": "2023-02-01T04:42:10.830Z"
   },
   {
    "duration": 241,
    "start_time": "2023-02-01T04:42:10.840Z"
   },
   {
    "duration": 154,
    "start_time": "2023-02-01T04:42:11.083Z"
   },
   {
    "duration": 11,
    "start_time": "2023-02-01T04:42:11.239Z"
   },
   {
    "duration": 9,
    "start_time": "2023-02-01T04:42:11.251Z"
   },
   {
    "duration": 13,
    "start_time": "2023-02-01T04:42:11.261Z"
   },
   {
    "duration": 58,
    "start_time": "2023-02-01T04:42:11.276Z"
   },
   {
    "duration": 14,
    "start_time": "2023-02-01T04:42:11.336Z"
   },
   {
    "duration": 1381,
    "start_time": "2023-02-01T04:42:20.280Z"
   },
   {
    "duration": 1387,
    "start_time": "2023-02-01T04:42:33.620Z"
   },
   {
    "duration": 1284,
    "start_time": "2023-02-01T04:55:00.286Z"
   },
   {
    "duration": 1116,
    "start_time": "2023-02-01T04:55:48.135Z"
   },
   {
    "duration": 1182,
    "start_time": "2023-02-01T04:56:00.285Z"
   },
   {
    "duration": 23,
    "start_time": "2023-02-01T04:56:01.469Z"
   },
   {
    "duration": 54,
    "start_time": "2023-02-01T04:56:01.493Z"
   },
   {
    "duration": 13,
    "start_time": "2023-02-01T04:56:01.549Z"
   },
   {
    "duration": 15,
    "start_time": "2023-02-01T04:56:01.565Z"
   },
   {
    "duration": 57,
    "start_time": "2023-02-01T04:56:01.581Z"
   },
   {
    "duration": 7,
    "start_time": "2023-02-01T04:56:01.639Z"
   },
   {
    "duration": 7,
    "start_time": "2023-02-01T04:56:01.647Z"
   },
   {
    "duration": 21,
    "start_time": "2023-02-01T04:56:01.655Z"
   },
   {
    "duration": 19,
    "start_time": "2023-02-01T04:56:01.678Z"
   },
   {
    "duration": 36,
    "start_time": "2023-02-01T04:56:01.699Z"
   },
   {
    "duration": 5,
    "start_time": "2023-02-01T04:56:01.737Z"
   },
   {
    "duration": 40,
    "start_time": "2023-02-01T04:56:01.744Z"
   },
   {
    "duration": 22,
    "start_time": "2023-02-01T04:56:01.788Z"
   },
   {
    "duration": 15,
    "start_time": "2023-02-01T04:56:01.812Z"
   },
   {
    "duration": 35,
    "start_time": "2023-02-01T04:56:01.828Z"
   },
   {
    "duration": 283,
    "start_time": "2023-02-01T04:56:01.864Z"
   },
   {
    "duration": 304,
    "start_time": "2023-02-01T04:56:02.149Z"
   },
   {
    "duration": 216,
    "start_time": "2023-02-01T04:56:02.455Z"
   },
   {
    "duration": 352,
    "start_time": "2023-02-01T04:56:02.673Z"
   },
   {
    "duration": 235,
    "start_time": "2023-02-01T04:56:03.028Z"
   },
   {
    "duration": 352,
    "start_time": "2023-02-01T04:56:03.264Z"
   },
   {
    "duration": 44,
    "start_time": "2023-02-01T04:56:03.618Z"
   },
   {
    "duration": 137,
    "start_time": "2023-02-01T04:56:03.664Z"
   },
   {
    "duration": 9,
    "start_time": "2023-02-01T04:56:03.803Z"
   },
   {
    "duration": 14,
    "start_time": "2023-02-01T04:56:03.814Z"
   },
   {
    "duration": 7,
    "start_time": "2023-02-01T04:56:03.830Z"
   },
   {
    "duration": 177,
    "start_time": "2023-02-01T04:56:03.839Z"
   },
   {
    "duration": 221,
    "start_time": "2023-02-01T04:56:04.017Z"
   },
   {
    "duration": 5,
    "start_time": "2023-02-01T04:56:04.239Z"
   },
   {
    "duration": 11,
    "start_time": "2023-02-01T04:56:04.246Z"
   },
   {
    "duration": 9,
    "start_time": "2023-02-01T04:56:04.259Z"
   },
   {
    "duration": 267,
    "start_time": "2023-02-01T04:56:04.270Z"
   },
   {
    "duration": 171,
    "start_time": "2023-02-01T04:56:04.539Z"
   },
   {
    "duration": 10,
    "start_time": "2023-02-01T04:56:04.711Z"
   },
   {
    "duration": 8,
    "start_time": "2023-02-01T04:56:04.722Z"
   },
   {
    "duration": 11,
    "start_time": "2023-02-01T04:56:04.731Z"
   },
   {
    "duration": 22,
    "start_time": "2023-02-01T04:56:04.743Z"
   },
   {
    "duration": 52,
    "start_time": "2023-02-01T04:56:04.767Z"
   },
   {
    "duration": 1437,
    "start_time": "2023-02-01T05:28:01.299Z"
   },
   {
    "duration": 67,
    "start_time": "2023-02-01T05:30:56.026Z"
   },
   {
    "duration": 76,
    "start_time": "2023-02-01T05:32:04.790Z"
   },
   {
    "duration": 3,
    "start_time": "2023-02-01T05:32:11.777Z"
   },
   {
    "duration": 1174,
    "start_time": "2023-02-01T05:32:14.259Z"
   },
   {
    "duration": 1151,
    "start_time": "2023-02-01T05:32:30.393Z"
   },
   {
    "duration": 22,
    "start_time": "2023-02-01T05:32:31.546Z"
   },
   {
    "duration": 52,
    "start_time": "2023-02-01T05:32:31.569Z"
   },
   {
    "duration": 12,
    "start_time": "2023-02-01T05:32:31.622Z"
   },
   {
    "duration": 13,
    "start_time": "2023-02-01T05:32:31.636Z"
   },
   {
    "duration": 78,
    "start_time": "2023-02-01T05:32:31.650Z"
   },
   {
    "duration": 23,
    "start_time": "2023-02-01T05:32:31.730Z"
   },
   {
    "duration": 12,
    "start_time": "2023-02-01T05:32:31.754Z"
   },
   {
    "duration": 21,
    "start_time": "2023-02-01T05:32:31.768Z"
   },
   {
    "duration": 25,
    "start_time": "2023-02-01T05:32:31.791Z"
   },
   {
    "duration": 49,
    "start_time": "2023-02-01T05:32:31.818Z"
   },
   {
    "duration": 6,
    "start_time": "2023-02-01T05:32:31.868Z"
   },
   {
    "duration": 24,
    "start_time": "2023-02-01T05:32:31.875Z"
   },
   {
    "duration": 11,
    "start_time": "2023-02-01T05:32:31.903Z"
   },
   {
    "duration": 19,
    "start_time": "2023-02-01T05:32:31.916Z"
   },
   {
    "duration": 16,
    "start_time": "2023-02-01T05:32:31.937Z"
   },
   {
    "duration": 280,
    "start_time": "2023-02-01T05:32:31.954Z"
   },
   {
    "duration": 343,
    "start_time": "2023-02-01T05:32:32.236Z"
   },
   {
    "duration": 217,
    "start_time": "2023-02-01T05:32:32.580Z"
   },
   {
    "duration": 343,
    "start_time": "2023-02-01T05:32:32.799Z"
   },
   {
    "duration": 228,
    "start_time": "2023-02-01T05:32:33.144Z"
   },
   {
    "duration": 348,
    "start_time": "2023-02-01T05:32:33.374Z"
   },
   {
    "duration": 44,
    "start_time": "2023-02-01T05:32:33.723Z"
   },
   {
    "duration": 130,
    "start_time": "2023-02-01T05:32:33.768Z"
   },
   {
    "duration": 3,
    "start_time": "2023-02-01T05:32:33.900Z"
   },
   {
    "duration": 11,
    "start_time": "2023-02-01T05:32:33.910Z"
   },
   {
    "duration": 7,
    "start_time": "2023-02-01T05:32:33.923Z"
   },
   {
    "duration": 170,
    "start_time": "2023-02-01T05:32:33.931Z"
   },
   {
    "duration": 209,
    "start_time": "2023-02-01T05:32:34.109Z"
   },
   {
    "duration": 3,
    "start_time": "2023-02-01T05:32:34.320Z"
   },
   {
    "duration": 44,
    "start_time": "2023-02-01T05:32:34.325Z"
   },
   {
    "duration": 60,
    "start_time": "2023-02-01T05:32:34.371Z"
   },
   {
    "duration": 226,
    "start_time": "2023-02-01T05:32:34.432Z"
   },
   {
    "duration": 175,
    "start_time": "2023-02-01T05:32:34.660Z"
   },
   {
    "duration": 10,
    "start_time": "2023-02-01T05:32:34.836Z"
   },
   {
    "duration": 42,
    "start_time": "2023-02-01T05:32:34.847Z"
   },
   {
    "duration": 113,
    "start_time": "2023-02-01T05:32:34.891Z"
   },
   {
    "duration": 71,
    "start_time": "2023-02-01T05:32:35.006Z"
   },
   {
    "duration": 47,
    "start_time": "2023-02-01T05:32:35.078Z"
   },
   {
    "duration": 1202,
    "start_time": "2023-02-01T05:32:54.681Z"
   },
   {
    "duration": 1109,
    "start_time": "2023-02-01T05:34:09.558Z"
   },
   {
    "duration": 25,
    "start_time": "2023-02-01T05:34:10.669Z"
   },
   {
    "duration": 58,
    "start_time": "2023-02-01T05:34:10.696Z"
   },
   {
    "duration": 15,
    "start_time": "2023-02-01T05:34:10.756Z"
   },
   {
    "duration": 32,
    "start_time": "2023-02-01T05:34:10.772Z"
   },
   {
    "duration": 69,
    "start_time": "2023-02-01T05:34:10.806Z"
   },
   {
    "duration": 6,
    "start_time": "2023-02-01T05:34:10.876Z"
   },
   {
    "duration": 37,
    "start_time": "2023-02-01T05:34:10.883Z"
   },
   {
    "duration": 33,
    "start_time": "2023-02-01T05:34:10.922Z"
   },
   {
    "duration": 35,
    "start_time": "2023-02-01T05:34:10.957Z"
   },
   {
    "duration": 51,
    "start_time": "2023-02-01T05:34:10.994Z"
   },
   {
    "duration": 6,
    "start_time": "2023-02-01T05:34:11.047Z"
   },
   {
    "duration": 35,
    "start_time": "2023-02-01T05:34:11.055Z"
   },
   {
    "duration": 33,
    "start_time": "2023-02-01T05:34:11.095Z"
   },
   {
    "duration": 40,
    "start_time": "2023-02-01T05:34:11.130Z"
   },
   {
    "duration": 47,
    "start_time": "2023-02-01T05:34:11.172Z"
   },
   {
    "duration": 294,
    "start_time": "2023-02-01T05:34:11.221Z"
   },
   {
    "duration": 308,
    "start_time": "2023-02-01T05:34:11.517Z"
   },
   {
    "duration": 213,
    "start_time": "2023-02-01T05:34:11.827Z"
   },
   {
    "duration": 290,
    "start_time": "2023-02-01T05:34:12.042Z"
   },
   {
    "duration": 224,
    "start_time": "2023-02-01T05:34:12.333Z"
   },
   {
    "duration": 316,
    "start_time": "2023-02-01T05:34:12.559Z"
   },
   {
    "duration": 43,
    "start_time": "2023-02-01T05:34:12.876Z"
   },
   {
    "duration": 153,
    "start_time": "2023-02-01T05:34:12.920Z"
   },
   {
    "duration": 4,
    "start_time": "2023-02-01T05:34:13.075Z"
   },
   {
    "duration": 29,
    "start_time": "2023-02-01T05:34:13.081Z"
   },
   {
    "duration": 4,
    "start_time": "2023-02-01T05:34:13.112Z"
   },
   {
    "duration": 156,
    "start_time": "2023-02-01T05:34:13.118Z"
   },
   {
    "duration": 222,
    "start_time": "2023-02-01T05:34:13.276Z"
   },
   {
    "duration": 5,
    "start_time": "2023-02-01T05:34:13.499Z"
   },
   {
    "duration": 19,
    "start_time": "2023-02-01T05:34:13.511Z"
   },
   {
    "duration": 11,
    "start_time": "2023-02-01T05:34:13.531Z"
   },
   {
    "duration": 271,
    "start_time": "2023-02-01T05:34:13.543Z"
   },
   {
    "duration": 173,
    "start_time": "2023-02-01T05:34:13.816Z"
   },
   {
    "duration": 10,
    "start_time": "2023-02-01T05:34:13.990Z"
   },
   {
    "duration": 9,
    "start_time": "2023-02-01T05:34:14.010Z"
   },
   {
    "duration": 13,
    "start_time": "2023-02-01T05:34:14.020Z"
   },
   {
    "duration": 20,
    "start_time": "2023-02-01T05:34:14.035Z"
   },
   {
    "duration": 11,
    "start_time": "2023-02-01T05:34:14.057Z"
   },
   {
    "duration": 1248,
    "start_time": "2023-02-01T05:35:27.413Z"
   },
   {
    "duration": 5,
    "start_time": "2023-02-01T05:37:49.992Z"
   },
   {
    "duration": 4,
    "start_time": "2023-02-01T05:38:03.440Z"
   },
   {
    "duration": 11,
    "start_time": "2023-02-01T05:38:21.310Z"
   },
   {
    "duration": 63,
    "start_time": "2023-02-01T05:38:34.632Z"
   },
   {
    "duration": 1129,
    "start_time": "2023-02-01T05:39:43.493Z"
   },
   {
    "duration": 0,
    "start_time": "2023-02-01T05:39:44.624Z"
   },
   {
    "duration": 1226,
    "start_time": "2023-02-01T05:39:50.293Z"
   },
   {
    "duration": 267,
    "start_time": "2023-02-01T05:41:12.019Z"
   },
   {
    "duration": 203,
    "start_time": "2023-02-01T05:41:14.959Z"
   },
   {
    "duration": 204,
    "start_time": "2023-02-01T05:41:17.313Z"
   },
   {
    "duration": 322,
    "start_time": "2023-02-01T05:41:20.576Z"
   },
   {
    "duration": 273,
    "start_time": "2023-02-01T05:41:30.248Z"
   },
   {
    "duration": 213,
    "start_time": "2023-02-01T05:41:34.116Z"
   },
   {
    "duration": 44,
    "start_time": "2023-02-01T05:41:38.559Z"
   },
   {
    "duration": 4,
    "start_time": "2023-02-01T05:41:44.121Z"
   },
   {
    "duration": 4,
    "start_time": "2023-02-01T05:41:44.727Z"
   },
   {
    "duration": 11,
    "start_time": "2023-02-01T05:41:47.645Z"
   },
   {
    "duration": 4,
    "start_time": "2023-02-01T05:41:48.100Z"
   },
   {
    "duration": 142,
    "start_time": "2023-02-01T05:41:49.284Z"
   },
   {
    "duration": 145,
    "start_time": "2023-02-01T05:41:52.643Z"
   },
   {
    "duration": 145,
    "start_time": "2023-02-01T05:41:55.893Z"
   },
   {
    "duration": 4,
    "start_time": "2023-02-01T05:41:57.988Z"
   },
   {
    "duration": 4,
    "start_time": "2023-02-01T05:41:59.535Z"
   },
   {
    "duration": 137,
    "start_time": "2023-02-01T05:42:47.791Z"
   },
   {
    "duration": 138,
    "start_time": "2023-02-01T05:45:25.081Z"
   },
   {
    "duration": 67,
    "start_time": "2023-02-01T05:45:34.095Z"
   },
   {
    "duration": 67,
    "start_time": "2023-02-01T05:45:37.489Z"
   },
   {
    "duration": 143,
    "start_time": "2023-02-01T05:45:39.720Z"
   },
   {
    "duration": 195,
    "start_time": "2023-02-01T05:47:01.493Z"
   },
   {
    "duration": 153,
    "start_time": "2023-02-01T05:47:06.678Z"
   },
   {
    "duration": 143,
    "start_time": "2023-02-01T05:47:36.735Z"
   },
   {
    "duration": 142,
    "start_time": "2023-02-01T05:48:08.284Z"
   },
   {
    "duration": 140,
    "start_time": "2023-02-01T05:51:23.574Z"
   },
   {
    "duration": 72,
    "start_time": "2023-02-01T05:57:34.320Z"
   },
   {
    "duration": 144,
    "start_time": "2023-02-01T06:42:07.574Z"
   },
   {
    "duration": 150,
    "start_time": "2023-02-01T06:42:17.300Z"
   },
   {
    "duration": 155,
    "start_time": "2023-02-01T06:42:21.652Z"
   },
   {
    "duration": 151,
    "start_time": "2023-02-01T06:42:29.181Z"
   },
   {
    "duration": 143,
    "start_time": "2023-02-01T06:43:16.828Z"
   },
   {
    "duration": 151,
    "start_time": "2023-02-01T06:43:39.861Z"
   },
   {
    "duration": 71,
    "start_time": "2023-02-01T07:35:23.926Z"
   },
   {
    "duration": 1326,
    "start_time": "2023-02-01T07:41:55.473Z"
   },
   {
    "duration": 1052,
    "start_time": "2023-02-01T07:42:14.947Z"
   },
   {
    "duration": 23,
    "start_time": "2023-02-01T07:42:16.001Z"
   },
   {
    "duration": 52,
    "start_time": "2023-02-01T07:42:16.026Z"
   },
   {
    "duration": 14,
    "start_time": "2023-02-01T07:42:16.081Z"
   },
   {
    "duration": 20,
    "start_time": "2023-02-01T07:42:16.097Z"
   },
   {
    "duration": 57,
    "start_time": "2023-02-01T07:42:16.119Z"
   },
   {
    "duration": 16,
    "start_time": "2023-02-01T07:42:16.178Z"
   },
   {
    "duration": 28,
    "start_time": "2023-02-01T07:42:16.195Z"
   },
   {
    "duration": 26,
    "start_time": "2023-02-01T07:42:16.225Z"
   },
   {
    "duration": 7,
    "start_time": "2023-02-01T07:42:16.254Z"
   },
   {
    "duration": 42,
    "start_time": "2023-02-01T07:42:16.263Z"
   },
   {
    "duration": 5,
    "start_time": "2023-02-01T07:42:16.306Z"
   },
   {
    "duration": 21,
    "start_time": "2023-02-01T07:42:16.313Z"
   },
   {
    "duration": 17,
    "start_time": "2023-02-01T07:42:16.336Z"
   },
   {
    "duration": 23,
    "start_time": "2023-02-01T07:42:16.355Z"
   },
   {
    "duration": 29,
    "start_time": "2023-02-01T07:42:16.379Z"
   },
   {
    "duration": 284,
    "start_time": "2023-02-01T07:42:16.410Z"
   },
   {
    "duration": 350,
    "start_time": "2023-02-01T07:42:16.695Z"
   },
   {
    "duration": 230,
    "start_time": "2023-02-01T07:42:17.047Z"
   },
   {
    "duration": 337,
    "start_time": "2023-02-01T07:42:17.279Z"
   },
   {
    "duration": 225,
    "start_time": "2023-02-01T07:42:17.618Z"
   },
   {
    "duration": 307,
    "start_time": "2023-02-01T07:42:17.845Z"
   },
   {
    "duration": 43,
    "start_time": "2023-02-01T07:42:18.153Z"
   },
   {
    "duration": 141,
    "start_time": "2023-02-01T07:42:18.198Z"
   },
   {
    "duration": 5,
    "start_time": "2023-02-01T07:42:18.341Z"
   },
   {
    "duration": 7,
    "start_time": "2023-02-01T07:42:18.347Z"
   },
   {
    "duration": 13,
    "start_time": "2023-02-01T07:42:18.356Z"
   },
   {
    "duration": 5,
    "start_time": "2023-02-01T07:42:18.374Z"
   },
   {
    "duration": 175,
    "start_time": "2023-02-01T07:42:18.410Z"
   },
   {
    "duration": 234,
    "start_time": "2023-02-01T07:42:18.586Z"
   },
   {
    "duration": 5,
    "start_time": "2023-02-01T07:42:18.822Z"
   },
   {
    "duration": 22,
    "start_time": "2023-02-01T07:42:18.828Z"
   },
   {
    "duration": 11,
    "start_time": "2023-02-01T07:42:18.852Z"
   },
   {
    "duration": 14,
    "start_time": "2023-02-01T07:42:18.865Z"
   },
   {
    "duration": 230,
    "start_time": "2023-02-01T07:42:18.881Z"
   },
   {
    "duration": 173,
    "start_time": "2023-02-01T07:42:19.112Z"
   },
   {
    "duration": 22,
    "start_time": "2023-02-01T07:42:19.288Z"
   },
   {
    "duration": 9,
    "start_time": "2023-02-01T07:42:19.312Z"
   },
   {
    "duration": 10,
    "start_time": "2023-02-01T07:42:19.323Z"
   },
   {
    "duration": 31,
    "start_time": "2023-02-01T07:42:19.348Z"
   },
   {
    "duration": 30,
    "start_time": "2023-02-01T07:42:19.380Z"
   },
   {
    "duration": 10,
    "start_time": "2023-02-01T07:42:42.192Z"
   },
   {
    "duration": 22,
    "start_time": "2023-02-01T07:43:04.710Z"
   },
   {
    "duration": 185,
    "start_time": "2023-02-01T07:46:41.564Z"
   },
   {
    "duration": 213,
    "start_time": "2023-02-01T07:47:06.389Z"
   },
   {
    "duration": 67,
    "start_time": "2023-02-01T07:49:07.720Z"
   },
   {
    "duration": 71,
    "start_time": "2023-02-01T07:49:12.621Z"
   },
   {
    "duration": 22,
    "start_time": "2023-02-01T07:49:19.906Z"
   },
   {
    "duration": 166,
    "start_time": "2023-02-01T07:50:02.125Z"
   },
   {
    "duration": 97,
    "start_time": "2023-02-01T07:51:32.273Z"
   },
   {
    "duration": 77,
    "start_time": "2023-02-01T07:51:47.538Z"
   },
   {
    "duration": 79,
    "start_time": "2023-02-01T07:52:07.484Z"
   },
   {
    "duration": 110,
    "start_time": "2023-02-01T07:52:43.158Z"
   },
   {
    "duration": 83,
    "start_time": "2023-02-01T07:53:00.653Z"
   },
   {
    "duration": 74,
    "start_time": "2023-02-01T07:53:07.629Z"
   },
   {
    "duration": 103,
    "start_time": "2023-02-01T07:55:05.089Z"
   },
   {
    "duration": 9,
    "start_time": "2023-02-01T07:55:20.806Z"
   },
   {
    "duration": 24,
    "start_time": "2023-02-01T07:55:26.601Z"
   },
   {
    "duration": 90,
    "start_time": "2023-02-01T07:56:05.154Z"
   },
   {
    "duration": 83,
    "start_time": "2023-02-01T07:56:09.948Z"
   },
   {
    "duration": 113,
    "start_time": "2023-02-01T07:56:13.538Z"
   },
   {
    "duration": 105,
    "start_time": "2023-02-01T07:56:16.539Z"
   },
   {
    "duration": 85,
    "start_time": "2023-02-01T07:56:19.883Z"
   },
   {
    "duration": 89,
    "start_time": "2023-02-01T07:56:25.085Z"
   },
   {
    "duration": 10,
    "start_time": "2023-02-01T07:56:36.968Z"
   },
   {
    "duration": 84,
    "start_time": "2023-02-01T07:57:14.789Z"
   },
   {
    "duration": 11,
    "start_time": "2023-02-01T07:57:36.272Z"
   },
   {
    "duration": 11,
    "start_time": "2023-02-01T07:57:49.228Z"
   },
   {
    "duration": 13,
    "start_time": "2023-02-01T07:57:58.085Z"
   },
   {
    "duration": 14,
    "start_time": "2023-02-01T07:58:14.672Z"
   },
   {
    "duration": 16,
    "start_time": "2023-02-01T07:58:28.409Z"
   },
   {
    "duration": 181,
    "start_time": "2023-02-01T07:58:58.949Z"
   },
   {
    "duration": 33,
    "start_time": "2023-02-01T07:59:29.233Z"
   },
   {
    "duration": 20,
    "start_time": "2023-02-01T08:01:10.075Z"
   },
   {
    "duration": 1141,
    "start_time": "2023-02-01T08:01:41.659Z"
   },
   {
    "duration": 71,
    "start_time": "2023-02-01T08:01:42.802Z"
   },
   {
    "duration": 87,
    "start_time": "2023-02-01T08:01:42.874Z"
   },
   {
    "duration": 21,
    "start_time": "2023-02-01T08:01:42.963Z"
   },
   {
    "duration": 83,
    "start_time": "2023-02-01T08:01:42.986Z"
   },
   {
    "duration": 113,
    "start_time": "2023-02-01T08:01:43.072Z"
   },
   {
    "duration": 7,
    "start_time": "2023-02-01T08:01:43.187Z"
   },
   {
    "duration": 67,
    "start_time": "2023-02-01T08:01:43.196Z"
   },
   {
    "duration": 21,
    "start_time": "2023-02-01T08:01:43.265Z"
   },
   {
    "duration": 66,
    "start_time": "2023-02-01T08:01:43.289Z"
   },
   {
    "duration": 76,
    "start_time": "2023-02-01T08:01:43.357Z"
   },
   {
    "duration": 1517,
    "start_time": "2023-02-01T08:01:43.435Z"
   },
   {
    "duration": 77,
    "start_time": "2023-02-01T08:01:44.954Z"
   },
   {
    "duration": 39,
    "start_time": "2023-02-01T08:01:45.033Z"
   },
   {
    "duration": 60,
    "start_time": "2023-02-01T08:01:45.073Z"
   },
   {
    "duration": 53,
    "start_time": "2023-02-01T08:01:45.134Z"
   },
   {
    "duration": 343,
    "start_time": "2023-02-01T08:01:45.189Z"
   },
   {
    "duration": 350,
    "start_time": "2023-02-01T08:01:45.534Z"
   },
   {
    "duration": 248,
    "start_time": "2023-02-01T08:01:45.886Z"
   },
   {
    "duration": 318,
    "start_time": "2023-02-01T08:01:46.139Z"
   },
   {
    "duration": 261,
    "start_time": "2023-02-01T08:01:46.459Z"
   },
   {
    "duration": 330,
    "start_time": "2023-02-01T08:01:46.721Z"
   },
   {
    "duration": 46,
    "start_time": "2023-02-01T08:01:47.054Z"
   },
   {
    "duration": 171,
    "start_time": "2023-02-01T08:01:47.102Z"
   },
   {
    "duration": 5,
    "start_time": "2023-02-01T08:01:47.276Z"
   },
   {
    "duration": 57,
    "start_time": "2023-02-01T08:01:47.283Z"
   },
   {
    "duration": 49,
    "start_time": "2023-02-01T08:01:47.342Z"
   },
   {
    "duration": 12,
    "start_time": "2023-02-01T08:01:47.396Z"
   },
   {
    "duration": 229,
    "start_time": "2023-02-01T08:01:47.410Z"
   },
   {
    "duration": 235,
    "start_time": "2023-02-01T08:01:47.641Z"
   },
   {
    "duration": 4,
    "start_time": "2023-02-01T08:01:47.878Z"
   },
   {
    "duration": 48,
    "start_time": "2023-02-01T08:01:47.884Z"
   },
   {
    "duration": 36,
    "start_time": "2023-02-01T08:01:47.934Z"
   },
   {
    "duration": 66,
    "start_time": "2023-02-01T08:01:47.972Z"
   },
   {
    "duration": 259,
    "start_time": "2023-02-01T08:01:48.040Z"
   },
   {
    "duration": 177,
    "start_time": "2023-02-01T08:01:48.301Z"
   },
   {
    "duration": 12,
    "start_time": "2023-02-01T08:01:48.480Z"
   },
   {
    "duration": 52,
    "start_time": "2023-02-01T08:01:48.494Z"
   },
   {
    "duration": 24,
    "start_time": "2023-02-01T08:01:48.548Z"
   },
   {
    "duration": 94,
    "start_time": "2023-02-01T08:01:48.574Z"
   },
   {
    "duration": 14,
    "start_time": "2023-02-01T08:01:48.669Z"
   }
  ],
  "kernelspec": {
   "display_name": "Python 3 (ipykernel)",
   "language": "python",
   "name": "python3"
  },
  "language_info": {
   "codemirror_mode": {
    "name": "ipython",
    "version": 3
   },
   "file_extension": ".py",
   "mimetype": "text/x-python",
   "name": "python",
   "nbconvert_exporter": "python",
   "pygments_lexer": "ipython3",
   "version": "3.9.13"
  },
  "toc": {
   "base_numbering": 1,
   "nav_menu": {},
   "number_sections": true,
   "sideBar": true,
   "skip_h1_title": true,
   "title_cell": "Table of Contents",
   "title_sidebar": "Contents",
   "toc_cell": false,
   "toc_position": {},
   "toc_section_display": true,
   "toc_window_display": false
  }
 },
 "nbformat": 4,
 "nbformat_minor": 2
}
