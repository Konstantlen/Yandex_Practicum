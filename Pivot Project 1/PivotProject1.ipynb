{
 "cells": [
  {
   "cell_type": "markdown",
   "metadata": {},
   "source": [
    "# Проект: Анализ поведения пользователей приложения"
   ]
  },
  {
   "cell_type": "markdown",
   "metadata": {},
   "source": [
    "Цель: Изучить воронку продаж\n",
    "\n",
    "Задачи:\n",
    "- Узнать, как пользователи доходят до покупки.\n",
    "- Исследовать результаты A/A/B-эксперимента по изменению шрифтов в приложении  \n",
    "\n",
    "Описание данных  \n",
    "Данные хранятся в файле logs_exp.csv  \n",
    "Каждая запись в логе — это действие пользователя, или событие. \n",
    "- EventName — название события;\n",
    "- DeviceIDHash — уникальный идентификатор пользователя;\n",
    "- EventTimestamp — время события;\n",
    "- ExpId — номер эксперимента: 246 и 247 — контрольные группы, а 248 — экспериментальная."
   ]
  },
  {
   "cell_type": "markdown",
   "metadata": {},
   "source": [
    "**Шаг 1. Откройте файл с данными и изучите общую информацию**"
   ]
  },
  {
   "cell_type": "code",
   "execution_count": 1,
   "metadata": {},
   "outputs": [],
   "source": [
    "import pandas as pd\n",
    "import numpy as np\n",
    "from scipy import stats as st"
   ]
  },
  {
   "cell_type": "code",
   "execution_count": 2,
   "metadata": {},
   "outputs": [],
   "source": [
    "data = pd.read_csv(r'D:\\Main\\Yandex Practicum\\Y.Anal\\Pivot project 1/games.csv')"
   ]
  },
  {
   "cell_type": "code",
   "execution_count": 3,
   "metadata": {},
   "outputs": [
    {
     "data": {
      "text/html": [
       "<div>\n",
       "<style scoped>\n",
       "    .dataframe tbody tr th:only-of-type {\n",
       "        vertical-align: middle;\n",
       "    }\n",
       "\n",
       "    .dataframe tbody tr th {\n",
       "        vertical-align: top;\n",
       "    }\n",
       "\n",
       "    .dataframe thead th {\n",
       "        text-align: right;\n",
       "    }\n",
       "</style>\n",
       "<table border=\"1\" class=\"dataframe\">\n",
       "  <thead>\n",
       "    <tr style=\"text-align: right;\">\n",
       "      <th></th>\n",
       "      <th>Name</th>\n",
       "      <th>Platform</th>\n",
       "      <th>Year_of_Release</th>\n",
       "      <th>Genre</th>\n",
       "      <th>NA_sales</th>\n",
       "      <th>EU_sales</th>\n",
       "      <th>JP_sales</th>\n",
       "      <th>Other_sales</th>\n",
       "      <th>Critic_Score</th>\n",
       "      <th>User_Score</th>\n",
       "      <th>Rating</th>\n",
       "    </tr>\n",
       "  </thead>\n",
       "  <tbody>\n",
       "    <tr>\n",
       "      <th>0</th>\n",
       "      <td>Wii Sports</td>\n",
       "      <td>Wii</td>\n",
       "      <td>2006.0</td>\n",
       "      <td>Sports</td>\n",
       "      <td>41.36</td>\n",
       "      <td>28.96</td>\n",
       "      <td>3.77</td>\n",
       "      <td>8.45</td>\n",
       "      <td>76.0</td>\n",
       "      <td>8</td>\n",
       "      <td>E</td>\n",
       "    </tr>\n",
       "    <tr>\n",
       "      <th>1</th>\n",
       "      <td>Super Mario Bros.</td>\n",
       "      <td>NES</td>\n",
       "      <td>1985.0</td>\n",
       "      <td>Platform</td>\n",
       "      <td>29.08</td>\n",
       "      <td>3.58</td>\n",
       "      <td>6.81</td>\n",
       "      <td>0.77</td>\n",
       "      <td>NaN</td>\n",
       "      <td>NaN</td>\n",
       "      <td>NaN</td>\n",
       "    </tr>\n",
       "    <tr>\n",
       "      <th>2</th>\n",
       "      <td>Mario Kart Wii</td>\n",
       "      <td>Wii</td>\n",
       "      <td>2008.0</td>\n",
       "      <td>Racing</td>\n",
       "      <td>15.68</td>\n",
       "      <td>12.76</td>\n",
       "      <td>3.79</td>\n",
       "      <td>3.29</td>\n",
       "      <td>82.0</td>\n",
       "      <td>8.3</td>\n",
       "      <td>E</td>\n",
       "    </tr>\n",
       "    <tr>\n",
       "      <th>3</th>\n",
       "      <td>Wii Sports Resort</td>\n",
       "      <td>Wii</td>\n",
       "      <td>2009.0</td>\n",
       "      <td>Sports</td>\n",
       "      <td>15.61</td>\n",
       "      <td>10.93</td>\n",
       "      <td>3.28</td>\n",
       "      <td>2.95</td>\n",
       "      <td>80.0</td>\n",
       "      <td>8</td>\n",
       "      <td>E</td>\n",
       "    </tr>\n",
       "    <tr>\n",
       "      <th>4</th>\n",
       "      <td>Pokemon Red/Pokemon Blue</td>\n",
       "      <td>GB</td>\n",
       "      <td>1996.0</td>\n",
       "      <td>Role-Playing</td>\n",
       "      <td>11.27</td>\n",
       "      <td>8.89</td>\n",
       "      <td>10.22</td>\n",
       "      <td>1.00</td>\n",
       "      <td>NaN</td>\n",
       "      <td>NaN</td>\n",
       "      <td>NaN</td>\n",
       "    </tr>\n",
       "  </tbody>\n",
       "</table>\n",
       "</div>"
      ],
      "text/plain": [
       "                       Name Platform  Year_of_Release         Genre  NA_sales  \\\n",
       "0                Wii Sports      Wii           2006.0        Sports     41.36   \n",
       "1         Super Mario Bros.      NES           1985.0      Platform     29.08   \n",
       "2            Mario Kart Wii      Wii           2008.0        Racing     15.68   \n",
       "3         Wii Sports Resort      Wii           2009.0        Sports     15.61   \n",
       "4  Pokemon Red/Pokemon Blue       GB           1996.0  Role-Playing     11.27   \n",
       "\n",
       "   EU_sales  JP_sales  Other_sales  Critic_Score User_Score Rating  \n",
       "0     28.96      3.77         8.45          76.0          8      E  \n",
       "1      3.58      6.81         0.77           NaN        NaN    NaN  \n",
       "2     12.76      3.79         3.29          82.0        8.3      E  \n",
       "3     10.93      3.28         2.95          80.0          8      E  \n",
       "4      8.89     10.22         1.00           NaN        NaN    NaN  "
      ]
     },
     "execution_count": 3,
     "metadata": {},
     "output_type": "execute_result"
    }
   ],
   "source": [
    "data.head()"
   ]
  },
  {
   "cell_type": "code",
   "execution_count": 4,
   "metadata": {},
   "outputs": [
    {
     "data": {
      "text/plain": [
       "Name                  2\n",
       "Platform              0\n",
       "Year_of_Release     269\n",
       "Genre                 2\n",
       "NA_sales              0\n",
       "EU_sales              0\n",
       "JP_sales              0\n",
       "Other_sales           0\n",
       "Critic_Score       8578\n",
       "User_Score         6701\n",
       "Rating             6766\n",
       "dtype: int64"
      ]
     },
     "execution_count": 4,
     "metadata": {},
     "output_type": "execute_result"
    }
   ],
   "source": [
    "data.isna().sum()"
   ]
  },
  {
   "cell_type": "code",
   "execution_count": 5,
   "metadata": {},
   "outputs": [
    {
     "name": "stdout",
     "output_type": "stream",
     "text": [
      "<class 'pandas.core.frame.DataFrame'>\n",
      "RangeIndex: 16715 entries, 0 to 16714\n",
      "Data columns (total 11 columns):\n",
      " #   Column           Non-Null Count  Dtype  \n",
      "---  ------           --------------  -----  \n",
      " 0   Name             16713 non-null  object \n",
      " 1   Platform         16715 non-null  object \n",
      " 2   Year_of_Release  16446 non-null  float64\n",
      " 3   Genre            16713 non-null  object \n",
      " 4   NA_sales         16715 non-null  float64\n",
      " 5   EU_sales         16715 non-null  float64\n",
      " 6   JP_sales         16715 non-null  float64\n",
      " 7   Other_sales      16715 non-null  float64\n",
      " 8   Critic_Score     8137 non-null   float64\n",
      " 9   User_Score       10014 non-null  object \n",
      " 10  Rating           9949 non-null   object \n",
      "dtypes: float64(6), object(5)\n",
      "memory usage: 1.4+ MB\n"
     ]
    }
   ],
   "source": [
    "data.info()"
   ]
  },
  {
   "cell_type": "markdown",
   "metadata": {},
   "source": [
    "Вывод: в таблице есть пропуски и неверные типы данных. Нужно это исправить. Не удастся заменить: пропуски в колонках имя, год выпуска, жанр, возрастной рейтинг, рейтинги игроков и критиков. Типы данных можно исправить в колонках: год выпуска (на int), оценки пользователей(на float)."
   ]
  },
  {
   "cell_type": "markdown",
   "metadata": {},
   "source": [
    "**Шаг 2. Подготовьте данные**"
   ]
  },
  {
   "cell_type": "markdown",
   "metadata": {},
   "source": [
    "Проверим, есть ли полные дубликаты"
   ]
  },
  {
   "cell_type": "code",
   "execution_count": 6,
   "metadata": {},
   "outputs": [],
   "source": [
    "#list(data['Name'].unique())"
   ]
  },
  {
   "cell_type": "code",
   "execution_count": 7,
   "metadata": {},
   "outputs": [],
   "source": [
    "data = data.drop_duplicates().reset_index(drop=True)"
   ]
  },
  {
   "cell_type": "code",
   "execution_count": 8,
   "metadata": {},
   "outputs": [
    {
     "data": {
      "text/plain": [
       "(16715, 11)"
      ]
     },
     "execution_count": 8,
     "metadata": {},
     "output_type": "execute_result"
    }
   ],
   "source": [
    "np.shape(data)"
   ]
  },
  {
   "cell_type": "markdown",
   "metadata": {},
   "source": [
    "Избавимся от пропусков"
   ]
  },
  {
   "cell_type": "markdown",
   "metadata": {},
   "source": [
    "Nan в рейтингах критиков и игроков нечем заменить. Медиана не подойдет"
   ]
  },
  {
   "cell_type": "code",
   "execution_count": 9,
   "metadata": {},
   "outputs": [
    {
     "data": {
      "text/plain": [
       "array([76., nan, 82., 80., 89., 58., 87., 91., 61., 97., 95., 77., 88.,\n",
       "       83., 94., 93., 85., 86., 98., 96., 90., 84., 73., 74., 78., 92.,\n",
       "       71., 72., 68., 62., 49., 67., 81., 66., 56., 79., 70., 59., 64.,\n",
       "       75., 60., 63., 69., 50., 25., 42., 44., 55., 48., 57., 29., 47.,\n",
       "       65., 54., 20., 53., 37., 38., 33., 52., 30., 32., 43., 45., 51.,\n",
       "       40., 46., 39., 34., 35., 41., 36., 28., 31., 27., 26., 19., 23.,\n",
       "       24., 21., 17., 22., 13.])"
      ]
     },
     "execution_count": 9,
     "metadata": {},
     "output_type": "execute_result"
    }
   ],
   "source": [
    "data['Critic_Score'].unique()"
   ]
  },
  {
   "cell_type": "code",
   "execution_count": 10,
   "metadata": {},
   "outputs": [
    {
     "data": {
      "text/plain": [
       "array(['8', nan, '8.3', '8.5', '6.6', '8.4', '8.6', '7.7', '6.3', '7.4',\n",
       "       '8.2', '9', '7.9', '8.1', '8.7', '7.1', '3.4', '5.3', '4.8', '3.2',\n",
       "       '8.9', '6.4', '7.8', '7.5', '2.6', '7.2', '9.2', '7', '7.3', '4.3',\n",
       "       '7.6', '5.7', '5', '9.1', '6.5', 'tbd', '8.8', '6.9', '9.4', '6.8',\n",
       "       '6.1', '6.7', '5.4', '4', '4.9', '4.5', '9.3', '6.2', '4.2', '6',\n",
       "       '3.7', '4.1', '5.8', '5.6', '5.5', '4.4', '4.6', '5.9', '3.9',\n",
       "       '3.1', '2.9', '5.2', '3.3', '4.7', '5.1', '3.5', '2.5', '1.9', '3',\n",
       "       '2.7', '2.2', '2', '9.5', '2.1', '3.6', '2.8', '1.8', '3.8', '0',\n",
       "       '1.6', '9.6', '2.4', '1.7', '1.1', '0.3', '1.5', '0.7', '1.2',\n",
       "       '2.3', '0.5', '1.3', '0.2', '0.6', '1.4', '0.9', '1', '9.7'],\n",
       "      dtype=object)"
      ]
     },
     "execution_count": 10,
     "metadata": {},
     "output_type": "execute_result"
    }
   ],
   "source": [
    "data['User_Score'].unique()"
   ]
  },
  {
   "cell_type": "markdown",
   "metadata": {},
   "source": [
    "TBD - to be desided. Значит, рейтинг еще неподсчитан. Заменять на медианное значение не стоит."
   ]
  },
  {
   "cell_type": "code",
   "execution_count": 11,
   "metadata": {},
   "outputs": [],
   "source": [
    "data = data[data['User_Score'] != 'tbd']"
   ]
  },
  {
   "cell_type": "markdown",
   "metadata": {},
   "source": [
    "Преобразуем типы данных"
   ]
  },
  {
   "cell_type": "code",
   "execution_count": 12,
   "metadata": {},
   "outputs": [
    {
     "name": "stdout",
     "output_type": "stream",
     "text": [
      "<class 'pandas.core.frame.DataFrame'>\n",
      "Int64Index: 14291 entries, 0 to 16714\n",
      "Data columns (total 11 columns):\n",
      " #   Column           Non-Null Count  Dtype  \n",
      "---  ------           --------------  -----  \n",
      " 0   Name             14289 non-null  object \n",
      " 1   Platform         14291 non-null  object \n",
      " 2   Year_of_Release  14070 non-null  float64\n",
      " 3   Genre            14289 non-null  object \n",
      " 4   NA_sales         14291 non-null  float64\n",
      " 5   EU_sales         14291 non-null  float64\n",
      " 6   JP_sales         14291 non-null  float64\n",
      " 7   Other_sales      14291 non-null  float64\n",
      " 8   Critic_Score     7055 non-null   float64\n",
      " 9   User_Score       7590 non-null   object \n",
      " 10  Rating           7575 non-null   object \n",
      "dtypes: float64(6), object(5)\n",
      "memory usage: 1.3+ MB\n"
     ]
    }
   ],
   "source": [
    "data.info()"
   ]
  },
  {
   "cell_type": "markdown",
   "metadata": {},
   "source": [
    "Удалим строки с пропусками в дате релиза, чтобы можно было привести весь столбец к целочисленным значениям"
   ]
  },
  {
   "cell_type": "code",
   "execution_count": 13,
   "metadata": {},
   "outputs": [],
   "source": [
    "data = data.dropna(subset=['Year_of_Release'])"
   ]
  },
  {
   "cell_type": "code",
   "execution_count": 14,
   "metadata": {},
   "outputs": [],
   "source": [
    "data['Year_of_Release'] = data['Year_of_Release'].astype(int)"
   ]
  },
  {
   "cell_type": "markdown",
   "metadata": {},
   "source": [
    "Остальные пропуски замением на Unknown"
   ]
  },
  {
   "cell_type": "code",
   "execution_count": 15,
   "metadata": {},
   "outputs": [],
   "source": [
    "data['Name'] = data['Name'].fillna('Unknown')"
   ]
  },
  {
   "cell_type": "code",
   "execution_count": 16,
   "metadata": {},
   "outputs": [],
   "source": [
    "data['Genre'] = data['Genre'].fillna('Unknown')"
   ]
  },
  {
   "cell_type": "code",
   "execution_count": 17,
   "metadata": {},
   "outputs": [],
   "source": [
    "data['Rating'] = data['Rating'].fillna('Unknown')"
   ]
  },
  {
   "cell_type": "markdown",
   "metadata": {},
   "source": [
    "Тип данных столбца с оценками игроков заменим на float"
   ]
  },
  {
   "cell_type": "code",
   "execution_count": 18,
   "metadata": {},
   "outputs": [],
   "source": [
    "data['User_Score'] = data['User_Score'].astype(float)"
   ]
  },
  {
   "cell_type": "code",
   "execution_count": 19,
   "metadata": {},
   "outputs": [
    {
     "data": {
      "text/plain": [
       "Name                  0\n",
       "Platform              0\n",
       "Year_of_Release       0\n",
       "Genre                 0\n",
       "NA_sales              0\n",
       "EU_sales              0\n",
       "JP_sales              0\n",
       "Other_sales           0\n",
       "Critic_Score       7143\n",
       "User_Score         6607\n",
       "Rating                0\n",
       "dtype: int64"
      ]
     },
     "execution_count": 19,
     "metadata": {},
     "output_type": "execute_result"
    }
   ],
   "source": [
    "data.isna().sum()"
   ]
  },
  {
   "cell_type": "code",
   "execution_count": 20,
   "metadata": {},
   "outputs": [
    {
     "name": "stdout",
     "output_type": "stream",
     "text": [
      "<class 'pandas.core.frame.DataFrame'>\n",
      "Int64Index: 14070 entries, 0 to 16714\n",
      "Data columns (total 11 columns):\n",
      " #   Column           Non-Null Count  Dtype  \n",
      "---  ------           --------------  -----  \n",
      " 0   Name             14070 non-null  object \n",
      " 1   Platform         14070 non-null  object \n",
      " 2   Year_of_Release  14070 non-null  int32  \n",
      " 3   Genre            14070 non-null  object \n",
      " 4   NA_sales         14070 non-null  float64\n",
      " 5   EU_sales         14070 non-null  float64\n",
      " 6   JP_sales         14070 non-null  float64\n",
      " 7   Other_sales      14070 non-null  float64\n",
      " 8   Critic_Score     6927 non-null   float64\n",
      " 9   User_Score       7463 non-null   float64\n",
      " 10  Rating           14070 non-null  object \n",
      "dtypes: float64(6), int32(1), object(4)\n",
      "memory usage: 1.2+ MB\n"
     ]
    }
   ],
   "source": [
    "data.info()"
   ]
  },
  {
   "cell_type": "markdown",
   "metadata": {},
   "source": [
    "Добавим столбец суммарных продаж по всем регионам"
   ]
  },
  {
   "cell_type": "code",
   "execution_count": 21,
   "metadata": {},
   "outputs": [],
   "source": [
    "data['Total_sales'] = data['NA_sales']+data['EU_sales']+data['JP_sales']+data['Other_sales']"
   ]
  },
  {
   "cell_type": "code",
   "execution_count": 22,
   "metadata": {},
   "outputs": [
    {
     "data": {
      "text/html": [
       "<div>\n",
       "<style scoped>\n",
       "    .dataframe tbody tr th:only-of-type {\n",
       "        vertical-align: middle;\n",
       "    }\n",
       "\n",
       "    .dataframe tbody tr th {\n",
       "        vertical-align: top;\n",
       "    }\n",
       "\n",
       "    .dataframe thead th {\n",
       "        text-align: right;\n",
       "    }\n",
       "</style>\n",
       "<table border=\"1\" class=\"dataframe\">\n",
       "  <thead>\n",
       "    <tr style=\"text-align: right;\">\n",
       "      <th></th>\n",
       "      <th>Name</th>\n",
       "      <th>Platform</th>\n",
       "      <th>Year_of_Release</th>\n",
       "      <th>Genre</th>\n",
       "      <th>NA_sales</th>\n",
       "      <th>EU_sales</th>\n",
       "      <th>JP_sales</th>\n",
       "      <th>Other_sales</th>\n",
       "      <th>Critic_Score</th>\n",
       "      <th>User_Score</th>\n",
       "      <th>Rating</th>\n",
       "      <th>Total_sales</th>\n",
       "    </tr>\n",
       "  </thead>\n",
       "  <tbody>\n",
       "    <tr>\n",
       "      <th>0</th>\n",
       "      <td>Wii Sports</td>\n",
       "      <td>Wii</td>\n",
       "      <td>2006</td>\n",
       "      <td>Sports</td>\n",
       "      <td>41.36</td>\n",
       "      <td>28.96</td>\n",
       "      <td>3.77</td>\n",
       "      <td>8.45</td>\n",
       "      <td>76.0</td>\n",
       "      <td>8.0</td>\n",
       "      <td>E</td>\n",
       "      <td>82.54</td>\n",
       "    </tr>\n",
       "    <tr>\n",
       "      <th>1</th>\n",
       "      <td>Super Mario Bros.</td>\n",
       "      <td>NES</td>\n",
       "      <td>1985</td>\n",
       "      <td>Platform</td>\n",
       "      <td>29.08</td>\n",
       "      <td>3.58</td>\n",
       "      <td>6.81</td>\n",
       "      <td>0.77</td>\n",
       "      <td>NaN</td>\n",
       "      <td>NaN</td>\n",
       "      <td>Unknown</td>\n",
       "      <td>40.24</td>\n",
       "    </tr>\n",
       "    <tr>\n",
       "      <th>2</th>\n",
       "      <td>Mario Kart Wii</td>\n",
       "      <td>Wii</td>\n",
       "      <td>2008</td>\n",
       "      <td>Racing</td>\n",
       "      <td>15.68</td>\n",
       "      <td>12.76</td>\n",
       "      <td>3.79</td>\n",
       "      <td>3.29</td>\n",
       "      <td>82.0</td>\n",
       "      <td>8.3</td>\n",
       "      <td>E</td>\n",
       "      <td>35.52</td>\n",
       "    </tr>\n",
       "    <tr>\n",
       "      <th>3</th>\n",
       "      <td>Wii Sports Resort</td>\n",
       "      <td>Wii</td>\n",
       "      <td>2009</td>\n",
       "      <td>Sports</td>\n",
       "      <td>15.61</td>\n",
       "      <td>10.93</td>\n",
       "      <td>3.28</td>\n",
       "      <td>2.95</td>\n",
       "      <td>80.0</td>\n",
       "      <td>8.0</td>\n",
       "      <td>E</td>\n",
       "      <td>32.77</td>\n",
       "    </tr>\n",
       "    <tr>\n",
       "      <th>4</th>\n",
       "      <td>Pokemon Red/Pokemon Blue</td>\n",
       "      <td>GB</td>\n",
       "      <td>1996</td>\n",
       "      <td>Role-Playing</td>\n",
       "      <td>11.27</td>\n",
       "      <td>8.89</td>\n",
       "      <td>10.22</td>\n",
       "      <td>1.00</td>\n",
       "      <td>NaN</td>\n",
       "      <td>NaN</td>\n",
       "      <td>Unknown</td>\n",
       "      <td>31.38</td>\n",
       "    </tr>\n",
       "  </tbody>\n",
       "</table>\n",
       "</div>"
      ],
      "text/plain": [
       "                       Name Platform  Year_of_Release         Genre  NA_sales  \\\n",
       "0                Wii Sports      Wii             2006        Sports     41.36   \n",
       "1         Super Mario Bros.      NES             1985      Platform     29.08   \n",
       "2            Mario Kart Wii      Wii             2008        Racing     15.68   \n",
       "3         Wii Sports Resort      Wii             2009        Sports     15.61   \n",
       "4  Pokemon Red/Pokemon Blue       GB             1996  Role-Playing     11.27   \n",
       "\n",
       "   EU_sales  JP_sales  Other_sales  Critic_Score  User_Score   Rating  \\\n",
       "0     28.96      3.77         8.45          76.0         8.0        E   \n",
       "1      3.58      6.81         0.77           NaN         NaN  Unknown   \n",
       "2     12.76      3.79         3.29          82.0         8.3        E   \n",
       "3     10.93      3.28         2.95          80.0         8.0        E   \n",
       "4      8.89     10.22         1.00           NaN         NaN  Unknown   \n",
       "\n",
       "   Total_sales  \n",
       "0        82.54  \n",
       "1        40.24  \n",
       "2        35.52  \n",
       "3        32.77  \n",
       "4        31.38  "
      ]
     },
     "execution_count": 22,
     "metadata": {},
     "output_type": "execute_result"
    }
   ],
   "source": [
    "data.head()"
   ]
  },
  {
   "cell_type": "markdown",
   "metadata": {},
   "source": [
    "Вывод: На этом шаге мы устранили все пропуски, и изменили типы данных на соответствующие. Пропуски в данных могли возникнуть из-за того, что таблица собиралась из различных открытых источников. Некоторые данные могли просто не найти, других данных, например, рейтингов от игроков могло не быть в принципе. Возможно, были совершены ошибки при сопоставлении данных из разных источников. Никогда не исключаем фактор человеческой ошибки или сбоя при переносе/обработке данных."
   ]
  },
  {
   "cell_type": "markdown",
   "metadata": {},
   "source": [
    "Изменим регистр названий колонок"
   ]
  },
  {
   "cell_type": "code",
   "execution_count": 23,
   "metadata": {},
   "outputs": [],
   "source": [
    "data.columns= data.columns.str.lower()"
   ]
  },
  {
   "cell_type": "markdown",
   "metadata": {},
   "source": [
    "**Шаг 3. Исследовательский анализ данных**"
   ]
  },
  {
   "cell_type": "markdown",
   "metadata": {},
   "source": [
    "3.1 Посмотрим, сколько игр выпускалось в разные годы"
   ]
  },
  {
   "cell_type": "code",
   "execution_count": 24,
   "metadata": {},
   "outputs": [],
   "source": [
    "data_grouped_release = data.groupby('year_of_release')['name'].count()"
   ]
  },
  {
   "cell_type": "code",
   "execution_count": 25,
   "metadata": {},
   "outputs": [
    {
     "name": "stdout",
     "output_type": "stream",
     "text": [
      "year_of_release\n",
      "1980     9\n",
      "1981    46\n",
      "1982    36\n",
      "1983    17\n",
      "1984    14\n",
      "Name: name, dtype: int64\n"
     ]
    }
   ],
   "source": [
    "print(data_grouped_release.head())"
   ]
  },
  {
   "cell_type": "code",
   "execution_count": 26,
   "metadata": {},
   "outputs": [
    {
     "data": {
      "image/png": "[encoded data removed]",
      "text/plain": [
       "<Figure size 640x480 with 1 Axes>"
      ]
     },
     "metadata": {},
     "output_type": "display_data"
    }
   ],
   "source": [
    "data_grouped_release.plot();"
   ]
  },
  {
   "cell_type": "markdown",
   "metadata": {},
   "source": [
    "В 80-е 90-е годы каждый год выпускалось примерно одно и то-же количество новых игр. Эти данные, вероятно, нам не слишком неинтересны, но и удалять их незачем."
   ]
  },
  {
   "cell_type": "markdown",
   "metadata": {},
   "source": [
    "3.2 Посмотрите, как менялись продажи по платформам. Выберите платформы с наибольшими суммарными продажами и постройте распределение по годам. За какой характерный срок появляются новые и исчезают старые платформы?"
   ]
  },
  {
   "cell_type": "code",
   "execution_count": 27,
   "metadata": {},
   "outputs": [],
   "source": [
    "data_grouped_platform = data.groupby('platform')['total_sales'].sum()"
   ]
  },
  {
   "cell_type": "code",
   "execution_count": 28,
   "metadata": {},
   "outputs": [
    {
     "data": {
      "text/plain": [
       "platform\n",
       "PS2     1171.19\n",
       "X360     948.74\n",
       "PS3      921.09\n",
       "Wii      791.91\n",
       "PS       714.26\n",
       "DS       655.36\n",
       "PS4      314.00\n",
       "PSP      273.11\n",
       "GBA      263.70\n",
       "GB       254.43\n",
       "3DS      253.24\n",
       "PC       252.25\n",
       "NES      251.05\n",
       "XB       236.38\n",
       "N64      218.01\n",
       "SNES     200.04\n",
       "GC       185.68\n",
       "XOne     158.77\n",
       "Name: total_sales, dtype: float64"
      ]
     },
     "execution_count": 28,
     "metadata": {},
     "output_type": "execute_result"
    }
   ],
   "source": [
    "data_grouped_platform.sort_values(ascending=False).head(18)"
   ]
  },
  {
   "cell_type": "code",
   "execution_count": 29,
   "metadata": {},
   "outputs": [],
   "source": [
    "top_platforms = data_grouped_platform.sort_values(ascending=False).head(18).index.tolist()"
   ]
  },
  {
   "cell_type": "code",
   "execution_count": 30,
   "metadata": {},
   "outputs": [],
   "source": [
    "data_top_platform_slice = data.query('platform in @top_platforms').pivot_table(index= ['year_of_release', 'platform'],\\\n",
    "                                                                               values='total_sales', aggfunc='sum')"
   ]
  },
  {
   "cell_type": "code",
   "execution_count": 31,
   "metadata": {},
   "outputs": [
    {
     "data": {
      "text/html": [
       "<div>\n",
       "<style scoped>\n",
       "    .dataframe tbody tr th:only-of-type {\n",
       "        vertical-align: middle;\n",
       "    }\n",
       "\n",
       "    .dataframe tbody tr th {\n",
       "        vertical-align: top;\n",
       "    }\n",
       "\n",
       "    .dataframe thead th {\n",
       "        text-align: right;\n",
       "    }\n",
       "</style>\n",
       "<table border=\"1\" class=\"dataframe\">\n",
       "  <thead>\n",
       "    <tr style=\"text-align: right;\">\n",
       "      <th></th>\n",
       "      <th></th>\n",
       "      <th>total_sales</th>\n",
       "    </tr>\n",
       "    <tr>\n",
       "      <th>year_of_release</th>\n",
       "      <th>platform</th>\n",
       "      <th></th>\n",
       "    </tr>\n",
       "  </thead>\n",
       "  <tbody>\n",
       "    <tr>\n",
       "      <th>1983</th>\n",
       "      <th>NES</th>\n",
       "      <td>10.96</td>\n",
       "    </tr>\n",
       "    <tr>\n",
       "      <th>1984</th>\n",
       "      <th>NES</th>\n",
       "      <td>50.08</td>\n",
       "    </tr>\n",
       "    <tr>\n",
       "      <th rowspan=\"3\" valign=\"top\">1985</th>\n",
       "      <th>DS</th>\n",
       "      <td>0.02</td>\n",
       "    </tr>\n",
       "    <tr>\n",
       "      <th>NES</th>\n",
       "      <td>53.44</td>\n",
       "    </tr>\n",
       "    <tr>\n",
       "      <th>PC</th>\n",
       "      <td>0.04</td>\n",
       "    </tr>\n",
       "    <tr>\n",
       "      <th>1986</th>\n",
       "      <th>NES</th>\n",
       "      <td>36.41</td>\n",
       "    </tr>\n",
       "    <tr>\n",
       "      <th>1987</th>\n",
       "      <th>NES</th>\n",
       "      <td>19.76</td>\n",
       "    </tr>\n",
       "    <tr>\n",
       "      <th rowspan=\"3\" valign=\"top\">1988</th>\n",
       "      <th>GB</th>\n",
       "      <td>1.43</td>\n",
       "    </tr>\n",
       "    <tr>\n",
       "      <th>NES</th>\n",
       "      <td>45.01</td>\n",
       "    </tr>\n",
       "    <tr>\n",
       "      <th>PC</th>\n",
       "      <td>0.03</td>\n",
       "    </tr>\n",
       "    <tr>\n",
       "      <th rowspan=\"2\" valign=\"top\">1989</th>\n",
       "      <th>GB</th>\n",
       "      <td>64.97</td>\n",
       "    </tr>\n",
       "    <tr>\n",
       "      <th>NES</th>\n",
       "      <td>7.85</td>\n",
       "    </tr>\n",
       "    <tr>\n",
       "      <th rowspan=\"3\" valign=\"top\">1990</th>\n",
       "      <th>GB</th>\n",
       "      <td>4.89</td>\n",
       "    </tr>\n",
       "    <tr>\n",
       "      <th>NES</th>\n",
       "      <td>15.73</td>\n",
       "    </tr>\n",
       "    <tr>\n",
       "      <th>SNES</th>\n",
       "      <td>26.15</td>\n",
       "    </tr>\n",
       "    <tr>\n",
       "      <th rowspan=\"3\" valign=\"top\">1991</th>\n",
       "      <th>GB</th>\n",
       "      <td>5.57</td>\n",
       "    </tr>\n",
       "    <tr>\n",
       "      <th>NES</th>\n",
       "      <td>6.11</td>\n",
       "    </tr>\n",
       "    <tr>\n",
       "      <th>SNES</th>\n",
       "      <td>16.22</td>\n",
       "    </tr>\n",
       "    <tr>\n",
       "      <th rowspan=\"4\" valign=\"top\">1992</th>\n",
       "      <th>GB</th>\n",
       "      <td>25.49</td>\n",
       "    </tr>\n",
       "    <tr>\n",
       "      <th>NES</th>\n",
       "      <td>1.98</td>\n",
       "    </tr>\n",
       "    <tr>\n",
       "      <th>PC</th>\n",
       "      <td>3.03</td>\n",
       "    </tr>\n",
       "    <tr>\n",
       "      <th>SNES</th>\n",
       "      <td>32.98</td>\n",
       "    </tr>\n",
       "    <tr>\n",
       "      <th rowspan=\"2\" valign=\"top\">1993</th>\n",
       "      <th>NES</th>\n",
       "      <td>3.61</td>\n",
       "    </tr>\n",
       "    <tr>\n",
       "      <th>SNES</th>\n",
       "      <td>40.02</td>\n",
       "    </tr>\n",
       "    <tr>\n",
       "      <th rowspan=\"5\" valign=\"top\">1994</th>\n",
       "      <th>GB</th>\n",
       "      <td>12.18</td>\n",
       "    </tr>\n",
       "    <tr>\n",
       "      <th>NES</th>\n",
       "      <td>0.11</td>\n",
       "    </tr>\n",
       "    <tr>\n",
       "      <th>PC</th>\n",
       "      <td>12.87</td>\n",
       "    </tr>\n",
       "    <tr>\n",
       "      <th>PS</th>\n",
       "      <td>6.03</td>\n",
       "    </tr>\n",
       "    <tr>\n",
       "      <th>SNES</th>\n",
       "      <td>35.08</td>\n",
       "    </tr>\n",
       "    <tr>\n",
       "      <th rowspan=\"4\" valign=\"top\">1995</th>\n",
       "      <th>GB</th>\n",
       "      <td>3.60</td>\n",
       "    </tr>\n",
       "    <tr>\n",
       "      <th>PC</th>\n",
       "      <td>4.22</td>\n",
       "    </tr>\n",
       "    <tr>\n",
       "      <th>PS</th>\n",
       "      <td>35.96</td>\n",
       "    </tr>\n",
       "    <tr>\n",
       "      <th>SNES</th>\n",
       "      <td>32.20</td>\n",
       "    </tr>\n",
       "    <tr>\n",
       "      <th rowspan=\"5\" valign=\"top\">1996</th>\n",
       "      <th>GB</th>\n",
       "      <td>36.03</td>\n",
       "    </tr>\n",
       "    <tr>\n",
       "      <th>N64</th>\n",
       "      <td>34.10</td>\n",
       "    </tr>\n",
       "    <tr>\n",
       "      <th>PC</th>\n",
       "      <td>10.58</td>\n",
       "    </tr>\n",
       "    <tr>\n",
       "      <th>PS</th>\n",
       "      <td>94.70</td>\n",
       "    </tr>\n",
       "    <tr>\n",
       "      <th>SNES</th>\n",
       "      <td>15.92</td>\n",
       "    </tr>\n",
       "    <tr>\n",
       "      <th rowspan=\"5\" valign=\"top\">1997</th>\n",
       "      <th>GB</th>\n",
       "      <td>6.37</td>\n",
       "    </tr>\n",
       "    <tr>\n",
       "      <th>N64</th>\n",
       "      <td>39.50</td>\n",
       "    </tr>\n",
       "    <tr>\n",
       "      <th>PC</th>\n",
       "      <td>11.27</td>\n",
       "    </tr>\n",
       "    <tr>\n",
       "      <th>PS</th>\n",
       "      <td>136.12</td>\n",
       "    </tr>\n",
       "    <tr>\n",
       "      <th>SNES</th>\n",
       "      <td>0.99</td>\n",
       "    </tr>\n",
       "    <tr>\n",
       "      <th rowspan=\"5\" valign=\"top\">1998</th>\n",
       "      <th>GB</th>\n",
       "      <td>26.90</td>\n",
       "    </tr>\n",
       "    <tr>\n",
       "      <th>N64</th>\n",
       "      <td>49.24</td>\n",
       "    </tr>\n",
       "    <tr>\n",
       "      <th>PC</th>\n",
       "      <td>3.26</td>\n",
       "    </tr>\n",
       "    <tr>\n",
       "      <th>PS</th>\n",
       "      <td>169.49</td>\n",
       "    </tr>\n",
       "    <tr>\n",
       "      <th>SNES</th>\n",
       "      <td>0.22</td>\n",
       "    </tr>\n",
       "    <tr>\n",
       "      <th rowspan=\"5\" valign=\"top\">1999</th>\n",
       "      <th>GB</th>\n",
       "      <td>38.00</td>\n",
       "    </tr>\n",
       "    <tr>\n",
       "      <th>N64</th>\n",
       "      <td>57.87</td>\n",
       "    </tr>\n",
       "    <tr>\n",
       "      <th>PC</th>\n",
       "      <td>2.80</td>\n",
       "    </tr>\n",
       "    <tr>\n",
       "      <th>PS</th>\n",
       "      <td>142.19</td>\n",
       "    </tr>\n",
       "    <tr>\n",
       "      <th>SNES</th>\n",
       "      <td>0.26</td>\n",
       "    </tr>\n",
       "    <tr>\n",
       "      <th rowspan=\"7\" valign=\"top\">2000</th>\n",
       "      <th>GB</th>\n",
       "      <td>19.76</td>\n",
       "    </tr>\n",
       "    <tr>\n",
       "      <th>GBA</th>\n",
       "      <td>0.07</td>\n",
       "    </tr>\n",
       "    <tr>\n",
       "      <th>N64</th>\n",
       "      <td>33.97</td>\n",
       "    </tr>\n",
       "    <tr>\n",
       "      <th>PC</th>\n",
       "      <td>4.66</td>\n",
       "    </tr>\n",
       "    <tr>\n",
       "      <th>PS</th>\n",
       "      <td>86.71</td>\n",
       "    </tr>\n",
       "    <tr>\n",
       "      <th>PS2</th>\n",
       "      <td>34.91</td>\n",
       "    </tr>\n",
       "    <tr>\n",
       "      <th>XB</th>\n",
       "      <td>0.99</td>\n",
       "    </tr>\n",
       "  </tbody>\n",
       "</table>\n",
       "</div>"
      ],
      "text/plain": [
       "                          total_sales\n",
       "year_of_release platform             \n",
       "1983            NES             10.96\n",
       "1984            NES             50.08\n",
       "1985            DS               0.02\n",
       "                NES             53.44\n",
       "                PC               0.04\n",
       "1986            NES             36.41\n",
       "1987            NES             19.76\n",
       "1988            GB               1.43\n",
       "                NES             45.01\n",
       "                PC               0.03\n",
       "1989            GB              64.97\n",
       "                NES              7.85\n",
       "1990            GB               4.89\n",
       "                NES             15.73\n",
       "                SNES            26.15\n",
       "1991            GB               5.57\n",
       "                NES              6.11\n",
       "                SNES            16.22\n",
       "1992            GB              25.49\n",
       "                NES              1.98\n",
       "                PC               3.03\n",
       "                SNES            32.98\n",
       "1993            NES              3.61\n",
       "                SNES            40.02\n",
       "1994            GB              12.18\n",
       "                NES              0.11\n",
       "                PC              12.87\n",
       "                PS               6.03\n",
       "                SNES            35.08\n",
       "1995            GB               3.60\n",
       "                PC               4.22\n",
       "                PS              35.96\n",
       "                SNES            32.20\n",
       "1996            GB              36.03\n",
       "                N64             34.10\n",
       "                PC              10.58\n",
       "                PS              94.70\n",
       "                SNES            15.92\n",
       "1997            GB               6.37\n",
       "                N64             39.50\n",
       "                PC              11.27\n",
       "                PS             136.12\n",
       "                SNES             0.99\n",
       "1998            GB              26.90\n",
       "                N64             49.24\n",
       "                PC               3.26\n",
       "                PS             169.49\n",
       "                SNES             0.22\n",
       "1999            GB              38.00\n",
       "                N64             57.87\n",
       "                PC               2.80\n",
       "                PS             142.19\n",
       "                SNES             0.26\n",
       "2000            GB              19.76\n",
       "                GBA              0.07\n",
       "                N64             33.97\n",
       "                PC               4.66\n",
       "                PS              86.71\n",
       "                PS2             34.91\n",
       "                XB               0.99"
      ]
     },
     "execution_count": 31,
     "metadata": {},
     "output_type": "execute_result"
    }
   ],
   "source": [
    "data_top_platform_slice.head(60)"
   ]
  },
  {
   "cell_type": "markdown",
   "metadata": {},
   "source": [
    "Похоже, что каждые 10 лет появляется новая версия платформы, а старая приходит в упадок."
   ]
  },
  {
   "cell_type": "markdown",
   "metadata": {},
   "source": [
    "3.3/3.4 Возьмите данные за соответствующий актуальный период. Актуальный период определите самостоятельно в результате исследования предыдущих вопросов. Основной фактор — эти данные помогут построить прогноз на 2017 год. Не учитывайте в работе данные за предыдущие годы."
   ]
  },
  {
   "cell_type": "code",
   "execution_count": 32,
   "metadata": {},
   "outputs": [
    {
     "name": "stdout",
     "output_type": "stream",
     "text": [
      "[2006 1985 2008 2009 1996 1989 1984 2005 1999 2007 2010 2013 2004 1990\n",
      " 1988 2002 2001 2011 1998 2015 2012 2014 1992 1997 1993 1994 1982 2016\n",
      " 2003 1986 2000 1995 1991 1981 1987 1980 1983]\n"
     ]
    }
   ],
   "source": [
    "print(data['year_of_release'].unique())"
   ]
  },
  {
   "cell_type": "code",
   "execution_count": 33,
   "metadata": {},
   "outputs": [],
   "source": [
    "years = data['year_of_release'].unique()"
   ]
  },
  {
   "cell_type": "code",
   "execution_count": 34,
   "metadata": {},
   "outputs": [],
   "source": [
    "years = sorted(years, reverse=True)"
   ]
  },
  {
   "cell_type": "code",
   "execution_count": 35,
   "metadata": {},
   "outputs": [],
   "source": [
    "years_actual = years[0:3]"
   ]
  },
  {
   "cell_type": "code",
   "execution_count": 36,
   "metadata": {},
   "outputs": [
    {
     "name": "stdout",
     "output_type": "stream",
     "text": [
      "[2016, 2015, 2014]\n"
     ]
    }
   ],
   "source": [
    "print(years_actual)"
   ]
  },
  {
   "cell_type": "code",
   "execution_count": 37,
   "metadata": {},
   "outputs": [],
   "source": [
    "data_actual = data.query('year_of_release in @years_actual')"
   ]
  },
  {
   "cell_type": "code",
   "execution_count": 38,
   "metadata": {},
   "outputs": [
    {
     "data": {
      "text/html": [
       "<div>\n",
       "<style scoped>\n",
       "    .dataframe tbody tr th:only-of-type {\n",
       "        vertical-align: middle;\n",
       "    }\n",
       "\n",
       "    .dataframe tbody tr th {\n",
       "        vertical-align: top;\n",
       "    }\n",
       "\n",
       "    .dataframe thead th {\n",
       "        text-align: right;\n",
       "    }\n",
       "</style>\n",
       "<table border=\"1\" class=\"dataframe\">\n",
       "  <thead>\n",
       "    <tr style=\"text-align: right;\">\n",
       "      <th></th>\n",
       "      <th>name</th>\n",
       "      <th>platform</th>\n",
       "      <th>year_of_release</th>\n",
       "      <th>genre</th>\n",
       "      <th>na_sales</th>\n",
       "      <th>eu_sales</th>\n",
       "      <th>jp_sales</th>\n",
       "      <th>other_sales</th>\n",
       "      <th>critic_score</th>\n",
       "      <th>user_score</th>\n",
       "      <th>rating</th>\n",
       "      <th>total_sales</th>\n",
       "    </tr>\n",
       "  </thead>\n",
       "  <tbody>\n",
       "    <tr>\n",
       "      <th>31</th>\n",
       "      <td>Call of Duty: Black Ops 3</td>\n",
       "      <td>PS4</td>\n",
       "      <td>2015</td>\n",
       "      <td>Shooter</td>\n",
       "      <td>6.03</td>\n",
       "      <td>5.86</td>\n",
       "      <td>0.36</td>\n",
       "      <td>2.38</td>\n",
       "      <td>NaN</td>\n",
       "      <td>NaN</td>\n",
       "      <td>Unknown</td>\n",
       "      <td>14.63</td>\n",
       "    </tr>\n",
       "    <tr>\n",
       "      <th>42</th>\n",
       "      <td>Grand Theft Auto V</td>\n",
       "      <td>PS4</td>\n",
       "      <td>2014</td>\n",
       "      <td>Action</td>\n",
       "      <td>3.96</td>\n",
       "      <td>6.31</td>\n",
       "      <td>0.38</td>\n",
       "      <td>1.97</td>\n",
       "      <td>97.0</td>\n",
       "      <td>8.3</td>\n",
       "      <td>M</td>\n",
       "      <td>12.62</td>\n",
       "    </tr>\n",
       "    <tr>\n",
       "      <th>47</th>\n",
       "      <td>Pokemon Omega Ruby/Pokemon Alpha Sapphire</td>\n",
       "      <td>3DS</td>\n",
       "      <td>2014</td>\n",
       "      <td>Role-Playing</td>\n",
       "      <td>4.35</td>\n",
       "      <td>3.49</td>\n",
       "      <td>3.10</td>\n",
       "      <td>0.74</td>\n",
       "      <td>NaN</td>\n",
       "      <td>NaN</td>\n",
       "      <td>Unknown</td>\n",
       "      <td>11.68</td>\n",
       "    </tr>\n",
       "    <tr>\n",
       "      <th>77</th>\n",
       "      <td>FIFA 16</td>\n",
       "      <td>PS4</td>\n",
       "      <td>2015</td>\n",
       "      <td>Sports</td>\n",
       "      <td>1.12</td>\n",
       "      <td>6.12</td>\n",
       "      <td>0.06</td>\n",
       "      <td>1.28</td>\n",
       "      <td>82.0</td>\n",
       "      <td>4.3</td>\n",
       "      <td>E</td>\n",
       "      <td>8.58</td>\n",
       "    </tr>\n",
       "    <tr>\n",
       "      <th>87</th>\n",
       "      <td>Star Wars Battlefront (2015)</td>\n",
       "      <td>PS4</td>\n",
       "      <td>2015</td>\n",
       "      <td>Shooter</td>\n",
       "      <td>2.99</td>\n",
       "      <td>3.49</td>\n",
       "      <td>0.22</td>\n",
       "      <td>1.28</td>\n",
       "      <td>NaN</td>\n",
       "      <td>NaN</td>\n",
       "      <td>Unknown</td>\n",
       "      <td>7.98</td>\n",
       "    </tr>\n",
       "  </tbody>\n",
       "</table>\n",
       "</div>"
      ],
      "text/plain": [
       "                                         name platform  year_of_release  \\\n",
       "31                  Call of Duty: Black Ops 3      PS4             2015   \n",
       "42                         Grand Theft Auto V      PS4             2014   \n",
       "47  Pokemon Omega Ruby/Pokemon Alpha Sapphire      3DS             2014   \n",
       "77                                    FIFA 16      PS4             2015   \n",
       "87               Star Wars Battlefront (2015)      PS4             2015   \n",
       "\n",
       "           genre  na_sales  eu_sales  jp_sales  other_sales  critic_score  \\\n",
       "31       Shooter      6.03      5.86      0.36         2.38           NaN   \n",
       "42        Action      3.96      6.31      0.38         1.97          97.0   \n",
       "47  Role-Playing      4.35      3.49      3.10         0.74           NaN   \n",
       "77        Sports      1.12      6.12      0.06         1.28          82.0   \n",
       "87       Shooter      2.99      3.49      0.22         1.28           NaN   \n",
       "\n",
       "    user_score   rating  total_sales  \n",
       "31         NaN  Unknown        14.63  \n",
       "42         8.3        M        12.62  \n",
       "47         NaN  Unknown        11.68  \n",
       "77         4.3        E         8.58  \n",
       "87         NaN  Unknown         7.98  "
      ]
     },
     "execution_count": 38,
     "metadata": {},
     "output_type": "execute_result"
    }
   ],
   "source": [
    "data_actual.head()"
   ]
  },
  {
   "cell_type": "markdown",
   "metadata": {},
   "source": [
    "3.5 Какие платформы лидируют по продажам, растут или падают? Выберите несколько потенциально прибыльных платформ."
   ]
  },
  {
   "cell_type": "code",
   "execution_count": 39,
   "metadata": {},
   "outputs": [],
   "source": [
    "data_actual_grouped_platform = data_actual.groupby('platform')['total_sales'].sum()"
   ]
  },
  {
   "cell_type": "code",
   "execution_count": 40,
   "metadata": {},
   "outputs": [
    {
     "data": {
      "text/plain": [
       "platform\n",
       "PS4     288.01\n",
       "XOne    139.81\n",
       "3DS      85.38\n",
       "PS3      66.86\n",
       "X360     46.86\n",
       "WiiU     42.58\n",
       "PC       26.96\n",
       "PSV      22.09\n",
       "Wii       2.76\n",
       "PSP       0.36\n",
       "Name: total_sales, dtype: float64"
      ]
     },
     "execution_count": 40,
     "metadata": {},
     "output_type": "execute_result"
    }
   ],
   "source": [
    "data_actual_grouped_platform.sort_values(ascending=False).head(10)"
   ]
  },
  {
   "cell_type": "markdown",
   "metadata": {},
   "source": [
    "Лидеры среди платформ по продажам игр: PS3, X360, Wii, DS, PS4, 3DS, PSP, PC, XOne, PS2"
   ]
  },
  {
   "cell_type": "markdown",
   "metadata": {},
   "source": [
    "Посмотрим динамику продаж"
   ]
  },
  {
   "cell_type": "code",
   "execution_count": 41,
   "metadata": {},
   "outputs": [],
   "source": [
    "top_actual_platforms = data_actual_grouped_platform.sort_values(ascending=False).head(10).index.tolist()"
   ]
  },
  {
   "cell_type": "code",
   "execution_count": 42,
   "metadata": {},
   "outputs": [],
   "source": [
    "data_actual_top_platform_slice = data_actual.query('platform in @top_actual_platforms').pivot_table(index= ['year_of_release', 'platform'],\\\n",
    "                                                                               values='total_sales', aggfunc='sum')"
   ]
  },
  {
   "cell_type": "code",
   "execution_count": 43,
   "metadata": {},
   "outputs": [
    {
     "data": {
      "text/html": [
       "<div>\n",
       "<style scoped>\n",
       "    .dataframe tbody tr th:only-of-type {\n",
       "        vertical-align: middle;\n",
       "    }\n",
       "\n",
       "    .dataframe tbody tr th {\n",
       "        vertical-align: top;\n",
       "    }\n",
       "\n",
       "    .dataframe thead th {\n",
       "        text-align: right;\n",
       "    }\n",
       "</style>\n",
       "<table border=\"1\" class=\"dataframe\">\n",
       "  <thead>\n",
       "    <tr style=\"text-align: right;\">\n",
       "      <th></th>\n",
       "      <th></th>\n",
       "      <th>total_sales</th>\n",
       "    </tr>\n",
       "    <tr>\n",
       "      <th>year_of_release</th>\n",
       "      <th>platform</th>\n",
       "      <th></th>\n",
       "    </tr>\n",
       "  </thead>\n",
       "  <tbody>\n",
       "    <tr>\n",
       "      <th rowspan=\"10\" valign=\"top\">2014</th>\n",
       "      <th>3DS</th>\n",
       "      <td>43.07</td>\n",
       "    </tr>\n",
       "    <tr>\n",
       "      <th>PC</th>\n",
       "      <td>13.25</td>\n",
       "    </tr>\n",
       "    <tr>\n",
       "      <th>PS3</th>\n",
       "      <td>47.40</td>\n",
       "    </tr>\n",
       "    <tr>\n",
       "      <th>PS4</th>\n",
       "      <td>100.00</td>\n",
       "    </tr>\n",
       "    <tr>\n",
       "      <th>PSP</th>\n",
       "      <td>0.24</td>\n",
       "    </tr>\n",
       "    <tr>\n",
       "      <th>PSV</th>\n",
       "      <td>11.90</td>\n",
       "    </tr>\n",
       "    <tr>\n",
       "      <th>Wii</th>\n",
       "      <td>2.61</td>\n",
       "    </tr>\n",
       "    <tr>\n",
       "      <th>WiiU</th>\n",
       "      <td>22.01</td>\n",
       "    </tr>\n",
       "    <tr>\n",
       "      <th>X360</th>\n",
       "      <td>33.77</td>\n",
       "    </tr>\n",
       "    <tr>\n",
       "      <th>XOne</th>\n",
       "      <td>54.07</td>\n",
       "    </tr>\n",
       "    <tr>\n",
       "      <th rowspan=\"10\" valign=\"top\">2015</th>\n",
       "      <th>3DS</th>\n",
       "      <td>27.21</td>\n",
       "    </tr>\n",
       "    <tr>\n",
       "      <th>PC</th>\n",
       "      <td>8.49</td>\n",
       "    </tr>\n",
       "    <tr>\n",
       "      <th>PS3</th>\n",
       "      <td>16.30</td>\n",
       "    </tr>\n",
       "    <tr>\n",
       "      <th>PS4</th>\n",
       "      <td>118.86</td>\n",
       "    </tr>\n",
       "    <tr>\n",
       "      <th>PSP</th>\n",
       "      <td>0.12</td>\n",
       "    </tr>\n",
       "    <tr>\n",
       "      <th>PSV</th>\n",
       "      <td>5.95</td>\n",
       "    </tr>\n",
       "    <tr>\n",
       "      <th>Wii</th>\n",
       "      <td>0.15</td>\n",
       "    </tr>\n",
       "    <tr>\n",
       "      <th>WiiU</th>\n",
       "      <td>16.27</td>\n",
       "    </tr>\n",
       "    <tr>\n",
       "      <th>X360</th>\n",
       "      <td>11.87</td>\n",
       "    </tr>\n",
       "    <tr>\n",
       "      <th>XOne</th>\n",
       "      <td>59.92</td>\n",
       "    </tr>\n",
       "    <tr>\n",
       "      <th rowspan=\"8\" valign=\"top\">2016</th>\n",
       "      <th>3DS</th>\n",
       "      <td>15.10</td>\n",
       "    </tr>\n",
       "    <tr>\n",
       "      <th>PC</th>\n",
       "      <td>5.22</td>\n",
       "    </tr>\n",
       "    <tr>\n",
       "      <th>PS3</th>\n",
       "      <td>3.16</td>\n",
       "    </tr>\n",
       "    <tr>\n",
       "      <th>PS4</th>\n",
       "      <td>69.15</td>\n",
       "    </tr>\n",
       "    <tr>\n",
       "      <th>PSV</th>\n",
       "      <td>4.24</td>\n",
       "    </tr>\n",
       "    <tr>\n",
       "      <th>WiiU</th>\n",
       "      <td>4.30</td>\n",
       "    </tr>\n",
       "    <tr>\n",
       "      <th>X360</th>\n",
       "      <td>1.22</td>\n",
       "    </tr>\n",
       "    <tr>\n",
       "      <th>XOne</th>\n",
       "      <td>25.82</td>\n",
       "    </tr>\n",
       "  </tbody>\n",
       "</table>\n",
       "</div>"
      ],
      "text/plain": [
       "                          total_sales\n",
       "year_of_release platform             \n",
       "2014            3DS             43.07\n",
       "                PC              13.25\n",
       "                PS3             47.40\n",
       "                PS4            100.00\n",
       "                PSP              0.24\n",
       "                PSV             11.90\n",
       "                Wii              2.61\n",
       "                WiiU            22.01\n",
       "                X360            33.77\n",
       "                XOne            54.07\n",
       "2015            3DS             27.21\n",
       "                PC               8.49\n",
       "                PS3             16.30\n",
       "                PS4            118.86\n",
       "                PSP              0.12\n",
       "                PSV              5.95\n",
       "                Wii              0.15\n",
       "                WiiU            16.27\n",
       "                X360            11.87\n",
       "                XOne            59.92\n",
       "2016            3DS             15.10\n",
       "                PC               5.22\n",
       "                PS3              3.16\n",
       "                PS4             69.15\n",
       "                PSV              4.24\n",
       "                WiiU             4.30\n",
       "                X360             1.22\n",
       "                XOne            25.82"
      ]
     },
     "execution_count": 43,
     "metadata": {},
     "output_type": "execute_result"
    }
   ],
   "source": [
    "data_actual_top_platform_slice.head(60)"
   ]
  },
  {
   "cell_type": "code",
   "execution_count": 44,
   "metadata": {},
   "outputs": [
    {
     "data": {
      "text/html": [
       "<div>\n",
       "<style scoped>\n",
       "    .dataframe tbody tr th:only-of-type {\n",
       "        vertical-align: middle;\n",
       "    }\n",
       "\n",
       "    .dataframe tbody tr th {\n",
       "        vertical-align: top;\n",
       "    }\n",
       "\n",
       "    .dataframe thead th {\n",
       "        text-align: right;\n",
       "    }\n",
       "</style>\n",
       "<table border=\"1\" class=\"dataframe\">\n",
       "  <thead>\n",
       "    <tr style=\"text-align: right;\">\n",
       "      <th></th>\n",
       "      <th></th>\n",
       "      <th>total_sales</th>\n",
       "    </tr>\n",
       "    <tr>\n",
       "      <th>year_of_release</th>\n",
       "      <th>platform</th>\n",
       "      <th></th>\n",
       "    </tr>\n",
       "  </thead>\n",
       "  <tbody>\n",
       "    <tr>\n",
       "      <th rowspan=\"5\" valign=\"top\">2014</th>\n",
       "      <th>PSV</th>\n",
       "      <td>11.90</td>\n",
       "    </tr>\n",
       "    <tr>\n",
       "      <th>Wii</th>\n",
       "      <td>2.61</td>\n",
       "    </tr>\n",
       "    <tr>\n",
       "      <th>WiiU</th>\n",
       "      <td>22.01</td>\n",
       "    </tr>\n",
       "    <tr>\n",
       "      <th>X360</th>\n",
       "      <td>33.77</td>\n",
       "    </tr>\n",
       "    <tr>\n",
       "      <th>XOne</th>\n",
       "      <td>54.07</td>\n",
       "    </tr>\n",
       "    <tr>\n",
       "      <th rowspan=\"10\" valign=\"top\">2015</th>\n",
       "      <th>3DS</th>\n",
       "      <td>27.21</td>\n",
       "    </tr>\n",
       "    <tr>\n",
       "      <th>PC</th>\n",
       "      <td>8.49</td>\n",
       "    </tr>\n",
       "    <tr>\n",
       "      <th>PS3</th>\n",
       "      <td>16.30</td>\n",
       "    </tr>\n",
       "    <tr>\n",
       "      <th>PS4</th>\n",
       "      <td>118.86</td>\n",
       "    </tr>\n",
       "    <tr>\n",
       "      <th>PSP</th>\n",
       "      <td>0.12</td>\n",
       "    </tr>\n",
       "    <tr>\n",
       "      <th>PSV</th>\n",
       "      <td>5.95</td>\n",
       "    </tr>\n",
       "    <tr>\n",
       "      <th>Wii</th>\n",
       "      <td>0.15</td>\n",
       "    </tr>\n",
       "    <tr>\n",
       "      <th>WiiU</th>\n",
       "      <td>16.27</td>\n",
       "    </tr>\n",
       "    <tr>\n",
       "      <th>X360</th>\n",
       "      <td>11.87</td>\n",
       "    </tr>\n",
       "    <tr>\n",
       "      <th>XOne</th>\n",
       "      <td>59.92</td>\n",
       "    </tr>\n",
       "    <tr>\n",
       "      <th rowspan=\"8\" valign=\"top\">2016</th>\n",
       "      <th>3DS</th>\n",
       "      <td>15.10</td>\n",
       "    </tr>\n",
       "    <tr>\n",
       "      <th>PC</th>\n",
       "      <td>5.22</td>\n",
       "    </tr>\n",
       "    <tr>\n",
       "      <th>PS3</th>\n",
       "      <td>3.16</td>\n",
       "    </tr>\n",
       "    <tr>\n",
       "      <th>PS4</th>\n",
       "      <td>69.15</td>\n",
       "    </tr>\n",
       "    <tr>\n",
       "      <th>PSV</th>\n",
       "      <td>4.24</td>\n",
       "    </tr>\n",
       "    <tr>\n",
       "      <th>WiiU</th>\n",
       "      <td>4.30</td>\n",
       "    </tr>\n",
       "    <tr>\n",
       "      <th>X360</th>\n",
       "      <td>1.22</td>\n",
       "    </tr>\n",
       "    <tr>\n",
       "      <th>XOne</th>\n",
       "      <td>25.82</td>\n",
       "    </tr>\n",
       "  </tbody>\n",
       "</table>\n",
       "</div>"
      ],
      "text/plain": [
       "                          total_sales\n",
       "year_of_release platform             \n",
       "2014            PSV             11.90\n",
       "                Wii              2.61\n",
       "                WiiU            22.01\n",
       "                X360            33.77\n",
       "                XOne            54.07\n",
       "2015            3DS             27.21\n",
       "                PC               8.49\n",
       "                PS3             16.30\n",
       "                PS4            118.86\n",
       "                PSP              0.12\n",
       "                PSV              5.95\n",
       "                Wii              0.15\n",
       "                WiiU            16.27\n",
       "                X360            11.87\n",
       "                XOne            59.92\n",
       "2016            3DS             15.10\n",
       "                PC               5.22\n",
       "                PS3              3.16\n",
       "                PS4             69.15\n",
       "                PSV              4.24\n",
       "                WiiU             4.30\n",
       "                X360             1.22\n",
       "                XOne            25.82"
      ]
     },
     "execution_count": 44,
     "metadata": {},
     "output_type": "execute_result"
    }
   ],
   "source": [
    "data_actual_top_platform_slice.tail(23)"
   ]
  },
  {
   "cell_type": "markdown",
   "metadata": {},
   "source": [
    "По состоянию на 2016 год, лидирующие по продажам платформы: PS4, XOne, 3DS. Заметно, что новые платформы вытесняют старые, но это происходит не сразу, а с некотороым временным лагом."
   ]
  },
  {
   "cell_type": "markdown",
   "metadata": {},
   "source": [
    "3.6 Постройте график «ящик с усами» по глобальным продажам игр в разбивке по платформам. Опишите результат."
   ]
  },
  {
   "cell_type": "code",
   "execution_count": 45,
   "metadata": {},
   "outputs": [],
   "source": [
    "data_actual_top10 = data_actual.query('platform in @top_actual_platforms')"
   ]
  },
  {
   "cell_type": "code",
   "execution_count": 46,
   "metadata": {},
   "outputs": [
    {
     "data": {
      "text/plain": [
       "(-0.1, 2.0)"
      ]
     },
     "execution_count": 46,
     "metadata": {},
     "output_type": "execute_result"
    },
    {
     "data": {
      "image/png": "[encoded data removed]",
      "text/plain": [
       "<Figure size 640x480 with 1 Axes>"
      ]
     },
     "metadata": {},
     "output_type": "display_data"
    },
    {
     "data": {
      "image/png": "[encoded data removed]",
      "text/plain": [
       "<Figure size 2000x2000 with 1 Axes>"
      ]
     },
     "metadata": {},
     "output_type": "display_data"
    }
   ],
   "source": [
    "data_actual_top10.boxplot(by='platform', column='total_sales')\n",
    "import matplotlib.pyplot as plt \n",
    "plt.figure(figsize=(20,20))\n",
    "plt.ylim(-0.1, 2)\n",
    "#plt.xlim(0, 10)"
   ]
  },
  {
   "cell_type": "markdown",
   "metadata": {},
   "source": [
    "Заметно деление на 2 группы среди платформ: лидеры и поспевающие.  \n",
    "  \n",
    "Рассмотрим группу поспевающих (все кроме PS3, PS4, X360, XOne).\n",
    "* Межквартильный размах (50%) продаж игр на большинстве платформ находится в пределах от 0 млн. до 0.5 млн.\n",
    "* Q3 (75% данных) не достигает 0.5 млн. копий.\n",
    "* Максимальные значения не более 1.1 млн. копий. \n",
    "\n",
    "Рассмотрим группу лидеров (PS3, PS4, X360, XOne).\n",
    "* Наиболее успешные платформы имеют межквартильный размах в пределах от 0 млн. до 0.75 млн. копий.\n",
    "* Q3 (75% данных) находится близко к 0.75 млн. копий.\n",
    "* Максимум около отметки в 1.75 млн. копий.  \n",
    "  \n",
    "Судя по многочисленным выбросам, у многих платформ есть десятки очень популярных игр, объемы продаж которых могут достигать более 10 млн. копий."
   ]
  },
  {
   "cell_type": "markdown",
   "metadata": {},
   "source": [
    "3.7 Посмотрите, как влияют на продажи внутри одной популярной платформы отзывы пользователей и критиков. Постройте диаграмму рассеяния и посчитайте корреляцию между отзывами и продажами. Сформулируйте выводы."
   ]
  },
  {
   "cell_type": "code",
   "execution_count": 47,
   "metadata": {},
   "outputs": [],
   "source": [
    "ps4_data_actual = data_actual.query('platform == \"PS4\"')"
   ]
  },
  {
   "cell_type": "code",
   "execution_count": 48,
   "metadata": {},
   "outputs": [
    {
     "data": {
      "image/png": "[encoded data removed]",
      "text/plain": [
       "<Figure size 640x480 with 1 Axes>"
      ]
     },
     "metadata": {},
     "output_type": "display_data"
    }
   ],
   "source": [
    "ps4_data_actual.plot(x='critic_score', y='total_sales', kind='scatter', grid=1);"
   ]
  },
  {
   "cell_type": "code",
   "execution_count": 49,
   "metadata": {},
   "outputs": [
    {
     "name": "stdout",
     "output_type": "stream",
     "text": [
      "0.40249779652369827\n"
     ]
    }
   ],
   "source": [
    "print(ps4_data_actual['critic_score'].corr(ps4_data_actual['total_sales']))"
   ]
  },
  {
   "cell_type": "markdown",
   "metadata": {},
   "source": [
    "Оценки критиков имеют положительный эффект на продажи игр. Можно заметить, что отметку в 4 млн. копий преодолевают только игры оцененные критиками в 70 баллов и более."
   ]
  },
  {
   "cell_type": "code",
   "execution_count": 50,
   "metadata": {},
   "outputs": [
    {
     "data": {
      "image/png": "[encoded data removed]",
      "text/plain": [
       "<Figure size 640x480 with 1 Axes>"
      ]
     },
     "metadata": {},
     "output_type": "display_data"
    }
   ],
   "source": [
    "ps4_data_actual.plot(x='user_score', y='total_sales', kind='scatter', grid=1);"
   ]
  },
  {
   "cell_type": "code",
   "execution_count": 51,
   "metadata": {},
   "outputs": [
    {
     "name": "stdout",
     "output_type": "stream",
     "text": [
      "-0.040131589472697356\n"
     ]
    }
   ],
   "source": [
    "print(ps4_data_actual['user_score'].corr(ps4_data_actual['total_sales']))"
   ]
  },
  {
   "cell_type": "markdown",
   "metadata": {},
   "source": [
    "Оценки игроков имеют незначительный отрицательный эффект на продажи игр, что довольно странно."
   ]
  },
  {
   "cell_type": "markdown",
   "metadata": {},
   "source": [
    "3.8 Соотнесите выводы с продажами игр на других платформах."
   ]
  },
  {
   "cell_type": "markdown",
   "metadata": {},
   "source": [
    "Посмотрим на влияние критиков на продажи"
   ]
  },
  {
   "cell_type": "code",
   "execution_count": 52,
   "metadata": {},
   "outputs": [
    {
     "name": "stdout",
     "output_type": "stream",
     "text": [
      "PS4: 0.40249779652369827\n",
      "XOne: 0.42410142946275287\n",
      "3DS: 0.28468579095782925\n",
      "PS3: 0.44657460493190704\n",
      "X360: 0.5257228356581523\n",
      "WiiU: 0.3756402218389979\n",
      "PC: 0.17463413769350036\n",
      "PSV: 0.04102908974171329\n",
      "Wii: nan\n",
      "PSP: nan\n"
     ]
    },
    {
     "data": {
      "image/png": "[encoded data removed]",
      "text/plain": [
       "<Figure size 640x480 with 1 Axes>"
      ]
     },
     "metadata": {},
     "output_type": "display_data"
    },
    {
     "data": {
      "image/png": "[encoded data removed]",
      "text/plain": [
       "<Figure size 640x480 with 1 Axes>"
      ]
     },
     "metadata": {},
     "output_type": "display_data"
    },
    {
     "data": {
      "image/png": "[encoded data removed]",
      "text/plain": [
       "<Figure size 640x480 with 1 Axes>"
      ]
     },
     "metadata": {},
     "output_type": "display_data"
    },
    {
     "data": {
      "image/png": "[encoded data removed]",
      "text/plain": [
       "<Figure size 640x480 with 1 Axes>"
      ]
     },
     "metadata": {},
     "output_type": "display_data"
    },
    {
     "data": {
      "image/png": "[encoded data removed]",
      "text/plain": [
       "<Figure size 640x480 with 1 Axes>"
      ]
     },
     "metadata": {},
     "output_type": "display_data"
    },
    {
     "data": {
      "image/png": "[encoded data removed]",
      "text/plain": [
       "<Figure size 640x480 with 1 Axes>"
      ]
     },
     "metadata": {},
     "output_type": "display_data"
    },
    {
     "data": {
      "image/png": "[encoded data removed]",
      "text/plain": [
       "<Figure size 640x480 with 1 Axes>"
      ]
     },
     "metadata": {},
     "output_type": "display_data"
    },
    {
     "data": {
      "image/png": "[encoded data removed]",
      "text/plain": [
       "<Figure size 640x480 with 1 Axes>"
      ]
     },
     "metadata": {},
     "output_type": "display_data"
    },
    {
     "data": {
      "image/png": "[encoded data removed]",
      "text/plain": [
       "<Figure size 640x480 with 1 Axes>"
      ]
     },
     "metadata": {},
     "output_type": "display_data"
    },
    {
     "data": {
      "image/png": "[encoded data removed]",
      "text/plain": [
       "<Figure size 640x480 with 1 Axes>"
      ]
     },
     "metadata": {},
     "output_type": "display_data"
    }
   ],
   "source": [
    "for plat in top_actual_platforms:\n",
    "    platform_data_actual = data_actual.query('platform == @plat')\n",
    "    platform_data_actual.plot(x='critic_score', y='total_sales', kind='scatter', grid=1);\n",
    "    print(f'{plat}: {platform_data_actual[\"critic_score\"].corr(platform_data_actual[\"total_sales\"])}')"
   ]
  },
  {
   "cell_type": "markdown",
   "metadata": {},
   "source": [
    "Посмотрим на влияние игроков на продажи"
   ]
  },
  {
   "cell_type": "code",
   "execution_count": 53,
   "metadata": {},
   "outputs": [
    {
     "name": "stdout",
     "output_type": "stream",
     "text": [
      "PS4: -0.040131589472697356\n",
      "XOne: -0.0703839280647581\n",
      "3DS: 0.2151932718527028\n",
      "PS3: -0.16676141347662118\n",
      "X360: -0.138444570945665\n",
      "WiiU: 0.40792645792170773\n",
      "PC: -0.07159665703472451\n",
      "PSV: -0.16845504978064446\n",
      "Wii: 1.0\n",
      "PSP: nan\n"
     ]
    },
    {
     "data": {
      "image/png": "[encoded data removed]",
      "text/plain": [
       "<Figure size 640x480 with 1 Axes>"
      ]
     },
     "metadata": {},
     "output_type": "display_data"
    },
    {
     "data": {
      "image/png": "[encoded data removed]",
      "text/plain": [
       "<Figure size 640x480 with 1 Axes>"
      ]
     },
     "metadata": {},
     "output_type": "display_data"
    },
    {
     "data": {
      "image/png": "[encoded data removed]",
      "text/plain": [
       "<Figure size 640x480 with 1 Axes>"
      ]
     },
     "metadata": {},
     "output_type": "display_data"
    },
    {
     "data": {
      "image/png": "[encoded data removed]",
      "text/plain": [
       "<Figure size 640x480 with 1 Axes>"
      ]
     },
     "metadata": {},
     "output_type": "display_data"
    },
    {
     "data": {
      "image/png": "[encoded data removed]",
      "text/plain": [
       "<Figure size 640x480 with 1 Axes>"
      ]
     },
     "metadata": {},
     "output_type": "display_data"
    },
    {
     "data": {
      "image/png": "[encoded data removed]",
      "text/plain": [
       "<Figure size 640x480 with 1 Axes>"
      ]
     },
     "metadata": {},
     "output_type": "display_data"
    },
    {
     "data": {
      "image/png": "[encoded data removed]",
      "text/plain": [
       "<Figure size 640x480 with 1 Axes>"
      ]
     },
     "metadata": {},
     "output_type": "display_data"
    },
    {
     "data": {
      "image/png": "[encoded data removed]",
      "text/plain": [
       "<Figure size 640x480 with 1 Axes>"
      ]
     },
     "metadata": {},
     "output_type": "display_data"
    },
    {
     "data": {
      "image/png": "[encoded data removed]",
      "text/plain": [
       "<Figure size 640x480 with 1 Axes>"
      ]
     },
     "metadata": {},
     "output_type": "display_data"
    },
    {
     "data": {
      "image/png": "[encoded data removed]",
      "text/plain": [
       "<Figure size 640x480 with 1 Axes>"
      ]
     },
     "metadata": {},
     "output_type": "display_data"
    }
   ],
   "source": [
    "for plat in top_actual_platforms:\n",
    "    platform_data_actual = data_actual.query('platform == @plat')\n",
    "    platform_data_actual.plot(x='user_score', y='total_sales', kind='scatter', grid=1);\n",
    "    print(f'{plat}: {platform_data_actual[\"user_score\"].corr(platform_data_actual[\"total_sales\"])}')"
   ]
  },
  {
   "cell_type": "markdown",
   "metadata": {},
   "source": [
    "На всех платформах рейтинги критиков имеют достаточно сильное положительное влияние на продажи, в то время как оценки игроков влияют несильно позитивно или негативно."
   ]
  },
  {
   "cell_type": "markdown",
   "metadata": {},
   "source": [
    "3.9 Посмотрите на общее распределение игр по жанрам. Что можно сказать о самых прибыльных жанрах? Выделяются ли жанры с высокими и низкими продажами?"
   ]
  },
  {
   "cell_type": "code",
   "execution_count": 54,
   "metadata": {},
   "outputs": [],
   "source": [
    "sales_by_genre = data_actual.pivot_table(index='genre', values='total_sales', aggfunc='median')"
   ]
  },
  {
   "cell_type": "code",
   "execution_count": 55,
   "metadata": {},
   "outputs": [
    {
     "data": {
      "image/png": "[encoded data removed]",
      "text/plain": [
       "<Figure size 640x480 with 1 Axes>"
      ]
     },
     "metadata": {},
     "output_type": "display_data"
    }
   ],
   "source": [
    "sales_by_genre.plot(kind = 'bar', grid=1);"
   ]
  },
  {
   "cell_type": "markdown",
   "metadata": {},
   "source": [
    "Наиболее продаваемые жанры игр: Шутеры - очень прибыльный жанр, медианные продажи сильно выделяются на общем фоне. Следующие по прибыльности жанры - спортивные и платформеры."
   ]
  },
  {
   "cell_type": "markdown",
   "metadata": {},
   "source": [
    "**Шаг 4. Составьте портрет пользователя каждого региона**  \n",
    "Определите для пользователя каждого региона (NA, EU, JP):"
   ]
  },
  {
   "cell_type": "markdown",
   "metadata": {},
   "source": [
    "4.1 Самые популярные платформы (топ-5). Опишите различия в долях продаж."
   ]
  },
  {
   "cell_type": "code",
   "execution_count": 56,
   "metadata": {},
   "outputs": [
    {
     "data": {
      "text/html": [
       "<div>\n",
       "<style scoped>\n",
       "    .dataframe tbody tr th:only-of-type {\n",
       "        vertical-align: middle;\n",
       "    }\n",
       "\n",
       "    .dataframe tbody tr th {\n",
       "        vertical-align: top;\n",
       "    }\n",
       "\n",
       "    .dataframe thead th {\n",
       "        text-align: right;\n",
       "    }\n",
       "</style>\n",
       "<table border=\"1\" class=\"dataframe\">\n",
       "  <thead>\n",
       "    <tr style=\"text-align: right;\">\n",
       "      <th></th>\n",
       "      <th>na_sales</th>\n",
       "    </tr>\n",
       "    <tr>\n",
       "      <th>platform</th>\n",
       "      <th></th>\n",
       "    </tr>\n",
       "  </thead>\n",
       "  <tbody>\n",
       "    <tr>\n",
       "      <th>PS4</th>\n",
       "      <td>98.49</td>\n",
       "    </tr>\n",
       "    <tr>\n",
       "      <th>XOne</th>\n",
       "      <td>80.92</td>\n",
       "    </tr>\n",
       "    <tr>\n",
       "      <th>X360</th>\n",
       "      <td>27.54</td>\n",
       "    </tr>\n",
       "    <tr>\n",
       "      <th>3DS</th>\n",
       "      <td>22.23</td>\n",
       "    </tr>\n",
       "    <tr>\n",
       "      <th>PS3</th>\n",
       "      <td>21.82</td>\n",
       "    </tr>\n",
       "    <tr>\n",
       "      <th>WiiU</th>\n",
       "      <td>19.16</td>\n",
       "    </tr>\n",
       "    <tr>\n",
       "      <th>PC</th>\n",
       "      <td>7.23</td>\n",
       "    </tr>\n",
       "    <tr>\n",
       "      <th>PSV</th>\n",
       "      <td>2.51</td>\n",
       "    </tr>\n",
       "    <tr>\n",
       "      <th>Wii</th>\n",
       "      <td>1.16</td>\n",
       "    </tr>\n",
       "    <tr>\n",
       "      <th>PSP</th>\n",
       "      <td>0.00</td>\n",
       "    </tr>\n",
       "  </tbody>\n",
       "</table>\n",
       "</div>"
      ],
      "text/plain": [
       "          na_sales\n",
       "platform          \n",
       "PS4          98.49\n",
       "XOne         80.92\n",
       "X360         27.54\n",
       "3DS          22.23\n",
       "PS3          21.82\n",
       "WiiU         19.16\n",
       "PC            7.23\n",
       "PSV           2.51\n",
       "Wii           1.16\n",
       "PSP           0.00"
      ]
     },
     "execution_count": 56,
     "metadata": {},
     "output_type": "execute_result"
    }
   ],
   "source": [
    "data_actual.pivot_table(index='platform', values='na_sales', aggfunc='sum').sort_values(by='na_sales', ascending=False).head(10)"
   ]
  },
  {
   "cell_type": "markdown",
   "metadata": {},
   "source": [
    "Американские геймеры отдают предпочтение PS4, XOne, X360, 3DS, PS3. Можно заметить, что персональный компьютер в америке не слишком популярная платформа для геймеров."
   ]
  },
  {
   "cell_type": "code",
   "execution_count": 57,
   "metadata": {},
   "outputs": [
    {
     "data": {
      "text/html": [
       "<div>\n",
       "<style scoped>\n",
       "    .dataframe tbody tr th:only-of-type {\n",
       "        vertical-align: middle;\n",
       "    }\n",
       "\n",
       "    .dataframe tbody tr th {\n",
       "        vertical-align: top;\n",
       "    }\n",
       "\n",
       "    .dataframe thead th {\n",
       "        text-align: right;\n",
       "    }\n",
       "</style>\n",
       "<table border=\"1\" class=\"dataframe\">\n",
       "  <thead>\n",
       "    <tr style=\"text-align: right;\">\n",
       "      <th></th>\n",
       "      <th>eu_sales</th>\n",
       "    </tr>\n",
       "    <tr>\n",
       "      <th>platform</th>\n",
       "      <th></th>\n",
       "    </tr>\n",
       "  </thead>\n",
       "  <tbody>\n",
       "    <tr>\n",
       "      <th>PS4</th>\n",
       "      <td>130.04</td>\n",
       "    </tr>\n",
       "    <tr>\n",
       "      <th>XOne</th>\n",
       "      <td>46.09</td>\n",
       "    </tr>\n",
       "    <tr>\n",
       "      <th>PS3</th>\n",
       "      <td>24.97</td>\n",
       "    </tr>\n",
       "    <tr>\n",
       "      <th>PC</th>\n",
       "      <td>17.88</td>\n",
       "    </tr>\n",
       "    <tr>\n",
       "      <th>3DS</th>\n",
       "      <td>15.42</td>\n",
       "    </tr>\n",
       "    <tr>\n",
       "      <th>X360</th>\n",
       "      <td>15.01</td>\n",
       "    </tr>\n",
       "    <tr>\n",
       "      <th>WiiU</th>\n",
       "      <td>12.99</td>\n",
       "    </tr>\n",
       "    <tr>\n",
       "      <th>PSV</th>\n",
       "      <td>3.38</td>\n",
       "    </tr>\n",
       "    <tr>\n",
       "      <th>Wii</th>\n",
       "      <td>1.38</td>\n",
       "    </tr>\n",
       "    <tr>\n",
       "      <th>PSP</th>\n",
       "      <td>0.00</td>\n",
       "    </tr>\n",
       "  </tbody>\n",
       "</table>\n",
       "</div>"
      ],
      "text/plain": [
       "          eu_sales\n",
       "platform          \n",
       "PS4         130.04\n",
       "XOne         46.09\n",
       "PS3          24.97\n",
       "PC           17.88\n",
       "3DS          15.42\n",
       "X360         15.01\n",
       "WiiU         12.99\n",
       "PSV           3.38\n",
       "Wii           1.38\n",
       "PSP           0.00"
      ]
     },
     "execution_count": 57,
     "metadata": {},
     "output_type": "execute_result"
    }
   ],
   "source": [
    "data_actual.pivot_table(index='platform', values='eu_sales', aggfunc='sum').sort_values(by='eu_sales', ascending=False).head(10)"
   ]
  },
  {
   "cell_type": "markdown",
   "metadata": {},
   "source": [
    "В ЕС рынок разделен похожим образом. Однако консоли Playstation более популярны чем XBox, а персональные компьютеры пользуются большим спросом у геймеров чем в США."
   ]
  },
  {
   "cell_type": "code",
   "execution_count": 58,
   "metadata": {},
   "outputs": [
    {
     "data": {
      "text/html": [
       "<div>\n",
       "<style scoped>\n",
       "    .dataframe tbody tr th:only-of-type {\n",
       "        vertical-align: middle;\n",
       "    }\n",
       "\n",
       "    .dataframe tbody tr th {\n",
       "        vertical-align: top;\n",
       "    }\n",
       "\n",
       "    .dataframe thead th {\n",
       "        text-align: right;\n",
       "    }\n",
       "</style>\n",
       "<table border=\"1\" class=\"dataframe\">\n",
       "  <thead>\n",
       "    <tr style=\"text-align: right;\">\n",
       "      <th></th>\n",
       "      <th>jp_sales</th>\n",
       "    </tr>\n",
       "    <tr>\n",
       "      <th>platform</th>\n",
       "      <th></th>\n",
       "    </tr>\n",
       "  </thead>\n",
       "  <tbody>\n",
       "    <tr>\n",
       "      <th>3DS</th>\n",
       "      <td>44.13</td>\n",
       "    </tr>\n",
       "    <tr>\n",
       "      <th>PS4</th>\n",
       "      <td>15.02</td>\n",
       "    </tr>\n",
       "    <tr>\n",
       "      <th>PSV</th>\n",
       "      <td>14.43</td>\n",
       "    </tr>\n",
       "    <tr>\n",
       "      <th>PS3</th>\n",
       "      <td>10.85</td>\n",
       "    </tr>\n",
       "    <tr>\n",
       "      <th>WiiU</th>\n",
       "      <td>7.31</td>\n",
       "    </tr>\n",
       "    <tr>\n",
       "      <th>PSP</th>\n",
       "      <td>0.36</td>\n",
       "    </tr>\n",
       "    <tr>\n",
       "      <th>XOne</th>\n",
       "      <td>0.32</td>\n",
       "    </tr>\n",
       "    <tr>\n",
       "      <th>X360</th>\n",
       "      <td>0.08</td>\n",
       "    </tr>\n",
       "    <tr>\n",
       "      <th>PC</th>\n",
       "      <td>0.00</td>\n",
       "    </tr>\n",
       "    <tr>\n",
       "      <th>Wii</th>\n",
       "      <td>0.00</td>\n",
       "    </tr>\n",
       "  </tbody>\n",
       "</table>\n",
       "</div>"
      ],
      "text/plain": [
       "          jp_sales\n",
       "platform          \n",
       "3DS          44.13\n",
       "PS4          15.02\n",
       "PSV          14.43\n",
       "PS3          10.85\n",
       "WiiU          7.31\n",
       "PSP           0.36\n",
       "XOne          0.32\n",
       "X360          0.08\n",
       "PC            0.00\n",
       "Wii           0.00"
      ]
     },
     "execution_count": 58,
     "metadata": {},
     "output_type": "execute_result"
    }
   ],
   "source": [
    "data_actual.pivot_table(index='platform', values='jp_sales', aggfunc='sum').sort_values(by='jp_sales', ascending=False).head(10)"
   ]
  },
  {
   "cell_type": "markdown",
   "metadata": {},
   "source": [
    "Совсем иначе разделен рынок японских игровых платформ. Японцы отдают предпочтение отчественным компактным портативным приставкам Nintendo. В лидерах Nintendo 3DS, затем PS4 и PSvita, PS3, WiiU. Интересно, что Xbox совсем не пользуются спросом в сравнении с западными странами."
   ]
  },
  {
   "cell_type": "markdown",
   "metadata": {},
   "source": [
    "4.2 Самые популярные жанры (топ-5). Поясните разницу."
   ]
  },
  {
   "cell_type": "code",
   "execution_count": 59,
   "metadata": {},
   "outputs": [
    {
     "data": {
      "text/html": [
       "<div>\n",
       "<style scoped>\n",
       "    .dataframe tbody tr th:only-of-type {\n",
       "        vertical-align: middle;\n",
       "    }\n",
       "\n",
       "    .dataframe tbody tr th {\n",
       "        vertical-align: top;\n",
       "    }\n",
       "\n",
       "    .dataframe thead th {\n",
       "        text-align: right;\n",
       "    }\n",
       "</style>\n",
       "<table border=\"1\" class=\"dataframe\">\n",
       "  <thead>\n",
       "    <tr style=\"text-align: right;\">\n",
       "      <th></th>\n",
       "      <th>na_sales</th>\n",
       "    </tr>\n",
       "    <tr>\n",
       "      <th>genre</th>\n",
       "      <th></th>\n",
       "    </tr>\n",
       "  </thead>\n",
       "  <tbody>\n",
       "    <tr>\n",
       "      <th>Shooter</th>\n",
       "      <td>78.89</td>\n",
       "    </tr>\n",
       "    <tr>\n",
       "      <th>Action</th>\n",
       "      <td>71.17</td>\n",
       "    </tr>\n",
       "    <tr>\n",
       "      <th>Sports</th>\n",
       "      <td>46.03</td>\n",
       "    </tr>\n",
       "    <tr>\n",
       "      <th>Role-Playing</th>\n",
       "      <td>33.47</td>\n",
       "    </tr>\n",
       "    <tr>\n",
       "      <th>Misc</th>\n",
       "      <td>14.31</td>\n",
       "    </tr>\n",
       "  </tbody>\n",
       "</table>\n",
       "</div>"
      ],
      "text/plain": [
       "              na_sales\n",
       "genre                 \n",
       "Shooter          78.89\n",
       "Action           71.17\n",
       "Sports           46.03\n",
       "Role-Playing     33.47\n",
       "Misc             14.31"
      ]
     },
     "execution_count": 59,
     "metadata": {},
     "output_type": "execute_result"
    }
   ],
   "source": [
    "data_actual.pivot_table(index='genre', values='na_sales', aggfunc='sum').sort_values(by='na_sales', ascending=False).head(5)"
   ]
  },
  {
   "cell_type": "markdown",
   "metadata": {},
   "source": [
    "Америкацы любят стрелялки, экшн, спортивные игры. Ничего примечательного."
   ]
  },
  {
   "cell_type": "code",
   "execution_count": 60,
   "metadata": {},
   "outputs": [
    {
     "data": {
      "text/html": [
       "<div>\n",
       "<style scoped>\n",
       "    .dataframe tbody tr th:only-of-type {\n",
       "        vertical-align: middle;\n",
       "    }\n",
       "\n",
       "    .dataframe tbody tr th {\n",
       "        vertical-align: top;\n",
       "    }\n",
       "\n",
       "    .dataframe thead th {\n",
       "        text-align: right;\n",
       "    }\n",
       "</style>\n",
       "<table border=\"1\" class=\"dataframe\">\n",
       "  <thead>\n",
       "    <tr style=\"text-align: right;\">\n",
       "      <th></th>\n",
       "      <th>eu_sales</th>\n",
       "    </tr>\n",
       "    <tr>\n",
       "      <th>genre</th>\n",
       "      <th></th>\n",
       "    </tr>\n",
       "  </thead>\n",
       "  <tbody>\n",
       "    <tr>\n",
       "      <th>Action</th>\n",
       "      <td>73.15</td>\n",
       "    </tr>\n",
       "    <tr>\n",
       "      <th>Shooter</th>\n",
       "      <td>65.44</td>\n",
       "    </tr>\n",
       "    <tr>\n",
       "      <th>Sports</th>\n",
       "      <td>45.48</td>\n",
       "    </tr>\n",
       "    <tr>\n",
       "      <th>Role-Playing</th>\n",
       "      <td>28.17</td>\n",
       "    </tr>\n",
       "    <tr>\n",
       "      <th>Racing</th>\n",
       "      <td>14.03</td>\n",
       "    </tr>\n",
       "  </tbody>\n",
       "</table>\n",
       "</div>"
      ],
      "text/plain": [
       "              eu_sales\n",
       "genre                 \n",
       "Action           73.15\n",
       "Shooter          65.44\n",
       "Sports           45.48\n",
       "Role-Playing     28.17\n",
       "Racing           14.03"
      ]
     },
     "execution_count": 60,
     "metadata": {},
     "output_type": "execute_result"
    }
   ],
   "source": [
    "data_actual.pivot_table(index='genre', values='eu_sales', aggfunc='sum').sort_values(by='eu_sales', ascending=False).head(5)"
   ]
  },
  {
   "cell_type": "markdown",
   "metadata": {},
   "source": [
    "Европейцы имеют схожие с американскими собратьями вкусы, экшн популярнее шутеров."
   ]
  },
  {
   "cell_type": "code",
   "execution_count": 61,
   "metadata": {},
   "outputs": [
    {
     "data": {
      "text/html": [
       "<div>\n",
       "<style scoped>\n",
       "    .dataframe tbody tr th:only-of-type {\n",
       "        vertical-align: middle;\n",
       "    }\n",
       "\n",
       "    .dataframe tbody tr th {\n",
       "        vertical-align: top;\n",
       "    }\n",
       "\n",
       "    .dataframe thead th {\n",
       "        text-align: right;\n",
       "    }\n",
       "</style>\n",
       "<table border=\"1\" class=\"dataframe\">\n",
       "  <thead>\n",
       "    <tr style=\"text-align: right;\">\n",
       "      <th></th>\n",
       "      <th>jp_sales</th>\n",
       "    </tr>\n",
       "    <tr>\n",
       "      <th>genre</th>\n",
       "      <th></th>\n",
       "    </tr>\n",
       "  </thead>\n",
       "  <tbody>\n",
       "    <tr>\n",
       "      <th>Role-Playing</th>\n",
       "      <td>31.16</td>\n",
       "    </tr>\n",
       "    <tr>\n",
       "      <th>Action</th>\n",
       "      <td>29.11</td>\n",
       "    </tr>\n",
       "    <tr>\n",
       "      <th>Fighting</th>\n",
       "      <td>6.34</td>\n",
       "    </tr>\n",
       "    <tr>\n",
       "      <th>Misc</th>\n",
       "      <td>5.61</td>\n",
       "    </tr>\n",
       "    <tr>\n",
       "      <th>Shooter</th>\n",
       "      <td>4.87</td>\n",
       "    </tr>\n",
       "  </tbody>\n",
       "</table>\n",
       "</div>"
      ],
      "text/plain": [
       "              jp_sales\n",
       "genre                 \n",
       "Role-Playing     31.16\n",
       "Action           29.11\n",
       "Fighting          6.34\n",
       "Misc              5.61\n",
       "Shooter           4.87"
      ]
     },
     "execution_count": 61,
     "metadata": {},
     "output_type": "execute_result"
    }
   ],
   "source": [
    "data_actual.pivot_table(index='genre', values='jp_sales', aggfunc='sum').sort_values(by='jp_sales', ascending=False).head(5)"
   ]
  },
  {
   "cell_type": "markdown",
   "metadata": {},
   "source": [
    "Японцы, предпочитают ролевые игры экшн-играм и шутерам. Так же популярны жанры: драки, misc. Шутеры на последнем месте."
   ]
  },
  {
   "cell_type": "markdown",
   "metadata": {},
   "source": [
    "4.3 Влияет ли рейтинг ESRB на продажи в отдельном регионе?"
   ]
  },
  {
   "cell_type": "code",
   "execution_count": 62,
   "metadata": {},
   "outputs": [
    {
     "data": {
      "text/html": [
       "<div>\n",
       "<style scoped>\n",
       "    .dataframe tbody tr th:only-of-type {\n",
       "        vertical-align: middle;\n",
       "    }\n",
       "\n",
       "    .dataframe tbody tr th {\n",
       "        vertical-align: top;\n",
       "    }\n",
       "\n",
       "    .dataframe thead th {\n",
       "        text-align: right;\n",
       "    }\n",
       "</style>\n",
       "<table border=\"1\" class=\"dataframe\">\n",
       "  <thead>\n",
       "    <tr style=\"text-align: right;\">\n",
       "      <th></th>\n",
       "      <th>na_sales</th>\n",
       "    </tr>\n",
       "    <tr>\n",
       "      <th>rating</th>\n",
       "      <th></th>\n",
       "    </tr>\n",
       "  </thead>\n",
       "  <tbody>\n",
       "    <tr>\n",
       "      <th>M</th>\n",
       "      <td>96.36</td>\n",
       "    </tr>\n",
       "    <tr>\n",
       "      <th>Unknown</th>\n",
       "      <td>64.68</td>\n",
       "    </tr>\n",
       "    <tr>\n",
       "      <th>E</th>\n",
       "      <td>50.25</td>\n",
       "    </tr>\n",
       "    <tr>\n",
       "      <th>T</th>\n",
       "      <td>38.76</td>\n",
       "    </tr>\n",
       "    <tr>\n",
       "      <th>E10+</th>\n",
       "      <td>31.01</td>\n",
       "    </tr>\n",
       "  </tbody>\n",
       "</table>\n",
       "</div>"
      ],
      "text/plain": [
       "         na_sales\n",
       "rating           \n",
       "M           96.36\n",
       "Unknown     64.68\n",
       "E           50.25\n",
       "T           38.76\n",
       "E10+        31.01"
      ]
     },
     "execution_count": 62,
     "metadata": {},
     "output_type": "execute_result"
    }
   ],
   "source": [
    "data_actual.pivot_table(index='rating', values='na_sales', aggfunc='sum').sort_values(by='na_sales', ascending=False).head(5)"
   ]
  },
  {
   "cell_type": "code",
   "execution_count": 63,
   "metadata": {},
   "outputs": [
    {
     "data": {
      "text/html": [
       "<div>\n",
       "<style scoped>\n",
       "    .dataframe tbody tr th:only-of-type {\n",
       "        vertical-align: middle;\n",
       "    }\n",
       "\n",
       "    .dataframe tbody tr th {\n",
       "        vertical-align: top;\n",
       "    }\n",
       "\n",
       "    .dataframe thead th {\n",
       "        text-align: right;\n",
       "    }\n",
       "</style>\n",
       "<table border=\"1\" class=\"dataframe\">\n",
       "  <thead>\n",
       "    <tr style=\"text-align: right;\">\n",
       "      <th></th>\n",
       "      <th>eu_sales</th>\n",
       "    </tr>\n",
       "    <tr>\n",
       "      <th>rating</th>\n",
       "      <th></th>\n",
       "    </tr>\n",
       "  </thead>\n",
       "  <tbody>\n",
       "    <tr>\n",
       "      <th>M</th>\n",
       "      <td>93.42</td>\n",
       "    </tr>\n",
       "    <tr>\n",
       "      <th>Unknown</th>\n",
       "      <td>58.74</td>\n",
       "    </tr>\n",
       "    <tr>\n",
       "      <th>E</th>\n",
       "      <td>57.44</td>\n",
       "    </tr>\n",
       "    <tr>\n",
       "      <th>T</th>\n",
       "      <td>33.93</td>\n",
       "    </tr>\n",
       "    <tr>\n",
       "      <th>E10+</th>\n",
       "      <td>23.63</td>\n",
       "    </tr>\n",
       "  </tbody>\n",
       "</table>\n",
       "</div>"
      ],
      "text/plain": [
       "         eu_sales\n",
       "rating           \n",
       "M           93.42\n",
       "Unknown     58.74\n",
       "E           57.44\n",
       "T           33.93\n",
       "E10+        23.63"
      ]
     },
     "execution_count": 63,
     "metadata": {},
     "output_type": "execute_result"
    }
   ],
   "source": [
    "data_actual.pivot_table(index='rating', values='eu_sales', aggfunc='sum').sort_values(by='eu_sales', ascending=False).head(5)"
   ]
  },
  {
   "cell_type": "markdown",
   "metadata": {},
   "source": [
    "В америке и европе влияние рейтинга на продажи схожее. Наиболее популярны игры с рейтингом M, Unknown, E, T."
   ]
  },
  {
   "cell_type": "code",
   "execution_count": 64,
   "metadata": {},
   "outputs": [
    {
     "data": {
      "text/html": [
       "<div>\n",
       "<style scoped>\n",
       "    .dataframe tbody tr th:only-of-type {\n",
       "        vertical-align: middle;\n",
       "    }\n",
       "\n",
       "    .dataframe tbody tr th {\n",
       "        vertical-align: top;\n",
       "    }\n",
       "\n",
       "    .dataframe thead th {\n",
       "        text-align: right;\n",
       "    }\n",
       "</style>\n",
       "<table border=\"1\" class=\"dataframe\">\n",
       "  <thead>\n",
       "    <tr style=\"text-align: right;\">\n",
       "      <th></th>\n",
       "      <th>jp_sales</th>\n",
       "    </tr>\n",
       "    <tr>\n",
       "      <th>rating</th>\n",
       "      <th></th>\n",
       "    </tr>\n",
       "  </thead>\n",
       "  <tbody>\n",
       "    <tr>\n",
       "      <th>Unknown</th>\n",
       "      <td>56.90</td>\n",
       "    </tr>\n",
       "    <tr>\n",
       "      <th>T</th>\n",
       "      <td>14.32</td>\n",
       "    </tr>\n",
       "    <tr>\n",
       "      <th>E</th>\n",
       "      <td>8.94</td>\n",
       "    </tr>\n",
       "    <tr>\n",
       "      <th>M</th>\n",
       "      <td>8.01</td>\n",
       "    </tr>\n",
       "    <tr>\n",
       "      <th>E10+</th>\n",
       "      <td>4.33</td>\n",
       "    </tr>\n",
       "  </tbody>\n",
       "</table>\n",
       "</div>"
      ],
      "text/plain": [
       "         jp_sales\n",
       "rating           \n",
       "Unknown     56.90\n",
       "T           14.32\n",
       "E            8.94\n",
       "M            8.01\n",
       "E10+         4.33"
      ]
     },
     "execution_count": 64,
     "metadata": {},
     "output_type": "execute_result"
    }
   ],
   "source": [
    "data_actual.pivot_table(index='rating', values='jp_sales', aggfunc='sum').sort_values(by='jp_sales', ascending=False).head(5)"
   ]
  },
  {
   "cell_type": "markdown",
   "metadata": {},
   "source": [
    "Интересно, что в японии на первом месте стоит жанр Unknown. Игры без рейтинга, возможно, являются играми для местного рынка."
   ]
  },
  {
   "cell_type": "markdown",
   "metadata": {},
   "source": [
    "Вывод: предпочтения игроков сильно различаются в зависимости от региона."
   ]
  },
  {
   "cell_type": "markdown",
   "metadata": {},
   "source": [
    "**Шаг 5. Проверьте гипотезы**"
   ]
  },
  {
   "cell_type": "markdown",
   "metadata": {},
   "source": [
    "5.1 Проверим гипотезу:  \n",
    "H0: Средние пользовательские рейтинги платформ Xbox One и PC одинаковые  \n",
    "H1: Средние пользовательские рейтинги платформ Xbox One и PC разные"
   ]
  },
  {
   "cell_type": "code",
   "execution_count": 65,
   "metadata": {},
   "outputs": [],
   "source": [
    "data_actual_xone = data_actual.query('platform == \"XOne\"').dropna()\n",
    "data_actual_pc = data_actual.query('platform == \"PC\"').dropna()"
   ]
  },
  {
   "cell_type": "code",
   "execution_count": 66,
   "metadata": {},
   "outputs": [
    {
     "name": "stdout",
     "output_type": "stream",
     "text": [
      "6.620529801324504\n",
      "6.341739130434782\n",
      "p-значение: 0.1403785186826978\n",
      "Не получилось отвергнуть нулевую гипотезу\n"
     ]
    }
   ],
   "source": [
    "array1 = list(data_actual_xone['user_score'])\n",
    "array2 = list(data_actual_pc['user_score'])\n",
    "\n",
    "results = st.ttest_ind(array1, array2, equal_var=False)\n",
    "\n",
    "print(sum(array1)/len(array1))\n",
    "print(sum(array2)/len(array2))\n",
    "\n",
    "alpha = 0.05\n",
    "\n",
    "print('p-значение:', results.pvalue)\n",
    "\n",
    "if results.pvalue < alpha:\n",
    "    print(\"Отвергаем нулевую гипотезу\")\n",
    "else:\n",
    "    print(\"Не получилось отвергнуть нулевую гипотезу\")"
   ]
  },
  {
   "cell_type": "markdown",
   "metadata": {},
   "source": [
    "Средний пользовательский рейтинг на платформах XOne и PC одинаковый (примерно 6.6)"
   ]
  },
  {
   "cell_type": "markdown",
   "metadata": {},
   "source": [
    "5.2 Проверим гипотезу:  \n",
    "H0: Средние пользовательские рейтинги жанров Action (англ. «действие», экшен-игры) и Sports (англ. «спортивные соревнования») одинаковые.  \n",
    "H1: Средние пользовательские рейтинги жанров Action (англ. «действие», экшен-игры) и Sports (англ. «спортивные соревнования») разные"
   ]
  },
  {
   "cell_type": "code",
   "execution_count": 67,
   "metadata": {},
   "outputs": [],
   "source": [
    "data_actual_action = data_actual.query('genre == \"Action\"').dropna()\n",
    "data_actual_sports = data_actual.query('genre == \"Sports\"').dropna()"
   ]
  },
  {
   "cell_type": "code",
   "execution_count": 68,
   "metadata": {},
   "outputs": [
    {
     "name": "stdout",
     "output_type": "stream",
     "text": [
      "6.832599118942724\n",
      "5.684337349397592\n",
      "p-значение: 8.327612976032047e-09\n",
      "Отвергаем нулевую гипотезу\n"
     ]
    }
   ],
   "source": [
    "s1 = list(data_actual_action['user_score'])\n",
    "s2 = list(data_actual_sports['user_score'])\n",
    "\n",
    "results = st.ttest_ind(s1, s2, equal_var=False)\n",
    "\n",
    "print(sum(s1)/len(s1))\n",
    "print(sum(s2)/len(s2))\n",
    "\n",
    "alpha = 0.05\n",
    "\n",
    "print('p-значение:', results.pvalue)\n",
    "\n",
    "if results.pvalue < alpha:\n",
    "    print(\"Отвергаем нулевую гипотезу\")\n",
    "else:\n",
    "    print(\"Не получилось отвергнуть нулевую гипотезу\")"
   ]
  },
  {
   "cell_type": "markdown",
   "metadata": {},
   "source": [
    "Средние оценки игроков в жанрах Экшн и Спорт отличаются."
   ]
  },
  {
   "cell_type": "markdown",
   "metadata": {},
   "source": [
    "5.2.1 Как вы сформулировали нулевую и альтернативную гипотезы:  \n",
    "* Нулевая гипотеза всегда проверяет равенство сравниваемых параметров. Альтернативная - двусторонняя, так как оценки могут отличаться в большую и в меньшую сторону.\n",
    "\n",
    "5.2.2 Какой критерий применили для проверки гипотез и почему:  \n",
    "* Мы применили двусторонний тест Стьюдента с p-value = 5% (95% уровнем доверия). Использовался вариант теста подходящий для двух разных выборок, размеры которых отличаются и/или есть основания полагать, что значения дисперсии различаются. В первом тесте выборки разных размеров представляют два разных сегмента покупателей (разные платформы), во втором тесте помимо того, что размеры выборок разные, есть основания пологать, что в разные жанры игр играют разные сегменты игроков (пол, возраст, доход).\n"
   ]
  },
  {
   "cell_type": "markdown",
   "metadata": {},
   "source": [
    "Вывод: Средний пользовательский рейтинг на платформах XOne и PC одинаковый (примерно 6.6). Средние оценки игроков в жанрах Экшн и Спорт отличаются."
   ]
  },
  {
   "cell_type": "markdown",
   "metadata": {},
   "source": [
    "**Шаг 6. Напишите общий вывод**  \n",
    "\n",
    "**Ситуация в индустрии игровых платформ:**\n",
    "* Игровая индустрия начала свой расцет после 90-х и дошла до пика в 2008-2009 годах. После финансового кризиса 2008-2009 игровая индустрия пошла на спад.\n",
    "* Примерно каждые 10 лет появляется новая версия игровой платформы, а старая приходит в упадок.\n",
    "* Наиболее популярные платформы в мире на момент 2016 года - это PS3, X360, Wii, DS, PS4, 3DS, PSP, PC, XOne, PS2\n",
    "* Во всем мире наиболее продаваемые жанры игр: Экшн, Шутеры, Спортивные, Misc(без определенного жанра), Ролевые.\n",
    "\n",
    "**Деление на группы среди платформ:**  \n",
    "  \n",
    "Рассмотрим группу поспевающих (все кроме PS3, PS4, X360, XOne).\n",
    "* 75% игр не достигает отметки в 0.5 млн. проданных копий.\n",
    "* Максимальные значения продаж одной игры не более 1.1 млн. копий. \n",
    "\n",
    "Рассмотрим группу лидеров (PS3, PS4, X360, XOne).\n",
    "* 75% игр близко к отметке 0.75 млн. проданных копий.\n",
    "* Максимальные значения продаж одной игры около 1.75 млн. проданных копий.   \n",
    "  \n",
    "Стоит заметить, что у многих платформ есть десятки очень популярных игр, объемы продаж которых могут достигать более 10 млн. копий.\n",
    "\n",
    "**Влияние оценок и рейтингов:**  \n",
    "* Оценки критиков имеют положительный эффект на продажи игр. Можно заметить, что отметку в 4 млн. копий преодолевают только игры оцененные критиками в 70 баллов и более.\n",
    "* Оценки игроков имеют незначительный отрицательный эффект на продажи игр, что довольно странно.\n",
    "* В америке и европе влияние рейтинга на продажи почти одинаковое. Наиболее популярны игры с рейтингом M, E, T.\n",
    "* Интересно, что в японии наиболее популярны жанры Unknown, E, T. Игры без рейтинга, возможно, являются играми для местного рынка.\n",
    "\n",
    "\n",
    "**Платформы. Отличия в предпочтениях геймеров из США, Европы и Японии:**\n",
    "* Американские геймеры отдают предпочтение Хbox 360, PS3 и Wii. Новые платформы, такие как PS4 и Xbox one, Nintendo 3ds, пока не успели превзойти своих предшественников в объеме продаж. Можно заметить, что персональный компьютер в америке не слишком популярная платформа для геймеров.\n",
    "* В ЕС рынок разделен похожим образом. Однако консоли Playstation более популярны чем XBox, а персональные компьютеры пользуются большим спросом у геймеров чем в США.\n",
    "* Совсем иначе разделенн рынок японских игровых платформ. Японцы отдают предпочтение отчественным компактным портативным приставкам Nintendo. В лидерах Nintendp DS и 3DS, затем PS3 и PSP, Wii. Интересно, что Xbox 360 находится на 10 месте.\n",
    "\n",
    "**Жанры. Отличия в предпочтениях геймеров из США, Европы и Японии:**\n",
    "* Топ 5 америки: экшн, шутеры, спортивные игры, misc (без определенного жанра), ролевые.\n",
    "* Топ 5 европы: экшн, шутеры, спортивные игры, misc (без определенного жанра), гонки.\n",
    "* Топ 5 японии: ролевые, экшн, misc, спортивные игры, приключения. Японцы, предпочитают ролевые игры экшн-играм в силу национальной специфики (игры аниме жанра). Так же, показательно наличие жанра Misc в топ 3, потому что японцам нравятся странные игры. Интересно, что шутеры не попали в топ 5. \n",
    "\n",
    "**Статистические тесты:**\n",
    "* Мы выснили, что средние оценки игроков не сильно зависят от платформы (в случае с PC и XOne), но зависят от жанра игры (в случае с Action и Sports играми). Для экстраполяции этих выводов на другие платформы и жанры необходимо проводить дополнительные исследования."
   ]
  }
 ],
 "metadata": {
  "ExecuteTimeLog": [
   {
    "duration": 379,
    "start_time": "2022-11-14T08:47:27.733Z"
   },
   {
    "duration": 95,
    "start_time": "2022-11-14T08:47:45.555Z"
   },
   {
    "duration": 11,
    "start_time": "2022-11-14T08:47:57.523Z"
   },
   {
    "duration": 16,
    "start_time": "2022-11-14T08:48:20.669Z"
   },
   {
    "duration": 76,
    "start_time": "2022-11-14T08:49:24.721Z"
   },
   {
    "duration": 11,
    "start_time": "2022-11-14T08:49:29.041Z"
   },
   {
    "duration": 16,
    "start_time": "2022-11-14T08:51:19.071Z"
   },
   {
    "duration": 6,
    "start_time": "2022-11-14T08:51:40.945Z"
   },
   {
    "duration": 79,
    "start_time": "2022-11-14T08:54:35.694Z"
   },
   {
    "duration": 22,
    "start_time": "2022-11-14T08:55:59.490Z"
   },
   {
    "duration": 10,
    "start_time": "2022-11-14T08:56:06.468Z"
   },
   {
    "duration": 8,
    "start_time": "2022-11-14T09:03:07.366Z"
   },
   {
    "duration": 7,
    "start_time": "2022-11-14T09:03:27.574Z"
   },
   {
    "duration": 9,
    "start_time": "2022-11-14T09:03:29.823Z"
   },
   {
    "duration": 5,
    "start_time": "2022-11-14T09:03:31.541Z"
   },
   {
    "duration": 5,
    "start_time": "2022-11-14T09:08:29.525Z"
   },
   {
    "duration": 11,
    "start_time": "2022-11-14T09:08:32.660Z"
   },
   {
    "duration": 5,
    "start_time": "2022-11-14T09:08:34.664Z"
   },
   {
    "duration": 7,
    "start_time": "2022-11-14T09:08:37.240Z"
   },
   {
    "duration": 5,
    "start_time": "2022-11-14T09:08:39.177Z"
   },
   {
    "duration": 11,
    "start_time": "2022-11-14T09:08:59.638Z"
   },
   {
    "duration": 12,
    "start_time": "2022-11-14T09:09:03.916Z"
   },
   {
    "duration": 9,
    "start_time": "2022-11-14T09:09:13.706Z"
   },
   {
    "duration": 11,
    "start_time": "2022-11-14T09:09:15.817Z"
   },
   {
    "duration": 5,
    "start_time": "2022-11-14T09:10:16.470Z"
   },
   {
    "duration": 13,
    "start_time": "2022-11-14T09:10:18.746Z"
   },
   {
    "duration": 17,
    "start_time": "2022-11-14T09:11:07.877Z"
   },
   {
    "duration": 18,
    "start_time": "2022-11-14T09:12:37.722Z"
   },
   {
    "duration": 5,
    "start_time": "2022-11-14T09:14:36.723Z"
   },
   {
    "duration": 8,
    "start_time": "2022-11-14T09:14:39.305Z"
   },
   {
    "duration": 13,
    "start_time": "2022-11-14T09:14:55.033Z"
   },
   {
    "duration": 13,
    "start_time": "2022-11-14T09:15:39.846Z"
   },
   {
    "duration": 391,
    "start_time": "2022-11-14T09:16:06.819Z"
   },
   {
    "duration": 53,
    "start_time": "2022-11-14T09:16:07.212Z"
   },
   {
    "duration": 11,
    "start_time": "2022-11-14T09:16:07.267Z"
   },
   {
    "duration": 18,
    "start_time": "2022-11-14T09:16:07.280Z"
   },
   {
    "duration": 5,
    "start_time": "2022-11-14T09:16:07.300Z"
   },
   {
    "duration": 7,
    "start_time": "2022-11-14T09:16:07.307Z"
   },
   {
    "duration": 6,
    "start_time": "2022-11-14T09:16:07.316Z"
   },
   {
    "duration": 9,
    "start_time": "2022-11-14T09:16:07.324Z"
   },
   {
    "duration": 14,
    "start_time": "2022-11-14T09:16:07.334Z"
   },
   {
    "duration": 34,
    "start_time": "2022-11-14T09:16:07.350Z"
   },
   {
    "duration": 16,
    "start_time": "2022-11-14T09:16:07.386Z"
   },
   {
    "duration": 86,
    "start_time": "2022-11-14T09:16:07.404Z"
   },
   {
    "duration": 4,
    "start_time": "2022-11-14T09:17:11.406Z"
   },
   {
    "duration": 5,
    "start_time": "2022-11-14T09:17:39.733Z"
   },
   {
    "duration": 13,
    "start_time": "2022-11-14T09:17:40.890Z"
   },
   {
    "duration": 5,
    "start_time": "2022-11-14T09:17:47.678Z"
   },
   {
    "duration": 4,
    "start_time": "2022-11-14T09:17:50.027Z"
   },
   {
    "duration": 13,
    "start_time": "2022-11-14T09:17:51.345Z"
   },
   {
    "duration": 17,
    "start_time": "2022-11-14T09:18:06.336Z"
   },
   {
    "duration": 10,
    "start_time": "2022-11-14T09:18:33.918Z"
   },
   {
    "duration": 17,
    "start_time": "2022-11-14T09:18:59.433Z"
   },
   {
    "duration": 8,
    "start_time": "2022-11-14T09:20:36.400Z"
   },
   {
    "duration": 10,
    "start_time": "2022-11-14T09:21:00.589Z"
   },
   {
    "duration": 5,
    "start_time": "2022-11-14T09:21:03.539Z"
   },
   {
    "duration": 10,
    "start_time": "2022-11-14T09:21:08.460Z"
   },
   {
    "duration": 19,
    "start_time": "2022-11-14T09:21:12.708Z"
   },
   {
    "duration": 14,
    "start_time": "2022-11-14T09:23:23.807Z"
   },
   {
    "duration": 4,
    "start_time": "2022-11-14T09:25:53.228Z"
   },
   {
    "duration": 5,
    "start_time": "2022-11-14T09:26:56.345Z"
   },
   {
    "duration": 5,
    "start_time": "2022-11-14T09:27:26.778Z"
   },
   {
    "duration": 10,
    "start_time": "2022-11-14T09:27:35.275Z"
   },
   {
    "duration": 5,
    "start_time": "2022-11-14T09:27:39.661Z"
   },
   {
    "duration": 13,
    "start_time": "2022-11-14T09:27:41.860Z"
   },
   {
    "duration": 15,
    "start_time": "2022-11-14T09:27:45.478Z"
   },
   {
    "duration": 6,
    "start_time": "2022-11-14T09:29:28.479Z"
   },
   {
    "duration": 10,
    "start_time": "2022-11-14T09:29:30.066Z"
   },
   {
    "duration": 16,
    "start_time": "2022-11-14T09:29:31.020Z"
   },
   {
    "duration": 6,
    "start_time": "2022-11-14T09:33:22.538Z"
   },
   {
    "duration": 15,
    "start_time": "2022-11-14T09:33:37.995Z"
   },
   {
    "duration": 4,
    "start_time": "2022-11-14T09:33:59.073Z"
   },
   {
    "duration": 16,
    "start_time": "2022-11-14T09:33:59.927Z"
   },
   {
    "duration": 407,
    "start_time": "2022-11-14T09:34:21.001Z"
   },
   {
    "duration": 51,
    "start_time": "2022-11-14T09:34:21.410Z"
   },
   {
    "duration": 14,
    "start_time": "2022-11-14T09:34:21.463Z"
   },
   {
    "duration": 23,
    "start_time": "2022-11-14T09:34:21.480Z"
   },
   {
    "duration": 14,
    "start_time": "2022-11-14T09:34:21.506Z"
   },
   {
    "duration": 19,
    "start_time": "2022-11-14T09:34:21.522Z"
   },
   {
    "duration": 18,
    "start_time": "2022-11-14T09:34:21.543Z"
   },
   {
    "duration": 27,
    "start_time": "2022-11-14T09:34:21.562Z"
   },
   {
    "duration": 20,
    "start_time": "2022-11-14T09:34:21.591Z"
   },
   {
    "duration": 40,
    "start_time": "2022-11-14T09:34:21.613Z"
   },
   {
    "duration": 16,
    "start_time": "2022-11-14T09:34:21.655Z"
   },
   {
    "duration": 21,
    "start_time": "2022-11-14T09:34:21.673Z"
   },
   {
    "duration": 14,
    "start_time": "2022-11-14T09:34:21.695Z"
   },
   {
    "duration": 28,
    "start_time": "2022-11-14T09:34:21.711Z"
   },
   {
    "duration": 34,
    "start_time": "2022-11-14T09:34:21.741Z"
   },
   {
    "duration": 17,
    "start_time": "2022-11-14T09:34:21.777Z"
   },
   {
    "duration": 27,
    "start_time": "2022-11-14T09:34:21.796Z"
   },
   {
    "duration": 29,
    "start_time": "2022-11-14T09:34:21.825Z"
   },
   {
    "duration": 33,
    "start_time": "2022-11-14T09:34:21.856Z"
   },
   {
    "duration": 15,
    "start_time": "2022-11-14T09:34:21.891Z"
   },
   {
    "duration": 21,
    "start_time": "2022-11-14T09:34:21.908Z"
   },
   {
    "duration": 6,
    "start_time": "2022-11-14T09:35:26.793Z"
   },
   {
    "duration": 6,
    "start_time": "2022-11-14T09:35:47.436Z"
   },
   {
    "duration": 70,
    "start_time": "2022-11-14T09:36:02.643Z"
   },
   {
    "duration": 7,
    "start_time": "2022-11-14T09:36:05.822Z"
   },
   {
    "duration": 5,
    "start_time": "2022-11-14T09:36:10.944Z"
   },
   {
    "duration": 7,
    "start_time": "2022-11-14T09:37:07.417Z"
   },
   {
    "duration": 6,
    "start_time": "2022-11-14T09:37:10.420Z"
   },
   {
    "duration": 12,
    "start_time": "2022-11-14T09:37:33.977Z"
   },
   {
    "duration": 7,
    "start_time": "2022-11-14T09:37:38.874Z"
   },
   {
    "duration": 16,
    "start_time": "2022-11-14T09:37:52.140Z"
   },
   {
    "duration": 2,
    "start_time": "2022-11-14T09:42:46.173Z"
   },
   {
    "duration": 16,
    "start_time": "2022-11-14T09:44:05.729Z"
   },
   {
    "duration": 10,
    "start_time": "2022-11-14T09:45:45.604Z"
   },
   {
    "duration": 8,
    "start_time": "2022-11-14T09:45:57.759Z"
   },
   {
    "duration": 7,
    "start_time": "2022-11-14T09:46:09.589Z"
   },
   {
    "duration": 7,
    "start_time": "2022-11-14T09:46:42.165Z"
   },
   {
    "duration": 9,
    "start_time": "2022-11-14T09:46:45.057Z"
   },
   {
    "duration": 3,
    "start_time": "2022-11-14T09:47:33.460Z"
   },
   {
    "duration": 5,
    "start_time": "2022-11-14T09:47:39.160Z"
   },
   {
    "duration": 14,
    "start_time": "2022-11-14T09:47:53.773Z"
   },
   {
    "duration": 20,
    "start_time": "2022-11-14T09:48:23.430Z"
   },
   {
    "duration": 5,
    "start_time": "2022-11-14T09:48:25.070Z"
   },
   {
    "duration": 5,
    "start_time": "2022-11-14T09:48:27.460Z"
   },
   {
    "duration": 5,
    "start_time": "2022-11-14T09:48:46.386Z"
   },
   {
    "duration": 16,
    "start_time": "2022-11-14T09:48:48.192Z"
   },
   {
    "duration": 5,
    "start_time": "2022-11-14T09:48:49.693Z"
   },
   {
    "duration": 1171,
    "start_time": "2022-11-14T09:53:16.582Z"
   },
   {
    "duration": 10,
    "start_time": "2022-11-14T09:54:40.144Z"
   },
   {
    "duration": 3,
    "start_time": "2022-11-14T09:55:00.513Z"
   },
   {
    "duration": 11,
    "start_time": "2022-11-14T09:55:14.686Z"
   },
   {
    "duration": 13,
    "start_time": "2022-11-14T09:55:20.747Z"
   },
   {
    "duration": 13,
    "start_time": "2022-11-14T09:55:26.871Z"
   },
   {
    "duration": 12,
    "start_time": "2022-11-14T09:55:30.598Z"
   },
   {
    "duration": 7,
    "start_time": "2022-11-14T09:56:01.562Z"
   },
   {
    "duration": 24,
    "start_time": "2022-11-14T09:56:51.561Z"
   },
   {
    "duration": 9,
    "start_time": "2022-11-14T09:57:01.926Z"
   },
   {
    "duration": 7,
    "start_time": "2022-11-14T09:59:10.077Z"
   },
   {
    "duration": 3,
    "start_time": "2022-11-14T09:59:16.324Z"
   },
   {
    "duration": 45,
    "start_time": "2022-11-15T07:34:36.266Z"
   },
   {
    "duration": 385,
    "start_time": "2022-11-15T07:34:51.259Z"
   },
   {
    "duration": 2,
    "start_time": "2022-11-15T07:34:51.647Z"
   },
   {
    "duration": 128,
    "start_time": "2022-11-15T07:34:51.651Z"
   },
   {
    "duration": 10,
    "start_time": "2022-11-15T07:34:51.781Z"
   },
   {
    "duration": 41,
    "start_time": "2022-11-15T07:34:51.794Z"
   },
   {
    "duration": 39,
    "start_time": "2022-11-15T07:34:51.837Z"
   },
   {
    "duration": 38,
    "start_time": "2022-11-15T07:34:51.877Z"
   },
   {
    "duration": 43,
    "start_time": "2022-11-15T07:34:51.917Z"
   },
   {
    "duration": 44,
    "start_time": "2022-11-15T07:34:51.962Z"
   },
   {
    "duration": 44,
    "start_time": "2022-11-15T07:34:52.007Z"
   },
   {
    "duration": 42,
    "start_time": "2022-11-15T07:34:52.052Z"
   },
   {
    "duration": 34,
    "start_time": "2022-11-15T07:34:52.096Z"
   },
   {
    "duration": 28,
    "start_time": "2022-11-15T07:34:52.132Z"
   },
   {
    "duration": 25,
    "start_time": "2022-11-15T07:34:52.163Z"
   },
   {
    "duration": 31,
    "start_time": "2022-11-15T07:34:52.189Z"
   },
   {
    "duration": 34,
    "start_time": "2022-11-15T07:34:52.222Z"
   },
   {
    "duration": 42,
    "start_time": "2022-11-15T07:34:52.259Z"
   },
   {
    "duration": 43,
    "start_time": "2022-11-15T07:34:52.303Z"
   },
   {
    "duration": 47,
    "start_time": "2022-11-15T07:34:52.348Z"
   },
   {
    "duration": 30,
    "start_time": "2022-11-15T07:34:52.396Z"
   },
   {
    "duration": 21,
    "start_time": "2022-11-15T07:34:52.428Z"
   },
   {
    "duration": 17,
    "start_time": "2022-11-15T07:34:52.451Z"
   },
   {
    "duration": 40,
    "start_time": "2022-11-15T07:34:52.470Z"
   },
   {
    "duration": 39,
    "start_time": "2022-11-15T07:34:52.512Z"
   },
   {
    "duration": 27,
    "start_time": "2022-11-15T07:34:52.553Z"
   },
   {
    "duration": 38,
    "start_time": "2022-11-15T07:34:52.582Z"
   },
   {
    "duration": 25,
    "start_time": "2022-11-15T07:34:52.622Z"
   },
   {
    "duration": 40,
    "start_time": "2022-11-15T07:34:52.649Z"
   },
   {
    "duration": 4,
    "start_time": "2022-11-15T07:46:42.334Z"
   },
   {
    "duration": 2,
    "start_time": "2022-11-15T07:47:31.787Z"
   },
   {
    "duration": 2,
    "start_time": "2022-11-15T07:47:45.948Z"
   },
   {
    "duration": 3,
    "start_time": "2022-11-15T07:47:48.104Z"
   },
   {
    "duration": 1306,
    "start_time": "2022-11-15T07:48:30.576Z"
   },
   {
    "duration": 424,
    "start_time": "2022-11-15T07:48:51.101Z"
   },
   {
    "duration": 3,
    "start_time": "2022-11-15T07:48:51.527Z"
   },
   {
    "duration": 63,
    "start_time": "2022-11-15T07:48:51.531Z"
   },
   {
    "duration": 11,
    "start_time": "2022-11-15T07:48:51.596Z"
   },
   {
    "duration": 29,
    "start_time": "2022-11-15T07:48:51.609Z"
   },
   {
    "duration": 39,
    "start_time": "2022-11-15T07:48:51.640Z"
   },
   {
    "duration": 19,
    "start_time": "2022-11-15T07:48:51.681Z"
   },
   {
    "duration": 31,
    "start_time": "2022-11-15T07:48:51.702Z"
   },
   {
    "duration": 16,
    "start_time": "2022-11-15T07:48:51.734Z"
   },
   {
    "duration": 16,
    "start_time": "2022-11-15T07:48:51.752Z"
   },
   {
    "duration": 19,
    "start_time": "2022-11-15T07:48:51.769Z"
   },
   {
    "duration": 23,
    "start_time": "2022-11-15T07:48:51.790Z"
   },
   {
    "duration": 44,
    "start_time": "2022-11-15T07:48:51.814Z"
   },
   {
    "duration": 17,
    "start_time": "2022-11-15T07:48:51.862Z"
   },
   {
    "duration": 34,
    "start_time": "2022-11-15T07:48:51.882Z"
   },
   {
    "duration": 88,
    "start_time": "2022-11-15T07:48:51.918Z"
   },
   {
    "duration": 0,
    "start_time": "2022-11-15T07:48:52.008Z"
   },
   {
    "duration": 0,
    "start_time": "2022-11-15T07:48:52.011Z"
   },
   {
    "duration": 0,
    "start_time": "2022-11-15T07:48:52.012Z"
   },
   {
    "duration": 0,
    "start_time": "2022-11-15T07:48:52.013Z"
   },
   {
    "duration": 0,
    "start_time": "2022-11-15T07:48:52.014Z"
   },
   {
    "duration": 0,
    "start_time": "2022-11-15T07:48:52.015Z"
   },
   {
    "duration": 0,
    "start_time": "2022-11-15T07:48:52.016Z"
   },
   {
    "duration": 0,
    "start_time": "2022-11-15T07:48:52.017Z"
   },
   {
    "duration": 1,
    "start_time": "2022-11-15T07:48:52.018Z"
   },
   {
    "duration": 0,
    "start_time": "2022-11-15T07:48:52.021Z"
   },
   {
    "duration": 0,
    "start_time": "2022-11-15T07:48:52.022Z"
   },
   {
    "duration": 0,
    "start_time": "2022-11-15T07:48:52.023Z"
   },
   {
    "duration": 0,
    "start_time": "2022-11-15T07:48:52.024Z"
   },
   {
    "duration": 4,
    "start_time": "2022-11-15T07:49:26.600Z"
   },
   {
    "duration": 3,
    "start_time": "2022-11-15T07:49:39.338Z"
   },
   {
    "duration": 4,
    "start_time": "2022-11-15T07:49:42.403Z"
   },
   {
    "duration": 4,
    "start_time": "2022-11-15T07:49:44.651Z"
   },
   {
    "duration": 7,
    "start_time": "2022-11-15T07:50:26.956Z"
   },
   {
    "duration": 12,
    "start_time": "2022-11-15T07:50:30.437Z"
   },
   {
    "duration": 365,
    "start_time": "2022-11-15T07:50:41.475Z"
   },
   {
    "duration": 3,
    "start_time": "2022-11-15T07:50:41.843Z"
   },
   {
    "duration": 57,
    "start_time": "2022-11-15T07:50:41.848Z"
   },
   {
    "duration": 10,
    "start_time": "2022-11-15T07:50:41.907Z"
   },
   {
    "duration": 16,
    "start_time": "2022-11-15T07:50:41.919Z"
   },
   {
    "duration": 14,
    "start_time": "2022-11-15T07:50:41.937Z"
   },
   {
    "duration": 2,
    "start_time": "2022-11-15T07:50:41.953Z"
   },
   {
    "duration": 22,
    "start_time": "2022-11-15T07:50:41.957Z"
   },
   {
    "duration": 4,
    "start_time": "2022-11-15T07:50:41.980Z"
   },
   {
    "duration": 6,
    "start_time": "2022-11-15T07:50:41.986Z"
   },
   {
    "duration": 29,
    "start_time": "2022-11-15T07:50:41.993Z"
   },
   {
    "duration": 5,
    "start_time": "2022-11-15T07:50:42.024Z"
   },
   {
    "duration": 8,
    "start_time": "2022-11-15T07:50:42.031Z"
   },
   {
    "duration": 5,
    "start_time": "2022-11-15T07:50:42.041Z"
   },
   {
    "duration": 17,
    "start_time": "2022-11-15T07:50:42.048Z"
   },
   {
    "duration": 12,
    "start_time": "2022-11-15T07:50:42.067Z"
   },
   {
    "duration": 11,
    "start_time": "2022-11-15T07:50:42.081Z"
   },
   {
    "duration": 7,
    "start_time": "2022-11-15T07:50:42.094Z"
   },
   {
    "duration": 21,
    "start_time": "2022-11-15T07:50:42.103Z"
   },
   {
    "duration": 7,
    "start_time": "2022-11-15T07:50:42.126Z"
   },
   {
    "duration": 9,
    "start_time": "2022-11-15T07:50:42.134Z"
   },
   {
    "duration": 9,
    "start_time": "2022-11-15T07:50:42.144Z"
   },
   {
    "duration": 10,
    "start_time": "2022-11-15T07:50:42.155Z"
   },
   {
    "duration": 13,
    "start_time": "2022-11-15T07:50:42.167Z"
   },
   {
    "duration": 5,
    "start_time": "2022-11-15T07:50:42.181Z"
   },
   {
    "duration": 41,
    "start_time": "2022-11-15T07:50:42.187Z"
   },
   {
    "duration": 10,
    "start_time": "2022-11-15T07:50:42.230Z"
   },
   {
    "duration": 6,
    "start_time": "2022-11-15T07:50:42.242Z"
   },
   {
    "duration": 5,
    "start_time": "2022-11-15T07:50:42.250Z"
   },
   {
    "duration": 566,
    "start_time": "2022-11-15T07:51:21.611Z"
   },
   {
    "duration": 146,
    "start_time": "2022-11-15T07:51:37.324Z"
   },
   {
    "duration": 257,
    "start_time": "2022-11-15T07:51:40.853Z"
   },
   {
    "duration": 211,
    "start_time": "2022-11-15T07:52:18.491Z"
   },
   {
    "duration": 4,
    "start_time": "2022-11-15T07:56:18.379Z"
   },
   {
    "duration": 6,
    "start_time": "2022-11-15T07:56:53.781Z"
   },
   {
    "duration": 5,
    "start_time": "2022-11-15T07:57:12.757Z"
   },
   {
    "duration": 4,
    "start_time": "2022-11-15T07:57:19.003Z"
   },
   {
    "duration": 68,
    "start_time": "2022-11-15T07:57:43.704Z"
   },
   {
    "duration": 5,
    "start_time": "2022-11-15T07:57:45.284Z"
   },
   {
    "duration": 5,
    "start_time": "2022-11-15T07:57:45.952Z"
   },
   {
    "duration": 143,
    "start_time": "2022-11-15T07:57:52.212Z"
   },
   {
    "duration": 141,
    "start_time": "2022-11-15T07:57:58.044Z"
   },
   {
    "duration": 117,
    "start_time": "2022-11-15T07:58:20.359Z"
   },
   {
    "duration": 7,
    "start_time": "2022-11-15T07:59:04.967Z"
   },
   {
    "duration": 151,
    "start_time": "2022-11-15T07:59:14.151Z"
   },
   {
    "duration": 113,
    "start_time": "2022-11-15T08:00:38.984Z"
   },
   {
    "duration": 133,
    "start_time": "2022-11-15T08:01:46.532Z"
   },
   {
    "duration": 171,
    "start_time": "2022-11-15T08:03:04.127Z"
   },
   {
    "duration": 9,
    "start_time": "2022-11-15T08:03:13.061Z"
   },
   {
    "duration": 237,
    "start_time": "2022-11-15T08:03:20.096Z"
   },
   {
    "duration": 5,
    "start_time": "2022-11-15T08:04:14.615Z"
   },
   {
    "duration": 4,
    "start_time": "2022-11-15T08:04:17.192Z"
   },
   {
    "duration": 5,
    "start_time": "2022-11-15T08:04:23.998Z"
   },
   {
    "duration": 4,
    "start_time": "2022-11-15T08:04:25.240Z"
   },
   {
    "duration": 243,
    "start_time": "2022-11-15T08:04:28.211Z"
   },
   {
    "duration": 246,
    "start_time": "2022-11-15T08:04:33.693Z"
   },
   {
    "duration": 330,
    "start_time": "2022-11-15T08:04:48.848Z"
   },
   {
    "duration": 121,
    "start_time": "2022-11-15T08:05:08.513Z"
   },
   {
    "duration": 12,
    "start_time": "2022-11-15T08:08:43.587Z"
   },
   {
    "duration": 4,
    "start_time": "2022-11-15T08:08:46.219Z"
   },
   {
    "duration": 7,
    "start_time": "2022-11-15T08:09:17.915Z"
   },
   {
    "duration": 7,
    "start_time": "2022-11-15T08:09:20.165Z"
   },
   {
    "duration": 119,
    "start_time": "2022-11-15T08:09:26.036Z"
   },
   {
    "duration": 4,
    "start_time": "2022-11-15T08:12:24.700Z"
   },
   {
    "duration": 4,
    "start_time": "2022-11-15T08:12:27.735Z"
   },
   {
    "duration": 119,
    "start_time": "2022-11-15T08:12:30.880Z"
   },
   {
    "duration": 131,
    "start_time": "2022-11-15T08:13:18.319Z"
   },
   {
    "duration": 113,
    "start_time": "2022-11-15T08:13:33.690Z"
   },
   {
    "duration": 179,
    "start_time": "2022-11-15T08:13:44.054Z"
   },
   {
    "duration": 10,
    "start_time": "2022-11-15T08:15:43.561Z"
   },
   {
    "duration": 5,
    "start_time": "2022-11-15T08:15:57.391Z"
   },
   {
    "duration": 9,
    "start_time": "2022-11-15T08:16:11.062Z"
   },
   {
    "duration": 6,
    "start_time": "2022-11-15T08:16:17.159Z"
   },
   {
    "duration": 5,
    "start_time": "2022-11-15T08:17:27.235Z"
   },
   {
    "duration": 7,
    "start_time": "2022-11-15T08:17:36.686Z"
   },
   {
    "duration": 7,
    "start_time": "2022-11-15T08:17:44.412Z"
   },
   {
    "duration": 7,
    "start_time": "2022-11-15T08:20:42.860Z"
   },
   {
    "duration": 4,
    "start_time": "2022-11-15T08:21:04.864Z"
   },
   {
    "duration": 1142,
    "start_time": "2022-11-15T08:21:18.669Z"
   },
   {
    "duration": 7,
    "start_time": "2022-11-15T08:22:47.497Z"
   },
   {
    "duration": 7,
    "start_time": "2022-11-15T08:34:26.590Z"
   },
   {
    "duration": 3,
    "start_time": "2022-11-15T08:36:03.587Z"
   },
   {
    "duration": 5,
    "start_time": "2022-11-15T08:36:23.391Z"
   },
   {
    "duration": 2,
    "start_time": "2022-11-15T08:36:26.585Z"
   },
   {
    "duration": 5,
    "start_time": "2022-11-15T08:36:27.003Z"
   },
   {
    "duration": 11,
    "start_time": "2022-11-15T08:44:18.165Z"
   },
   {
    "duration": 13,
    "start_time": "2022-11-15T08:45:09.753Z"
   },
   {
    "duration": 7,
    "start_time": "2022-11-15T08:45:10.324Z"
   },
   {
    "duration": 11,
    "start_time": "2022-11-15T08:45:16.948Z"
   },
   {
    "duration": 11,
    "start_time": "2022-11-15T08:45:35.014Z"
   },
   {
    "duration": 12,
    "start_time": "2022-11-15T08:45:52.403Z"
   },
   {
    "duration": 330,
    "start_time": "2022-11-15T08:45:58.068Z"
   },
   {
    "duration": 12,
    "start_time": "2022-11-15T08:46:33.152Z"
   },
   {
    "duration": 12,
    "start_time": "2022-11-15T08:46:36.226Z"
   },
   {
    "duration": 7,
    "start_time": "2022-11-15T08:46:39.562Z"
   },
   {
    "duration": 10,
    "start_time": "2022-11-15T08:46:39.836Z"
   },
   {
    "duration": 996,
    "start_time": "2022-11-15T08:47:26.488Z"
   },
   {
    "duration": 867,
    "start_time": "2022-11-15T08:47:33.443Z"
   },
   {
    "duration": 6,
    "start_time": "2022-11-15T08:47:56.311Z"
   },
   {
    "duration": 1173,
    "start_time": "2022-11-15T08:48:03.526Z"
   },
   {
    "duration": 4,
    "start_time": "2022-11-15T08:48:13.720Z"
   },
   {
    "duration": 5,
    "start_time": "2022-11-15T08:48:34.561Z"
   },
   {
    "duration": 5,
    "start_time": "2022-11-15T08:48:52.538Z"
   },
   {
    "duration": 5,
    "start_time": "2022-11-15T08:49:03.682Z"
   },
   {
    "duration": 6,
    "start_time": "2022-11-15T08:49:25.384Z"
   },
   {
    "duration": 6,
    "start_time": "2022-11-15T08:49:26.869Z"
   },
   {
    "duration": 2,
    "start_time": "2022-11-15T08:57:34.520Z"
   },
   {
    "duration": 2,
    "start_time": "2022-11-15T08:57:34.911Z"
   },
   {
    "duration": 19,
    "start_time": "2022-11-15T08:58:44.077Z"
   },
   {
    "duration": 19,
    "start_time": "2022-11-15T08:58:52.702Z"
   },
   {
    "duration": 18,
    "start_time": "2022-11-15T08:59:10.844Z"
   },
   {
    "duration": 78,
    "start_time": "2022-11-15T08:59:29.551Z"
   },
   {
    "duration": 22,
    "start_time": "2022-11-15T08:59:37.501Z"
   },
   {
    "duration": 1834,
    "start_time": "2022-11-15T09:00:25.774Z"
   },
   {
    "duration": 1265,
    "start_time": "2022-11-15T09:00:33.673Z"
   },
   {
    "duration": 1516,
    "start_time": "2022-11-15T09:00:44.158Z"
   },
   {
    "duration": 22,
    "start_time": "2022-11-15T09:00:47.238Z"
   },
   {
    "duration": 8,
    "start_time": "2022-11-15T09:01:06.895Z"
   },
   {
    "duration": 9,
    "start_time": "2022-11-15T09:01:08.485Z"
   },
   {
    "duration": 7,
    "start_time": "2022-11-15T09:01:08.777Z"
   },
   {
    "duration": 6,
    "start_time": "2022-11-15T09:01:16.738Z"
   },
   {
    "duration": 7,
    "start_time": "2022-11-15T09:01:18.175Z"
   },
   {
    "duration": 3,
    "start_time": "2022-11-15T09:04:34.343Z"
   },
   {
    "duration": 3,
    "start_time": "2022-11-15T09:04:37.588Z"
   },
   {
    "duration": 3,
    "start_time": "2022-11-15T09:04:45.366Z"
   },
   {
    "duration": 3,
    "start_time": "2022-11-15T09:04:57.206Z"
   },
   {
    "duration": 27,
    "start_time": "2022-11-15T09:06:58.388Z"
   },
   {
    "duration": 70,
    "start_time": "2022-11-15T09:12:52.718Z"
   },
   {
    "duration": 72,
    "start_time": "2022-11-15T09:13:11.860Z"
   },
   {
    "duration": 77,
    "start_time": "2022-11-15T09:13:14.818Z"
   },
   {
    "duration": 79,
    "start_time": "2022-11-15T09:13:25.731Z"
   },
   {
    "duration": 17,
    "start_time": "2022-11-15T09:13:44.412Z"
   },
   {
    "duration": 8,
    "start_time": "2022-11-15T09:14:58.522Z"
   },
   {
    "duration": 9,
    "start_time": "2022-11-15T09:15:07.533Z"
   },
   {
    "duration": 9,
    "start_time": "2022-11-15T09:15:23.118Z"
   },
   {
    "duration": 153,
    "start_time": "2022-11-15T09:15:33.555Z"
   },
   {
    "duration": 13,
    "start_time": "2022-11-15T09:16:44.616Z"
   },
   {
    "duration": 6,
    "start_time": "2022-11-15T09:16:45.698Z"
   },
   {
    "duration": 16,
    "start_time": "2022-11-15T09:17:01.904Z"
   },
   {
    "duration": 8,
    "start_time": "2022-11-15T09:17:03.112Z"
   },
   {
    "duration": 10,
    "start_time": "2022-11-15T09:20:46.172Z"
   },
   {
    "duration": 8,
    "start_time": "2022-11-15T09:21:07.921Z"
   },
   {
    "duration": 6,
    "start_time": "2022-11-15T09:50:48.947Z"
   },
   {
    "duration": 5,
    "start_time": "2022-11-15T09:51:01.641Z"
   },
   {
    "duration": 10,
    "start_time": "2022-11-15T09:52:57.079Z"
   },
   {
    "duration": 12,
    "start_time": "2022-11-15T09:55:26.912Z"
   },
   {
    "duration": 13,
    "start_time": "2022-11-15T09:56:42.854Z"
   },
   {
    "duration": 13,
    "start_time": "2022-11-15T09:56:47.460Z"
   },
   {
    "duration": 12,
    "start_time": "2022-11-15T09:56:50.653Z"
   },
   {
    "duration": 13,
    "start_time": "2022-11-15T09:56:57.737Z"
   },
   {
    "duration": 15,
    "start_time": "2022-11-15T09:57:01.576Z"
   },
   {
    "duration": 41,
    "start_time": "2022-11-16T08:58:41.021Z"
   },
   {
    "duration": 470,
    "start_time": "2022-11-16T08:58:55.670Z"
   },
   {
    "duration": 3,
    "start_time": "2022-11-16T08:58:56.142Z"
   },
   {
    "duration": 97,
    "start_time": "2022-11-16T08:58:56.147Z"
   },
   {
    "duration": 10,
    "start_time": "2022-11-16T08:58:56.245Z"
   },
   {
    "duration": 23,
    "start_time": "2022-11-16T08:58:56.257Z"
   },
   {
    "duration": 14,
    "start_time": "2022-11-16T08:58:56.281Z"
   },
   {
    "duration": 5,
    "start_time": "2022-11-16T08:58:56.297Z"
   },
   {
    "duration": 20,
    "start_time": "2022-11-16T08:58:56.303Z"
   },
   {
    "duration": 4,
    "start_time": "2022-11-16T08:58:56.324Z"
   },
   {
    "duration": 9,
    "start_time": "2022-11-16T08:58:56.329Z"
   },
   {
    "duration": 4,
    "start_time": "2022-11-16T08:58:56.339Z"
   },
   {
    "duration": 7,
    "start_time": "2022-11-16T08:58:56.345Z"
   },
   {
    "duration": 4,
    "start_time": "2022-11-16T08:58:56.379Z"
   },
   {
    "duration": 6,
    "start_time": "2022-11-16T08:58:56.385Z"
   },
   {
    "duration": 17,
    "start_time": "2022-11-16T08:58:56.393Z"
   },
   {
    "duration": 4,
    "start_time": "2022-11-16T08:58:56.412Z"
   },
   {
    "duration": 10,
    "start_time": "2022-11-16T08:58:56.417Z"
   },
   {
    "duration": 5,
    "start_time": "2022-11-16T08:58:56.429Z"
   },
   {
    "duration": 5,
    "start_time": "2022-11-16T08:58:56.435Z"
   },
   {
    "duration": 5,
    "start_time": "2022-11-16T08:58:56.442Z"
   },
   {
    "duration": 30,
    "start_time": "2022-11-16T08:58:56.448Z"
   },
   {
    "duration": 4,
    "start_time": "2022-11-16T08:58:56.480Z"
   },
   {
    "duration": 14,
    "start_time": "2022-11-16T08:58:56.486Z"
   },
   {
    "duration": 12,
    "start_time": "2022-11-16T08:58:56.502Z"
   },
   {
    "duration": 5,
    "start_time": "2022-11-16T08:58:56.515Z"
   },
   {
    "duration": 18,
    "start_time": "2022-11-16T08:58:56.521Z"
   },
   {
    "duration": 3,
    "start_time": "2022-11-16T08:58:56.541Z"
   },
   {
    "duration": 7,
    "start_time": "2022-11-16T08:58:56.545Z"
   },
   {
    "duration": 4,
    "start_time": "2022-11-16T08:58:56.578Z"
   },
   {
    "duration": 505,
    "start_time": "2022-11-16T08:58:56.584Z"
   },
   {
    "duration": 5,
    "start_time": "2022-11-16T08:58:57.091Z"
   },
   {
    "duration": 9,
    "start_time": "2022-11-16T08:58:57.097Z"
   },
   {
    "duration": 5,
    "start_time": "2022-11-16T08:58:57.107Z"
   },
   {
    "duration": 20,
    "start_time": "2022-11-16T08:58:57.114Z"
   },
   {
    "duration": 11,
    "start_time": "2022-11-16T08:58:57.136Z"
   },
   {
    "duration": 91,
    "start_time": "2022-11-16T09:05:20.707Z"
   },
   {
    "duration": 6,
    "start_time": "2022-11-16T09:05:56.626Z"
   },
   {
    "duration": 7,
    "start_time": "2022-11-16T09:06:05.381Z"
   },
   {
    "duration": 12,
    "start_time": "2022-11-16T09:07:06.428Z"
   },
   {
    "duration": 4,
    "start_time": "2022-11-16T09:07:20.859Z"
   },
   {
    "duration": 8,
    "start_time": "2022-11-16T09:08:10.982Z"
   },
   {
    "duration": 7,
    "start_time": "2022-11-16T09:08:32.269Z"
   },
   {
    "duration": 8,
    "start_time": "2022-11-16T09:08:36.909Z"
   },
   {
    "duration": 8,
    "start_time": "2022-11-16T09:09:56.006Z"
   },
   {
    "duration": 8,
    "start_time": "2022-11-16T09:10:17.900Z"
   },
   {
    "duration": 3,
    "start_time": "2022-11-16T09:11:02.313Z"
   },
   {
    "duration": 8,
    "start_time": "2022-11-16T09:11:04.422Z"
   },
   {
    "duration": 3,
    "start_time": "2022-11-16T09:11:10.125Z"
   },
   {
    "duration": 3,
    "start_time": "2022-11-16T09:11:13.288Z"
   },
   {
    "duration": 3,
    "start_time": "2022-11-16T09:11:23.250Z"
   },
   {
    "duration": 3,
    "start_time": "2022-11-16T09:11:24.140Z"
   },
   {
    "duration": 4,
    "start_time": "2022-11-16T09:11:33.317Z"
   },
   {
    "duration": 3,
    "start_time": "2022-11-16T09:11:37.976Z"
   },
   {
    "duration": 3,
    "start_time": "2022-11-16T09:12:39.303Z"
   },
   {
    "duration": 3,
    "start_time": "2022-11-16T09:12:40.069Z"
   },
   {
    "duration": 3,
    "start_time": "2022-11-16T09:12:51.981Z"
   },
   {
    "duration": 3,
    "start_time": "2022-11-16T09:12:52.914Z"
   },
   {
    "duration": 4,
    "start_time": "2022-11-16T09:13:43.566Z"
   },
   {
    "duration": 3,
    "start_time": "2022-11-16T09:14:24.738Z"
   },
   {
    "duration": 3,
    "start_time": "2022-11-16T09:14:25.154Z"
   },
   {
    "duration": 2,
    "start_time": "2022-11-16T09:14:25.443Z"
   },
   {
    "duration": 7,
    "start_time": "2022-11-16T09:14:26.693Z"
   },
   {
    "duration": 5,
    "start_time": "2022-11-16T09:14:33.357Z"
   },
   {
    "duration": 15,
    "start_time": "2022-11-16T09:14:52.474Z"
   },
   {
    "duration": 5,
    "start_time": "2022-11-16T09:18:23.215Z"
   },
   {
    "duration": 6,
    "start_time": "2022-11-16T09:18:23.720Z"
   },
   {
    "duration": 7,
    "start_time": "2022-11-16T09:20:53.999Z"
   },
   {
    "duration": 4,
    "start_time": "2022-11-16T09:24:11.338Z"
   },
   {
    "duration": 14,
    "start_time": "2022-11-16T09:24:11.822Z"
   },
   {
    "duration": 11,
    "start_time": "2022-11-16T09:24:12.102Z"
   },
   {
    "duration": 3,
    "start_time": "2022-11-16T09:24:35.693Z"
   },
   {
    "duration": 9,
    "start_time": "2022-11-16T09:26:25.467Z"
   },
   {
    "duration": 117,
    "start_time": "2022-11-16T09:26:30.331Z"
   },
   {
    "duration": 141,
    "start_time": "2022-11-16T09:26:35.216Z"
   },
   {
    "duration": 10,
    "start_time": "2022-11-16T09:27:17.624Z"
   },
   {
    "duration": 10,
    "start_time": "2022-11-16T09:27:52.255Z"
   },
   {
    "duration": 10,
    "start_time": "2022-11-16T09:28:00.065Z"
   },
   {
    "duration": 9,
    "start_time": "2022-11-16T09:28:03.041Z"
   },
   {
    "duration": 13,
    "start_time": "2022-11-16T09:28:08.929Z"
   },
   {
    "duration": 12,
    "start_time": "2022-11-16T09:28:15.741Z"
   },
   {
    "duration": 13,
    "start_time": "2022-11-16T09:29:09.612Z"
   },
   {
    "duration": 12,
    "start_time": "2022-11-16T09:29:27.995Z"
   },
   {
    "duration": 14,
    "start_time": "2022-11-16T10:24:24.374Z"
   },
   {
    "duration": 270,
    "start_time": "2022-11-16T11:07:46.759Z"
   },
   {
    "duration": 10,
    "start_time": "2022-11-16T11:08:03.046Z"
   },
   {
    "duration": 9,
    "start_time": "2022-11-16T11:08:35.141Z"
   },
   {
    "duration": 8,
    "start_time": "2022-11-16T11:13:29.251Z"
   },
   {
    "duration": 9,
    "start_time": "2022-11-16T11:15:24.155Z"
   },
   {
    "duration": 4019,
    "start_time": "2022-11-16T11:15:32.649Z"
   },
   {
    "duration": 281,
    "start_time": "2022-11-16T11:16:06.371Z"
   },
   {
    "duration": 6,
    "start_time": "2022-11-16T11:17:43.036Z"
   },
   {
    "duration": 255,
    "start_time": "2022-11-16T11:17:43.669Z"
   },
   {
    "duration": 213,
    "start_time": "2022-11-16T11:18:25.389Z"
   },
   {
    "duration": 425,
    "start_time": "2022-11-16T11:18:40.931Z"
   },
   {
    "duration": 205,
    "start_time": "2022-11-16T11:19:18.728Z"
   },
   {
    "duration": 197,
    "start_time": "2022-11-16T11:19:24.431Z"
   },
   {
    "duration": 257,
    "start_time": "2022-11-16T11:19:29.171Z"
   },
   {
    "duration": 205,
    "start_time": "2022-11-16T11:19:38.413Z"
   },
   {
    "duration": 313,
    "start_time": "2022-11-16T11:19:45.710Z"
   },
   {
    "duration": 236,
    "start_time": "2022-11-16T11:25:00.446Z"
   },
   {
    "duration": 255,
    "start_time": "2022-11-16T11:41:45.110Z"
   },
   {
    "duration": 240,
    "start_time": "2022-11-16T11:41:54.250Z"
   },
   {
    "duration": 216,
    "start_time": "2022-11-16T11:51:08.436Z"
   },
   {
    "duration": 250,
    "start_time": "2022-11-16T11:51:15.529Z"
   },
   {
    "duration": 328,
    "start_time": "2022-11-16T11:51:41.496Z"
   },
   {
    "duration": 51,
    "start_time": "2022-11-16T13:31:23.500Z"
   },
   {
    "duration": 405,
    "start_time": "2022-11-16T13:31:50.342Z"
   },
   {
    "duration": 3,
    "start_time": "2022-11-16T13:31:50.749Z"
   },
   {
    "duration": 215,
    "start_time": "2022-11-16T13:31:50.754Z"
   },
   {
    "duration": 11,
    "start_time": "2022-11-16T13:31:50.971Z"
   },
   {
    "duration": 29,
    "start_time": "2022-11-16T13:31:50.984Z"
   },
   {
    "duration": 20,
    "start_time": "2022-11-16T13:31:51.015Z"
   },
   {
    "duration": 3,
    "start_time": "2022-11-16T13:31:51.036Z"
   },
   {
    "duration": 25,
    "start_time": "2022-11-16T13:31:51.040Z"
   },
   {
    "duration": 7,
    "start_time": "2022-11-16T13:31:51.068Z"
   },
   {
    "duration": 22,
    "start_time": "2022-11-16T13:31:51.077Z"
   },
   {
    "duration": 18,
    "start_time": "2022-11-16T13:31:51.101Z"
   },
   {
    "duration": 13,
    "start_time": "2022-11-16T13:31:51.121Z"
   },
   {
    "duration": 15,
    "start_time": "2022-11-16T13:31:51.136Z"
   },
   {
    "duration": 8,
    "start_time": "2022-11-16T13:31:51.155Z"
   },
   {
    "duration": 18,
    "start_time": "2022-11-16T13:31:51.165Z"
   },
   {
    "duration": 4,
    "start_time": "2022-11-16T13:31:51.185Z"
   },
   {
    "duration": 16,
    "start_time": "2022-11-16T13:31:51.190Z"
   },
   {
    "duration": 4,
    "start_time": "2022-11-16T13:31:51.208Z"
   },
   {
    "duration": 7,
    "start_time": "2022-11-16T13:31:51.214Z"
   },
   {
    "duration": 12,
    "start_time": "2022-11-16T13:31:51.223Z"
   },
   {
    "duration": 13,
    "start_time": "2022-11-16T13:31:51.237Z"
   },
   {
    "duration": 10,
    "start_time": "2022-11-16T13:31:51.251Z"
   },
   {
    "duration": 12,
    "start_time": "2022-11-16T13:31:51.263Z"
   },
   {
    "duration": 29,
    "start_time": "2022-11-16T13:31:51.277Z"
   },
   {
    "duration": 6,
    "start_time": "2022-11-16T13:31:51.308Z"
   },
   {
    "duration": 21,
    "start_time": "2022-11-16T13:31:51.316Z"
   },
   {
    "duration": 4,
    "start_time": "2022-11-16T13:31:51.340Z"
   },
   {
    "duration": 9,
    "start_time": "2022-11-16T13:31:51.346Z"
   },
   {
    "duration": 11,
    "start_time": "2022-11-16T13:31:51.356Z"
   },
   {
    "duration": 578,
    "start_time": "2022-11-16T13:31:51.368Z"
   },
   {
    "duration": 6,
    "start_time": "2022-11-16T13:31:51.948Z"
   },
   {
    "duration": 11,
    "start_time": "2022-11-16T13:31:51.955Z"
   },
   {
    "duration": 17,
    "start_time": "2022-11-16T13:31:51.968Z"
   },
   {
    "duration": 51,
    "start_time": "2022-11-16T13:31:51.987Z"
   },
   {
    "duration": 15,
    "start_time": "2022-11-16T13:31:52.039Z"
   },
   {
    "duration": 84,
    "start_time": "2022-11-16T13:31:52.056Z"
   },
   {
    "duration": 0,
    "start_time": "2022-11-16T13:31:52.142Z"
   },
   {
    "duration": 0,
    "start_time": "2022-11-16T13:31:52.143Z"
   },
   {
    "duration": 0,
    "start_time": "2022-11-16T13:31:52.144Z"
   },
   {
    "duration": 0,
    "start_time": "2022-11-16T13:31:52.146Z"
   },
   {
    "duration": 0,
    "start_time": "2022-11-16T13:31:52.147Z"
   },
   {
    "duration": 0,
    "start_time": "2022-11-16T13:31:52.148Z"
   },
   {
    "duration": 0,
    "start_time": "2022-11-16T13:31:52.149Z"
   },
   {
    "duration": 0,
    "start_time": "2022-11-16T13:31:52.151Z"
   },
   {
    "duration": 0,
    "start_time": "2022-11-16T13:31:52.152Z"
   },
   {
    "duration": 0,
    "start_time": "2022-11-16T13:31:52.153Z"
   },
   {
    "duration": 0,
    "start_time": "2022-11-16T13:31:52.154Z"
   },
   {
    "duration": 0,
    "start_time": "2022-11-16T13:31:52.155Z"
   },
   {
    "duration": 0,
    "start_time": "2022-11-16T13:31:52.156Z"
   },
   {
    "duration": 0,
    "start_time": "2022-11-16T13:31:52.157Z"
   },
   {
    "duration": 0,
    "start_time": "2022-11-16T13:31:52.159Z"
   },
   {
    "duration": 0,
    "start_time": "2022-11-16T13:31:52.160Z"
   },
   {
    "duration": 8,
    "start_time": "2022-11-16T13:32:00.788Z"
   },
   {
    "duration": 9,
    "start_time": "2022-11-16T13:32:18.556Z"
   },
   {
    "duration": 7,
    "start_time": "2022-11-16T13:32:21.928Z"
   },
   {
    "duration": 8,
    "start_time": "2022-11-16T13:32:22.352Z"
   },
   {
    "duration": 34,
    "start_time": "2022-11-16T13:32:35.048Z"
   },
   {
    "duration": 8,
    "start_time": "2022-11-16T13:32:35.636Z"
   },
   {
    "duration": 393,
    "start_time": "2022-11-16T13:32:42.860Z"
   },
   {
    "duration": 3,
    "start_time": "2022-11-16T13:32:43.255Z"
   },
   {
    "duration": 60,
    "start_time": "2022-11-16T13:32:43.260Z"
   },
   {
    "duration": 12,
    "start_time": "2022-11-16T13:32:43.323Z"
   },
   {
    "duration": 19,
    "start_time": "2022-11-16T13:32:43.337Z"
   },
   {
    "duration": 16,
    "start_time": "2022-11-16T13:32:43.358Z"
   },
   {
    "duration": 11,
    "start_time": "2022-11-16T13:32:43.376Z"
   },
   {
    "duration": 38,
    "start_time": "2022-11-16T13:32:43.388Z"
   },
   {
    "duration": 4,
    "start_time": "2022-11-16T13:32:43.428Z"
   },
   {
    "duration": 11,
    "start_time": "2022-11-16T13:32:43.435Z"
   },
   {
    "duration": 9,
    "start_time": "2022-11-16T13:32:43.447Z"
   },
   {
    "duration": 12,
    "start_time": "2022-11-16T13:32:43.457Z"
   },
   {
    "duration": 8,
    "start_time": "2022-11-16T13:32:43.471Z"
   },
   {
    "duration": 9,
    "start_time": "2022-11-16T13:32:43.481Z"
   },
   {
    "duration": 32,
    "start_time": "2022-11-16T13:32:43.492Z"
   },
   {
    "duration": 4,
    "start_time": "2022-11-16T13:32:43.525Z"
   },
   {
    "duration": 15,
    "start_time": "2022-11-16T13:32:43.531Z"
   },
   {
    "duration": 5,
    "start_time": "2022-11-16T13:32:43.548Z"
   },
   {
    "duration": 16,
    "start_time": "2022-11-16T13:32:43.555Z"
   },
   {
    "duration": 8,
    "start_time": "2022-11-16T13:32:43.573Z"
   },
   {
    "duration": 7,
    "start_time": "2022-11-16T13:32:43.583Z"
   },
   {
    "duration": 11,
    "start_time": "2022-11-16T13:32:43.592Z"
   },
   {
    "duration": 21,
    "start_time": "2022-11-16T13:32:43.604Z"
   },
   {
    "duration": 15,
    "start_time": "2022-11-16T13:32:43.627Z"
   },
   {
    "duration": 5,
    "start_time": "2022-11-16T13:32:43.643Z"
   },
   {
    "duration": 19,
    "start_time": "2022-11-16T13:32:43.650Z"
   },
   {
    "duration": 6,
    "start_time": "2022-11-16T13:32:43.671Z"
   },
   {
    "duration": 31,
    "start_time": "2022-11-16T13:32:43.681Z"
   },
   {
    "duration": 4,
    "start_time": "2022-11-16T13:32:43.714Z"
   },
   {
    "duration": 437,
    "start_time": "2022-11-16T13:32:43.720Z"
   },
   {
    "duration": 6,
    "start_time": "2022-11-16T13:32:44.159Z"
   },
   {
    "duration": 11,
    "start_time": "2022-11-16T13:32:44.167Z"
   },
   {
    "duration": 10,
    "start_time": "2022-11-16T13:32:44.180Z"
   },
   {
    "duration": 34,
    "start_time": "2022-11-16T13:32:44.191Z"
   },
   {
    "duration": 13,
    "start_time": "2022-11-16T13:32:44.227Z"
   },
   {
    "duration": 83,
    "start_time": "2022-11-16T13:32:44.242Z"
   },
   {
    "duration": 0,
    "start_time": "2022-11-16T13:32:44.326Z"
   },
   {
    "duration": 0,
    "start_time": "2022-11-16T13:32:44.327Z"
   },
   {
    "duration": 0,
    "start_time": "2022-11-16T13:32:44.328Z"
   },
   {
    "duration": 0,
    "start_time": "2022-11-16T13:32:44.330Z"
   },
   {
    "duration": 0,
    "start_time": "2022-11-16T13:32:44.331Z"
   },
   {
    "duration": 0,
    "start_time": "2022-11-16T13:32:44.332Z"
   },
   {
    "duration": 0,
    "start_time": "2022-11-16T13:32:44.333Z"
   },
   {
    "duration": 0,
    "start_time": "2022-11-16T13:32:44.334Z"
   },
   {
    "duration": 0,
    "start_time": "2022-11-16T13:32:44.335Z"
   },
   {
    "duration": 0,
    "start_time": "2022-11-16T13:32:44.336Z"
   },
   {
    "duration": 0,
    "start_time": "2022-11-16T13:32:44.337Z"
   },
   {
    "duration": 0,
    "start_time": "2022-11-16T13:32:44.339Z"
   },
   {
    "duration": 0,
    "start_time": "2022-11-16T13:32:44.340Z"
   },
   {
    "duration": 0,
    "start_time": "2022-11-16T13:32:44.341Z"
   },
   {
    "duration": 0,
    "start_time": "2022-11-16T13:32:44.342Z"
   },
   {
    "duration": 0,
    "start_time": "2022-11-16T13:32:44.343Z"
   },
   {
    "duration": 4,
    "start_time": "2022-11-16T13:33:17.499Z"
   },
   {
    "duration": 3,
    "start_time": "2022-11-16T13:33:18.705Z"
   },
   {
    "duration": 3,
    "start_time": "2022-11-16T13:33:19.376Z"
   },
   {
    "duration": 2,
    "start_time": "2022-11-16T13:33:19.828Z"
   },
   {
    "duration": 4,
    "start_time": "2022-11-16T13:33:20.190Z"
   },
   {
    "duration": 7,
    "start_time": "2022-11-16T13:33:20.400Z"
   },
   {
    "duration": 17,
    "start_time": "2022-11-16T13:33:20.580Z"
   },
   {
    "duration": 6,
    "start_time": "2022-11-16T13:33:21.337Z"
   },
   {
    "duration": 6,
    "start_time": "2022-11-16T13:33:21.577Z"
   },
   {
    "duration": 5,
    "start_time": "2022-11-16T13:33:22.196Z"
   },
   {
    "duration": 15,
    "start_time": "2022-11-16T13:33:22.394Z"
   },
   {
    "duration": 13,
    "start_time": "2022-11-16T13:33:22.736Z"
   },
   {
    "duration": 10,
    "start_time": "2022-11-16T13:33:22.906Z"
   },
   {
    "duration": 7,
    "start_time": "2022-11-16T13:33:23.564Z"
   },
   {
    "duration": 257,
    "start_time": "2022-11-16T13:33:23.851Z"
   },
   {
    "duration": 19,
    "start_time": "2022-11-16T13:33:24.900Z"
   },
   {
    "duration": 8,
    "start_time": "2022-11-16T13:33:26.295Z"
   },
   {
    "duration": 6,
    "start_time": "2022-11-16T13:33:43.299Z"
   },
   {
    "duration": 1192,
    "start_time": "2022-11-16T13:33:45.359Z"
   },
   {
    "duration": 142,
    "start_time": "2022-11-16T13:34:52.863Z"
   },
   {
    "duration": 202,
    "start_time": "2022-11-16T13:35:20.651Z"
   },
   {
    "duration": 152,
    "start_time": "2022-11-16T13:35:24.743Z"
   },
   {
    "duration": 144,
    "start_time": "2022-11-16T13:35:27.255Z"
   },
   {
    "duration": 141,
    "start_time": "2022-11-16T13:35:48.001Z"
   },
   {
    "duration": 188,
    "start_time": "2022-11-16T13:35:54.714Z"
   },
   {
    "duration": 4,
    "start_time": "2022-11-16T13:37:42.621Z"
   },
   {
    "duration": 5,
    "start_time": "2022-11-16T13:37:52.263Z"
   },
   {
    "duration": 4,
    "start_time": "2022-11-16T13:38:16.335Z"
   },
   {
    "duration": 201,
    "start_time": "2022-11-16T13:48:02.063Z"
   },
   {
    "duration": 116,
    "start_time": "2022-11-16T13:48:16.670Z"
   },
   {
    "duration": 447,
    "start_time": "2022-11-16T13:51:46.331Z"
   },
   {
    "duration": 2,
    "start_time": "2022-11-16T13:51:46.780Z"
   },
   {
    "duration": 71,
    "start_time": "2022-11-16T13:51:46.784Z"
   },
   {
    "duration": 10,
    "start_time": "2022-11-16T13:51:46.858Z"
   },
   {
    "duration": 20,
    "start_time": "2022-11-16T13:51:46.870Z"
   },
   {
    "duration": 14,
    "start_time": "2022-11-16T13:51:46.892Z"
   },
   {
    "duration": 5,
    "start_time": "2022-11-16T13:51:46.907Z"
   },
   {
    "duration": 25,
    "start_time": "2022-11-16T13:51:46.914Z"
   },
   {
    "duration": 4,
    "start_time": "2022-11-16T13:51:46.941Z"
   },
   {
    "duration": 16,
    "start_time": "2022-11-16T13:51:46.947Z"
   },
   {
    "duration": 14,
    "start_time": "2022-11-16T13:51:46.964Z"
   },
   {
    "duration": 34,
    "start_time": "2022-11-16T13:51:46.979Z"
   },
   {
    "duration": 9,
    "start_time": "2022-11-16T13:51:47.015Z"
   },
   {
    "duration": 11,
    "start_time": "2022-11-16T13:51:47.025Z"
   },
   {
    "duration": 18,
    "start_time": "2022-11-16T13:51:47.037Z"
   },
   {
    "duration": 21,
    "start_time": "2022-11-16T13:51:47.057Z"
   },
   {
    "duration": 12,
    "start_time": "2022-11-16T13:51:47.080Z"
   },
   {
    "duration": 5,
    "start_time": "2022-11-16T13:51:47.094Z"
   },
   {
    "duration": 7,
    "start_time": "2022-11-16T13:51:47.101Z"
   },
   {
    "duration": 12,
    "start_time": "2022-11-16T13:51:47.110Z"
   },
   {
    "duration": 13,
    "start_time": "2022-11-16T13:51:47.124Z"
   },
   {
    "duration": 10,
    "start_time": "2022-11-16T13:51:47.139Z"
   },
   {
    "duration": 14,
    "start_time": "2022-11-16T13:51:47.151Z"
   },
   {
    "duration": 20,
    "start_time": "2022-11-16T13:51:47.166Z"
   },
   {
    "duration": 4,
    "start_time": "2022-11-16T13:51:47.188Z"
   },
   {
    "duration": 19,
    "start_time": "2022-11-16T13:51:47.194Z"
   },
   {
    "duration": 92,
    "start_time": "2022-11-16T13:51:47.215Z"
   },
   {
    "duration": 12,
    "start_time": "2022-11-16T13:51:47.311Z"
   },
   {
    "duration": 32,
    "start_time": "2022-11-16T13:51:47.324Z"
   },
   {
    "duration": 427,
    "start_time": "2022-11-16T13:51:47.358Z"
   },
   {
    "duration": 6,
    "start_time": "2022-11-16T13:51:47.786Z"
   },
   {
    "duration": 27,
    "start_time": "2022-11-16T13:51:47.793Z"
   },
   {
    "duration": 10,
    "start_time": "2022-11-16T13:51:47.822Z"
   },
   {
    "duration": 65,
    "start_time": "2022-11-16T13:51:47.833Z"
   },
   {
    "duration": 31,
    "start_time": "2022-11-16T13:51:47.900Z"
   },
   {
    "duration": 21,
    "start_time": "2022-11-16T13:51:47.933Z"
   },
   {
    "duration": 22,
    "start_time": "2022-11-16T13:51:47.956Z"
   },
   {
    "duration": 15,
    "start_time": "2022-11-16T13:51:47.979Z"
   },
   {
    "duration": 12,
    "start_time": "2022-11-16T13:51:47.995Z"
   },
   {
    "duration": 25,
    "start_time": "2022-11-16T13:51:48.009Z"
   },
   {
    "duration": 54,
    "start_time": "2022-11-16T13:51:48.036Z"
   },
   {
    "duration": 31,
    "start_time": "2022-11-16T13:51:48.091Z"
   },
   {
    "duration": 25,
    "start_time": "2022-11-16T13:51:48.124Z"
   },
   {
    "duration": 16,
    "start_time": "2022-11-16T13:51:48.151Z"
   },
   {
    "duration": 30,
    "start_time": "2022-11-16T13:51:48.169Z"
   },
   {
    "duration": 62,
    "start_time": "2022-11-16T13:51:48.201Z"
   },
   {
    "duration": 14,
    "start_time": "2022-11-16T13:51:48.265Z"
   },
   {
    "duration": 33,
    "start_time": "2022-11-16T13:51:48.281Z"
   },
   {
    "duration": 26,
    "start_time": "2022-11-16T13:51:48.315Z"
   },
   {
    "duration": 277,
    "start_time": "2022-11-16T13:51:48.343Z"
   },
   {
    "duration": 6,
    "start_time": "2022-11-16T13:51:48.622Z"
   },
   {
    "duration": 167,
    "start_time": "2022-11-16T13:51:48.629Z"
   },
   {
    "duration": 4,
    "start_time": "2022-11-16T13:51:48.798Z"
   },
   {
    "duration": 152,
    "start_time": "2022-11-16T13:51:48.812Z"
   },
   {
    "duration": 5,
    "start_time": "2022-11-16T13:51:48.965Z"
   },
   {
    "duration": 243,
    "start_time": "2022-11-16T13:51:48.971Z"
   },
   {
    "duration": 301,
    "start_time": "2022-11-16T13:52:20.894Z"
   },
   {
    "duration": 12,
    "start_time": "2022-11-16T13:55:52.599Z"
   },
   {
    "duration": 132,
    "start_time": "2022-11-16T13:55:53.877Z"
   },
   {
    "duration": 1065,
    "start_time": "2022-11-16T13:56:14.305Z"
   },
   {
    "duration": 170,
    "start_time": "2022-11-16T13:56:21.105Z"
   },
   {
    "duration": 141,
    "start_time": "2022-11-16T13:56:32.912Z"
   },
   {
    "duration": 185,
    "start_time": "2022-11-16T13:56:43.576Z"
   },
   {
    "duration": 195,
    "start_time": "2022-11-16T13:58:39.955Z"
   },
   {
    "duration": 182,
    "start_time": "2022-11-16T13:58:47.479Z"
   },
   {
    "duration": 187,
    "start_time": "2022-11-16T13:58:56.810Z"
   },
   {
    "duration": 53,
    "start_time": "2022-11-17T09:06:54.850Z"
   },
   {
    "duration": 7,
    "start_time": "2022-11-17T09:07:18.493Z"
   },
   {
    "duration": 476,
    "start_time": "2022-11-17T09:07:29.084Z"
   },
   {
    "duration": 3,
    "start_time": "2022-11-17T09:07:29.562Z"
   },
   {
    "duration": 210,
    "start_time": "2022-11-17T09:07:29.567Z"
   },
   {
    "duration": 10,
    "start_time": "2022-11-17T09:07:29.779Z"
   },
   {
    "duration": 26,
    "start_time": "2022-11-17T09:07:29.791Z"
   },
   {
    "duration": 15,
    "start_time": "2022-11-17T09:07:29.820Z"
   },
   {
    "duration": 7,
    "start_time": "2022-11-17T09:07:29.837Z"
   },
   {
    "duration": 19,
    "start_time": "2022-11-17T09:07:29.846Z"
   },
   {
    "duration": 5,
    "start_time": "2022-11-17T09:07:29.866Z"
   },
   {
    "duration": 24,
    "start_time": "2022-11-17T09:07:29.896Z"
   },
   {
    "duration": 4,
    "start_time": "2022-11-17T09:07:29.922Z"
   },
   {
    "duration": 20,
    "start_time": "2022-11-17T09:07:29.928Z"
   },
   {
    "duration": 10,
    "start_time": "2022-11-17T09:07:29.949Z"
   },
   {
    "duration": 8,
    "start_time": "2022-11-17T09:07:29.961Z"
   },
   {
    "duration": 22,
    "start_time": "2022-11-17T09:07:29.970Z"
   },
   {
    "duration": 5,
    "start_time": "2022-11-17T09:07:29.993Z"
   },
   {
    "duration": 25,
    "start_time": "2022-11-17T09:07:30.000Z"
   },
   {
    "duration": 10,
    "start_time": "2022-11-17T09:07:30.027Z"
   },
   {
    "duration": 12,
    "start_time": "2022-11-17T09:07:30.039Z"
   },
   {
    "duration": 19,
    "start_time": "2022-11-17T09:07:30.053Z"
   },
   {
    "duration": 23,
    "start_time": "2022-11-17T09:07:30.074Z"
   },
   {
    "duration": 25,
    "start_time": "2022-11-17T09:07:30.100Z"
   },
   {
    "duration": 42,
    "start_time": "2022-11-17T09:07:30.127Z"
   },
   {
    "duration": 41,
    "start_time": "2022-11-17T09:07:30.171Z"
   },
   {
    "duration": 20,
    "start_time": "2022-11-17T09:07:30.215Z"
   },
   {
    "duration": 67,
    "start_time": "2022-11-17T09:07:30.237Z"
   },
   {
    "duration": 40,
    "start_time": "2022-11-17T09:07:30.306Z"
   },
   {
    "duration": 43,
    "start_time": "2022-11-17T09:07:30.351Z"
   },
   {
    "duration": 29,
    "start_time": "2022-11-17T09:07:30.396Z"
   },
   {
    "duration": 630,
    "start_time": "2022-11-17T09:07:30.427Z"
   },
   {
    "duration": 6,
    "start_time": "2022-11-17T09:07:31.058Z"
   },
   {
    "duration": 16,
    "start_time": "2022-11-17T09:07:31.065Z"
   },
   {
    "duration": 43,
    "start_time": "2022-11-17T09:07:31.083Z"
   },
   {
    "duration": 44,
    "start_time": "2022-11-17T09:07:31.127Z"
   },
   {
    "duration": 13,
    "start_time": "2022-11-17T09:07:31.173Z"
   },
   {
    "duration": 47,
    "start_time": "2022-11-17T09:07:31.187Z"
   },
   {
    "duration": 39,
    "start_time": "2022-11-17T09:07:31.236Z"
   },
   {
    "duration": 14,
    "start_time": "2022-11-17T09:07:31.277Z"
   },
   {
    "duration": 30,
    "start_time": "2022-11-17T09:07:31.292Z"
   },
   {
    "duration": 24,
    "start_time": "2022-11-17T09:07:31.324Z"
   },
   {
    "duration": 13,
    "start_time": "2022-11-17T09:07:31.349Z"
   },
   {
    "duration": 21,
    "start_time": "2022-11-17T09:07:31.364Z"
   },
   {
    "duration": 40,
    "start_time": "2022-11-17T09:07:31.387Z"
   },
   {
    "duration": 11,
    "start_time": "2022-11-17T09:07:31.430Z"
   },
   {
    "duration": 34,
    "start_time": "2022-11-17T09:07:31.442Z"
   },
   {
    "duration": 47,
    "start_time": "2022-11-17T09:07:31.477Z"
   },
   {
    "duration": 22,
    "start_time": "2022-11-17T09:07:31.525Z"
   },
   {
    "duration": 15,
    "start_time": "2022-11-17T09:07:31.549Z"
   },
   {
    "duration": 25,
    "start_time": "2022-11-17T09:07:31.565Z"
   },
   {
    "duration": 283,
    "start_time": "2022-11-17T09:07:31.592Z"
   },
   {
    "duration": 5,
    "start_time": "2022-11-17T09:07:31.877Z"
   },
   {
    "duration": 177,
    "start_time": "2022-11-17T09:07:31.883Z"
   },
   {
    "duration": 4,
    "start_time": "2022-11-17T09:07:32.062Z"
   },
   {
    "duration": 221,
    "start_time": "2022-11-17T09:07:32.067Z"
   },
   {
    "duration": 8,
    "start_time": "2022-11-17T09:07:32.290Z"
   },
   {
    "duration": 137,
    "start_time": "2022-11-17T09:07:32.300Z"
   },
   {
    "duration": 0,
    "start_time": "2022-11-17T09:07:32.439Z"
   },
   {
    "duration": 0,
    "start_time": "2022-11-17T09:07:32.440Z"
   },
   {
    "duration": 34,
    "start_time": "2022-11-17T09:07:51.190Z"
   },
   {
    "duration": 35,
    "start_time": "2022-11-17T09:08:11.579Z"
   },
   {
    "duration": 2947,
    "start_time": "2022-11-17T09:08:19.388Z"
   },
   {
    "duration": 77,
    "start_time": "2022-11-17T09:08:51.260Z"
   },
   {
    "duration": 2840,
    "start_time": "2022-11-17T09:08:55.949Z"
   },
   {
    "duration": 2843,
    "start_time": "2022-11-17T09:09:09.654Z"
   },
   {
    "duration": 3182,
    "start_time": "2022-11-17T09:09:29.905Z"
   },
   {
    "duration": 99,
    "start_time": "2022-11-17T09:10:42.729Z"
   },
   {
    "duration": 2878,
    "start_time": "2022-11-17T09:10:49.229Z"
   },
   {
    "duration": 462,
    "start_time": "2022-11-17T09:12:24.772Z"
   },
   {
    "duration": 2,
    "start_time": "2022-11-17T09:12:25.236Z"
   },
   {
    "duration": 73,
    "start_time": "2022-11-17T09:12:25.240Z"
   },
   {
    "duration": 12,
    "start_time": "2022-11-17T09:12:25.317Z"
   },
   {
    "duration": 33,
    "start_time": "2022-11-17T09:12:25.330Z"
   },
   {
    "duration": 15,
    "start_time": "2022-11-17T09:12:25.364Z"
   },
   {
    "duration": 11,
    "start_time": "2022-11-17T09:12:25.381Z"
   },
   {
    "duration": 36,
    "start_time": "2022-11-17T09:12:25.394Z"
   },
   {
    "duration": 4,
    "start_time": "2022-11-17T09:12:25.431Z"
   },
   {
    "duration": 14,
    "start_time": "2022-11-17T09:12:25.437Z"
   },
   {
    "duration": 5,
    "start_time": "2022-11-17T09:12:25.452Z"
   },
   {
    "duration": 15,
    "start_time": "2022-11-17T09:12:25.459Z"
   },
   {
    "duration": 25,
    "start_time": "2022-11-17T09:12:25.476Z"
   },
   {
    "duration": 6,
    "start_time": "2022-11-17T09:12:25.504Z"
   },
   {
    "duration": 28,
    "start_time": "2022-11-17T09:12:25.512Z"
   },
   {
    "duration": 8,
    "start_time": "2022-11-17T09:12:25.541Z"
   },
   {
    "duration": 10,
    "start_time": "2022-11-17T09:12:25.550Z"
   },
   {
    "duration": 4,
    "start_time": "2022-11-17T09:12:25.561Z"
   },
   {
    "duration": 13,
    "start_time": "2022-11-17T09:12:25.566Z"
   },
   {
    "duration": 22,
    "start_time": "2022-11-17T09:12:25.580Z"
   },
   {
    "duration": 9,
    "start_time": "2022-11-17T09:12:25.604Z"
   },
   {
    "duration": 15,
    "start_time": "2022-11-17T09:12:25.615Z"
   },
   {
    "duration": 30,
    "start_time": "2022-11-17T09:12:25.631Z"
   },
   {
    "duration": 48,
    "start_time": "2022-11-17T09:12:25.663Z"
   },
   {
    "duration": 14,
    "start_time": "2022-11-17T09:12:25.713Z"
   },
   {
    "duration": 18,
    "start_time": "2022-11-17T09:12:25.729Z"
   },
   {
    "duration": 11,
    "start_time": "2022-11-17T09:12:25.749Z"
   },
   {
    "duration": 9,
    "start_time": "2022-11-17T09:12:25.764Z"
   },
   {
    "duration": 9,
    "start_time": "2022-11-17T09:12:25.774Z"
   },
   {
    "duration": 435,
    "start_time": "2022-11-17T09:12:25.785Z"
   },
   {
    "duration": 9,
    "start_time": "2022-11-17T09:12:26.222Z"
   },
   {
    "duration": 20,
    "start_time": "2022-11-17T09:12:26.233Z"
   },
   {
    "duration": 7,
    "start_time": "2022-11-17T09:12:26.255Z"
   },
   {
    "duration": 24,
    "start_time": "2022-11-17T09:12:26.263Z"
   },
   {
    "duration": 16,
    "start_time": "2022-11-17T09:12:26.289Z"
   },
   {
    "duration": 7,
    "start_time": "2022-11-17T09:12:26.307Z"
   },
   {
    "duration": 10,
    "start_time": "2022-11-17T09:12:26.316Z"
   },
   {
    "duration": 7,
    "start_time": "2022-11-17T09:12:26.328Z"
   },
   {
    "duration": 8,
    "start_time": "2022-11-17T09:12:26.337Z"
   },
   {
    "duration": 18,
    "start_time": "2022-11-17T09:12:26.346Z"
   },
   {
    "duration": 20,
    "start_time": "2022-11-17T09:12:26.365Z"
   },
   {
    "duration": 27,
    "start_time": "2022-11-17T09:12:26.387Z"
   },
   {
    "duration": 11,
    "start_time": "2022-11-17T09:12:26.417Z"
   },
   {
    "duration": 29,
    "start_time": "2022-11-17T09:12:26.430Z"
   },
   {
    "duration": 12,
    "start_time": "2022-11-17T09:12:26.461Z"
   },
   {
    "duration": 16,
    "start_time": "2022-11-17T09:12:26.475Z"
   },
   {
    "duration": 28,
    "start_time": "2022-11-17T09:12:26.493Z"
   },
   {
    "duration": 15,
    "start_time": "2022-11-17T09:12:26.523Z"
   },
   {
    "duration": 9,
    "start_time": "2022-11-17T09:12:26.540Z"
   },
   {
    "duration": 265,
    "start_time": "2022-11-17T09:12:26.551Z"
   },
   {
    "duration": 8,
    "start_time": "2022-11-17T09:12:26.818Z"
   },
   {
    "duration": 165,
    "start_time": "2022-11-17T09:12:26.828Z"
   },
   {
    "duration": 6,
    "start_time": "2022-11-17T09:12:26.996Z"
   },
   {
    "duration": 166,
    "start_time": "2022-11-17T09:12:27.004Z"
   },
   {
    "duration": 253,
    "start_time": "2022-11-17T09:12:27.172Z"
   },
   {
    "duration": 0,
    "start_time": "2022-11-17T09:12:27.427Z"
   },
   {
    "duration": 0,
    "start_time": "2022-11-17T09:12:27.428Z"
   },
   {
    "duration": 0,
    "start_time": "2022-11-17T09:12:27.429Z"
   },
   {
    "duration": 5,
    "start_time": "2022-11-17T09:13:20.952Z"
   },
   {
    "duration": 401,
    "start_time": "2022-11-17T09:14:32.259Z"
   },
   {
    "duration": 2,
    "start_time": "2022-11-17T09:14:32.663Z"
   },
   {
    "duration": 57,
    "start_time": "2022-11-17T09:14:32.667Z"
   },
   {
    "duration": 13,
    "start_time": "2022-11-17T09:14:32.725Z"
   },
   {
    "duration": 21,
    "start_time": "2022-11-17T09:14:32.742Z"
   },
   {
    "duration": 32,
    "start_time": "2022-11-17T09:14:32.765Z"
   },
   {
    "duration": 6,
    "start_time": "2022-11-17T09:14:32.800Z"
   },
   {
    "duration": 48,
    "start_time": "2022-11-17T09:14:32.807Z"
   },
   {
    "duration": 5,
    "start_time": "2022-11-17T09:14:32.857Z"
   },
   {
    "duration": 16,
    "start_time": "2022-11-17T09:14:32.863Z"
   },
   {
    "duration": 28,
    "start_time": "2022-11-17T09:14:32.881Z"
   },
   {
    "duration": 22,
    "start_time": "2022-11-17T09:14:32.911Z"
   },
   {
    "duration": 20,
    "start_time": "2022-11-17T09:14:32.935Z"
   },
   {
    "duration": 7,
    "start_time": "2022-11-17T09:14:32.958Z"
   },
   {
    "duration": 36,
    "start_time": "2022-11-17T09:14:32.966Z"
   },
   {
    "duration": 3,
    "start_time": "2022-11-17T09:14:33.006Z"
   },
   {
    "duration": 28,
    "start_time": "2022-11-17T09:14:33.013Z"
   },
   {
    "duration": 32,
    "start_time": "2022-11-17T09:14:33.043Z"
   },
   {
    "duration": 10,
    "start_time": "2022-11-17T09:14:33.077Z"
   },
   {
    "duration": 23,
    "start_time": "2022-11-17T09:14:33.089Z"
   },
   {
    "duration": 16,
    "start_time": "2022-11-17T09:14:33.115Z"
   },
   {
    "duration": 27,
    "start_time": "2022-11-17T09:14:33.133Z"
   },
   {
    "duration": 20,
    "start_time": "2022-11-17T09:14:33.161Z"
   },
   {
    "duration": 44,
    "start_time": "2022-11-17T09:14:33.184Z"
   },
   {
    "duration": 17,
    "start_time": "2022-11-17T09:14:33.229Z"
   },
   {
    "duration": 31,
    "start_time": "2022-11-17T09:14:33.247Z"
   },
   {
    "duration": 32,
    "start_time": "2022-11-17T09:14:33.280Z"
   },
   {
    "duration": 33,
    "start_time": "2022-11-17T09:14:33.314Z"
   },
   {
    "duration": 30,
    "start_time": "2022-11-17T09:14:33.349Z"
   },
   {
    "duration": 420,
    "start_time": "2022-11-17T09:14:33.381Z"
   },
   {
    "duration": 8,
    "start_time": "2022-11-17T09:14:33.804Z"
   },
   {
    "duration": 24,
    "start_time": "2022-11-17T09:14:33.815Z"
   },
   {
    "duration": 7,
    "start_time": "2022-11-17T09:14:33.841Z"
   },
   {
    "duration": 25,
    "start_time": "2022-11-17T09:14:33.850Z"
   },
   {
    "duration": 27,
    "start_time": "2022-11-17T09:14:33.877Z"
   },
   {
    "duration": 22,
    "start_time": "2022-11-17T09:14:33.906Z"
   },
   {
    "duration": 9,
    "start_time": "2022-11-17T09:14:33.931Z"
   },
   {
    "duration": 6,
    "start_time": "2022-11-17T09:14:33.941Z"
   },
   {
    "duration": 7,
    "start_time": "2022-11-17T09:14:33.948Z"
   },
   {
    "duration": 9,
    "start_time": "2022-11-17T09:14:33.957Z"
   },
   {
    "duration": 7,
    "start_time": "2022-11-17T09:14:33.970Z"
   },
   {
    "duration": 21,
    "start_time": "2022-11-17T09:14:33.978Z"
   },
   {
    "duration": 11,
    "start_time": "2022-11-17T09:14:34.001Z"
   },
   {
    "duration": 12,
    "start_time": "2022-11-17T09:14:34.014Z"
   },
   {
    "duration": 8,
    "start_time": "2022-11-17T09:14:34.027Z"
   },
   {
    "duration": 16,
    "start_time": "2022-11-17T09:14:34.036Z"
   },
   {
    "duration": 12,
    "start_time": "2022-11-17T09:14:34.054Z"
   },
   {
    "duration": 30,
    "start_time": "2022-11-17T09:14:34.068Z"
   },
   {
    "duration": 10,
    "start_time": "2022-11-17T09:14:34.101Z"
   },
   {
    "duration": 259,
    "start_time": "2022-11-17T09:14:34.113Z"
   },
   {
    "duration": 5,
    "start_time": "2022-11-17T09:14:34.374Z"
   },
   {
    "duration": 177,
    "start_time": "2022-11-17T09:14:34.380Z"
   },
   {
    "duration": 4,
    "start_time": "2022-11-17T09:14:34.559Z"
   },
   {
    "duration": 174,
    "start_time": "2022-11-17T09:14:34.564Z"
   },
   {
    "duration": 317,
    "start_time": "2022-11-17T09:14:34.739Z"
   },
   {
    "duration": 0,
    "start_time": "2022-11-17T09:14:35.057Z"
   },
   {
    "duration": 0,
    "start_time": "2022-11-17T09:14:35.059Z"
   },
   {
    "duration": 0,
    "start_time": "2022-11-17T09:14:35.060Z"
   },
   {
    "duration": 882,
    "start_time": "2022-11-17T09:20:36.176Z"
   },
   {
    "duration": 2,
    "start_time": "2022-11-17T09:20:52.962Z"
   },
   {
    "duration": 1267,
    "start_time": "2022-11-17T09:21:02.722Z"
   },
   {
    "duration": 6,
    "start_time": "2022-11-17T09:21:11.687Z"
   },
   {
    "duration": 8,
    "start_time": "2022-11-17T09:21:26.808Z"
   },
   {
    "duration": 787,
    "start_time": "2022-11-17T09:21:43.112Z"
   },
   {
    "duration": 427,
    "start_time": "2022-11-17T09:21:54.440Z"
   },
   {
    "duration": 3,
    "start_time": "2022-11-17T09:21:54.869Z"
   },
   {
    "duration": 65,
    "start_time": "2022-11-17T09:21:54.873Z"
   },
   {
    "duration": 10,
    "start_time": "2022-11-17T09:21:54.940Z"
   },
   {
    "duration": 21,
    "start_time": "2022-11-17T09:21:54.952Z"
   },
   {
    "duration": 16,
    "start_time": "2022-11-17T09:21:54.974Z"
   },
   {
    "duration": 2,
    "start_time": "2022-11-17T09:21:54.991Z"
   },
   {
    "duration": 19,
    "start_time": "2022-11-17T09:21:54.995Z"
   },
   {
    "duration": 8,
    "start_time": "2022-11-17T09:21:55.016Z"
   },
   {
    "duration": 11,
    "start_time": "2022-11-17T09:21:55.026Z"
   },
   {
    "duration": 8,
    "start_time": "2022-11-17T09:21:55.038Z"
   },
   {
    "duration": 14,
    "start_time": "2022-11-17T09:21:55.047Z"
   },
   {
    "duration": 998,
    "start_time": "2022-11-17T09:21:55.063Z"
   },
   {
    "duration": 0,
    "start_time": "2022-11-17T09:21:56.065Z"
   },
   {
    "duration": 0,
    "start_time": "2022-11-17T09:21:56.067Z"
   },
   {
    "duration": 0,
    "start_time": "2022-11-17T09:21:56.069Z"
   },
   {
    "duration": 0,
    "start_time": "2022-11-17T09:21:56.070Z"
   },
   {
    "duration": 0,
    "start_time": "2022-11-17T09:21:56.071Z"
   },
   {
    "duration": 0,
    "start_time": "2022-11-17T09:21:56.072Z"
   },
   {
    "duration": 0,
    "start_time": "2022-11-17T09:21:56.073Z"
   },
   {
    "duration": 0,
    "start_time": "2022-11-17T09:21:56.074Z"
   },
   {
    "duration": 0,
    "start_time": "2022-11-17T09:21:56.076Z"
   },
   {
    "duration": 0,
    "start_time": "2022-11-17T09:21:56.077Z"
   },
   {
    "duration": 0,
    "start_time": "2022-11-17T09:21:56.078Z"
   },
   {
    "duration": 0,
    "start_time": "2022-11-17T09:21:56.080Z"
   },
   {
    "duration": 0,
    "start_time": "2022-11-17T09:21:56.082Z"
   },
   {
    "duration": 0,
    "start_time": "2022-11-17T09:21:56.083Z"
   },
   {
    "duration": 0,
    "start_time": "2022-11-17T09:21:56.084Z"
   },
   {
    "duration": 0,
    "start_time": "2022-11-17T09:21:56.085Z"
   },
   {
    "duration": 0,
    "start_time": "2022-11-17T09:21:56.087Z"
   },
   {
    "duration": 0,
    "start_time": "2022-11-17T09:21:56.088Z"
   },
   {
    "duration": 0,
    "start_time": "2022-11-17T09:21:56.090Z"
   },
   {
    "duration": 0,
    "start_time": "2022-11-17T09:21:56.091Z"
   },
   {
    "duration": 0,
    "start_time": "2022-11-17T09:21:56.093Z"
   },
   {
    "duration": 0,
    "start_time": "2022-11-17T09:21:56.094Z"
   },
   {
    "duration": 0,
    "start_time": "2022-11-17T09:21:56.096Z"
   },
   {
    "duration": 0,
    "start_time": "2022-11-17T09:21:56.097Z"
   },
   {
    "duration": 0,
    "start_time": "2022-11-17T09:21:56.098Z"
   },
   {
    "duration": 0,
    "start_time": "2022-11-17T09:21:56.099Z"
   },
   {
    "duration": 0,
    "start_time": "2022-11-17T09:21:56.100Z"
   },
   {
    "duration": 0,
    "start_time": "2022-11-17T09:21:56.105Z"
   },
   {
    "duration": 0,
    "start_time": "2022-11-17T09:21:56.106Z"
   },
   {
    "duration": 0,
    "start_time": "2022-11-17T09:21:56.108Z"
   },
   {
    "duration": 0,
    "start_time": "2022-11-17T09:21:56.109Z"
   },
   {
    "duration": 0,
    "start_time": "2022-11-17T09:21:56.110Z"
   },
   {
    "duration": 0,
    "start_time": "2022-11-17T09:21:56.116Z"
   },
   {
    "duration": 0,
    "start_time": "2022-11-17T09:21:56.119Z"
   },
   {
    "duration": 0,
    "start_time": "2022-11-17T09:21:56.120Z"
   },
   {
    "duration": 0,
    "start_time": "2022-11-17T09:21:56.122Z"
   },
   {
    "duration": 0,
    "start_time": "2022-11-17T09:21:56.123Z"
   },
   {
    "duration": 0,
    "start_time": "2022-11-17T09:21:56.124Z"
   },
   {
    "duration": 0,
    "start_time": "2022-11-17T09:21:56.125Z"
   },
   {
    "duration": 0,
    "start_time": "2022-11-17T09:21:56.127Z"
   },
   {
    "duration": 0,
    "start_time": "2022-11-17T09:21:56.128Z"
   },
   {
    "duration": 0,
    "start_time": "2022-11-17T09:21:56.129Z"
   },
   {
    "duration": 0,
    "start_time": "2022-11-17T09:21:56.131Z"
   },
   {
    "duration": 0,
    "start_time": "2022-11-17T09:21:56.132Z"
   },
   {
    "duration": 0,
    "start_time": "2022-11-17T09:21:56.134Z"
   },
   {
    "duration": 0,
    "start_time": "2022-11-17T09:21:56.135Z"
   },
   {
    "duration": 405,
    "start_time": "2022-11-17T09:22:13.496Z"
   },
   {
    "duration": 3,
    "start_time": "2022-11-17T09:22:13.904Z"
   },
   {
    "duration": 64,
    "start_time": "2022-11-17T09:22:13.909Z"
   },
   {
    "duration": 9,
    "start_time": "2022-11-17T09:22:13.975Z"
   },
   {
    "duration": 39,
    "start_time": "2022-11-17T09:22:13.986Z"
   },
   {
    "duration": 16,
    "start_time": "2022-11-17T09:22:14.028Z"
   },
   {
    "duration": 10,
    "start_time": "2022-11-17T09:22:14.046Z"
   },
   {
    "duration": 24,
    "start_time": "2022-11-17T09:22:14.058Z"
   },
   {
    "duration": 5,
    "start_time": "2022-11-17T09:22:14.085Z"
   },
   {
    "duration": 16,
    "start_time": "2022-11-17T09:22:14.091Z"
   },
   {
    "duration": 15,
    "start_time": "2022-11-17T09:22:14.110Z"
   },
   {
    "duration": 20,
    "start_time": "2022-11-17T09:22:14.127Z"
   },
   {
    "duration": 10,
    "start_time": "2022-11-17T09:22:14.149Z"
   },
   {
    "duration": 13,
    "start_time": "2022-11-17T09:22:14.162Z"
   },
   {
    "duration": 16,
    "start_time": "2022-11-17T09:22:14.176Z"
   },
   {
    "duration": 23,
    "start_time": "2022-11-17T09:22:14.194Z"
   },
   {
    "duration": 10,
    "start_time": "2022-11-17T09:22:14.220Z"
   },
   {
    "duration": 14,
    "start_time": "2022-11-17T09:22:14.232Z"
   },
   {
    "duration": 6,
    "start_time": "2022-11-17T09:22:14.247Z"
   },
   {
    "duration": 6,
    "start_time": "2022-11-17T09:22:14.254Z"
   },
   {
    "duration": 7,
    "start_time": "2022-11-17T09:22:14.261Z"
   },
   {
    "duration": 25,
    "start_time": "2022-11-17T09:22:14.269Z"
   },
   {
    "duration": 17,
    "start_time": "2022-11-17T09:22:14.295Z"
   },
   {
    "duration": 13,
    "start_time": "2022-11-17T09:22:14.314Z"
   },
   {
    "duration": 19,
    "start_time": "2022-11-17T09:22:14.328Z"
   },
   {
    "duration": 5,
    "start_time": "2022-11-17T09:22:14.349Z"
   },
   {
    "duration": 17,
    "start_time": "2022-11-17T09:22:14.355Z"
   },
   {
    "duration": 8,
    "start_time": "2022-11-17T09:22:14.374Z"
   },
   {
    "duration": 13,
    "start_time": "2022-11-17T09:22:14.383Z"
   },
   {
    "duration": 10,
    "start_time": "2022-11-17T09:22:14.398Z"
   },
   {
    "duration": 392,
    "start_time": "2022-11-17T09:22:14.410Z"
   },
   {
    "duration": 8,
    "start_time": "2022-11-17T09:22:14.804Z"
   },
   {
    "duration": 9,
    "start_time": "2022-11-17T09:22:14.814Z"
   },
   {
    "duration": 6,
    "start_time": "2022-11-17T09:22:14.825Z"
   },
   {
    "duration": 21,
    "start_time": "2022-11-17T09:22:14.833Z"
   },
   {
    "duration": 11,
    "start_time": "2022-11-17T09:22:14.856Z"
   },
   {
    "duration": 28,
    "start_time": "2022-11-17T09:22:14.868Z"
   },
   {
    "duration": 3,
    "start_time": "2022-11-17T09:22:14.898Z"
   },
   {
    "duration": 11,
    "start_time": "2022-11-17T09:22:14.902Z"
   },
   {
    "duration": 5,
    "start_time": "2022-11-17T09:22:14.916Z"
   },
   {
    "duration": 7,
    "start_time": "2022-11-17T09:22:14.926Z"
   },
   {
    "duration": 12,
    "start_time": "2022-11-17T09:22:14.934Z"
   },
   {
    "duration": 17,
    "start_time": "2022-11-17T09:22:14.947Z"
   },
   {
    "duration": 8,
    "start_time": "2022-11-17T09:22:14.965Z"
   },
   {
    "duration": 23,
    "start_time": "2022-11-17T09:22:14.975Z"
   },
   {
    "duration": 3,
    "start_time": "2022-11-17T09:22:15.000Z"
   },
   {
    "duration": 33,
    "start_time": "2022-11-17T09:22:15.005Z"
   },
   {
    "duration": 12,
    "start_time": "2022-11-17T09:22:15.040Z"
   },
   {
    "duration": 11,
    "start_time": "2022-11-17T09:22:15.054Z"
   },
   {
    "duration": 12,
    "start_time": "2022-11-17T09:22:15.067Z"
   },
   {
    "duration": 303,
    "start_time": "2022-11-17T09:22:15.080Z"
   },
   {
    "duration": 12,
    "start_time": "2022-11-17T09:22:15.385Z"
   },
   {
    "duration": 179,
    "start_time": "2022-11-17T09:22:15.400Z"
   },
   {
    "duration": 4,
    "start_time": "2022-11-17T09:22:15.581Z"
   },
   {
    "duration": 170,
    "start_time": "2022-11-17T09:22:15.596Z"
   },
   {
    "duration": 321,
    "start_time": "2022-11-17T09:22:15.768Z"
   },
   {
    "duration": 0,
    "start_time": "2022-11-17T09:22:16.092Z"
   },
   {
    "duration": 0,
    "start_time": "2022-11-17T09:22:16.093Z"
   },
   {
    "duration": 0,
    "start_time": "2022-11-17T09:22:16.095Z"
   },
   {
    "duration": 857,
    "start_time": "2022-11-17T09:23:39.222Z"
   },
   {
    "duration": 2,
    "start_time": "2022-11-17T09:23:43.794Z"
   },
   {
    "duration": 93,
    "start_time": "2022-11-17T09:24:38.773Z"
   },
   {
    "duration": 165,
    "start_time": "2022-11-17T09:24:45.755Z"
   },
   {
    "duration": 762,
    "start_time": "2022-11-17T09:25:53.533Z"
   },
   {
    "duration": 5,
    "start_time": "2022-11-17T09:26:28.411Z"
   },
   {
    "duration": 194,
    "start_time": "2022-11-17T09:26:38.779Z"
   },
   {
    "duration": 148,
    "start_time": "2022-11-17T09:26:41.268Z"
   },
   {
    "duration": 392,
    "start_time": "2022-11-17T09:26:51.318Z"
   },
   {
    "duration": 3,
    "start_time": "2022-11-17T09:26:51.711Z"
   },
   {
    "duration": 56,
    "start_time": "2022-11-17T09:26:51.715Z"
   },
   {
    "duration": 10,
    "start_time": "2022-11-17T09:26:51.773Z"
   },
   {
    "duration": 15,
    "start_time": "2022-11-17T09:26:51.784Z"
   },
   {
    "duration": 14,
    "start_time": "2022-11-17T09:26:51.800Z"
   },
   {
    "duration": 2,
    "start_time": "2022-11-17T09:26:51.815Z"
   },
   {
    "duration": 19,
    "start_time": "2022-11-17T09:26:51.819Z"
   },
   {
    "duration": 5,
    "start_time": "2022-11-17T09:26:51.840Z"
   },
   {
    "duration": 6,
    "start_time": "2022-11-17T09:26:51.848Z"
   },
   {
    "duration": 2,
    "start_time": "2022-11-17T09:26:51.856Z"
   },
   {
    "duration": 40,
    "start_time": "2022-11-17T09:26:51.860Z"
   },
   {
    "duration": 10,
    "start_time": "2022-11-17T09:26:51.902Z"
   },
   {
    "duration": 4,
    "start_time": "2022-11-17T09:26:51.914Z"
   },
   {
    "duration": 4,
    "start_time": "2022-11-17T09:26:51.920Z"
   },
   {
    "duration": 32,
    "start_time": "2022-11-17T09:26:51.926Z"
   },
   {
    "duration": 3,
    "start_time": "2022-11-17T09:26:51.959Z"
   },
   {
    "duration": 11,
    "start_time": "2022-11-17T09:26:51.963Z"
   },
   {
    "duration": 4,
    "start_time": "2022-11-17T09:26:51.976Z"
   },
   {
    "duration": 17,
    "start_time": "2022-11-17T09:26:51.981Z"
   },
   {
    "duration": 9,
    "start_time": "2022-11-17T09:26:51.999Z"
   },
   {
    "duration": 15,
    "start_time": "2022-11-17T09:26:52.010Z"
   },
   {
    "duration": 743,
    "start_time": "2022-11-17T09:26:52.026Z"
   },
   {
    "duration": 0,
    "start_time": "2022-11-17T09:26:52.772Z"
   },
   {
    "duration": 0,
    "start_time": "2022-11-17T09:26:52.773Z"
   },
   {
    "duration": 0,
    "start_time": "2022-11-17T09:26:52.774Z"
   },
   {
    "duration": 0,
    "start_time": "2022-11-17T09:26:52.775Z"
   },
   {
    "duration": 0,
    "start_time": "2022-11-17T09:26:52.776Z"
   },
   {
    "duration": 0,
    "start_time": "2022-11-17T09:26:52.778Z"
   },
   {
    "duration": 0,
    "start_time": "2022-11-17T09:26:52.779Z"
   },
   {
    "duration": 0,
    "start_time": "2022-11-17T09:26:52.781Z"
   },
   {
    "duration": 0,
    "start_time": "2022-11-17T09:26:52.782Z"
   },
   {
    "duration": 0,
    "start_time": "2022-11-17T09:26:52.783Z"
   },
   {
    "duration": 0,
    "start_time": "2022-11-17T09:26:52.784Z"
   },
   {
    "duration": 0,
    "start_time": "2022-11-17T09:26:52.785Z"
   },
   {
    "duration": 0,
    "start_time": "2022-11-17T09:26:52.786Z"
   },
   {
    "duration": 0,
    "start_time": "2022-11-17T09:26:52.787Z"
   },
   {
    "duration": 0,
    "start_time": "2022-11-17T09:26:52.788Z"
   },
   {
    "duration": 0,
    "start_time": "2022-11-17T09:26:52.790Z"
   },
   {
    "duration": 0,
    "start_time": "2022-11-17T09:26:52.791Z"
   },
   {
    "duration": 0,
    "start_time": "2022-11-17T09:26:52.792Z"
   },
   {
    "duration": 0,
    "start_time": "2022-11-17T09:26:52.793Z"
   },
   {
    "duration": 0,
    "start_time": "2022-11-17T09:26:52.794Z"
   },
   {
    "duration": 0,
    "start_time": "2022-11-17T09:26:52.795Z"
   },
   {
    "duration": 0,
    "start_time": "2022-11-17T09:26:52.796Z"
   },
   {
    "duration": 0,
    "start_time": "2022-11-17T09:26:52.797Z"
   },
   {
    "duration": 0,
    "start_time": "2022-11-17T09:26:52.798Z"
   },
   {
    "duration": 0,
    "start_time": "2022-11-17T09:26:52.799Z"
   },
   {
    "duration": 0,
    "start_time": "2022-11-17T09:26:52.800Z"
   },
   {
    "duration": 0,
    "start_time": "2022-11-17T09:26:52.802Z"
   },
   {
    "duration": 0,
    "start_time": "2022-11-17T09:26:52.803Z"
   },
   {
    "duration": 0,
    "start_time": "2022-11-17T09:26:52.804Z"
   },
   {
    "duration": 0,
    "start_time": "2022-11-17T09:26:52.805Z"
   },
   {
    "duration": 0,
    "start_time": "2022-11-17T09:26:52.806Z"
   },
   {
    "duration": 0,
    "start_time": "2022-11-17T09:26:52.807Z"
   },
   {
    "duration": 0,
    "start_time": "2022-11-17T09:26:52.808Z"
   },
   {
    "duration": 0,
    "start_time": "2022-11-17T09:26:52.809Z"
   },
   {
    "duration": 0,
    "start_time": "2022-11-17T09:26:52.810Z"
   },
   {
    "duration": 0,
    "start_time": "2022-11-17T09:26:52.811Z"
   },
   {
    "duration": 775,
    "start_time": "2022-11-17T09:27:07.319Z"
   },
   {
    "duration": 353,
    "start_time": "2022-11-17T09:27:23.850Z"
   },
   {
    "duration": 3,
    "start_time": "2022-11-17T09:27:24.205Z"
   },
   {
    "duration": 65,
    "start_time": "2022-11-17T09:27:24.209Z"
   },
   {
    "duration": 10,
    "start_time": "2022-11-17T09:27:24.276Z"
   },
   {
    "duration": 27,
    "start_time": "2022-11-17T09:27:24.288Z"
   },
   {
    "duration": 14,
    "start_time": "2022-11-17T09:27:24.317Z"
   },
   {
    "duration": 4,
    "start_time": "2022-11-17T09:27:24.332Z"
   },
   {
    "duration": 24,
    "start_time": "2022-11-17T09:27:24.337Z"
   },
   {
    "duration": 4,
    "start_time": "2022-11-17T09:27:24.363Z"
   },
   {
    "duration": 13,
    "start_time": "2022-11-17T09:27:24.369Z"
   },
   {
    "duration": 13,
    "start_time": "2022-11-17T09:27:24.383Z"
   },
   {
    "duration": 5,
    "start_time": "2022-11-17T09:27:24.398Z"
   },
   {
    "duration": 13,
    "start_time": "2022-11-17T09:27:24.404Z"
   },
   {
    "duration": 12,
    "start_time": "2022-11-17T09:27:24.419Z"
   },
   {
    "duration": 20,
    "start_time": "2022-11-17T09:27:24.433Z"
   },
   {
    "duration": 37,
    "start_time": "2022-11-17T09:27:24.455Z"
   },
   {
    "duration": 2,
    "start_time": "2022-11-17T09:27:24.494Z"
   },
   {
    "duration": 12,
    "start_time": "2022-11-17T09:27:24.498Z"
   },
   {
    "duration": 16,
    "start_time": "2022-11-17T09:27:24.512Z"
   },
   {
    "duration": 16,
    "start_time": "2022-11-17T09:27:24.530Z"
   },
   {
    "duration": 6,
    "start_time": "2022-11-17T09:27:24.548Z"
   },
   {
    "duration": 11,
    "start_time": "2022-11-17T09:27:24.555Z"
   },
   {
    "duration": 12,
    "start_time": "2022-11-17T09:27:24.567Z"
   },
   {
    "duration": 12,
    "start_time": "2022-11-17T09:27:24.580Z"
   },
   {
    "duration": 18,
    "start_time": "2022-11-17T09:27:24.593Z"
   },
   {
    "duration": 20,
    "start_time": "2022-11-17T09:27:24.612Z"
   },
   {
    "duration": 22,
    "start_time": "2022-11-17T09:27:24.634Z"
   },
   {
    "duration": 3,
    "start_time": "2022-11-17T09:27:24.660Z"
   },
   {
    "duration": 8,
    "start_time": "2022-11-17T09:27:24.664Z"
   },
   {
    "duration": 5,
    "start_time": "2022-11-17T09:27:24.673Z"
   },
   {
    "duration": 362,
    "start_time": "2022-11-17T09:27:24.680Z"
   },
   {
    "duration": 6,
    "start_time": "2022-11-17T09:27:25.044Z"
   },
   {
    "duration": 12,
    "start_time": "2022-11-17T09:27:25.052Z"
   },
   {
    "duration": 9,
    "start_time": "2022-11-17T09:27:25.065Z"
   },
   {
    "duration": 31,
    "start_time": "2022-11-17T09:27:25.076Z"
   },
   {
    "duration": 13,
    "start_time": "2022-11-17T09:27:25.108Z"
   },
   {
    "duration": 12,
    "start_time": "2022-11-17T09:27:25.123Z"
   },
   {
    "duration": 14,
    "start_time": "2022-11-17T09:27:25.136Z"
   },
   {
    "duration": 9,
    "start_time": "2022-11-17T09:27:25.152Z"
   },
   {
    "duration": 6,
    "start_time": "2022-11-17T09:27:25.163Z"
   },
   {
    "duration": 8,
    "start_time": "2022-11-17T09:27:25.170Z"
   },
   {
    "duration": 13,
    "start_time": "2022-11-17T09:27:25.181Z"
   },
   {
    "duration": 22,
    "start_time": "2022-11-17T09:27:25.196Z"
   },
   {
    "duration": 7,
    "start_time": "2022-11-17T09:27:25.219Z"
   },
   {
    "duration": 7,
    "start_time": "2022-11-17T09:27:25.228Z"
   },
   {
    "duration": 6,
    "start_time": "2022-11-17T09:27:25.236Z"
   },
   {
    "duration": 18,
    "start_time": "2022-11-17T09:27:25.244Z"
   },
   {
    "duration": 11,
    "start_time": "2022-11-17T09:27:25.264Z"
   },
   {
    "duration": 26,
    "start_time": "2022-11-17T09:27:25.276Z"
   },
   {
    "duration": 12,
    "start_time": "2022-11-17T09:27:25.304Z"
   },
   {
    "duration": 256,
    "start_time": "2022-11-17T09:27:25.318Z"
   },
   {
    "duration": 5,
    "start_time": "2022-11-17T09:27:25.575Z"
   },
   {
    "duration": 159,
    "start_time": "2022-11-17T09:27:25.582Z"
   },
   {
    "duration": 4,
    "start_time": "2022-11-17T09:27:25.742Z"
   },
   {
    "duration": 146,
    "start_time": "2022-11-17T09:27:25.748Z"
   },
   {
    "duration": 4,
    "start_time": "2022-11-17T09:27:25.897Z"
   },
   {
    "duration": 2844,
    "start_time": "2022-11-17T09:27:25.903Z"
   },
   {
    "duration": 10,
    "start_time": "2022-11-17T09:27:28.749Z"
   },
   {
    "duration": 196,
    "start_time": "2022-11-17T09:27:28.760Z"
   },
   {
    "duration": 1446,
    "start_time": "2022-11-17T09:29:12.218Z"
   },
   {
    "duration": 1327,
    "start_time": "2022-11-17T09:30:16.597Z"
   },
   {
    "duration": 72,
    "start_time": "2022-11-17T09:31:31.749Z"
   },
   {
    "duration": 50,
    "start_time": "2022-11-17T09:31:45.823Z"
   },
   {
    "duration": 1433,
    "start_time": "2022-11-17T09:31:51.754Z"
   },
   {
    "duration": 204,
    "start_time": "2022-11-17T09:32:15.142Z"
   },
   {
    "duration": 52,
    "start_time": "2022-11-17T09:32:25.731Z"
   },
   {
    "duration": 1336,
    "start_time": "2022-11-17T09:33:00.321Z"
   },
   {
    "duration": 1458,
    "start_time": "2022-11-17T09:33:56.221Z"
   },
   {
    "duration": 1338,
    "start_time": "2022-11-17T09:33:59.872Z"
   },
   {
    "duration": 54,
    "start_time": "2022-11-17T09:34:18.181Z"
   },
   {
    "duration": 1419,
    "start_time": "2022-11-17T09:34:22.026Z"
   },
   {
    "duration": 1361,
    "start_time": "2022-11-17T09:34:44.688Z"
   },
   {
    "duration": 1421,
    "start_time": "2022-11-17T09:35:01.696Z"
   },
   {
    "duration": 1409,
    "start_time": "2022-11-17T09:35:45.334Z"
   },
   {
    "duration": 104,
    "start_time": "2022-11-17T09:36:05.515Z"
   },
   {
    "duration": 1309,
    "start_time": "2022-11-17T09:36:22.234Z"
   },
   {
    "duration": 1220,
    "start_time": "2022-11-17T09:36:53.544Z"
   },
   {
    "duration": 1488,
    "start_time": "2022-11-17T09:36:59.924Z"
   },
   {
    "duration": 56,
    "start_time": "2022-11-17T09:45:33.129Z"
   },
   {
    "duration": 14,
    "start_time": "2022-11-17T09:45:38.309Z"
   },
   {
    "duration": 15,
    "start_time": "2022-11-17T09:46:05.554Z"
   },
   {
    "duration": 15,
    "start_time": "2022-11-17T09:46:20.812Z"
   },
   {
    "duration": 15,
    "start_time": "2022-11-17T09:46:47.749Z"
   },
   {
    "duration": 14,
    "start_time": "2022-11-17T09:46:59.847Z"
   },
   {
    "duration": 14,
    "start_time": "2022-11-17T09:47:04.176Z"
   },
   {
    "duration": 14,
    "start_time": "2022-11-17T09:47:22.467Z"
   },
   {
    "duration": 15,
    "start_time": "2022-11-17T09:47:28.496Z"
   },
   {
    "duration": 15,
    "start_time": "2022-11-17T10:18:41.894Z"
   },
   {
    "duration": 16,
    "start_time": "2022-11-17T10:18:56.924Z"
   },
   {
    "duration": 13,
    "start_time": "2022-11-17T10:19:10.577Z"
   },
   {
    "duration": 15,
    "start_time": "2022-11-17T10:19:16.352Z"
   },
   {
    "duration": 15,
    "start_time": "2022-11-17T10:19:21.152Z"
   },
   {
    "duration": 14,
    "start_time": "2022-11-17T10:19:33.670Z"
   },
   {
    "duration": 20,
    "start_time": "2022-11-17T10:19:36.117Z"
   },
   {
    "duration": 15,
    "start_time": "2022-11-17T10:19:39.055Z"
   },
   {
    "duration": 44,
    "start_time": "2022-11-17T10:27:48.306Z"
   },
   {
    "duration": 15,
    "start_time": "2022-11-17T10:28:50.901Z"
   },
   {
    "duration": 13,
    "start_time": "2022-11-17T10:28:59.855Z"
   },
   {
    "duration": 48,
    "start_time": "2022-11-17T10:29:06.799Z"
   },
   {
    "duration": 15,
    "start_time": "2022-11-17T10:29:12.064Z"
   },
   {
    "duration": 14,
    "start_time": "2022-11-17T10:29:28.062Z"
   },
   {
    "duration": 15,
    "start_time": "2022-11-17T10:29:32.763Z"
   },
   {
    "duration": 14,
    "start_time": "2022-11-17T10:29:37.275Z"
   },
   {
    "duration": 63,
    "start_time": "2022-11-17T10:42:34.216Z"
   },
   {
    "duration": 109,
    "start_time": "2022-11-17T10:45:18.430Z"
   },
   {
    "duration": 500,
    "start_time": "2022-11-17T10:57:46.686Z"
   },
   {
    "duration": 47,
    "start_time": "2022-11-17T11:00:34.968Z"
   },
   {
    "duration": 8,
    "start_time": "2022-11-17T11:01:24.380Z"
   },
   {
    "duration": 78,
    "start_time": "2022-11-17T11:01:24.955Z"
   },
   {
    "duration": 927,
    "start_time": "2022-11-17T11:01:40.471Z"
   },
   {
    "duration": 7,
    "start_time": "2022-11-17T11:02:04.202Z"
   },
   {
    "duration": 5,
    "start_time": "2022-11-17T11:02:18.457Z"
   },
   {
    "duration": 3,
    "start_time": "2022-11-17T11:02:44.342Z"
   },
   {
    "duration": 49,
    "start_time": "2022-11-18T08:52:08.373Z"
   },
   {
    "duration": 411,
    "start_time": "2022-11-18T08:52:18.335Z"
   },
   {
    "duration": 3,
    "start_time": "2022-11-18T08:52:18.747Z"
   },
   {
    "duration": 484,
    "start_time": "2022-11-18T08:52:18.751Z"
   },
   {
    "duration": 86,
    "start_time": "2022-11-18T08:52:19.236Z"
   },
   {
    "duration": 9,
    "start_time": "2022-11-18T08:52:19.324Z"
   },
   {
    "duration": 18,
    "start_time": "2022-11-18T08:52:19.335Z"
   },
   {
    "duration": 12,
    "start_time": "2022-11-18T08:52:19.354Z"
   },
   {
    "duration": 1,
    "start_time": "2022-11-18T08:52:19.368Z"
   },
   {
    "duration": 23,
    "start_time": "2022-11-18T08:52:19.371Z"
   },
   {
    "duration": 9,
    "start_time": "2022-11-18T08:52:19.396Z"
   },
   {
    "duration": 9,
    "start_time": "2022-11-18T08:52:19.406Z"
   },
   {
    "duration": 17,
    "start_time": "2022-11-18T08:52:19.417Z"
   },
   {
    "duration": 17,
    "start_time": "2022-11-18T08:52:19.435Z"
   },
   {
    "duration": 26,
    "start_time": "2022-11-18T08:52:19.456Z"
   },
   {
    "duration": 14,
    "start_time": "2022-11-18T08:52:19.484Z"
   },
   {
    "duration": 15,
    "start_time": "2022-11-18T08:52:19.499Z"
   },
   {
    "duration": 19,
    "start_time": "2022-11-18T08:52:19.515Z"
   },
   {
    "duration": 3,
    "start_time": "2022-11-18T08:52:19.536Z"
   },
   {
    "duration": 14,
    "start_time": "2022-11-18T08:52:19.541Z"
   },
   {
    "duration": 17,
    "start_time": "2022-11-18T08:52:19.557Z"
   },
   {
    "duration": 17,
    "start_time": "2022-11-18T08:52:19.576Z"
   },
   {
    "duration": 17,
    "start_time": "2022-11-18T08:52:19.595Z"
   },
   {
    "duration": 19,
    "start_time": "2022-11-18T08:52:19.614Z"
   },
   {
    "duration": 10,
    "start_time": "2022-11-18T08:52:19.634Z"
   },
   {
    "duration": 22,
    "start_time": "2022-11-18T08:52:19.645Z"
   },
   {
    "duration": 14,
    "start_time": "2022-11-18T08:52:19.669Z"
   },
   {
    "duration": 3,
    "start_time": "2022-11-18T08:52:19.685Z"
   },
   {
    "duration": 16,
    "start_time": "2022-11-18T08:52:19.690Z"
   },
   {
    "duration": 4,
    "start_time": "2022-11-18T08:52:19.707Z"
   },
   {
    "duration": 8,
    "start_time": "2022-11-18T08:52:19.712Z"
   },
   {
    "duration": 6,
    "start_time": "2022-11-18T08:52:19.722Z"
   },
   {
    "duration": 538,
    "start_time": "2022-11-18T08:52:19.729Z"
   },
   {
    "duration": 5,
    "start_time": "2022-11-18T08:52:20.269Z"
   },
   {
    "duration": 14,
    "start_time": "2022-11-18T08:52:20.275Z"
   },
   {
    "duration": 12,
    "start_time": "2022-11-18T08:52:20.290Z"
   },
   {
    "duration": 20,
    "start_time": "2022-11-18T08:52:20.303Z"
   },
   {
    "duration": 11,
    "start_time": "2022-11-18T08:52:20.324Z"
   },
   {
    "duration": 30,
    "start_time": "2022-11-18T08:52:20.337Z"
   },
   {
    "duration": 21,
    "start_time": "2022-11-18T08:52:20.369Z"
   },
   {
    "duration": 6,
    "start_time": "2022-11-18T08:52:20.392Z"
   },
   {
    "duration": 7,
    "start_time": "2022-11-18T08:52:20.402Z"
   },
   {
    "duration": 30,
    "start_time": "2022-11-18T08:52:20.411Z"
   },
   {
    "duration": 22,
    "start_time": "2022-11-18T08:52:20.443Z"
   },
   {
    "duration": 29,
    "start_time": "2022-11-18T08:52:20.466Z"
   },
   {
    "duration": 25,
    "start_time": "2022-11-18T08:52:20.497Z"
   },
   {
    "duration": 11,
    "start_time": "2022-11-18T08:52:20.523Z"
   },
   {
    "duration": 16,
    "start_time": "2022-11-18T08:52:20.536Z"
   },
   {
    "duration": 21,
    "start_time": "2022-11-18T08:52:20.554Z"
   },
   {
    "duration": 12,
    "start_time": "2022-11-18T08:52:20.577Z"
   },
   {
    "duration": 12,
    "start_time": "2022-11-18T08:52:20.590Z"
   },
   {
    "duration": 13,
    "start_time": "2022-11-18T08:52:20.603Z"
   },
   {
    "duration": 236,
    "start_time": "2022-11-18T08:52:20.617Z"
   },
   {
    "duration": 5,
    "start_time": "2022-11-18T08:52:20.854Z"
   },
   {
    "duration": 170,
    "start_time": "2022-11-18T08:52:20.861Z"
   },
   {
    "duration": 5,
    "start_time": "2022-11-18T08:52:21.032Z"
   },
   {
    "duration": 154,
    "start_time": "2022-11-18T08:52:21.038Z"
   },
   {
    "duration": 4,
    "start_time": "2022-11-18T08:52:21.194Z"
   },
   {
    "duration": 1456,
    "start_time": "2022-11-18T08:52:21.205Z"
   },
   {
    "duration": 1248,
    "start_time": "2022-11-18T08:52:22.663Z"
   },
   {
    "duration": 9,
    "start_time": "2022-11-18T08:52:23.912Z"
   },
   {
    "duration": 186,
    "start_time": "2022-11-18T08:52:23.923Z"
   },
   {
    "duration": 12,
    "start_time": "2022-11-18T08:52:24.110Z"
   },
   {
    "duration": 19,
    "start_time": "2022-11-18T08:52:24.124Z"
   },
   {
    "duration": 24,
    "start_time": "2022-11-18T08:52:24.144Z"
   },
   {
    "duration": 23,
    "start_time": "2022-11-18T08:52:24.169Z"
   },
   {
    "duration": 22,
    "start_time": "2022-11-18T08:52:24.194Z"
   },
   {
    "duration": 14,
    "start_time": "2022-11-18T08:52:24.218Z"
   },
   {
    "duration": 14,
    "start_time": "2022-11-18T08:52:24.233Z"
   },
   {
    "duration": 15,
    "start_time": "2022-11-18T08:52:24.248Z"
   },
   {
    "duration": 45,
    "start_time": "2022-11-18T08:52:24.264Z"
   },
   {
    "duration": 8,
    "start_time": "2022-11-18T08:52:24.311Z"
   },
   {
    "duration": 8,
    "start_time": "2022-11-18T08:52:24.321Z"
   },
   {
    "duration": 18,
    "start_time": "2022-11-18T08:52:24.331Z"
   },
   {
    "duration": 13,
    "start_time": "2022-11-18T08:52:47.154Z"
   },
   {
    "duration": 6,
    "start_time": "2022-11-18T08:52:48.825Z"
   },
   {
    "duration": 3,
    "start_time": "2022-11-18T08:52:49.592Z"
   },
   {
    "duration": 98,
    "start_time": "2022-11-18T08:54:05.073Z"
   },
   {
    "duration": 7,
    "start_time": "2022-11-18T08:55:23.857Z"
   },
   {
    "duration": 4,
    "start_time": "2022-11-18T08:55:32.116Z"
   },
   {
    "duration": 10,
    "start_time": "2022-11-18T08:57:29.773Z"
   },
   {
    "duration": 11,
    "start_time": "2022-11-18T08:57:44.588Z"
   },
   {
    "duration": 5,
    "start_time": "2022-11-18T08:57:58.302Z"
   },
   {
    "duration": 12,
    "start_time": "2022-11-18T09:04:53.975Z"
   },
   {
    "duration": 8,
    "start_time": "2022-11-18T09:10:12.805Z"
   },
   {
    "duration": 6,
    "start_time": "2022-11-18T09:11:03.097Z"
   },
   {
    "duration": 9,
    "start_time": "2022-11-18T09:11:17.455Z"
   },
   {
    "duration": 9,
    "start_time": "2022-11-18T09:15:40.797Z"
   },
   {
    "duration": 13,
    "start_time": "2022-11-18T09:15:49.859Z"
   },
   {
    "duration": 10,
    "start_time": "2022-11-18T09:19:22.685Z"
   },
   {
    "duration": 7,
    "start_time": "2022-11-18T09:19:32.255Z"
   },
   {
    "duration": 6,
    "start_time": "2022-11-18T09:44:02.300Z"
   },
   {
    "duration": 74,
    "start_time": "2022-11-18T10:12:08.710Z"
   },
   {
    "duration": 370,
    "start_time": "2022-11-18T10:23:11.146Z"
   },
   {
    "duration": 2,
    "start_time": "2022-11-18T10:23:11.518Z"
   },
   {
    "duration": 415,
    "start_time": "2022-11-18T10:23:11.522Z"
   },
   {
    "duration": 47,
    "start_time": "2022-11-18T10:23:11.939Z"
   },
   {
    "duration": 10,
    "start_time": "2022-11-18T10:23:11.988Z"
   },
   {
    "duration": 21,
    "start_time": "2022-11-18T10:23:11.999Z"
   },
   {
    "duration": 13,
    "start_time": "2022-11-18T10:23:12.021Z"
   },
   {
    "duration": 3,
    "start_time": "2022-11-18T10:23:12.035Z"
   },
   {
    "duration": 18,
    "start_time": "2022-11-18T10:23:12.039Z"
   },
   {
    "duration": 4,
    "start_time": "2022-11-18T10:23:12.058Z"
   },
   {
    "duration": 7,
    "start_time": "2022-11-18T10:23:12.063Z"
   },
   {
    "duration": 2,
    "start_time": "2022-11-18T10:23:12.071Z"
   },
   {
    "duration": 8,
    "start_time": "2022-11-18T10:23:12.075Z"
   },
   {
    "duration": 6,
    "start_time": "2022-11-18T10:23:12.105Z"
   },
   {
    "duration": 3,
    "start_time": "2022-11-18T10:23:12.114Z"
   },
   {
    "duration": 5,
    "start_time": "2022-11-18T10:23:12.118Z"
   },
   {
    "duration": 14,
    "start_time": "2022-11-18T10:23:12.125Z"
   },
   {
    "duration": 114,
    "start_time": "2022-11-18T10:23:12.141Z"
   },
   {
    "duration": 0,
    "start_time": "2022-11-18T10:23:12.258Z"
   },
   {
    "duration": 0,
    "start_time": "2022-11-18T10:23:12.260Z"
   },
   {
    "duration": 0,
    "start_time": "2022-11-18T10:23:12.261Z"
   },
   {
    "duration": 0,
    "start_time": "2022-11-18T10:23:12.262Z"
   },
   {
    "duration": 0,
    "start_time": "2022-11-18T10:23:12.262Z"
   },
   {
    "duration": 0,
    "start_time": "2022-11-18T10:23:12.263Z"
   },
   {
    "duration": 0,
    "start_time": "2022-11-18T10:23:12.264Z"
   },
   {
    "duration": 0,
    "start_time": "2022-11-18T10:23:12.265Z"
   },
   {
    "duration": 0,
    "start_time": "2022-11-18T10:23:12.266Z"
   },
   {
    "duration": 0,
    "start_time": "2022-11-18T10:23:12.268Z"
   },
   {
    "duration": 0,
    "start_time": "2022-11-18T10:23:12.269Z"
   },
   {
    "duration": 0,
    "start_time": "2022-11-18T10:23:12.270Z"
   },
   {
    "duration": 0,
    "start_time": "2022-11-18T10:23:12.271Z"
   },
   {
    "duration": 0,
    "start_time": "2022-11-18T10:23:12.272Z"
   },
   {
    "duration": 0,
    "start_time": "2022-11-18T10:23:12.273Z"
   },
   {
    "duration": 0,
    "start_time": "2022-11-18T10:23:12.274Z"
   },
   {
    "duration": 0,
    "start_time": "2022-11-18T10:23:12.305Z"
   },
   {
    "duration": 0,
    "start_time": "2022-11-18T10:23:12.306Z"
   },
   {
    "duration": 0,
    "start_time": "2022-11-18T10:23:12.307Z"
   },
   {
    "duration": 0,
    "start_time": "2022-11-18T10:23:12.309Z"
   },
   {
    "duration": 0,
    "start_time": "2022-11-18T10:23:12.310Z"
   },
   {
    "duration": 0,
    "start_time": "2022-11-18T10:23:12.311Z"
   },
   {
    "duration": 0,
    "start_time": "2022-11-18T10:23:12.311Z"
   },
   {
    "duration": 0,
    "start_time": "2022-11-18T10:23:12.313Z"
   },
   {
    "duration": 0,
    "start_time": "2022-11-18T10:23:12.314Z"
   },
   {
    "duration": 0,
    "start_time": "2022-11-18T10:23:12.315Z"
   },
   {
    "duration": 0,
    "start_time": "2022-11-18T10:23:12.315Z"
   },
   {
    "duration": 0,
    "start_time": "2022-11-18T10:23:12.316Z"
   },
   {
    "duration": 0,
    "start_time": "2022-11-18T10:23:12.318Z"
   },
   {
    "duration": 0,
    "start_time": "2022-11-18T10:23:12.319Z"
   },
   {
    "duration": 0,
    "start_time": "2022-11-18T10:23:12.320Z"
   },
   {
    "duration": 0,
    "start_time": "2022-11-18T10:23:12.321Z"
   },
   {
    "duration": 0,
    "start_time": "2022-11-18T10:23:12.322Z"
   },
   {
    "duration": 0,
    "start_time": "2022-11-18T10:23:12.323Z"
   },
   {
    "duration": 0,
    "start_time": "2022-11-18T10:23:12.324Z"
   },
   {
    "duration": 0,
    "start_time": "2022-11-18T10:23:12.325Z"
   },
   {
    "duration": 0,
    "start_time": "2022-11-18T10:23:12.326Z"
   },
   {
    "duration": 0,
    "start_time": "2022-11-18T10:23:12.327Z"
   },
   {
    "duration": 0,
    "start_time": "2022-11-18T10:23:12.328Z"
   },
   {
    "duration": 0,
    "start_time": "2022-11-18T10:23:12.329Z"
   },
   {
    "duration": 0,
    "start_time": "2022-11-18T10:23:12.330Z"
   },
   {
    "duration": 0,
    "start_time": "2022-11-18T10:23:12.331Z"
   },
   {
    "duration": 0,
    "start_time": "2022-11-18T10:23:12.332Z"
   },
   {
    "duration": 0,
    "start_time": "2022-11-18T10:23:12.333Z"
   },
   {
    "duration": 0,
    "start_time": "2022-11-18T10:23:12.334Z"
   },
   {
    "duration": 0,
    "start_time": "2022-11-18T10:23:12.335Z"
   },
   {
    "duration": 0,
    "start_time": "2022-11-18T10:23:12.336Z"
   },
   {
    "duration": 0,
    "start_time": "2022-11-18T10:23:12.337Z"
   },
   {
    "duration": 0,
    "start_time": "2022-11-18T10:23:12.338Z"
   },
   {
    "duration": 0,
    "start_time": "2022-11-18T10:23:12.338Z"
   },
   {
    "duration": 0,
    "start_time": "2022-11-18T10:23:12.339Z"
   },
   {
    "duration": 0,
    "start_time": "2022-11-18T10:23:12.340Z"
   },
   {
    "duration": 1,
    "start_time": "2022-11-18T10:23:12.341Z"
   },
   {
    "duration": 0,
    "start_time": "2022-11-18T10:23:12.342Z"
   },
   {
    "duration": 0,
    "start_time": "2022-11-18T10:23:12.404Z"
   },
   {
    "duration": 0,
    "start_time": "2022-11-18T10:23:12.406Z"
   },
   {
    "duration": 413,
    "start_time": "2022-11-18T10:25:13.474Z"
   },
   {
    "duration": 2,
    "start_time": "2022-11-18T10:25:13.889Z"
   },
   {
    "duration": 452,
    "start_time": "2022-11-18T10:25:13.892Z"
   },
   {
    "duration": 48,
    "start_time": "2022-11-18T10:25:14.346Z"
   },
   {
    "duration": 10,
    "start_time": "2022-11-18T10:25:14.395Z"
   },
   {
    "duration": 16,
    "start_time": "2022-11-18T10:25:14.406Z"
   },
   {
    "duration": 14,
    "start_time": "2022-11-18T10:25:14.423Z"
   },
   {
    "duration": 2,
    "start_time": "2022-11-18T10:25:14.439Z"
   },
   {
    "duration": 17,
    "start_time": "2022-11-18T10:25:14.443Z"
   },
   {
    "duration": 4,
    "start_time": "2022-11-18T10:25:14.462Z"
   },
   {
    "duration": 10,
    "start_time": "2022-11-18T10:25:14.467Z"
   },
   {
    "duration": 5,
    "start_time": "2022-11-18T10:25:14.505Z"
   },
   {
    "duration": 7,
    "start_time": "2022-11-18T10:25:14.512Z"
   },
   {
    "duration": 14,
    "start_time": "2022-11-18T10:25:14.521Z"
   },
   {
    "duration": 7,
    "start_time": "2022-11-18T10:25:14.536Z"
   },
   {
    "duration": 6,
    "start_time": "2022-11-18T10:25:14.545Z"
   },
   {
    "duration": 14,
    "start_time": "2022-11-18T10:25:14.552Z"
   },
   {
    "duration": 7,
    "start_time": "2022-11-18T10:25:14.567Z"
   },
   {
    "duration": 5,
    "start_time": "2022-11-18T10:25:14.576Z"
   },
   {
    "duration": 24,
    "start_time": "2022-11-18T10:25:14.583Z"
   },
   {
    "duration": 16,
    "start_time": "2022-11-18T10:25:14.609Z"
   },
   {
    "duration": 18,
    "start_time": "2022-11-18T10:25:14.626Z"
   },
   {
    "duration": 12,
    "start_time": "2022-11-18T10:25:14.645Z"
   },
   {
    "duration": 21,
    "start_time": "2022-11-18T10:25:14.659Z"
   },
   {
    "duration": 8,
    "start_time": "2022-11-18T10:25:14.682Z"
   },
   {
    "duration": 8,
    "start_time": "2022-11-18T10:25:14.691Z"
   },
   {
    "duration": 11,
    "start_time": "2022-11-18T10:25:14.701Z"
   },
   {
    "duration": 381,
    "start_time": "2022-11-18T10:25:14.717Z"
   },
   {
    "duration": 10,
    "start_time": "2022-11-18T10:25:15.099Z"
   },
   {
    "duration": 9,
    "start_time": "2022-11-18T10:25:15.110Z"
   },
   {
    "duration": 5,
    "start_time": "2022-11-18T10:25:15.121Z"
   },
   {
    "duration": 19,
    "start_time": "2022-11-18T10:25:15.127Z"
   },
   {
    "duration": 12,
    "start_time": "2022-11-18T10:25:15.147Z"
   },
   {
    "duration": 9,
    "start_time": "2022-11-18T10:25:15.160Z"
   },
   {
    "duration": 6,
    "start_time": "2022-11-18T10:25:15.170Z"
   },
   {
    "duration": 27,
    "start_time": "2022-11-18T10:25:15.178Z"
   },
   {
    "duration": 3,
    "start_time": "2022-11-18T10:25:15.206Z"
   },
   {
    "duration": 6,
    "start_time": "2022-11-18T10:25:15.210Z"
   },
   {
    "duration": 12,
    "start_time": "2022-11-18T10:25:15.217Z"
   },
   {
    "duration": 17,
    "start_time": "2022-11-18T10:25:15.231Z"
   },
   {
    "duration": 7,
    "start_time": "2022-11-18T10:25:15.249Z"
   },
   {
    "duration": 10,
    "start_time": "2022-11-18T10:25:15.257Z"
   },
   {
    "duration": 7,
    "start_time": "2022-11-18T10:25:15.268Z"
   },
   {
    "duration": 28,
    "start_time": "2022-11-18T10:25:15.277Z"
   },
   {
    "duration": 11,
    "start_time": "2022-11-18T10:25:15.306Z"
   },
   {
    "duration": 17,
    "start_time": "2022-11-18T10:25:15.318Z"
   },
   {
    "duration": 7,
    "start_time": "2022-11-18T10:25:15.336Z"
   },
   {
    "duration": 242,
    "start_time": "2022-11-18T10:25:15.345Z"
   },
   {
    "duration": 6,
    "start_time": "2022-11-18T10:25:15.588Z"
   },
   {
    "duration": 159,
    "start_time": "2022-11-18T10:25:15.595Z"
   },
   {
    "duration": 4,
    "start_time": "2022-11-18T10:25:15.756Z"
   },
   {
    "duration": 154,
    "start_time": "2022-11-18T10:25:15.761Z"
   },
   {
    "duration": 4,
    "start_time": "2022-11-18T10:25:15.917Z"
   },
   {
    "duration": 1436,
    "start_time": "2022-11-18T10:25:15.923Z"
   },
   {
    "duration": 1420,
    "start_time": "2022-11-18T10:25:17.361Z"
   },
   {
    "duration": 11,
    "start_time": "2022-11-18T10:25:18.784Z"
   },
   {
    "duration": 164,
    "start_time": "2022-11-18T10:25:18.805Z"
   },
   {
    "duration": 15,
    "start_time": "2022-11-18T10:25:18.971Z"
   },
   {
    "duration": 26,
    "start_time": "2022-11-18T10:25:18.987Z"
   },
   {
    "duration": 16,
    "start_time": "2022-11-18T10:25:19.015Z"
   },
   {
    "duration": 15,
    "start_time": "2022-11-18T10:25:19.033Z"
   },
   {
    "duration": 39,
    "start_time": "2022-11-18T10:25:19.050Z"
   },
   {
    "duration": 18,
    "start_time": "2022-11-18T10:25:19.091Z"
   },
   {
    "duration": 14,
    "start_time": "2022-11-18T10:25:19.111Z"
   },
   {
    "duration": 15,
    "start_time": "2022-11-18T10:25:19.127Z"
   },
   {
    "duration": 14,
    "start_time": "2022-11-18T10:25:19.144Z"
   },
   {
    "duration": 10,
    "start_time": "2022-11-18T10:25:19.160Z"
   },
   {
    "duration": 5,
    "start_time": "2022-11-18T10:25:19.205Z"
   },
   {
    "duration": 15,
    "start_time": "2022-11-18T10:25:19.212Z"
   },
   {
    "duration": 7,
    "start_time": "2022-11-18T10:25:19.228Z"
   },
   {
    "duration": 490,
    "start_time": "2022-11-18T11:38:45.516Z"
   },
   {
    "duration": 3,
    "start_time": "2022-11-18T11:38:46.007Z"
   },
   {
    "duration": 436,
    "start_time": "2022-11-18T11:38:46.011Z"
   },
   {
    "duration": 59,
    "start_time": "2022-11-18T11:38:46.448Z"
   },
   {
    "duration": 9,
    "start_time": "2022-11-18T11:38:46.509Z"
   },
   {
    "duration": 26,
    "start_time": "2022-11-18T11:38:46.519Z"
   },
   {
    "duration": 12,
    "start_time": "2022-11-18T11:38:46.546Z"
   },
   {
    "duration": 3,
    "start_time": "2022-11-18T11:38:46.560Z"
   },
   {
    "duration": 22,
    "start_time": "2022-11-18T11:38:46.564Z"
   },
   {
    "duration": 5,
    "start_time": "2022-11-18T11:38:46.587Z"
   },
   {
    "duration": 11,
    "start_time": "2022-11-18T11:38:46.593Z"
   },
   {
    "duration": 8,
    "start_time": "2022-11-18T11:38:46.605Z"
   },
   {
    "duration": 19,
    "start_time": "2022-11-18T11:38:46.615Z"
   },
   {
    "duration": 18,
    "start_time": "2022-11-18T11:38:46.637Z"
   },
   {
    "duration": 7,
    "start_time": "2022-11-18T11:38:46.656Z"
   },
   {
    "duration": 11,
    "start_time": "2022-11-18T11:38:46.664Z"
   },
   {
    "duration": 8,
    "start_time": "2022-11-18T11:38:46.676Z"
   },
   {
    "duration": 13,
    "start_time": "2022-11-18T11:38:46.685Z"
   },
   {
    "duration": 7,
    "start_time": "2022-11-18T11:38:46.699Z"
   },
   {
    "duration": 20,
    "start_time": "2022-11-18T11:38:46.708Z"
   },
   {
    "duration": 16,
    "start_time": "2022-11-18T11:38:46.730Z"
   },
   {
    "duration": 13,
    "start_time": "2022-11-18T11:38:46.748Z"
   },
   {
    "duration": 20,
    "start_time": "2022-11-18T11:38:46.763Z"
   },
   {
    "duration": 17,
    "start_time": "2022-11-18T11:38:46.784Z"
   },
   {
    "duration": 3,
    "start_time": "2022-11-18T11:38:46.803Z"
   },
   {
    "duration": 9,
    "start_time": "2022-11-18T11:38:46.807Z"
   },
   {
    "duration": 8,
    "start_time": "2022-11-18T11:38:46.818Z"
   },
   {
    "duration": 355,
    "start_time": "2022-11-18T11:38:46.827Z"
   },
   {
    "duration": 5,
    "start_time": "2022-11-18T11:38:47.183Z"
   },
   {
    "duration": 11,
    "start_time": "2022-11-18T11:38:47.189Z"
   },
   {
    "duration": 8,
    "start_time": "2022-11-18T11:38:47.201Z"
   },
   {
    "duration": 31,
    "start_time": "2022-11-18T11:38:47.211Z"
   },
   {
    "duration": 11,
    "start_time": "2022-11-18T11:38:47.244Z"
   },
   {
    "duration": 13,
    "start_time": "2022-11-18T11:38:47.256Z"
   },
   {
    "duration": 15,
    "start_time": "2022-11-18T11:38:47.270Z"
   },
   {
    "duration": 14,
    "start_time": "2022-11-18T11:38:47.287Z"
   },
   {
    "duration": 8,
    "start_time": "2022-11-18T11:38:47.302Z"
   },
   {
    "duration": 10,
    "start_time": "2022-11-18T11:38:47.312Z"
   },
   {
    "duration": 12,
    "start_time": "2022-11-18T11:38:47.323Z"
   },
   {
    "duration": 18,
    "start_time": "2022-11-18T11:38:47.336Z"
   },
   {
    "duration": 8,
    "start_time": "2022-11-18T11:38:47.358Z"
   },
   {
    "duration": 10,
    "start_time": "2022-11-18T11:38:47.367Z"
   },
   {
    "duration": 7,
    "start_time": "2022-11-18T11:38:47.378Z"
   },
   {
    "duration": 19,
    "start_time": "2022-11-18T11:38:47.387Z"
   },
   {
    "duration": 14,
    "start_time": "2022-11-18T11:38:47.407Z"
   },
   {
    "duration": 14,
    "start_time": "2022-11-18T11:38:47.422Z"
   },
   {
    "duration": 11,
    "start_time": "2022-11-18T11:38:47.437Z"
   },
   {
    "duration": 217,
    "start_time": "2022-11-18T11:38:47.450Z"
   },
   {
    "duration": 5,
    "start_time": "2022-11-18T11:38:47.669Z"
   },
   {
    "duration": 141,
    "start_time": "2022-11-18T11:38:47.675Z"
   },
   {
    "duration": 4,
    "start_time": "2022-11-18T11:38:47.821Z"
   },
   {
    "duration": 132,
    "start_time": "2022-11-18T11:38:47.826Z"
   },
   {
    "duration": 4,
    "start_time": "2022-11-18T11:38:47.959Z"
   },
   {
    "duration": 1300,
    "start_time": "2022-11-18T11:38:47.964Z"
   },
   {
    "duration": 1258,
    "start_time": "2022-11-18T11:38:49.265Z"
   },
   {
    "duration": 9,
    "start_time": "2022-11-18T11:38:50.525Z"
   },
   {
    "duration": 212,
    "start_time": "2022-11-18T11:38:50.536Z"
   },
   {
    "duration": 14,
    "start_time": "2022-11-18T11:38:50.750Z"
   },
   {
    "duration": 13,
    "start_time": "2022-11-18T11:38:50.765Z"
   },
   {
    "duration": 12,
    "start_time": "2022-11-18T11:38:50.780Z"
   },
   {
    "duration": 37,
    "start_time": "2022-11-18T11:38:50.793Z"
   },
   {
    "duration": 11,
    "start_time": "2022-11-18T11:38:50.832Z"
   },
   {
    "duration": 16,
    "start_time": "2022-11-18T11:38:50.845Z"
   },
   {
    "duration": 14,
    "start_time": "2022-11-18T11:38:50.863Z"
   },
   {
    "duration": 12,
    "start_time": "2022-11-18T11:38:50.878Z"
   },
   {
    "duration": 34,
    "start_time": "2022-11-18T11:38:50.891Z"
   },
   {
    "duration": 10,
    "start_time": "2022-11-18T11:38:50.926Z"
   },
   {
    "duration": 11,
    "start_time": "2022-11-18T11:38:50.937Z"
   },
   {
    "duration": 18,
    "start_time": "2022-11-18T11:38:50.950Z"
   },
   {
    "duration": 6,
    "start_time": "2022-11-18T11:38:50.969Z"
   },
   {
    "duration": 52,
    "start_time": "2022-11-18T11:46:36.826Z"
   },
   {
    "duration": 77,
    "start_time": "2022-11-21T09:20:41.448Z"
   },
   {
    "duration": 43,
    "start_time": "2022-11-21T09:26:11.508Z"
   },
   {
    "duration": 380,
    "start_time": "2022-11-21T09:32:19.955Z"
   },
   {
    "duration": 3,
    "start_time": "2022-11-21T09:32:20.337Z"
   },
   {
    "duration": 500,
    "start_time": "2022-11-21T09:32:20.341Z"
   },
   {
    "duration": 93,
    "start_time": "2022-11-21T09:32:20.843Z"
   },
   {
    "duration": 11,
    "start_time": "2022-11-21T09:32:20.938Z"
   },
   {
    "duration": 13,
    "start_time": "2022-11-21T09:32:20.951Z"
   },
   {
    "duration": 19,
    "start_time": "2022-11-21T09:32:20.966Z"
   },
   {
    "duration": 8,
    "start_time": "2022-11-21T09:32:20.987Z"
   },
   {
    "duration": 22,
    "start_time": "2022-11-21T09:32:20.997Z"
   },
   {
    "duration": 8,
    "start_time": "2022-11-21T09:32:21.022Z"
   },
   {
    "duration": 17,
    "start_time": "2022-11-21T09:32:21.031Z"
   },
   {
    "duration": 6,
    "start_time": "2022-11-21T09:32:21.049Z"
   },
   {
    "duration": 16,
    "start_time": "2022-11-21T09:32:21.057Z"
   },
   {
    "duration": 21,
    "start_time": "2022-11-21T09:32:21.074Z"
   },
   {
    "duration": 12,
    "start_time": "2022-11-21T09:32:21.096Z"
   },
   {
    "duration": 11,
    "start_time": "2022-11-21T09:32:21.109Z"
   },
   {
    "duration": 25,
    "start_time": "2022-11-21T09:32:21.121Z"
   },
   {
    "duration": 22,
    "start_time": "2022-11-21T09:32:21.148Z"
   },
   {
    "duration": 19,
    "start_time": "2022-11-21T09:32:21.171Z"
   },
   {
    "duration": 34,
    "start_time": "2022-11-21T09:32:21.192Z"
   },
   {
    "duration": 21,
    "start_time": "2022-11-21T09:32:21.228Z"
   },
   {
    "duration": 14,
    "start_time": "2022-11-21T09:32:21.250Z"
   },
   {
    "duration": 24,
    "start_time": "2022-11-21T09:32:21.265Z"
   },
   {
    "duration": 45,
    "start_time": "2022-11-21T09:32:21.291Z"
   },
   {
    "duration": 22,
    "start_time": "2022-11-21T09:32:21.337Z"
   },
   {
    "duration": 29,
    "start_time": "2022-11-21T09:32:21.361Z"
   },
   {
    "duration": 14,
    "start_time": "2022-11-21T09:32:21.392Z"
   },
   {
    "duration": 528,
    "start_time": "2022-11-21T09:32:21.411Z"
   },
   {
    "duration": 6,
    "start_time": "2022-11-21T09:32:21.940Z"
   },
   {
    "duration": 13,
    "start_time": "2022-11-21T09:32:21.947Z"
   },
   {
    "duration": 7,
    "start_time": "2022-11-21T09:32:21.962Z"
   },
   {
    "duration": 27,
    "start_time": "2022-11-21T09:32:21.971Z"
   },
   {
    "duration": 14,
    "start_time": "2022-11-21T09:32:21.999Z"
   },
   {
    "duration": 35,
    "start_time": "2022-11-21T09:32:22.015Z"
   },
   {
    "duration": 16,
    "start_time": "2022-11-21T09:32:22.053Z"
   },
   {
    "duration": 35,
    "start_time": "2022-11-21T09:32:22.071Z"
   },
   {
    "duration": 21,
    "start_time": "2022-11-21T09:32:22.108Z"
   },
   {
    "duration": 17,
    "start_time": "2022-11-21T09:32:22.131Z"
   },
   {
    "duration": 16,
    "start_time": "2022-11-21T09:32:22.149Z"
   },
   {
    "duration": 26,
    "start_time": "2022-11-21T09:32:22.167Z"
   },
   {
    "duration": 24,
    "start_time": "2022-11-21T09:32:22.195Z"
   },
   {
    "duration": 20,
    "start_time": "2022-11-21T09:32:22.221Z"
   },
   {
    "duration": 27,
    "start_time": "2022-11-21T09:32:22.243Z"
   },
   {
    "duration": 37,
    "start_time": "2022-11-21T09:32:22.272Z"
   },
   {
    "duration": 26,
    "start_time": "2022-11-21T09:32:22.310Z"
   },
   {
    "duration": 31,
    "start_time": "2022-11-21T09:32:22.337Z"
   },
   {
    "duration": 24,
    "start_time": "2022-11-21T09:32:22.370Z"
   },
   {
    "duration": 261,
    "start_time": "2022-11-21T09:32:22.396Z"
   },
   {
    "duration": 5,
    "start_time": "2022-11-21T09:32:22.659Z"
   },
   {
    "duration": 188,
    "start_time": "2022-11-21T09:32:22.665Z"
   },
   {
    "duration": 4,
    "start_time": "2022-11-21T09:32:22.855Z"
   },
   {
    "duration": 147,
    "start_time": "2022-11-21T09:32:22.861Z"
   },
   {
    "duration": 3,
    "start_time": "2022-11-21T09:32:23.010Z"
   },
   {
    "duration": 1451,
    "start_time": "2022-11-21T09:32:23.016Z"
   },
   {
    "duration": 1377,
    "start_time": "2022-11-21T09:32:24.469Z"
   },
   {
    "duration": 8,
    "start_time": "2022-11-21T09:32:25.848Z"
   },
   {
    "duration": 189,
    "start_time": "2022-11-21T09:32:25.858Z"
   },
   {
    "duration": 14,
    "start_time": "2022-11-21T09:32:26.049Z"
   },
   {
    "duration": 46,
    "start_time": "2022-11-21T09:32:26.065Z"
   },
   {
    "duration": 14,
    "start_time": "2022-11-21T09:32:26.113Z"
   },
   {
    "duration": 12,
    "start_time": "2022-11-21T09:32:26.129Z"
   },
   {
    "duration": 14,
    "start_time": "2022-11-21T09:32:26.142Z"
   },
   {
    "duration": 12,
    "start_time": "2022-11-21T09:32:26.157Z"
   },
   {
    "duration": 12,
    "start_time": "2022-11-21T09:32:26.170Z"
   },
   {
    "duration": 38,
    "start_time": "2022-11-21T09:32:26.183Z"
   },
   {
    "duration": 13,
    "start_time": "2022-11-21T09:32:26.222Z"
   },
   {
    "duration": 12,
    "start_time": "2022-11-21T09:32:26.236Z"
   },
   {
    "duration": 10,
    "start_time": "2022-11-21T09:32:26.250Z"
   },
   {
    "duration": 20,
    "start_time": "2022-11-21T09:32:26.262Z"
   },
   {
    "duration": 6,
    "start_time": "2022-11-21T09:32:26.284Z"
   },
   {
    "duration": 2,
    "start_time": "2022-11-21T09:33:28.067Z"
   },
   {
    "duration": 4,
    "start_time": "2022-11-21T09:33:28.781Z"
   },
   {
    "duration": 6,
    "start_time": "2022-11-21T09:33:41.975Z"
   },
   {
    "duration": 14,
    "start_time": "2022-11-21T09:33:42.474Z"
   },
   {
    "duration": 4,
    "start_time": "2022-11-21T09:34:45.082Z"
   },
   {
    "duration": 12,
    "start_time": "2022-11-21T09:34:45.739Z"
   },
   {
    "duration": 9,
    "start_time": "2022-11-21T09:34:47.735Z"
   },
   {
    "duration": 9,
    "start_time": "2022-11-21T09:34:52.661Z"
   },
   {
    "duration": 415,
    "start_time": "2022-11-21T09:35:34.975Z"
   },
   {
    "duration": 223,
    "start_time": "2022-11-21T09:35:50.381Z"
   },
   {
    "duration": 322,
    "start_time": "2022-11-21T09:36:03.977Z"
   },
   {
    "duration": 225,
    "start_time": "2022-11-21T09:36:14.883Z"
   },
   {
    "duration": 8,
    "start_time": "2022-11-21T09:37:09.067Z"
   },
   {
    "duration": 161,
    "start_time": "2022-11-21T09:37:09.672Z"
   },
   {
    "duration": 386,
    "start_time": "2022-11-21T09:40:37.450Z"
   },
   {
    "duration": 2,
    "start_time": "2022-11-21T09:40:37.838Z"
   },
   {
    "duration": 512,
    "start_time": "2022-11-21T09:40:37.842Z"
   },
   {
    "duration": 52,
    "start_time": "2022-11-21T09:40:38.356Z"
   },
   {
    "duration": 9,
    "start_time": "2022-11-21T09:40:38.410Z"
   },
   {
    "duration": 18,
    "start_time": "2022-11-21T09:40:38.421Z"
   },
   {
    "duration": 16,
    "start_time": "2022-11-21T09:40:38.441Z"
   },
   {
    "duration": 6,
    "start_time": "2022-11-21T09:40:38.459Z"
   },
   {
    "duration": 20,
    "start_time": "2022-11-21T09:40:38.466Z"
   },
   {
    "duration": 14,
    "start_time": "2022-11-21T09:40:38.488Z"
   },
   {
    "duration": 29,
    "start_time": "2022-11-21T09:40:38.503Z"
   },
   {
    "duration": 9,
    "start_time": "2022-11-21T09:40:38.534Z"
   },
   {
    "duration": 12,
    "start_time": "2022-11-21T09:40:38.545Z"
   },
   {
    "duration": 21,
    "start_time": "2022-11-21T09:40:38.558Z"
   },
   {
    "duration": 7,
    "start_time": "2022-11-21T09:40:38.580Z"
   },
   {
    "duration": 6,
    "start_time": "2022-11-21T09:40:38.589Z"
   },
   {
    "duration": 6,
    "start_time": "2022-11-21T09:40:38.596Z"
   },
   {
    "duration": 9,
    "start_time": "2022-11-21T09:40:38.603Z"
   },
   {
    "duration": 12,
    "start_time": "2022-11-21T09:40:38.613Z"
   },
   {
    "duration": 15,
    "start_time": "2022-11-21T09:40:38.628Z"
   },
   {
    "duration": 13,
    "start_time": "2022-11-21T09:40:38.645Z"
   },
   {
    "duration": 12,
    "start_time": "2022-11-21T09:40:38.660Z"
   },
   {
    "duration": 20,
    "start_time": "2022-11-21T09:40:38.673Z"
   },
   {
    "duration": 27,
    "start_time": "2022-11-21T09:40:38.695Z"
   },
   {
    "duration": 3,
    "start_time": "2022-11-21T09:40:38.723Z"
   },
   {
    "duration": 12,
    "start_time": "2022-11-21T09:40:38.727Z"
   },
   {
    "duration": 9,
    "start_time": "2022-11-21T09:40:38.740Z"
   },
   {
    "duration": 351,
    "start_time": "2022-11-21T09:40:38.754Z"
   },
   {
    "duration": 11,
    "start_time": "2022-11-21T09:40:39.106Z"
   },
   {
    "duration": 19,
    "start_time": "2022-11-21T09:40:39.118Z"
   },
   {
    "duration": 15,
    "start_time": "2022-11-21T09:40:39.138Z"
   },
   {
    "duration": 30,
    "start_time": "2022-11-21T09:40:39.155Z"
   },
   {
    "duration": 13,
    "start_time": "2022-11-21T09:40:39.186Z"
   },
   {
    "duration": 7,
    "start_time": "2022-11-21T09:40:39.201Z"
   },
   {
    "duration": 8,
    "start_time": "2022-11-21T09:40:39.209Z"
   },
   {
    "duration": 5,
    "start_time": "2022-11-21T09:40:39.218Z"
   },
   {
    "duration": 8,
    "start_time": "2022-11-21T09:40:39.225Z"
   },
   {
    "duration": 6,
    "start_time": "2022-11-21T09:40:39.235Z"
   },
   {
    "duration": 8,
    "start_time": "2022-11-21T09:40:39.242Z"
   },
   {
    "duration": 14,
    "start_time": "2022-11-21T09:40:39.251Z"
   },
   {
    "duration": 6,
    "start_time": "2022-11-21T09:40:39.267Z"
   },
   {
    "duration": 7,
    "start_time": "2022-11-21T09:40:39.275Z"
   },
   {
    "duration": 6,
    "start_time": "2022-11-21T09:40:39.284Z"
   },
   {
    "duration": 30,
    "start_time": "2022-11-21T09:40:39.292Z"
   },
   {
    "duration": 9,
    "start_time": "2022-11-21T09:40:39.323Z"
   },
   {
    "duration": 11,
    "start_time": "2022-11-21T09:40:39.333Z"
   },
   {
    "duration": 6,
    "start_time": "2022-11-21T09:40:39.346Z"
   },
   {
    "duration": 254,
    "start_time": "2022-11-21T09:40:39.354Z"
   },
   {
    "duration": 4,
    "start_time": "2022-11-21T09:40:39.615Z"
   },
   {
    "duration": 152,
    "start_time": "2022-11-21T09:40:39.621Z"
   },
   {
    "duration": 4,
    "start_time": "2022-11-21T09:40:39.775Z"
   },
   {
    "duration": 148,
    "start_time": "2022-11-21T09:40:39.781Z"
   },
   {
    "duration": 4,
    "start_time": "2022-11-21T09:40:39.931Z"
   },
   {
    "duration": 1402,
    "start_time": "2022-11-21T09:40:39.936Z"
   },
   {
    "duration": 1511,
    "start_time": "2022-11-21T09:40:41.339Z"
   },
   {
    "duration": 8,
    "start_time": "2022-11-21T09:40:42.852Z"
   },
   {
    "duration": 180,
    "start_time": "2022-11-21T09:40:42.862Z"
   },
   {
    "duration": 13,
    "start_time": "2022-11-21T09:40:43.044Z"
   },
   {
    "duration": 14,
    "start_time": "2022-11-21T09:40:43.059Z"
   },
   {
    "duration": 13,
    "start_time": "2022-11-21T09:40:43.075Z"
   },
   {
    "duration": 35,
    "start_time": "2022-11-21T09:40:43.089Z"
   },
   {
    "duration": 12,
    "start_time": "2022-11-21T09:40:43.126Z"
   },
   {
    "duration": 17,
    "start_time": "2022-11-21T09:40:43.139Z"
   },
   {
    "duration": 13,
    "start_time": "2022-11-21T09:40:43.158Z"
   },
   {
    "duration": 16,
    "start_time": "2022-11-21T09:40:43.172Z"
   },
   {
    "duration": 33,
    "start_time": "2022-11-21T09:40:43.190Z"
   },
   {
    "duration": 11,
    "start_time": "2022-11-21T09:40:43.225Z"
   },
   {
    "duration": 6,
    "start_time": "2022-11-21T09:40:43.238Z"
   },
   {
    "duration": 12,
    "start_time": "2022-11-21T09:40:43.246Z"
   },
   {
    "duration": 6,
    "start_time": "2022-11-21T09:40:43.259Z"
   },
   {
    "duration": 14,
    "start_time": "2022-11-21T09:44:48.709Z"
   },
   {
    "duration": 13,
    "start_time": "2022-11-21T09:47:17.436Z"
   },
   {
    "duration": 2,
    "start_time": "2022-11-21T09:49:28.592Z"
   },
   {
    "duration": 60,
    "start_time": "2023-04-23T11:36:14.579Z"
   },
   {
    "duration": 903,
    "start_time": "2023-04-23T11:36:19.105Z"
   },
   {
    "duration": 115,
    "start_time": "2023-04-23T11:36:20.403Z"
   },
   {
    "duration": 35,
    "start_time": "2023-04-23T11:36:53.807Z"
   },
   {
    "duration": 35,
    "start_time": "2023-04-23T11:37:16.428Z"
   },
   {
    "duration": 120,
    "start_time": "2023-04-23T11:38:06.429Z"
   },
   {
    "duration": 11,
    "start_time": "2023-04-23T11:38:15.317Z"
   },
   {
    "duration": 32,
    "start_time": "2023-04-23T11:38:20.452Z"
   },
   {
    "duration": 61,
    "start_time": "2023-04-23T11:39:15.051Z"
   },
   {
    "duration": 41,
    "start_time": "2023-04-23T11:39:18.717Z"
   },
   {
    "duration": 43,
    "start_time": "2023-04-23T11:39:59.242Z"
   },
   {
    "duration": 38,
    "start_time": "2023-04-23T11:40:07.127Z"
   },
   {
    "duration": 63,
    "start_time": "2023-04-23T11:40:43.963Z"
   }
  ],
  "kernelspec": {
   "display_name": "Python 3 (ipykernel)",
   "language": "python",
   "name": "python3"
  },
  "language_info": {
   "codemirror_mode": {
    "name": "ipython",
    "version": 3
   },
   "file_extension": ".py",
   "mimetype": "text/x-python",
   "name": "python",
   "nbconvert_exporter": "python",
   "pygments_lexer": "ipython3",
   "version": "3.9.13"
  },
  "toc": {
   "base_numbering": 1,
   "nav_menu": {},
   "number_sections": true,
   "sideBar": true,
   "skip_h1_title": true,
   "title_cell": "Table of Contents",
   "title_sidebar": "Contents",
   "toc_cell": false,
   "toc_position": {},
   "toc_section_display": true,
   "toc_window_display": false
  }
 },
 "nbformat": 4,
 "nbformat_minor": 2
}
