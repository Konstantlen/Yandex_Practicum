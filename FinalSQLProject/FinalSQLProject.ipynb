{
 "cells": [
  {
   "cell_type": "markdown",
   "metadata": {},
   "source": [
    "# Проект: Анализ оттока клиентов банка «Метанпром»"
   ]
  },
  {
   "cell_type": "markdown",
   "metadata": {},
   "source": [
    "Цель: Проанализировать базу данных для нового продукта : крупный сервис для чтения книг по подписке  \n",
    "\n",
    "Задачи:\n",
    "- Посчитайте, сколько книг вышло после 1 января 2000 года;\n",
    "- Для каждой книги посчитайте количество обзоров и среднюю оценку;\n",
    "- Определите издательство, которое выпустило наибольшее число книг толще 50 страниц — так вы исключите из анализа брошюры;\n",
    "- Определите автора с самой высокой средней оценкой книг — учитывайте только книги с 50 и более оценками;\n",
    "- Посчитайте среднее количество обзоров от пользователей, которые поставили больше 50 оценок."
   ]
  },
  {
   "cell_type": "markdown",
   "metadata": {},
   "source": [
    "Описание данных\n",
    "\n",
    "**Таблица `books`**\n",
    "\n",
    "Содержит данные о книгах:\n",
    "\n",
    "- `book_id` — идентификатор книги;\n",
    "- `author_id` — идентификатор автора;\n",
    "- `title` — название книги;\n",
    "- `num_pages` — количество страниц;\n",
    "- `publication_date` — дата публикации книги;\n",
    "- `publisher_id` — идентификатор издателя.\n",
    "\n",
    "**Таблица `authors`**\n",
    "\n",
    "Содержит данные об авторах:\n",
    "\n",
    "- `author_id` — идентификатор автора;\n",
    "- `author` — имя автора.\n",
    "\n",
    "**Таблица `publishers`**\n",
    "\n",
    "Содержит данные об издательствах:\n",
    "\n",
    "- `publisher_id` — идентификатор издательства;\n",
    "- `publisher` — название издательства;\n",
    "\n",
    "**Таблица `ratings`**\n",
    "\n",
    "Содержит данные о пользовательских оценках книг:\n",
    "\n",
    "- `rating_id` — идентификатор оценки;\n",
    "- `book_id` — идентификатор книги;\n",
    "- `username` — имя пользователя, оставившего оценку;\n",
    "- `rating` — оценка книги.\n",
    "\n",
    "**Таблица `reviews`**\n",
    "\n",
    "Содержит данные о пользовательских обзорах на книги:\n",
    "\n",
    "- `review_id` — идентификатор обзора;\n",
    "- `book_id` — идентификатор книги;\n",
    "- `username` — имя пользователя, написавшего обзор;\n",
    "- `text` — текст обзора."
   ]
  },
  {
   "cell_type": "markdown",
   "metadata": {},
   "source": []
  },
  {
   "cell_type": "markdown",
   "metadata": {},
   "source": [
    "## Выгрузка данных и ознакомление с ними"
   ]
  },
  {
   "cell_type": "code",
   "execution_count": 1,
   "metadata": {},
   "outputs": [],
   "source": [
    "# импортируем библиотеки\n",
    "import pandas as pd\n",
    "from sqlalchemy import create_engine\n",
    "# устанавливаем параметры\n",
    "db_config = {'user': 'praktikum_student', # имя пользователя\n",
    "'pwd': #########, # пароль\n",
    "'host': #########,\n",
    "'port': #########, # порт подключения\n",
    "'db': '##########'} # название базы данных\n",
    "connection_string = 'postgresql://{}:{}@{}:{}/{}'.format(db_config['user'],\n",
    " db_config['pwd'],\n",
    " db_config['host'],\n",
    " db_config['port'],\n",
    " db_config['db'])\n",
    "# сохраняем коннектор\n",
    "engine = create_engine(connection_string, connect_args={'sslmode':'require'})\n"
   ]
  },
  {
   "cell_type": "code",
   "execution_count": 2,
   "metadata": {},
   "outputs": [
    {
     "data": {
      "text/html": [
       "<div>\n",
       "<style scoped>\n",
       "    .dataframe tbody tr th:only-of-type {\n",
       "        vertical-align: middle;\n",
       "    }\n",
       "\n",
       "    .dataframe tbody tr th {\n",
       "        vertical-align: top;\n",
       "    }\n",
       "\n",
       "    .dataframe thead th {\n",
       "        text-align: right;\n",
       "    }\n",
       "</style>\n",
       "<table border=\"1\" class=\"dataframe\">\n",
       "  <thead>\n",
       "    <tr style=\"text-align: right;\">\n",
       "      <th></th>\n",
       "      <th>book_id</th>\n",
       "      <th>author_id</th>\n",
       "      <th>title</th>\n",
       "      <th>num_pages</th>\n",
       "      <th>publication_date</th>\n",
       "      <th>publisher_id</th>\n",
       "    </tr>\n",
       "  </thead>\n",
       "  <tbody>\n",
       "    <tr>\n",
       "      <th>0</th>\n",
       "      <td>1</td>\n",
       "      <td>546</td>\n",
       "      <td>'Salem's Lot</td>\n",
       "      <td>594</td>\n",
       "      <td>2005-11-01</td>\n",
       "      <td>93</td>\n",
       "    </tr>\n",
       "    <tr>\n",
       "      <th>1</th>\n",
       "      <td>2</td>\n",
       "      <td>465</td>\n",
       "      <td>1 000 Places to See Before You Die</td>\n",
       "      <td>992</td>\n",
       "      <td>2003-05-22</td>\n",
       "      <td>336</td>\n",
       "    </tr>\n",
       "    <tr>\n",
       "      <th>2</th>\n",
       "      <td>3</td>\n",
       "      <td>407</td>\n",
       "      <td>13 Little Blue Envelopes (Little Blue Envelope...</td>\n",
       "      <td>322</td>\n",
       "      <td>2010-12-21</td>\n",
       "      <td>135</td>\n",
       "    </tr>\n",
       "    <tr>\n",
       "      <th>3</th>\n",
       "      <td>4</td>\n",
       "      <td>82</td>\n",
       "      <td>1491: New Revelations of the Americas Before C...</td>\n",
       "      <td>541</td>\n",
       "      <td>2006-10-10</td>\n",
       "      <td>309</td>\n",
       "    </tr>\n",
       "    <tr>\n",
       "      <th>4</th>\n",
       "      <td>5</td>\n",
       "      <td>125</td>\n",
       "      <td>1776</td>\n",
       "      <td>386</td>\n",
       "      <td>2006-07-04</td>\n",
       "      <td>268</td>\n",
       "    </tr>\n",
       "    <tr>\n",
       "      <th>...</th>\n",
       "      <td>...</td>\n",
       "      <td>...</td>\n",
       "      <td>...</td>\n",
       "      <td>...</td>\n",
       "      <td>...</td>\n",
       "      <td>...</td>\n",
       "    </tr>\n",
       "    <tr>\n",
       "      <th>995</th>\n",
       "      <td>996</td>\n",
       "      <td>571</td>\n",
       "      <td>Wyrd Sisters (Discworld  #6; Witches #2)</td>\n",
       "      <td>265</td>\n",
       "      <td>2001-02-06</td>\n",
       "      <td>147</td>\n",
       "    </tr>\n",
       "    <tr>\n",
       "      <th>996</th>\n",
       "      <td>997</td>\n",
       "      <td>454</td>\n",
       "      <td>Xenocide (Ender's Saga  #3)</td>\n",
       "      <td>592</td>\n",
       "      <td>1996-07-15</td>\n",
       "      <td>297</td>\n",
       "    </tr>\n",
       "    <tr>\n",
       "      <th>997</th>\n",
       "      <td>998</td>\n",
       "      <td>201</td>\n",
       "      <td>Year of Wonders</td>\n",
       "      <td>358</td>\n",
       "      <td>2002-04-30</td>\n",
       "      <td>212</td>\n",
       "    </tr>\n",
       "    <tr>\n",
       "      <th>998</th>\n",
       "      <td>999</td>\n",
       "      <td>94</td>\n",
       "      <td>You Suck (A Love Story  #2)</td>\n",
       "      <td>328</td>\n",
       "      <td>2007-01-16</td>\n",
       "      <td>331</td>\n",
       "    </tr>\n",
       "    <tr>\n",
       "      <th>999</th>\n",
       "      <td>1000</td>\n",
       "      <td>509</td>\n",
       "      <td>Zen and the Art of Motorcycle Maintenance: An ...</td>\n",
       "      <td>540</td>\n",
       "      <td>2006-04-25</td>\n",
       "      <td>143</td>\n",
       "    </tr>\n",
       "  </tbody>\n",
       "</table>\n",
       "<p>1000 rows × 6 columns</p>\n",
       "</div>"
      ],
      "text/plain": [
       "     book_id  author_id                                              title   \n",
       "0          1        546                                       'Salem's Lot  \\\n",
       "1          2        465                 1 000 Places to See Before You Die   \n",
       "2          3        407  13 Little Blue Envelopes (Little Blue Envelope...   \n",
       "3          4         82  1491: New Revelations of the Americas Before C...   \n",
       "4          5        125                                               1776   \n",
       "..       ...        ...                                                ...   \n",
       "995      996        571           Wyrd Sisters (Discworld  #6; Witches #2)   \n",
       "996      997        454                        Xenocide (Ender's Saga  #3)   \n",
       "997      998        201                                    Year of Wonders   \n",
       "998      999         94                        You Suck (A Love Story  #2)   \n",
       "999     1000        509  Zen and the Art of Motorcycle Maintenance: An ...   \n",
       "\n",
       "     num_pages publication_date  publisher_id  \n",
       "0          594       2005-11-01            93  \n",
       "1          992       2003-05-22           336  \n",
       "2          322       2010-12-21           135  \n",
       "3          541       2006-10-10           309  \n",
       "4          386       2006-07-04           268  \n",
       "..         ...              ...           ...  \n",
       "995        265       2001-02-06           147  \n",
       "996        592       1996-07-15           297  \n",
       "997        358       2002-04-30           212  \n",
       "998        328       2007-01-16           331  \n",
       "999        540       2006-04-25           143  \n",
       "\n",
       "[1000 rows x 6 columns]"
      ]
     },
     "execution_count": 2,
     "metadata": {},
     "output_type": "execute_result"
    }
   ],
   "source": [
    "# получаем сырые данные\n",
    "query = '''\n",
    "            SELECT * FROM books\n",
    "        '''\n",
    "\n",
    "# чтобы выполнить SQL-запрос, используем Pandas\n",
    "pd.io.sql.read_sql(query, con = engine)\n"
   ]
  },
  {
   "cell_type": "code",
   "execution_count": 3,
   "metadata": {},
   "outputs": [
    {
     "data": {
      "text/html": [
       "<div>\n",
       "<style scoped>\n",
       "    .dataframe tbody tr th:only-of-type {\n",
       "        vertical-align: middle;\n",
       "    }\n",
       "\n",
       "    .dataframe tbody tr th {\n",
       "        vertical-align: top;\n",
       "    }\n",
       "\n",
       "    .dataframe thead th {\n",
       "        text-align: right;\n",
       "    }\n",
       "</style>\n",
       "<table border=\"1\" class=\"dataframe\">\n",
       "  <thead>\n",
       "    <tr style=\"text-align: right;\">\n",
       "      <th></th>\n",
       "      <th>author_id</th>\n",
       "      <th>author</th>\n",
       "    </tr>\n",
       "  </thead>\n",
       "  <tbody>\n",
       "    <tr>\n",
       "      <th>0</th>\n",
       "      <td>1</td>\n",
       "      <td>A.S. Byatt</td>\n",
       "    </tr>\n",
       "    <tr>\n",
       "      <th>1</th>\n",
       "      <td>2</td>\n",
       "      <td>Aesop/Laura Harris/Laura Gibbs</td>\n",
       "    </tr>\n",
       "    <tr>\n",
       "      <th>2</th>\n",
       "      <td>3</td>\n",
       "      <td>Agatha Christie</td>\n",
       "    </tr>\n",
       "    <tr>\n",
       "      <th>3</th>\n",
       "      <td>4</td>\n",
       "      <td>Alan Brennert</td>\n",
       "    </tr>\n",
       "    <tr>\n",
       "      <th>4</th>\n",
       "      <td>5</td>\n",
       "      <td>Alan Moore/David   Lloyd</td>\n",
       "    </tr>\n",
       "    <tr>\n",
       "      <th>...</th>\n",
       "      <td>...</td>\n",
       "      <td>...</td>\n",
       "    </tr>\n",
       "    <tr>\n",
       "      <th>631</th>\n",
       "      <td>632</td>\n",
       "      <td>William Strunk Jr./E.B. White</td>\n",
       "    </tr>\n",
       "    <tr>\n",
       "      <th>632</th>\n",
       "      <td>633</td>\n",
       "      <td>Zadie Smith</td>\n",
       "    </tr>\n",
       "    <tr>\n",
       "      <th>633</th>\n",
       "      <td>634</td>\n",
       "      <td>Zilpha Keatley Snyder</td>\n",
       "    </tr>\n",
       "    <tr>\n",
       "      <th>634</th>\n",
       "      <td>635</td>\n",
       "      <td>Zora Neale Hurston</td>\n",
       "    </tr>\n",
       "    <tr>\n",
       "      <th>635</th>\n",
       "      <td>636</td>\n",
       "      <td>Åsne Seierstad/Ingrid Christopherson</td>\n",
       "    </tr>\n",
       "  </tbody>\n",
       "</table>\n",
       "<p>636 rows × 2 columns</p>\n",
       "</div>"
      ],
      "text/plain": [
       "     author_id                                author\n",
       "0            1                            A.S. Byatt\n",
       "1            2        Aesop/Laura Harris/Laura Gibbs\n",
       "2            3                       Agatha Christie\n",
       "3            4                         Alan Brennert\n",
       "4            5              Alan Moore/David   Lloyd\n",
       "..         ...                                   ...\n",
       "631        632         William Strunk Jr./E.B. White\n",
       "632        633                           Zadie Smith\n",
       "633        634                 Zilpha Keatley Snyder\n",
       "634        635                    Zora Neale Hurston\n",
       "635        636  Åsne Seierstad/Ingrid Christopherson\n",
       "\n",
       "[636 rows x 2 columns]"
      ]
     },
     "execution_count": 3,
     "metadata": {},
     "output_type": "execute_result"
    }
   ],
   "source": [
    "# получаем сырые данные\n",
    "query = '''\n",
    "            SELECT * FROM authors\n",
    "        '''\n",
    "\n",
    "# чтобы выполнить SQL-запрос, используем Pandas\n",
    "pd.io.sql.read_sql(query, con = engine)\n"
   ]
  },
  {
   "cell_type": "code",
   "execution_count": 4,
   "metadata": {},
   "outputs": [
    {
     "data": {
      "text/html": [
       "<div>\n",
       "<style scoped>\n",
       "    .dataframe tbody tr th:only-of-type {\n",
       "        vertical-align: middle;\n",
       "    }\n",
       "\n",
       "    .dataframe tbody tr th {\n",
       "        vertical-align: top;\n",
       "    }\n",
       "\n",
       "    .dataframe thead th {\n",
       "        text-align: right;\n",
       "    }\n",
       "</style>\n",
       "<table border=\"1\" class=\"dataframe\">\n",
       "  <thead>\n",
       "    <tr style=\"text-align: right;\">\n",
       "      <th></th>\n",
       "      <th>publisher_id</th>\n",
       "      <th>publisher</th>\n",
       "    </tr>\n",
       "  </thead>\n",
       "  <tbody>\n",
       "    <tr>\n",
       "      <th>0</th>\n",
       "      <td>1</td>\n",
       "      <td>Ace</td>\n",
       "    </tr>\n",
       "    <tr>\n",
       "      <th>1</th>\n",
       "      <td>2</td>\n",
       "      <td>Ace Book</td>\n",
       "    </tr>\n",
       "    <tr>\n",
       "      <th>2</th>\n",
       "      <td>3</td>\n",
       "      <td>Ace Books</td>\n",
       "    </tr>\n",
       "    <tr>\n",
       "      <th>3</th>\n",
       "      <td>4</td>\n",
       "      <td>Ace Hardcover</td>\n",
       "    </tr>\n",
       "    <tr>\n",
       "      <th>4</th>\n",
       "      <td>5</td>\n",
       "      <td>Addison Wesley Publishing Company</td>\n",
       "    </tr>\n",
       "    <tr>\n",
       "      <th>...</th>\n",
       "      <td>...</td>\n",
       "      <td>...</td>\n",
       "    </tr>\n",
       "    <tr>\n",
       "      <th>335</th>\n",
       "      <td>336</td>\n",
       "      <td>Workman Publishing Company</td>\n",
       "    </tr>\n",
       "    <tr>\n",
       "      <th>336</th>\n",
       "      <td>337</td>\n",
       "      <td>Wyatt Book</td>\n",
       "    </tr>\n",
       "    <tr>\n",
       "      <th>337</th>\n",
       "      <td>338</td>\n",
       "      <td>Yale University Press</td>\n",
       "    </tr>\n",
       "    <tr>\n",
       "      <th>338</th>\n",
       "      <td>339</td>\n",
       "      <td>Yearling</td>\n",
       "    </tr>\n",
       "    <tr>\n",
       "      <th>339</th>\n",
       "      <td>340</td>\n",
       "      <td>Yearling Books</td>\n",
       "    </tr>\n",
       "  </tbody>\n",
       "</table>\n",
       "<p>340 rows × 2 columns</p>\n",
       "</div>"
      ],
      "text/plain": [
       "     publisher_id                          publisher\n",
       "0               1                                Ace\n",
       "1               2                           Ace Book\n",
       "2               3                          Ace Books\n",
       "3               4                      Ace Hardcover\n",
       "4               5  Addison Wesley Publishing Company\n",
       "..            ...                                ...\n",
       "335           336         Workman Publishing Company\n",
       "336           337                         Wyatt Book\n",
       "337           338              Yale University Press\n",
       "338           339                           Yearling\n",
       "339           340                     Yearling Books\n",
       "\n",
       "[340 rows x 2 columns]"
      ]
     },
     "execution_count": 4,
     "metadata": {},
     "output_type": "execute_result"
    }
   ],
   "source": [
    "# получаем сырые данные\n",
    "query = '''\n",
    "            SELECT * FROM publishers\n",
    "        '''\n",
    "\n",
    "# чтобы выполнить SQL-запрос, используем Pandas\n",
    "pd.io.sql.read_sql(query, con = engine)"
   ]
  },
  {
   "cell_type": "code",
   "execution_count": 5,
   "metadata": {},
   "outputs": [
    {
     "data": {
      "text/html": [
       "<div>\n",
       "<style scoped>\n",
       "    .dataframe tbody tr th:only-of-type {\n",
       "        vertical-align: middle;\n",
       "    }\n",
       "\n",
       "    .dataframe tbody tr th {\n",
       "        vertical-align: top;\n",
       "    }\n",
       "\n",
       "    .dataframe thead th {\n",
       "        text-align: right;\n",
       "    }\n",
       "</style>\n",
       "<table border=\"1\" class=\"dataframe\">\n",
       "  <thead>\n",
       "    <tr style=\"text-align: right;\">\n",
       "      <th></th>\n",
       "      <th>rating_id</th>\n",
       "      <th>book_id</th>\n",
       "      <th>username</th>\n",
       "      <th>rating</th>\n",
       "    </tr>\n",
       "  </thead>\n",
       "  <tbody>\n",
       "    <tr>\n",
       "      <th>0</th>\n",
       "      <td>1</td>\n",
       "      <td>1</td>\n",
       "      <td>ryanfranco</td>\n",
       "      <td>4</td>\n",
       "    </tr>\n",
       "    <tr>\n",
       "      <th>1</th>\n",
       "      <td>2</td>\n",
       "      <td>1</td>\n",
       "      <td>grantpatricia</td>\n",
       "      <td>2</td>\n",
       "    </tr>\n",
       "    <tr>\n",
       "      <th>2</th>\n",
       "      <td>3</td>\n",
       "      <td>1</td>\n",
       "      <td>brandtandrea</td>\n",
       "      <td>5</td>\n",
       "    </tr>\n",
       "    <tr>\n",
       "      <th>3</th>\n",
       "      <td>4</td>\n",
       "      <td>2</td>\n",
       "      <td>lorichen</td>\n",
       "      <td>3</td>\n",
       "    </tr>\n",
       "    <tr>\n",
       "      <th>4</th>\n",
       "      <td>5</td>\n",
       "      <td>2</td>\n",
       "      <td>mariokeller</td>\n",
       "      <td>2</td>\n",
       "    </tr>\n",
       "    <tr>\n",
       "      <th>...</th>\n",
       "      <td>...</td>\n",
       "      <td>...</td>\n",
       "      <td>...</td>\n",
       "      <td>...</td>\n",
       "    </tr>\n",
       "    <tr>\n",
       "      <th>6451</th>\n",
       "      <td>6452</td>\n",
       "      <td>1000</td>\n",
       "      <td>carolrodriguez</td>\n",
       "      <td>4</td>\n",
       "    </tr>\n",
       "    <tr>\n",
       "      <th>6452</th>\n",
       "      <td>6453</td>\n",
       "      <td>1000</td>\n",
       "      <td>wendy18</td>\n",
       "      <td>4</td>\n",
       "    </tr>\n",
       "    <tr>\n",
       "      <th>6453</th>\n",
       "      <td>6454</td>\n",
       "      <td>1000</td>\n",
       "      <td>jarvispaul</td>\n",
       "      <td>5</td>\n",
       "    </tr>\n",
       "    <tr>\n",
       "      <th>6454</th>\n",
       "      <td>6455</td>\n",
       "      <td>1000</td>\n",
       "      <td>zross</td>\n",
       "      <td>2</td>\n",
       "    </tr>\n",
       "    <tr>\n",
       "      <th>6455</th>\n",
       "      <td>6456</td>\n",
       "      <td>1000</td>\n",
       "      <td>fharris</td>\n",
       "      <td>5</td>\n",
       "    </tr>\n",
       "  </tbody>\n",
       "</table>\n",
       "<p>6456 rows × 4 columns</p>\n",
       "</div>"
      ],
      "text/plain": [
       "      rating_id  book_id        username  rating\n",
       "0             1        1      ryanfranco       4\n",
       "1             2        1   grantpatricia       2\n",
       "2             3        1    brandtandrea       5\n",
       "3             4        2        lorichen       3\n",
       "4             5        2     mariokeller       2\n",
       "...         ...      ...             ...     ...\n",
       "6451       6452     1000  carolrodriguez       4\n",
       "6452       6453     1000         wendy18       4\n",
       "6453       6454     1000      jarvispaul       5\n",
       "6454       6455     1000           zross       2\n",
       "6455       6456     1000         fharris       5\n",
       "\n",
       "[6456 rows x 4 columns]"
      ]
     },
     "execution_count": 5,
     "metadata": {},
     "output_type": "execute_result"
    }
   ],
   "source": [
    "# получаем сырые данные\n",
    "query = '''\n",
    "            SELECT * FROM ratings\n",
    "        '''\n",
    "\n",
    "# чтобы выполнить SQL-запрос, используем Pandas\n",
    "pd.io.sql.read_sql(query, con = engine)"
   ]
  },
  {
   "cell_type": "code",
   "execution_count": 6,
   "metadata": {
    "scrolled": true
   },
   "outputs": [
    {
     "data": {
      "text/html": [
       "<div>\n",
       "<style scoped>\n",
       "    .dataframe tbody tr th:only-of-type {\n",
       "        vertical-align: middle;\n",
       "    }\n",
       "\n",
       "    .dataframe tbody tr th {\n",
       "        vertical-align: top;\n",
       "    }\n",
       "\n",
       "    .dataframe thead th {\n",
       "        text-align: right;\n",
       "    }\n",
       "</style>\n",
       "<table border=\"1\" class=\"dataframe\">\n",
       "  <thead>\n",
       "    <tr style=\"text-align: right;\">\n",
       "      <th></th>\n",
       "      <th>review_id</th>\n",
       "      <th>book_id</th>\n",
       "      <th>username</th>\n",
       "      <th>text</th>\n",
       "    </tr>\n",
       "  </thead>\n",
       "  <tbody>\n",
       "    <tr>\n",
       "      <th>0</th>\n",
       "      <td>1</td>\n",
       "      <td>1</td>\n",
       "      <td>brandtandrea</td>\n",
       "      <td>Mention society tell send professor analysis. ...</td>\n",
       "    </tr>\n",
       "    <tr>\n",
       "      <th>1</th>\n",
       "      <td>2</td>\n",
       "      <td>1</td>\n",
       "      <td>ryanfranco</td>\n",
       "      <td>Foot glass pretty audience hit themselves. Amo...</td>\n",
       "    </tr>\n",
       "    <tr>\n",
       "      <th>2</th>\n",
       "      <td>3</td>\n",
       "      <td>2</td>\n",
       "      <td>lorichen</td>\n",
       "      <td>Listen treat keep worry. Miss husband tax but ...</td>\n",
       "    </tr>\n",
       "    <tr>\n",
       "      <th>3</th>\n",
       "      <td>4</td>\n",
       "      <td>3</td>\n",
       "      <td>johnsonamanda</td>\n",
       "      <td>Finally month interesting blue could nature cu...</td>\n",
       "    </tr>\n",
       "    <tr>\n",
       "      <th>4</th>\n",
       "      <td>5</td>\n",
       "      <td>3</td>\n",
       "      <td>scotttamara</td>\n",
       "      <td>Nation purpose heavy give wait song will. List...</td>\n",
       "    </tr>\n",
       "    <tr>\n",
       "      <th>...</th>\n",
       "      <td>...</td>\n",
       "      <td>...</td>\n",
       "      <td>...</td>\n",
       "      <td>...</td>\n",
       "    </tr>\n",
       "    <tr>\n",
       "      <th>2788</th>\n",
       "      <td>2789</td>\n",
       "      <td>999</td>\n",
       "      <td>martinadam</td>\n",
       "      <td>Later hospital turn easy community. Fact same ...</td>\n",
       "    </tr>\n",
       "    <tr>\n",
       "      <th>2789</th>\n",
       "      <td>2790</td>\n",
       "      <td>1000</td>\n",
       "      <td>wknight</td>\n",
       "      <td>Change lose answer close pressure. Spend so now.</td>\n",
       "    </tr>\n",
       "    <tr>\n",
       "      <th>2790</th>\n",
       "      <td>2791</td>\n",
       "      <td>1000</td>\n",
       "      <td>carolrodriguez</td>\n",
       "      <td>Authority go who television entire hair guy po...</td>\n",
       "    </tr>\n",
       "    <tr>\n",
       "      <th>2791</th>\n",
       "      <td>2792</td>\n",
       "      <td>1000</td>\n",
       "      <td>wendy18</td>\n",
       "      <td>Or western offer wonder ask. More hear phone f...</td>\n",
       "    </tr>\n",
       "    <tr>\n",
       "      <th>2792</th>\n",
       "      <td>2793</td>\n",
       "      <td>1000</td>\n",
       "      <td>jarvispaul</td>\n",
       "      <td>Republican staff bit eat material measure plan...</td>\n",
       "    </tr>\n",
       "  </tbody>\n",
       "</table>\n",
       "<p>2793 rows × 4 columns</p>\n",
       "</div>"
      ],
      "text/plain": [
       "      review_id  book_id        username   \n",
       "0             1        1    brandtandrea  \\\n",
       "1             2        1      ryanfranco   \n",
       "2             3        2        lorichen   \n",
       "3             4        3   johnsonamanda   \n",
       "4             5        3     scotttamara   \n",
       "...         ...      ...             ...   \n",
       "2788       2789      999      martinadam   \n",
       "2789       2790     1000         wknight   \n",
       "2790       2791     1000  carolrodriguez   \n",
       "2791       2792     1000         wendy18   \n",
       "2792       2793     1000      jarvispaul   \n",
       "\n",
       "                                                   text  \n",
       "0     Mention society tell send professor analysis. ...  \n",
       "1     Foot glass pretty audience hit themselves. Amo...  \n",
       "2     Listen treat keep worry. Miss husband tax but ...  \n",
       "3     Finally month interesting blue could nature cu...  \n",
       "4     Nation purpose heavy give wait song will. List...  \n",
       "...                                                 ...  \n",
       "2788  Later hospital turn easy community. Fact same ...  \n",
       "2789   Change lose answer close pressure. Spend so now.  \n",
       "2790  Authority go who television entire hair guy po...  \n",
       "2791  Or western offer wonder ask. More hear phone f...  \n",
       "2792  Republican staff bit eat material measure plan...  \n",
       "\n",
       "[2793 rows x 4 columns]"
      ]
     },
     "execution_count": 6,
     "metadata": {},
     "output_type": "execute_result"
    }
   ],
   "source": [
    "# получаем сырые данные\n",
    "query = '''\n",
    "            SELECT * FROM reviews\n",
    "        '''\n",
    "\n",
    "# чтобы выполнить SQL-запрос, используем Pandas\n",
    "pd.io.sql.read_sql(query, con = engine)"
   ]
  },
  {
   "cell_type": "markdown",
   "metadata": {},
   "source": [
    "## Задания"
   ]
  },
  {
   "cell_type": "markdown",
   "metadata": {},
   "source": [
    "Посчитайте, сколько книг вышло после 1 января 2000 года"
   ]
  },
  {
   "cell_type": "code",
   "execution_count": 7,
   "metadata": {},
   "outputs": [
    {
     "data": {
      "text/html": [
       "<div>\n",
       "<style scoped>\n",
       "    .dataframe tbody tr th:only-of-type {\n",
       "        vertical-align: middle;\n",
       "    }\n",
       "\n",
       "    .dataframe tbody tr th {\n",
       "        vertical-align: top;\n",
       "    }\n",
       "\n",
       "    .dataframe thead th {\n",
       "        text-align: right;\n",
       "    }\n",
       "</style>\n",
       "<table border=\"1\" class=\"dataframe\">\n",
       "  <thead>\n",
       "    <tr style=\"text-align: right;\">\n",
       "      <th></th>\n",
       "      <th>count</th>\n",
       "    </tr>\n",
       "  </thead>\n",
       "  <tbody>\n",
       "    <tr>\n",
       "      <th>0</th>\n",
       "      <td>819</td>\n",
       "    </tr>\n",
       "  </tbody>\n",
       "</table>\n",
       "</div>"
      ],
      "text/plain": [
       "   count\n",
       "0    819"
      ]
     },
     "execution_count": 7,
     "metadata": {},
     "output_type": "execute_result"
    }
   ],
   "source": [
    "query = '''\n",
    "            SELECT COUNT(book_id)\n",
    "            FROM books\n",
    "            WHERE publication_date > '2000-01-01'\n",
    "        '''\n",
    "\n",
    "# чтобы выполнить SQL-запрос, используем Pandas\n",
    "pd.io.sql.read_sql(query, con = engine)"
   ]
  },
  {
   "cell_type": "markdown",
   "metadata": {},
   "source": [
    "Вышло 819 книг после 1 января 2000 года"
   ]
  },
  {
   "cell_type": "markdown",
   "metadata": {},
   "source": []
  },
  {
   "cell_type": "markdown",
   "metadata": {},
   "source": [
    "Для каждой книги посчитайте количество обзоров и среднюю оценку;"
   ]
  },
  {
   "cell_type": "code",
   "execution_count": 112,
   "metadata": {
    "scrolled": true
   },
   "outputs": [
    {
     "data": {
      "text/html": [
       "<div>\n",
       "<style scoped>\n",
       "    .dataframe tbody tr th:only-of-type {\n",
       "        vertical-align: middle;\n",
       "    }\n",
       "\n",
       "    .dataframe tbody tr th {\n",
       "        vertical-align: top;\n",
       "    }\n",
       "\n",
       "    .dataframe thead th {\n",
       "        text-align: right;\n",
       "    }\n",
       "</style>\n",
       "<table border=\"1\" class=\"dataframe\">\n",
       "  <thead>\n",
       "    <tr style=\"text-align: right;\">\n",
       "      <th></th>\n",
       "      <th>title</th>\n",
       "      <th>book_id</th>\n",
       "      <th>reviews_amt</th>\n",
       "      <th>avg_rating</th>\n",
       "    </tr>\n",
       "  </thead>\n",
       "  <tbody>\n",
       "    <tr>\n",
       "      <th>0</th>\n",
       "      <td>A Woman of Substance (Emma Harte Saga #1)</td>\n",
       "      <td>55</td>\n",
       "      <td>2</td>\n",
       "      <td>5.0</td>\n",
       "    </tr>\n",
       "    <tr>\n",
       "      <th>1</th>\n",
       "      <td>Act of Treason (Mitch Rapp  #9)</td>\n",
       "      <td>57</td>\n",
       "      <td>2</td>\n",
       "      <td>5.0</td>\n",
       "    </tr>\n",
       "    <tr>\n",
       "      <th>2</th>\n",
       "      <td>A Dirty Job (Grim Reaper  #1)</td>\n",
       "      <td>17</td>\n",
       "      <td>4</td>\n",
       "      <td>5.0</td>\n",
       "    </tr>\n",
       "    <tr>\n",
       "      <th>3</th>\n",
       "      <td>A Fistful of Charms (The Hollows  #4)</td>\n",
       "      <td>20</td>\n",
       "      <td>2</td>\n",
       "      <td>5.0</td>\n",
       "    </tr>\n",
       "    <tr>\n",
       "      <th>4</th>\n",
       "      <td>Alas  Babylon</td>\n",
       "      <td>62</td>\n",
       "      <td>2</td>\n",
       "      <td>5.0</td>\n",
       "    </tr>\n",
       "  </tbody>\n",
       "</table>\n",
       "</div>"
      ],
      "text/plain": [
       "                                       title  book_id  reviews_amt  avg_rating\n",
       "0  A Woman of Substance (Emma Harte Saga #1)       55            2         5.0\n",
       "1            Act of Treason (Mitch Rapp  #9)       57            2         5.0\n",
       "2              A Dirty Job (Grim Reaper  #1)       17            4         5.0\n",
       "3      A Fistful of Charms (The Hollows  #4)       20            2         5.0\n",
       "4                              Alas  Babylon       62            2         5.0"
      ]
     },
     "execution_count": 112,
     "metadata": {},
     "output_type": "execute_result"
    }
   ],
   "source": [
    "query = '''\n",
    "            SELECT b.title,\n",
    "                   b.book_id,\n",
    "                   COUNT(DISTINCT rev.review_id) AS reviews_amt,\n",
    "                   AVG(rat.rating) AS avg_rating\n",
    "            FROM books AS b\n",
    "            LEFT JOIN reviews AS rev ON b.book_id = rev.book_id\n",
    "            LEFT JOIN  ratings AS rat\n",
    "            ON b.book_id = rat.book_id\n",
    "           \n",
    "            \n",
    "            GROUP BY b.book_id, b.title\n",
    "            ORDER BY avg_rating DESC\n",
    "            LIMIT 5\n",
    "        '''\n",
    "\n",
    "# чтобы выполнить SQL-запрос, используем Pandas\n",
    "pd.io.sql.read_sql(query, con = engine)"
   ]
  },
  {
   "cell_type": "markdown",
   "metadata": {},
   "source": [
    "Определите издательство, которое выпустило наибольшее число книг толще 50 страниц — так вы исключите из анализа брошюры;"
   ]
  },
  {
   "cell_type": "code",
   "execution_count": 9,
   "metadata": {},
   "outputs": [
    {
     "data": {
      "text/html": [
       "<div>\n",
       "<style scoped>\n",
       "    .dataframe tbody tr th:only-of-type {\n",
       "        vertical-align: middle;\n",
       "    }\n",
       "\n",
       "    .dataframe tbody tr th {\n",
       "        vertical-align: top;\n",
       "    }\n",
       "\n",
       "    .dataframe thead th {\n",
       "        text-align: right;\n",
       "    }\n",
       "</style>\n",
       "<table border=\"1\" class=\"dataframe\">\n",
       "  <thead>\n",
       "    <tr style=\"text-align: right;\">\n",
       "      <th></th>\n",
       "      <th>publisher</th>\n",
       "      <th>amt_books</th>\n",
       "    </tr>\n",
       "  </thead>\n",
       "  <tbody>\n",
       "    <tr>\n",
       "      <th>0</th>\n",
       "      <td>Penguin Books</td>\n",
       "      <td>42</td>\n",
       "    </tr>\n",
       "    <tr>\n",
       "      <th>1</th>\n",
       "      <td>Vintage</td>\n",
       "      <td>31</td>\n",
       "    </tr>\n",
       "    <tr>\n",
       "      <th>2</th>\n",
       "      <td>Grand Central Publishing</td>\n",
       "      <td>25</td>\n",
       "    </tr>\n",
       "    <tr>\n",
       "      <th>3</th>\n",
       "      <td>Penguin Classics</td>\n",
       "      <td>24</td>\n",
       "    </tr>\n",
       "    <tr>\n",
       "      <th>4</th>\n",
       "      <td>Ballantine Books</td>\n",
       "      <td>19</td>\n",
       "    </tr>\n",
       "    <tr>\n",
       "      <th>...</th>\n",
       "      <td>...</td>\n",
       "      <td>...</td>\n",
       "    </tr>\n",
       "    <tr>\n",
       "      <th>329</th>\n",
       "      <td>Wordsworth Editions</td>\n",
       "      <td>1</td>\n",
       "    </tr>\n",
       "    <tr>\n",
       "      <th>330</th>\n",
       "      <td>Workman Publishing Company</td>\n",
       "      <td>1</td>\n",
       "    </tr>\n",
       "    <tr>\n",
       "      <th>331</th>\n",
       "      <td>Wyatt Book</td>\n",
       "      <td>1</td>\n",
       "    </tr>\n",
       "    <tr>\n",
       "      <th>332</th>\n",
       "      <td>Yale University Press</td>\n",
       "      <td>1</td>\n",
       "    </tr>\n",
       "    <tr>\n",
       "      <th>333</th>\n",
       "      <td>Yearling Books</td>\n",
       "      <td>1</td>\n",
       "    </tr>\n",
       "  </tbody>\n",
       "</table>\n",
       "<p>334 rows × 2 columns</p>\n",
       "</div>"
      ],
      "text/plain": [
       "                      publisher  amt_books\n",
       "0                 Penguin Books         42\n",
       "1                       Vintage         31\n",
       "2      Grand Central Publishing         25\n",
       "3              Penguin Classics         24\n",
       "4              Ballantine Books         19\n",
       "..                          ...        ...\n",
       "329         Wordsworth Editions          1\n",
       "330  Workman Publishing Company          1\n",
       "331                  Wyatt Book          1\n",
       "332       Yale University Press          1\n",
       "333              Yearling Books          1\n",
       "\n",
       "[334 rows x 2 columns]"
      ]
     },
     "execution_count": 9,
     "metadata": {},
     "output_type": "execute_result"
    }
   ],
   "source": [
    "query = '''\n",
    "            SELECT DISTINCT p.publisher AS publisher,\n",
    "                   COUNT(DISTINCT b.book_id) AS amt_books\n",
    "            FROM books AS b\n",
    "            LEFT JOIN publishers AS p ON b.publisher_id = p.publisher_id\n",
    "            WHERE b.num_pages > 50\n",
    "\n",
    "            GROUP BY publisher\n",
    "            ORDER BY amt_books DESC\n",
    "'''\n",
    "# чтобы выполнить SQL-запрос, используем Pandas\n",
    "pd.io.sql.read_sql(query, con = engine)"
   ]
  },
  {
   "cell_type": "markdown",
   "metadata": {},
   "source": [
    "Больше всего книг с 50+ страницами выпустило издательство Penguin Books (42 книги)"
   ]
  },
  {
   "cell_type": "markdown",
   "metadata": {},
   "source": []
  },
  {
   "cell_type": "markdown",
   "metadata": {},
   "source": [
    "Определите автора с самой высокой средней оценкой книг — учитывайте только книги с 50 и более оценками;"
   ]
  },
  {
   "cell_type": "code",
   "execution_count": 97,
   "metadata": {},
   "outputs": [
    {
     "data": {
      "text/html": [
       "<div>\n",
       "<style scoped>\n",
       "    .dataframe tbody tr th:only-of-type {\n",
       "        vertical-align: middle;\n",
       "    }\n",
       "\n",
       "    .dataframe tbody tr th {\n",
       "        vertical-align: top;\n",
       "    }\n",
       "\n",
       "    .dataframe thead th {\n",
       "        text-align: right;\n",
       "    }\n",
       "</style>\n",
       "<table border=\"1\" class=\"dataframe\">\n",
       "  <thead>\n",
       "    <tr style=\"text-align: right;\">\n",
       "      <th></th>\n",
       "      <th>author</th>\n",
       "      <th>avg_rating</th>\n",
       "    </tr>\n",
       "  </thead>\n",
       "  <tbody>\n",
       "    <tr>\n",
       "      <th>0</th>\n",
       "      <td>J.K. Rowling/Mary GrandPré</td>\n",
       "      <td>4.29</td>\n",
       "    </tr>\n",
       "    <tr>\n",
       "      <th>1</th>\n",
       "      <td>Markus Zusak/Cao Xuân Việt Khương</td>\n",
       "      <td>4.26</td>\n",
       "    </tr>\n",
       "    <tr>\n",
       "      <th>2</th>\n",
       "      <td>J.R.R. Tolkien</td>\n",
       "      <td>4.25</td>\n",
       "    </tr>\n",
       "    <tr>\n",
       "      <th>3</th>\n",
       "      <td>Louisa May Alcott</td>\n",
       "      <td>4.19</td>\n",
       "    </tr>\n",
       "    <tr>\n",
       "      <th>4</th>\n",
       "      <td>Rick Riordan</td>\n",
       "      <td>4.08</td>\n",
       "    </tr>\n",
       "    <tr>\n",
       "      <th>5</th>\n",
       "      <td>William Golding</td>\n",
       "      <td>3.90</td>\n",
       "    </tr>\n",
       "    <tr>\n",
       "      <th>6</th>\n",
       "      <td>J.D. Salinger</td>\n",
       "      <td>3.83</td>\n",
       "    </tr>\n",
       "    <tr>\n",
       "      <th>7</th>\n",
       "      <td>Paulo Coelho/Alan R. Clarke/Özdemir İnce</td>\n",
       "      <td>3.79</td>\n",
       "    </tr>\n",
       "    <tr>\n",
       "      <th>8</th>\n",
       "      <td>William Shakespeare/Paul Werstine/Barbara A. M...</td>\n",
       "      <td>3.79</td>\n",
       "    </tr>\n",
       "    <tr>\n",
       "      <th>9</th>\n",
       "      <td>Lois Lowry</td>\n",
       "      <td>3.75</td>\n",
       "    </tr>\n",
       "    <tr>\n",
       "      <th>10</th>\n",
       "      <td>Dan Brown</td>\n",
       "      <td>3.74</td>\n",
       "    </tr>\n",
       "    <tr>\n",
       "      <th>11</th>\n",
       "      <td>George Orwell/Boris Grabnar/Peter Škerl</td>\n",
       "      <td>3.73</td>\n",
       "    </tr>\n",
       "    <tr>\n",
       "      <th>12</th>\n",
       "      <td>Stephenie Meyer</td>\n",
       "      <td>3.66</td>\n",
       "    </tr>\n",
       "    <tr>\n",
       "      <th>13</th>\n",
       "      <td>John Steinbeck</td>\n",
       "      <td>3.62</td>\n",
       "    </tr>\n",
       "  </tbody>\n",
       "</table>\n",
       "</div>"
      ],
      "text/plain": [
       "                                               author  avg_rating\n",
       "0                          J.K. Rowling/Mary GrandPré        4.29\n",
       "1                   Markus Zusak/Cao Xuân Việt Khương        4.26\n",
       "2                                      J.R.R. Tolkien        4.25\n",
       "3                                   Louisa May Alcott        4.19\n",
       "4                                        Rick Riordan        4.08\n",
       "5                                     William Golding        3.90\n",
       "6                                       J.D. Salinger        3.83\n",
       "7            Paulo Coelho/Alan R. Clarke/Özdemir İnce        3.79\n",
       "8   William Shakespeare/Paul Werstine/Barbara A. M...        3.79\n",
       "9                                          Lois Lowry        3.75\n",
       "10                                          Dan Brown        3.74\n",
       "11            George Orwell/Boris Grabnar/Peter Škerl        3.73\n",
       "12                                    Stephenie Meyer        3.66\n",
       "13                                     John Steinbeck        3.62"
      ]
     },
     "execution_count": 97,
     "metadata": {},
     "output_type": "execute_result"
    }
   ],
   "source": [
    "query = '''\n",
    "            WITH filtered AS(\n",
    "            SELECT DISTINCT book_id\n",
    "            FROM ratings\n",
    "            GROUP BY book_id\n",
    "            HAVING COUNT(rating_id)>50\n",
    "            )\n",
    "            SELECT DISTINCT a.author AS author,\n",
    "                   ROUND(AVG(rat.rating),2) AS avg_rating\n",
    "            FROM books AS b\n",
    "            INNER JOIN filtered AS f ON b.book_id = f.book_id\n",
    "            INNER JOIN authors AS a ON b.author_id = a.author_id\n",
    "            INNER JOIN ratings AS rat ON f.book_id = rat.book_id\n",
    "           \n",
    "            GROUP BY author\n",
    "            ORDER BY avg_rating DESC\n",
    "'''\n",
    "# чтобы выполнить SQL-запрос, используем Pandas\n",
    "pd.io.sql.read_sql(query, con = engine)"
   ]
  },
  {
   "cell_type": "markdown",
   "metadata": {},
   "source": [
    "Автор с наибольшей средней оценкой - J.K. Rowling/Mary GrandPré. Средння оценка (4.29 баллов)"
   ]
  },
  {
   "cell_type": "markdown",
   "metadata": {},
   "source": []
  },
  {
   "cell_type": "markdown",
   "metadata": {},
   "source": [
    "Посчитайте среднее количество обзоров от пользователей, которые поставили больше 50 оценок."
   ]
  },
  {
   "cell_type": "code",
   "execution_count": 11,
   "metadata": {},
   "outputs": [
    {
     "data": {
      "text/html": [
       "<div>\n",
       "<style scoped>\n",
       "    .dataframe tbody tr th:only-of-type {\n",
       "        vertical-align: middle;\n",
       "    }\n",
       "\n",
       "    .dataframe tbody tr th {\n",
       "        vertical-align: top;\n",
       "    }\n",
       "\n",
       "    .dataframe thead th {\n",
       "        text-align: right;\n",
       "    }\n",
       "</style>\n",
       "<table border=\"1\" class=\"dataframe\">\n",
       "  <thead>\n",
       "    <tr style=\"text-align: right;\">\n",
       "      <th></th>\n",
       "      <th>ratio</th>\n",
       "    </tr>\n",
       "  </thead>\n",
       "  <tbody>\n",
       "    <tr>\n",
       "      <th>0</th>\n",
       "      <td>24</td>\n",
       "    </tr>\n",
       "  </tbody>\n",
       "</table>\n",
       "</div>"
      ],
      "text/plain": [
       "   ratio\n",
       "0     24"
      ]
     },
     "execution_count": 11,
     "metadata": {},
     "output_type": "execute_result"
    }
   ],
   "source": [
    "query = '''\n",
    "            WITH people AS(\n",
    "            SELECT DISTINCT rat.username as name\n",
    "            FROM ratings as rat\n",
    "            GROUP BY name\n",
    "            HAVING COUNT(rat.rating_id)>50\n",
    "            )\n",
    "        \n",
    "            \n",
    "            SELECT DISTINCT COUNT(rev.review_id)/ COUNT(DISTINCT rev.username) AS ratio\n",
    "            FROM reviews AS rev\n",
    "            INNER JOIN people AS pep ON rev.username = pep.name\n",
    "            INNER JOIN books AS b ON rev.book_id = b.book_id\n",
    "            \n",
    "            \n",
    "    \n",
    "        \n",
    "'''\n",
    "# чтобы выполнить SQL-запрос, используем Pandas\n",
    "pd.io.sql.read_sql(query, con = engine)"
   ]
  },
  {
   "cell_type": "markdown",
   "metadata": {},
   "source": [
    "В среднем, пользователи, которые поставили больше 50 оценок пишут по 24 обзора"
   ]
  },
  {
   "cell_type": "markdown",
   "metadata": {},
   "source": [
    "## Вывод"
   ]
  },
  {
   "cell_type": "markdown",
   "metadata": {},
   "source": [
    "* Вышло 819 книг после 1 января 2000 года\n",
    "* Максимальное число ревью 7, минимальное 0. Средний рейтинг у книг в диапазоне от 1.5 до 5 баллов\n",
    "* Больше всего книг с 50+ страницами выпустило издательство Penguin Books (42 книги)\n",
    "* Автор с наибольшей средней оценкой (при числе оценок 50+) - J.K. Rowling/Mary GrandPré. Средння оценка (4.29 баллов)\n",
    "* Среднее количество обзоров от пользователей, которые поставили больше 50 оценок равняется 24"
   ]
  }
 ],
 "metadata": {
  "ExecuteTimeLog": [
   {
    "duration": 79,
    "start_time": "2023-04-12T18:31:37.910Z"
   },
   {
    "duration": 8361,
    "start_time": "2023-04-12T18:32:15.909Z"
   },
   {
    "duration": 70,
    "start_time": "2023-04-12T18:32:37.379Z"
   },
   {
    "duration": 68,
    "start_time": "2023-04-12T18:32:43.197Z"
   },
   {
    "duration": 65,
    "start_time": "2023-04-12T18:32:45.989Z"
   },
   {
    "duration": 99,
    "start_time": "2023-04-12T18:32:57.373Z"
   },
   {
    "duration": 0,
    "start_time": "2023-04-13T10:19:31.450Z"
   },
   {
    "duration": 0,
    "start_time": "2023-04-13T10:19:31.451Z"
   },
   {
    "duration": 568,
    "start_time": "2023-04-13T10:19:35.805Z"
   },
   {
    "duration": 238,
    "start_time": "2023-04-13T10:19:36.376Z"
   },
   {
    "duration": 69,
    "start_time": "2023-04-13T10:47:11.405Z"
   },
   {
    "duration": 93,
    "start_time": "2023-04-13T10:47:48.012Z"
   },
   {
    "duration": 5,
    "start_time": "2023-04-13T10:48:23.603Z"
   },
   {
    "duration": 282,
    "start_time": "2023-04-13T10:48:23.610Z"
   },
   {
    "duration": 71,
    "start_time": "2023-04-13T10:48:23.894Z"
   },
   {
    "duration": 72,
    "start_time": "2023-04-13T10:48:23.967Z"
   },
   {
    "duration": 137,
    "start_time": "2023-04-13T10:48:24.042Z"
   },
   {
    "duration": 86,
    "start_time": "2023-04-13T10:48:24.182Z"
   },
   {
    "duration": 92,
    "start_time": "2023-04-13T10:48:56.105Z"
   },
   {
    "duration": 4,
    "start_time": "2023-04-13T10:50:08.405Z"
   },
   {
    "duration": 271,
    "start_time": "2023-04-13T10:50:08.533Z"
   },
   {
    "duration": 70,
    "start_time": "2023-04-13T10:50:08.806Z"
   },
   {
    "duration": 70,
    "start_time": "2023-04-13T10:50:08.904Z"
   },
   {
    "duration": 100,
    "start_time": "2023-04-13T10:50:09.097Z"
   },
   {
    "duration": 85,
    "start_time": "2023-04-13T10:50:09.227Z"
   },
   {
    "duration": 82,
    "start_time": "2023-04-13T10:50:32.397Z"
   },
   {
    "duration": 105,
    "start_time": "2023-04-13T10:50:48.566Z"
   },
   {
    "duration": 86,
    "start_time": "2023-04-13T10:50:58.164Z"
   },
   {
    "duration": 128,
    "start_time": "2023-04-13T10:51:02.263Z"
   },
   {
    "duration": 121,
    "start_time": "2023-04-13T10:51:06.129Z"
   },
   {
    "duration": 89,
    "start_time": "2023-04-13T10:51:16.688Z"
   },
   {
    "duration": 72,
    "start_time": "2023-04-13T11:11:08.331Z"
   },
   {
    "duration": 336,
    "start_time": "2023-04-13T11:20:12.644Z"
   },
   {
    "duration": 95,
    "start_time": "2023-04-13T11:20:18.494Z"
   },
   {
    "duration": 93,
    "start_time": "2023-04-13T11:20:48.289Z"
   },
   {
    "duration": 161,
    "start_time": "2023-04-13T11:21:27.594Z"
   },
   {
    "duration": 234,
    "start_time": "2023-04-13T11:21:40.021Z"
   },
   {
    "duration": 108,
    "start_time": "2023-04-13T11:21:47.636Z"
   },
   {
    "duration": 107,
    "start_time": "2023-04-13T11:26:14.942Z"
   },
   {
    "duration": 123,
    "start_time": "2023-04-13T11:26:30.242Z"
   },
   {
    "duration": 221,
    "start_time": "2023-04-13T11:27:21.768Z"
   },
   {
    "duration": 111,
    "start_time": "2023-04-13T11:27:27.574Z"
   },
   {
    "duration": 61,
    "start_time": "2023-04-13T11:34:33.029Z"
   },
   {
    "duration": 265,
    "start_time": "2023-04-13T11:35:27.517Z"
   },
   {
    "duration": 182,
    "start_time": "2023-04-13T11:36:25.175Z"
   },
   {
    "duration": 415,
    "start_time": "2023-04-13T11:36:31.101Z"
   },
   {
    "duration": 256,
    "start_time": "2023-04-13T11:37:28.626Z"
   },
   {
    "duration": 623,
    "start_time": "2023-04-13T11:37:38.212Z"
   },
   {
    "duration": 722,
    "start_time": "2023-04-13T11:37:48.647Z"
   },
   {
    "duration": 58,
    "start_time": "2023-04-13T11:37:55.507Z"
   },
   {
    "duration": 3,
    "start_time": "2023-04-13T11:38:24.518Z"
   },
   {
    "duration": 3,
    "start_time": "2023-04-13T11:39:01.707Z"
   },
   {
    "duration": 3,
    "start_time": "2023-04-13T11:39:15.610Z"
   },
   {
    "duration": 79,
    "start_time": "2023-04-13T11:39:28.333Z"
   },
   {
    "duration": 78,
    "start_time": "2023-04-13T11:44:00.107Z"
   },
   {
    "duration": 79,
    "start_time": "2023-04-13T11:44:20.930Z"
   },
   {
    "duration": 823,
    "start_time": "2023-04-13T11:50:45.553Z"
   },
   {
    "duration": 201,
    "start_time": "2023-04-13T11:51:14.244Z"
   },
   {
    "duration": 205,
    "start_time": "2023-04-13T11:53:40.430Z"
   },
   {
    "duration": 198,
    "start_time": "2023-04-13T11:54:01.026Z"
   },
   {
    "duration": 95,
    "start_time": "2023-04-13T11:54:46.482Z"
   },
   {
    "duration": 168,
    "start_time": "2023-04-13T11:55:20.186Z"
   },
   {
    "duration": 133,
    "start_time": "2023-04-13T11:55:35.570Z"
   },
   {
    "duration": 331,
    "start_time": "2023-04-13T11:55:46.778Z"
   },
   {
    "duration": 79,
    "start_time": "2023-04-13T11:55:56.402Z"
   },
   {
    "duration": 157,
    "start_time": "2023-04-13T11:56:13.160Z"
   },
   {
    "duration": 80,
    "start_time": "2023-04-13T11:56:15.520Z"
   },
   {
    "duration": 83,
    "start_time": "2023-04-13T11:59:03.988Z"
   },
   {
    "duration": 176,
    "start_time": "2023-04-13T12:04:25.612Z"
   },
   {
    "duration": 551,
    "start_time": "2023-04-13T12:09:20.622Z"
   },
   {
    "duration": 427,
    "start_time": "2023-04-13T12:09:41.098Z"
   },
   {
    "duration": 221,
    "start_time": "2023-04-13T12:10:18.817Z"
   },
   {
    "duration": 150,
    "start_time": "2023-04-13T12:11:22.974Z"
   },
   {
    "duration": 262,
    "start_time": "2023-04-13T12:11:53.067Z"
   },
   {
    "duration": 1357,
    "start_time": "2023-04-13T12:13:15.053Z"
   },
   {
    "duration": 295,
    "start_time": "2023-04-13T12:15:23.484Z"
   },
   {
    "duration": 136,
    "start_time": "2023-04-13T12:15:54.214Z"
   },
   {
    "duration": 75,
    "start_time": "2023-04-13T12:17:34.737Z"
   },
   {
    "duration": 83,
    "start_time": "2023-04-13T12:18:01.938Z"
   },
   {
    "duration": 78,
    "start_time": "2023-04-13T12:18:05.585Z"
   },
   {
    "duration": 75,
    "start_time": "2023-04-13T12:18:07.506Z"
   },
   {
    "duration": 73,
    "start_time": "2023-04-13T12:20:14.602Z"
   },
   {
    "duration": 79,
    "start_time": "2023-04-13T12:20:35.390Z"
   },
   {
    "duration": 77,
    "start_time": "2023-04-13T12:20:55.813Z"
   },
   {
    "duration": 110,
    "start_time": "2023-04-13T12:21:24.954Z"
   },
   {
    "duration": 12744,
    "start_time": "2023-04-13T14:33:29.308Z"
   },
   {
    "duration": 67,
    "start_time": "2023-04-13T14:33:42.054Z"
   },
   {
    "duration": 11,
    "start_time": "2023-04-13T14:33:42.122Z"
   },
   {
    "duration": 11,
    "start_time": "2023-04-13T14:33:42.134Z"
   },
   {
    "duration": 22,
    "start_time": "2023-04-13T14:33:42.147Z"
   },
   {
    "duration": 16,
    "start_time": "2023-04-13T14:33:42.170Z"
   },
   {
    "duration": 19,
    "start_time": "2023-04-13T14:33:42.194Z"
   },
   {
    "duration": 24,
    "start_time": "2023-04-13T14:33:42.214Z"
   },
   {
    "duration": 11,
    "start_time": "2023-04-13T14:33:42.239Z"
   },
   {
    "duration": 15,
    "start_time": "2023-04-13T14:33:42.252Z"
   },
   {
    "duration": 11,
    "start_time": "2023-04-13T14:33:42.268Z"
   },
   {
    "duration": 968,
    "start_time": "2023-04-13T15:20:51.607Z"
   },
   {
    "duration": 142,
    "start_time": "2023-04-13T15:21:19.133Z"
   },
   {
    "duration": 128,
    "start_time": "2023-04-13T15:21:33.291Z"
   },
   {
    "duration": 176,
    "start_time": "2023-04-13T15:21:39.426Z"
   },
   {
    "duration": 138,
    "start_time": "2023-04-13T15:23:37.383Z"
   },
   {
    "duration": 278,
    "start_time": "2023-04-13T15:24:44.891Z"
   },
   {
    "duration": 130,
    "start_time": "2023-04-13T15:24:58.933Z"
   },
   {
    "duration": 650,
    "start_time": "2023-04-13T15:26:39.833Z"
   },
   {
    "duration": 356,
    "start_time": "2023-04-13T15:27:04.977Z"
   },
   {
    "duration": 189,
    "start_time": "2023-04-13T15:27:44.715Z"
   },
   {
    "duration": 304,
    "start_time": "2023-04-13T15:28:50.691Z"
   },
   {
    "duration": 332,
    "start_time": "2023-04-13T15:31:20.690Z"
   },
   {
    "duration": 501,
    "start_time": "2023-04-13T15:35:06.286Z"
   },
   {
    "duration": 254,
    "start_time": "2023-04-13T15:37:41.724Z"
   },
   {
    "duration": 140,
    "start_time": "2023-04-13T15:37:50.301Z"
   },
   {
    "duration": 77,
    "start_time": "2023-04-13T15:37:51.879Z"
   },
   {
    "duration": 159,
    "start_time": "2023-04-13T15:39:06.201Z"
   },
   {
    "duration": 76,
    "start_time": "2023-04-13T15:40:15.803Z"
   },
   {
    "duration": 81,
    "start_time": "2023-04-13T15:43:55.753Z"
   },
   {
    "duration": 81,
    "start_time": "2023-04-13T15:44:41.072Z"
   },
   {
    "duration": 82,
    "start_time": "2023-04-13T15:45:04.216Z"
   },
   {
    "duration": 83,
    "start_time": "2023-04-13T15:45:29.530Z"
   },
   {
    "duration": 82,
    "start_time": "2023-04-13T15:45:39.285Z"
   },
   {
    "duration": 87,
    "start_time": "2023-04-13T15:46:00.645Z"
   },
   {
    "duration": 88,
    "start_time": "2023-04-13T15:46:04.729Z"
   },
   {
    "duration": 85,
    "start_time": "2023-04-13T15:46:12.244Z"
   },
   {
    "duration": 80,
    "start_time": "2023-04-13T15:46:22.585Z"
   },
   {
    "duration": 85,
    "start_time": "2023-04-13T15:47:30.975Z"
   },
   {
    "duration": 81,
    "start_time": "2023-04-13T15:47:37.509Z"
   },
   {
    "duration": 81,
    "start_time": "2023-04-13T15:47:41.652Z"
   },
   {
    "duration": 82,
    "start_time": "2023-04-13T15:48:31.694Z"
   },
   {
    "duration": 81,
    "start_time": "2023-04-13T15:48:35.706Z"
   },
   {
    "duration": 82,
    "start_time": "2023-04-13T15:48:42.042Z"
   }
  ],
  "kernelspec": {
   "display_name": "Python 3 (ipykernel)",
   "language": "python",
   "name": "python3"
  },
  "language_info": {
   "codemirror_mode": {
    "name": "ipython",
    "version": 3
   },
   "file_extension": ".py",
   "mimetype": "text/x-python",
   "name": "python",
   "nbconvert_exporter": "python",
   "pygments_lexer": "ipython3",
   "version": "3.9.13"
  },
  "toc": {
   "base_numbering": 1,
   "nav_menu": {},
   "number_sections": true,
   "sideBar": true,
   "skip_h1_title": true,
   "title_cell": "Table of Contents",
   "title_sidebar": "Contents",
   "toc_cell": false,
   "toc_position": {
    "height": "calc(100% - 180px)",
    "left": "10px",
    "top": "150px",
    "width": "165px"
   },
   "toc_section_display": true,
   "toc_window_display": true
  }
 },
 "nbformat": 4,
 "nbformat_minor": 2
}
